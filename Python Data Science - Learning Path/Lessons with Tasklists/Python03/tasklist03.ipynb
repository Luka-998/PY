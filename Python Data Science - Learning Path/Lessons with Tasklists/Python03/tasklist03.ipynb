{
 "cells": [
  {
   "cell_type": "markdown",
   "metadata": {},
   "source": [
    "# Tast list - Python03 lesson\n",
    "## If/Else\n",
    "\n",
    "### 01. One use of the `if/else` *statement* is to construct a function which asserts whether some property is true for a given variable. For example, the following function checks whether a given number is divisible by 3:"
   ]
  },
  {
   "cell_type": "code",
   "execution_count": null,
   "metadata": {},
   "outputs": [],
   "source": [
    "def is_divisable(x):\n",
    "    if x % 3 ==0:\n",
    "        return True\n",
    "    else:\n",
    "        return False\n",
    "    \n",
    "is_divisable(30)"
   ]
  },
  {
   "cell_type": "code",
   "execution_count": null,
   "metadata": {},
   "outputs": [],
   "source": [
    "# more compact way of doing the same thing, with less lines of code:\n",
    "def is_divisable(x):\n",
    "    return x % 3 ==0\n",
    "is_divisable(15)\n",
    "\n",
    "# In this manner only a *truth value* of the *logical expression* `x % 3 == 0` is returned."
   ]
  },
  {
   "cell_type": "code",
   "execution_count": null,
   "metadata": {},
   "outputs": [],
   "source": [
    "# Now, using this approach construct a function which asserts whether a given number is smaller than 3.\n",
    "def is_samaller(x):\n",
    "    return x < 3\n",
    "\n",
    "is_samaller(1)"
   ]
  },
  {
   "cell_type": "markdown",
   "metadata": {},
   "source": [
    "#Note that this approach only if we want to return some truth value; if we want to return something else, then using `if/else` is mandatory. For example:"
   ]
  },
  {
   "cell_type": "code",
   "execution_count": null,
   "metadata": {},
   "outputs": [],
   "source": [
    "def is_divisable(x):\n",
    "    if x % 3 == 0:\n",
    "        print(\"it's divisable\")\n",
    "    else:\n",
    "        print(\"It is not!\")\n",
    "\n",
    "is_divisable(15)"
   ]
  },
  {
   "cell_type": "markdown",
   "metadata": {},
   "source": [
    "#Or, as a one-liner:"
   ]
  },
  {
   "cell_type": "code",
   "execution_count": null,
   "metadata": {},
   "outputs": [],
   "source": [
    "def is_divisable(x):\n",
    "    return \"It divisable\" if x % 3 ==0 else \"It is not\"\n",
    "\n",
    "is_divisable(3)"
   ]
  },
  {
   "cell_type": "markdown",
   "metadata": {},
   "source": [
    "**02.** Aside from simple logical expressions such is `x % 3 == 0`, you may build more complex logical expressions using `and`, `or`, `not`, which are called *logical operators*. For example, logical expression \n",
    "\n",
    "`x % 2 == 0 and x % 3 == 0`\n",
    "\n",
    "checks whether a given number is divisible by both 2 and 3 (i.e. by 6). "
   ]
  },
  {
   "cell_type": "code",
   "execution_count": null,
   "metadata": {},
   "outputs": [],
   "source": [
    "def func(x):\n",
    "    if x % 2 == 0 and x % 3 == 0:\n",
    "        print(\"it's divisable by both 2 and 3\")\n",
    "    else: \n",
    "        print(\"False\")\n",
    "\n",
    "func(6)"
   ]
  },
  {
   "cell_type": "markdown",
   "metadata": {},
   "source": [
    "Now, using given logical operators, construct functions which for given two numbers assert if\n",
    "\n",
    "- at least one of them is negative\n",
    "- both of them are negative\n",
    "- first of them is non-negative"
   ]
  },
  {
   "cell_type": "code",
   "execution_count": null,
   "metadata": {},
   "outputs": [],
   "source": [
    "\n",
    "\n",
    "#1. at least one of them is negative:\n",
    "\n",
    "def check_if_one_is_negative(a,b):\n",
    "    if a < 0 or b < 0:\n",
    "        return True\n",
    "    else:\n",
    "        return False\n",
    "    \n",
    "check_if_one_is_negative(16,14)\n",
    "\n",
    "############################\n",
    "\n",
    "def func1(a,b):\n",
    "    return (a<0) or (b<0)\n",
    "\n",
    "func1(13,-2)\n",
    "\n"
   ]
  },
  {
   "cell_type": "code",
   "execution_count": null,
   "metadata": {},
   "outputs": [],
   "source": [
    "#2. both of them are negative:\n",
    "\n",
    "def check_if_both_are_negative(a,b):\n",
    "    if a and b < 0:\n",
    "        return True\n",
    "    else: \n",
    "        return False\n",
    "    \n",
    "check_if_both_are_negative(-15,-17)\n",
    "\n",
    "############################\n",
    "\n",
    "def func1(a,b):\n",
    "    return (a<0) and (b<0)\n",
    "\n",
    "func1(13,-2)"
   ]
  },
  {
   "cell_type": "code",
   "execution_count": null,
   "metadata": {},
   "outputs": [],
   "source": [
    "#3.first of them is non-negative:\n",
    "lst = [-1,2,-3,4]\n",
    "\n",
    "def is_non_negative(x):\n",
    "    if x > 0:\n",
    "        return True\n",
    "    else: \n",
    "        return False\n",
    "\n",
    "def in_list(lst[0]):\n",
    "    return[is_non_negative(x) for x in lst]\n",
    "\n",
    "result = in_list(lst)\n",
    "print(result)\n",
    "\n",
    "\n",
    "#'int' object is not iterable # You cannot iterate over a single number using for x in lst[0].\n",
    "#Your Goal:\n",
    "# You need to check whether the first element of the list (lst[0]) is non-negative.\n",
    "# There's no need for a for loop because you're only checking one value.\n",
    "\n",
    "############################\n",
    "\n",
    "def func1(a,b):\n",
    "    return not a > 0\n",
    "\n",
    "func1(1,15)\n"
   ]
  },
  {
   "cell_type": "code",
   "execution_count": null,
   "metadata": {},
   "outputs": [],
   "source": [
    "#3. (second try)\n",
    "\n",
    "lst = [-1,2,-3,4]\n",
    "def non_negative(x):\n",
    "    return x > 0\n",
    "\n",
    "def check_list(lst):\n",
    "    return[x for x in lst if non_negative(x)]\n",
    "\n",
    "result = check_list(lst)\n",
    "print(result)\n",
    "\n",
    "# So this checks every item in the list instead of only 1st.    \n",
    "    "
   ]
  },
  {
   "cell_type": "markdown",
   "metadata": {},
   "source": [
    "# So this checks every item in the list instead of only 1st.    \n",
    "# Lets try again"
   ]
  },
  {
   "cell_type": "code",
   "execution_count": null,
   "metadata": {},
   "outputs": [],
   "source": [
    "#3. (third try- almost there)\n",
    "\n",
    "lst = [-1,2-3,4]\n",
    "def non_negative(x):\n",
    "    return x > 0\n",
    "\n",
    "def check_list(lst):\n",
    "    return non_negative(lst[0])\n",
    "\n",
    "result = check_list(lst)\n",
    "print(result)\n",
    "\n",
    "# This is correct but if I want to make this functions to return me the number (which is non-negative only at the position [0], we need to adjust the logic of the function)\n",
    "\n"
   ]
  },
  {
   "cell_type": "markdown",
   "metadata": {},
   "source": [
    "##### This is correct but if I want to make this functions to return me the number (which is non-negative only at the position [0], we need to adjust the logic of the function)\n",
    "### 3. (adjusting the logic to return the number)"
   ]
  },
  {
   "cell_type": "code",
   "execution_count": null,
   "metadata": {},
   "outputs": [],
   "source": [
    "lst = [-1,2,-3,4]\n",
    "def non_negative(x):\n",
    "    return x > 0\n",
    "\n",
    "def lst_check(lst):\n",
    "    if non_negative(lst[0]):\n",
    "        return lst[0]\n",
    "    else:\n",
    "        print('Negative at first place')\n",
    "\n",
    "result = lst_check(lst)\n",
    "print(result)"
   ]
  },
  {
   "cell_type": "markdown",
   "metadata": {},
   "source": [
    "**03.** You may use `elif` in your `if/else` statement if you want to include several alternative conditions. \n",
    "\n",
    "Assume we have following sets:\n",
    "- A: set of all numbers lesser than -273.15\n",
    "- B: set of all number greater than 199.99\n",
    "- C: set of all numbers in the [0, 1] interval (including the endpoints)\n",
    "- D: set of all the other numbers.\n",
    "\n",
    "Using `if/elif/else` define a function `belongs_to` which takes a number as an input and prints out to which set this number belongs to. "
   ]
  },
  {
   "cell_type": "code",
   "execution_count": null,
   "metadata": {},
   "outputs": [],
   "source": [
    "def belongs_to(x):\n",
    "    if x < -273.15:\n",
    "        return 'A'\n",
    "    elif x > 199.99:\n",
    "        return 'B'\n",
    "    elif 0<= x <=1:\n",
    "        return 'C'\n",
    "    else:\n",
    "        return 'D'\n",
    "    \n",
    "belongs_to(0.00009)\n"
   ]
  },
  {
   "cell_type": "markdown",
   "metadata": {},
   "source": [
    "### for Loops"
   ]
  },
  {
   "cell_type": "markdown",
   "metadata": {},
   "source": [
    "**04.** `for` loops can be used to iterate through some *iterable*. For example, you can iterate through the list using indices of its elements:"
   ]
  },
  {
   "cell_type": "code",
   "execution_count": null,
   "metadata": {},
   "outputs": [],
   "source": [
    "l = [2, 3, 'z', (4,5), 9]\n",
    "\n",
    "for i in range(len(l)):\n",
    "    print(l[i])"
   ]
  },
  {
   "cell_type": "markdown",
   "metadata": {},
   "source": [
    "  Or, even simpler, you can iterate through the elements of the list themselves:"
   ]
  },
  {
   "cell_type": "code",
   "execution_count": null,
   "metadata": {},
   "outputs": [],
   "source": [
    "l = [2, 3, 'z', (4,5), 9]\n",
    "for elements in l:\n",
    "    print(elements)"
   ]
  },
  {
   "cell_type": "markdown",
   "metadata": {},
   "source": [
    "String is also an iterable. Use `for` loop to iterate through the string `'espresso'`, printing out its characters in upper case (use `upper()` string method). Use both ways to iterate through this string. "
   ]
  },
  {
   "cell_type": "code",
   "execution_count": null,
   "metadata": {},
   "outputs": [],
   "source": [
    "string = 'espresso'\n",
    "\n",
    "for letter in string:\n",
    "    print(list(letter))\n",
    "\n",
    "for i in range (len(string)):\n",
    "    print(string[i].upper())\n",
    "\n",
    "for char in string:\n",
    "    print(char.upper())"
   ]
  },
  {
   "cell_type": "markdown",
   "metadata": {},
   "source": [
    "**05.** Should you need both the index and the element of some iterable, you can use `enumerate()` in the `for` loop. Example:"
   ]
  },
  {
   "cell_type": "code",
   "execution_count": null,
   "metadata": {},
   "outputs": [],
   "source": [
    "l = [2, 3, 'z', (4,5), 9]\n",
    "for i, el in enumerate(l):\n",
    "    print(str(el)+ ' is the element with index ' + str(i) + ' in the given iterable.')"
   ]
  },
  {
   "cell_type": "markdown",
   "metadata": {},
   "source": [
    "Using the same approach, iterate through all the characters of the string `'burek'`."
   ]
  },
  {
   "cell_type": "code",
   "execution_count": null,
   "metadata": {},
   "outputs": [],
   "source": [
    "\n",
    "for i,char in enumerate(\"burek\"):\n",
    "    print(char + ' is the first character ' + str(i) + ' in the given iterable.')"
   ]
  },
  {
   "cell_type": "markdown",
   "metadata": {},
   "source": [
    "### The **enumerate() function in Python is a built-in method that allows you to loop through an iterable (like a string, list, or tuple) while also keeping track of the index (position) of the current item.\n",
    "\n",
    "enumerate(iterable, start=0)"
   ]
  },
  {
   "cell_type": "markdown",
   "metadata": {},
   "source": [
    "**06.** `if` statement can be used in combination with `for` loop. Use this to print out only odd numbers from the given list."
   ]
  },
  {
   "cell_type": "code",
   "execution_count": null,
   "metadata": {},
   "outputs": [],
   "source": [
    "l_06 = [5, 7, 2, 11, 12, 33, 34, 53]\n",
    "\n",
    "for f in l_06:\n",
    "    if f % 2 !=0:\n",
    "        print(f)"
   ]
  },
  {
   "cell_type": "markdown",
   "metadata": {},
   "source": [
    "### List Comprehension"
   ]
  },
  {
   "cell_type": "markdown",
   "metadata": {},
   "source": [
    "**07.** `range()` is a function which returns a sequence of numbers from given parameters. \n",
    "\n",
    "`range(n)` creates a sequence of numbers from 0 to $n-1$:"
   ]
  },
  {
   "cell_type": "code",
   "execution_count": null,
   "metadata": {},
   "outputs": [],
   "source": [
    "for l in range(1,15):\n",
    "    print(l)"
   ]
  },
  {
   "cell_type": "code",
   "execution_count": null,
   "metadata": {},
   "outputs": [],
   "source": [
    "range(11) # this could be easliy casted into a list\n",
    "\n",
    "###################################################\n",
    "\n",
    "list(range(11))"
   ]
  },
  {
   "cell_type": "markdown",
   "metadata": {},
   "source": [
    "You can use `range()` to easily generate a list of, say, all the numbers between 7 and 23:"
   ]
  },
  {
   "cell_type": "code",
   "execution_count": null,
   "metadata": {},
   "outputs": [],
   "source": [
    "list(range(7, 24))"
   ]
  },
  {
   "cell_type": "markdown",
   "metadata": {},
   "source": [
    "Or, to generate a list of every 4th number between 7 and 23:"
   ]
  },
  {
   "cell_type": "code",
   "execution_count": null,
   "metadata": {},
   "outputs": [],
   "source": [
    "list(range(7,23,4))"
   ]
  },
  {
   "cell_type": "markdown",
   "metadata": {},
   "source": [
    "Now, using `range()` function generate a list of all even numbers between 1 and 8."
   ]
  },
  {
   "cell_type": "code",
   "execution_count": null,
   "metadata": {},
   "outputs": [],
   "source": [
    "for i in range(1,8):\n",
    "    if i % 2 ==0:\n",
    "        print(i)\n",
    "\n",
    "###################\n",
    "list(range(2,8,2))"
   ]
  },
  {
   "cell_type": "markdown",
   "metadata": {},
   "source": [
    "**08.** *List comprehension* is a way to generate a list from an iterable, given some rules. For example, you can make a list of all the characters from the string `'Niš'`:"
   ]
  },
  {
   "cell_type": "code",
   "execution_count": null,
   "metadata": {},
   "outputs": [],
   "source": [
    "[char for char in string]"
   ]
  },
  {
   "cell_type": "markdown",
   "metadata": {},
   "source": [
    "### for char in string\n",
    "\n",
    "    This is the loop that iterates over each character (char) in the given string.\n",
    "    string is an iterable, so it loops through each element (in this case, each character).\n",
    "\n",
    "### char\n",
    "\n",
    "    This is what gets added to the list for each iteration.\n",
    "    For every character in string, the char is directly appended to the resulting list.\n",
    "\n",
    "### [...]\n",
    "\n",
    "    The brackets indicate that the result will be a new list containing all the char elements.\n",
    "\n",
    "\n",
    "    ** Note ** This type of list comprehension is useful when you want to quickly convert a string into a list of its characters. It's concise and easy to read compared to a traditional for loop like this:"
   ]
  },
  {
   "cell_type": "markdown",
   "metadata": {},
   "source": [
    "Now, use list comprehension to make a list of all the characters of the string `'JABUKA'` but in lower case."
   ]
  },
  {
   "cell_type": "code",
   "execution_count": null,
   "metadata": {},
   "outputs": [],
   "source": [
    "[char.lower() for char in \"JABUKA\"]"
   ]
  },
  {
   "cell_type": "markdown",
   "metadata": {},
   "source": [
    "**09.** `range()` is very convenient to use with list comprehension. This gives a list of cubes of all the numbers between 123 and 130:"
   ]
  },
  {
   "cell_type": "code",
   "execution_count": null,
   "metadata": {},
   "outputs": [],
   "source": [
    "[num**3 for num in range(123,130)]"
   ]
  },
  {
   "cell_type": "markdown",
   "metadata": {},
   "source": [
    "Create a list containing a negative value of every third number in the range between 15 and 45. "
   ]
  },
  {
   "cell_type": "code",
   "execution_count": null,
   "metadata": {},
   "outputs": [],
   "source": [
    "[-num for num in range(15,45,3)]"
   ]
  },
  {
   "cell_type": "markdown",
   "metadata": {},
   "source": [
    "**10.** `if` (and `else`) are quite commonly used in list comprehension. Examples (carefully note the syntax differences between the two): "
   ]
  },
  {
   "cell_type": "code",
   "execution_count": null,
   "metadata": {},
   "outputs": [],
   "source": [
    "[char for char in \"Novi Beograd\" if char.isupper()]\n",
    "\n",
    "for char in 'Luka Jasovic':\n",
    "    if char.isupper():\n",
    "        print(char)"
   ]
  },
  {
   "cell_type": "markdown",
   "metadata": {},
   "source": [
    "In this example above, char is just printed according to a conditional expression, but it's not saved as a list.\n",
    "Below, is the correct way to save as a list."
   ]
  },
  {
   "cell_type": "code",
   "execution_count": null,
   "metadata": {},
   "outputs": [],
   "source": [
    "result = []\n",
    "for char in 'Novi Beograd':\n",
    "    if char.isupper():\n",
    "        result.append(char)\n",
    "\n",
    "print(result)"
   ]
  },
  {
   "cell_type": "code",
   "execution_count": null,
   "metadata": {},
   "outputs": [],
   "source": [
    "[char.upper() if char.islower() else char.lower() for char in 'Novi BeoGrad']\n",
    "\n",
    "# ['n', 'O', 'V', 'I', 'b', 'E','O','g', 'R', 'A', 'D']\n",
    "\n",
    "# I read it like \"Make characters upper if they are lower, but in opposite make them lower..\""
   ]
  },
  {
   "cell_type": "markdown",
   "metadata": {},
   "source": [
    "**a)** Reproduce the result of task in **09**, but this time using `if` in list comprehension.\n",
    "> Create a list containing a negative value of every third number in the range between 15 and 45. "
   ]
  },
  {
   "cell_type": "code",
   "execution_count": null,
   "metadata": {},
   "outputs": [],
   "source": [
    "[-num for num in range(15,45) if num % 3 ==0]"
   ]
  },
  {
   "cell_type": "markdown",
   "metadata": {},
   "source": [
    "**b)** Make a list of all (natural) numbers between 5 and 15, where every two-digit number is reduced by 20. \n",
    ">>  Natural numbers are the numbers that start from 1 and end at infinity. In other words, natural numbers are counting numbers and they do not include 0 or any negative or fractional numbers."
   ]
  },
  {
   "cell_type": "code",
   "execution_count": null,
   "metadata": {},
   "outputs": [],
   "source": [
    "[num - 20 if num >=10 else num for num in range(5,15)]"
   ]
  },
  {
   "cell_type": "markdown",
   "metadata": {},
   "source": [
    "****The structure of a list comprehension is:**\n",
    "\n",
    "    >[expression: The transformation to apply to each item.\n",
    "    > for item in iterable: The source of the items.\n",
    "    > if condition (optional): Filtering (only includes items that meet this condition)."
   ]
  },
  {
   "cell_type": "markdown",
   "metadata": {},
   "source": [
    "### while Loops"
   ]
  },
  {
   "cell_type": "markdown",
   "metadata": {},
   "source": [
    "**11.** By default, a `while` loop will keep executing a block of code, untill *while condition* holds true. Example:"
   ]
  },
  {
   "cell_type": "code",
   "execution_count": null,
   "metadata": {},
   "outputs": [],
   "source": [
    "a = 15\n",
    "while a > 10:\n",
    "    print(\"Luka\")\n",
    "    a -=1"
   ]
  },
  {
   "cell_type": "markdown",
   "metadata": {},
   "source": [
    "Starting from $x=5$, the loop above keeps incrementing the value of $x$ by one, until we have $x=9$. Then, the loop increments the value of $x$ by one, violating the condition `x <= 9`, making the loop finish.\n",
    ">One should be careful with `while` loops as you might get stuck in an *infinite loop*. See that `x += 1` increment? Without this increment, while condition would never be violated, and we >would be stuck in this `while` loop FOREVER... or at least until we *interrupt the kernel* (i.e. press the stop sign) in our notebook. \n",
    "\n",
    ">We should be careful with the while conditions as well - changing the condition `while x >= 5` in the loop above would also render it infinite.  "
   ]
  },
  {
   "cell_type": "markdown",
   "metadata": {},
   "source": [
    ">*Hint*: `while True` is the easiest way to make an infinite `while` loop.\n",
    "\n",
    "Now, write a `while` loop which starts from $x=6$, decrementing it by one in every iteration, until 0 is reached."
   ]
  },
  {
   "cell_type": "code",
   "execution_count": null,
   "metadata": {},
   "outputs": [],
   "source": [
    "x = 6\n",
    "while True:\n",
    "    x -=1\n",
    "    if x == 0:\n",
    "        break\n",
    "    print(x)\n",
    "\n",
    "\n",
    "while x>=0:\n",
    "    print(x)\n",
    "    x-=1"
   ]
  },
  {
   "cell_type": "markdown",
   "metadata": {},
   "source": [
    "**12.** In the example above we defined something called *iterative procedure* which can be written as \n",
    "\n",
    "$$x_0 = 5$$\n",
    "$$x_{k+1} = x_k + 1,$$\n",
    "\n",
    "until we reach\n",
    "\n",
    "$$ x_k = 9. $$\n",
    "\n",
    "This reads: *starting from five, in every iteration, we increase value from the previous iteration by 1, until we reach 9.*"
   ]
  },
  {
   "cell_type": "code",
   "execution_count": null,
   "metadata": {},
   "outputs": [],
   "source": [
    "x = 1024\n",
    "while x >= 1:\n",
    "    x //=2\n",
    "    print(x)"
   ]
  },
  {
   "cell_type": "markdown",
   "metadata": {},
   "source": [
    "Why is this important? Iterative procedures are the essence of *Numerical Optimization* and \n"
   ]
  },
  {
   "cell_type": "markdown",
   "metadata": {},
   "source": [
    "$$ {\\rm No\\ Numerical\\ Optimization} \\Rightarrow {\\rm No\\ Machine\\ Learning}. $$"
   ]
  },
  {
   "cell_type": "markdown",
   "metadata": {},
   "source": [
    "We'll get to know about the Numerical Optimization later on in the course, but don't worry - we won't get to technical with it. Anyhow, `while` loops come quite handy when coding iterative procedures. "
   ]
  },
  {
   "cell_type": "markdown",
   "metadata": {},
   "source": [
    "## break and continue"
   ]
  },
  {
   "cell_type": "markdown",
   "metadata": {},
   "source": [
    "**13.** `break` and `continue` can be used in both `for` and `while` loops to influence their execution. `continue` skips an iteration, while `break` breaks (from) it. "
   ]
  },
  {
   "cell_type": "markdown",
   "metadata": {},
   "source": [
    "Use `while` loop to iterate through the list `l_13`, printing out every positive integer, skipping every float and stopping when it reaches negative integer. "
   ]
  },
  {
   "cell_type": "code",
   "execution_count": 2,
   "metadata": {},
   "outputs": [
    {
     "name": "stdout",
     "output_type": "stream",
     "text": [
      "1\n",
      "2\n",
      "3\n",
      "10\n",
      "13\n",
      "16\n"
     ]
    }
   ],
   "source": [
    "l_13 = [1, 2, 3, 4.56, 7.89, 10, 11.12, 13, -14.15, 16, 17.18, -19, 20, 21.22, 23.24, -25, 26.27]\n",
    "i = 0\n",
    "while i < len(l_13):\n",
    "    if isinstance(l_13[i], int) and l_13[i]>0:\n",
    "        print(l_13[i])\n",
    "        i+=1\n",
    "    elif isinstance(l_13[i],float):\n",
    "        i+=1\n",
    "        continue\n",
    "    elif isinstance(l_13[i],int) and l_13[i] < 0:\n",
    "        break"
   ]
  },
  {
   "cell_type": "markdown",
   "metadata": {},
   "source": [
    "### The variable i starts at 0 (i = 0) and is used to iterate through the list l_13 by accessing its elements using their index (l_13[i]).\n",
    "> while i <= len(l_13) Condition\n",
    "This sets the loop to run as long as i is less than or equal to the length of the list l_13.\n",
    "\n",
    "## How the Index Works\n",
    "### The variable i ensures that the loop processes each element of the list sequentially:\n",
    "#### At the beginning, i = 0, so the first element (l_13[0]) is checked.\n",
    "#### At the end, i = len(l_13)After processing, i += 1 moves to the next element (l_13[1]), and so on.\n",
    "When i reaches the length of the list, the loop exits because i < len(l_13) will no longer be true."
   ]
  },
  {
   "cell_type": "markdown",
   "metadata": {},
   "source": []
  },
  {
   "cell_type": "markdown",
   "metadata": {},
   "source": [
    "**14.** Even though `while True` might sound like a joke, it actually has its uses. Should you ever need to use this, don't forget to throw in `break`, i.e. set up a *stopping condition* to break from the agony of infinite repetitions.  \n",
    "\n",
    "First, think about what the following cell does, and then execute it."
   ]
  },
  {
   "cell_type": "code",
   "execution_count": 3,
   "metadata": {},
   "outputs": [
    {
     "name": "stdout",
     "output_type": "stream",
     "text": [
      "1\n",
      "2\n",
      "4\n",
      "8\n",
      "16\n",
      "32\n",
      "64\n",
      "128\n",
      "256\n",
      "512\n",
      "1024\n",
      "2048\n",
      "4096\n",
      "8192\n",
      "16384\n",
      "32768\n",
      "65536\n"
     ]
    }
   ],
   "source": [
    "x = 1\n",
    "while True:\n",
    "    \n",
    "    print(x)\n",
    "    x *= 2\n",
    "    \n",
    "    if x > 10**5:\n",
    "        break"
   ]
  },
  {
   "cell_type": "markdown",
   "metadata": {},
   "source": [
    "While condition (condition 1) is True print x but after every iteration(condition 2) make it x * 2 , and (condition 3) when x reaches value of 10^5, break the loop."
   ]
  }
 ],
 "metadata": {
  "kernelspec": {
   "display_name": "Python 3",
   "language": "python",
   "name": "python3"
  },
  "language_info": {
   "codemirror_mode": {
    "name": "ipython",
    "version": 3
   },
   "file_extension": ".py",
   "mimetype": "text/x-python",
   "name": "python",
   "nbconvert_exporter": "python",
   "pygments_lexer": "ipython3",
   "version": "3.11.4"
  }
 },
 "nbformat": 4,
 "nbformat_minor": 2
}
