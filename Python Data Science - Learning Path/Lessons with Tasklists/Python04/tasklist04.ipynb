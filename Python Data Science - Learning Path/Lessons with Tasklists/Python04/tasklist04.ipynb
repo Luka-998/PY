{
 "cells": [
  {
   "cell_type": "markdown",
   "metadata": {},
   "source": [
    "## Task List 04: Numpy "
   ]
  },
  {
   "cell_type": "code",
   "execution_count": 1,
   "metadata": {},
   "outputs": [],
   "source": [
    "import numpy as np"
   ]
  },
  {
   "cell_type": "markdown",
   "metadata": {},
   "source": [
    "**01.** Using `np.array()` create\n",
    "- A *vector* (i.e. one-dimensional array) of lenght 5\n",
    "- A *matrix* (i.e. two-dimensional array) of shape 2x3"
   ]
  },
  {
   "cell_type": "code",
   "execution_count": 2,
   "metadata": {},
   "outputs": [
    {
     "name": "stdout",
     "output_type": "stream",
     "text": [
      "5\n"
     ]
    }
   ],
   "source": [
    "a_vector = np.array([1,2,3,4,5])\n",
    "print(len(a_vector))"
   ]
  },
  {
   "cell_type": "code",
   "execution_count": 3,
   "metadata": {},
   "outputs": [
    {
     "name": "stdout",
     "output_type": "stream",
     "text": [
      "[[0 1 2]\n",
      " [3 4 5]]\n"
     ]
    }
   ],
   "source": [
    "a_matrix = np.arange(6).reshape(2,3)\n",
    "print(a_matrix)"
   ]
  },
  {
   "cell_type": "markdown",
   "metadata": {},
   "source": [
    "**02.** `.reshape()` array method is most commonly used to reshape vectors into matrices of desired (allowable) shape. Let's see it in action:"
   ]
  },
  {
   "cell_type": "code",
   "execution_count": 4,
   "metadata": {},
   "outputs": [
    {
     "data": {
      "text/plain": [
       "(6,)"
      ]
     },
     "execution_count": 4,
     "metadata": {},
     "output_type": "execute_result"
    }
   ],
   "source": [
    "v_2 = np.ones(6, dtype=int)\n",
    "v_2.shape"
   ]
  },
  {
   "cell_type": "markdown",
   "metadata": {},
   "source": [
    "`v_2` is a vector of ones of lenght 6. Run the cells below to see what happens when we reshape it."
   ]
  },
  {
   "cell_type": "code",
   "execution_count": 5,
   "metadata": {},
   "outputs": [
    {
     "data": {
      "text/plain": [
       "array([[1, 1, 1],\n",
       "       [1, 1, 1]])"
      ]
     },
     "execution_count": 5,
     "metadata": {},
     "output_type": "execute_result"
    }
   ],
   "source": [
    "v_2a=v_2.reshape(2,3)\n",
    "v_2a"
   ]
  },
  {
   "cell_type": "markdown",
   "metadata": {},
   "source": [
    "And what happens if we do this?"
   ]
  },
  {
   "cell_type": "code",
   "execution_count": 6,
   "metadata": {},
   "outputs": [
    {
     "name": "stdout",
     "output_type": "stream",
     "text": [
      "[[1 1]\n",
      " [1 1]\n",
      " [1 1]]\n"
     ]
    }
   ],
   "source": [
    "v_2b = v_2a.reshape(3,2)\n",
    "print(v_2b)"
   ]
  },
  {
   "cell_type": "markdown",
   "metadata": {},
   "source": [
    "And this? "
   ]
  },
  {
   "cell_type": "code",
   "execution_count": 67,
   "metadata": {},
   "outputs": [
    {
     "ename": "ValueError",
     "evalue": "cannot reshape array of size 6 into shape (4,2)",
     "output_type": "error",
     "traceback": [
      "\u001b[1;31m---------------------------------------------------------------------------\u001b[0m",
      "\u001b[1;31mValueError\u001b[0m                                Traceback (most recent call last)",
      "Cell \u001b[1;32mIn[67], line 1\u001b[0m\n\u001b[1;32m----> 1\u001b[0m v_2c\u001b[38;5;241m=\u001b[39m \u001b[43mv_2\u001b[49m\u001b[38;5;241;43m.\u001b[39;49m\u001b[43mreshape\u001b[49m\u001b[43m(\u001b[49m\u001b[38;5;241;43m4\u001b[39;49m\u001b[43m,\u001b[49m\u001b[38;5;241;43m2\u001b[39;49m\u001b[43m)\u001b[49m\n\u001b[0;32m      3\u001b[0m \u001b[38;5;66;03m# ValueError: cannot reshape array of size 6 into shape (4,2)\u001b[39;00m\n",
      "\u001b[1;31mValueError\u001b[0m: cannot reshape array of size 6 into shape (4,2)"
     ]
    }
   ],
   "source": [
    "v_2c= v_2.reshape(4,2)\n",
    "\n",
    "# ValueError: cannot reshape array of size 6 into shape (4,2)\n"
   ]
  },
  {
   "cell_type": "markdown",
   "metadata": {},
   "source": [
    "Now, create a vector of zeros of length 12 and reshape it to some matrix."
   ]
  },
  {
   "cell_type": "code",
   "execution_count": null,
   "metadata": {},
   "outputs": [],
   "source": [
    "v_zero = np.zeros(12)\n",
    "v_matrix = v_zero.reshape(3,4)\n",
    "print(v_matrix)"
   ]
  },
  {
   "cell_type": "markdown",
   "metadata": {},
   "source": [
    "**03.** -1 is a very special number when used with reshape. Let's make a vector of ones of lenght 20:"
   ]
  },
  {
   "cell_type": "code",
   "execution_count": null,
   "metadata": {},
   "outputs": [],
   "source": [
    "v_3 = np.ones(20).reshape(5, -1)\n",
    "print(v_3)\n",
    "\n",
    "# so from the output we can see that if -1 is first number in the tuple, it represents 5-1 number of rows, 5 stays the same for the column # (-1,5). "
   ]
  },
  {
   "cell_type": "markdown",
   "metadata": {},
   "source": [
    "### How -1 Works in reshape:\n",
    "#### (The behavior of -1 in reshape is consistent, regardless of whether it's the first or second number in the shape tuple)\n",
    "\n",
    "-   The -1 in reshape is a placeholder that tells Numpy to automatically calculate the appropriate dimension based on the size of the original array and the specified dimensions.\n",
    "\n",
    "-   Numpy ensures that the total number of elements in the reshaped array is equal to the total number of elements in the original array.\n",
    "\n",
    "\n",
    "\n",
    "> Reshape to (5, -1):\n",
    "\n",
    "5 specifies the number of rows. \n",
    "\n",
    "-1 tells Numpy to calculate the number of columns automatically. Since the total number of elements must stay the same (20), Numpy determines:\n",
    "\n",
    "Number of columns = total elements (20) / number of rows (5) = 4\n",
    "\n",
    "***\n"
   ]
  },
  {
   "cell_type": "markdown",
   "metadata": {},
   "source": [
    "What do you think will happen if we use `.reshape((-1, 10))` on `v_3`?"
   ]
  },
  {
   "cell_type": "code",
   "execution_count": null,
   "metadata": {},
   "outputs": [],
   "source": [
    "v_3.reshape((-1,10))\n",
    "# expected output - two rows , 10 columns - Correct"
   ]
  },
  {
   "cell_type": "markdown",
   "metadata": {},
   "source": [
    "Later on in the course, when implementing Machine Learning, you'll be sometimes required to reshape a vector into *row matrix* or *column matrix*. What are those? See for yourself, on the example of the following vector:"
   ]
  },
  {
   "cell_type": "code",
   "execution_count": null,
   "metadata": {},
   "outputs": [],
   "source": [
    "v = np.ones(5)\n",
    "print(v)\n",
    "v.shape"
   ]
  },
  {
   "cell_type": "markdown",
   "metadata": {},
   "source": [
    "- Row matrix"
   ]
  },
  {
   "cell_type": "code",
   "execution_count": null,
   "metadata": {},
   "outputs": [],
   "source": [
    "v_row = v.reshape(1,-1)\n",
    "print(v_row)\n",
    "print(v_row.shape)"
   ]
  },
  {
   "cell_type": "markdown",
   "metadata": {},
   "source": [
    "> __1D array__ into a __2D matrix__ by reshaping it, and the placeholder -1 in v.reshape(1, -1) specifies that the number of columns should be automatically calculated to fit the total size of the array. Let’s break this down step by step."
   ]
  },
  {
   "cell_type": "markdown",
   "metadata": {},
   "source": [
    "- Column matrix"
   ]
  },
  {
   "cell_type": "code",
   "execution_count": null,
   "metadata": {},
   "outputs": [],
   "source": [
    "v_columns = v_row.reshape(-1,1)\n",
    "print(v_columns)\n",
    "print(v_columns.shape)"
   ]
  },
  {
   "cell_type": "markdown",
   "metadata": {},
   "source": [
    "**04.** Let"
   ]
  },
  {
   "cell_type": "code",
   "execution_count": null,
   "metadata": {},
   "outputs": [],
   "source": [
    "x = np.array([-1,0,1])\n",
    "y = np.array([1,0,0])\n",
    "\n",
    "A = np.eye(3) # This creates a 3x3 identity matrix\n",
    "B = np.diag((2, 1, -2)) #this creates a diagonal matrix with the given elements on the main diagonal\n",
    "\n",
    "\n",
    "print('x = ', x)\n",
    "print('-------------')\n",
    "print('y = ', y)\n",
    "print('-------------')\n",
    "print('A = \\n', A)\n",
    "print('-------------')\n",
    "print('B = \\n', B)\n"
   ]
  },
  {
   "cell_type": "markdown",
   "metadata": {},
   "source": [
    "Compute \n",
    "\n",
    "- $x\\cdot y$ (the inner product)\n",
    "- $Ay$\n",
    "- $AB$\n",
    "- $xBy$\n",
    "- $B^TA$\n",
    "- $AB - 4BA$"
   ]
  },
  {
   "cell_type": "code",
   "execution_count": null,
   "metadata": {},
   "outputs": [],
   "source": [
    "x@y "
   ]
  },
  {
   "cell_type": "code",
   "execution_count": null,
   "metadata": {},
   "outputs": [],
   "source": [
    "A@y"
   ]
  },
  {
   "cell_type": "code",
   "execution_count": null,
   "metadata": {},
   "outputs": [],
   "source": [
    "A@B"
   ]
  },
  {
   "cell_type": "code",
   "execution_count": null,
   "metadata": {},
   "outputs": [],
   "source": [
    "x@B@y"
   ]
  },
  {
   "cell_type": "code",
   "execution_count": null,
   "metadata": {},
   "outputs": [],
   "source": [
    "B.T@A"
   ]
  },
  {
   "cell_type": "code",
   "execution_count": null,
   "metadata": {},
   "outputs": [],
   "source": [
    "A@B - 4*B@A"
   ]
  },
  {
   "cell_type": "markdown",
   "metadata": {},
   "source": [
    "Notice the outputs of the operations above? Depending on the operands involved, you can obtain either a vector, a matrix or a *scalar*, i.e. a number. Knowing what kind of output to expect for given inputs is very useful when doing *Linear Algebra*.\n",
    "\n",
    "But why all this? Why Linear Algebra? Well, because\n",
    "\n",
    "$$ {\\rm No\\ Linear\\ Algebra} \\Rightarrow {\\rm No\\ Machine\\ Learning}. $$\n",
    "a\n",
    "But, don't worry - we aren't going to do some fancy Linear Algebra in this course. We'll just cover the most basic concepts, needed to understand the mathematics behind Machine Learning and utilizing ML in Python. And should you decide to venture into *Deep Learning* - area of ML dealing with *Neural Networks* (used for Computer Vision, Chatbots and Natural Language Understanding/Generation), be prepared to do Linear Algebra quite a bit:)"
   ]
  },
  {
   "cell_type": "markdown",
   "metadata": {},
   "source": [
    "**05.** Using indexing and index slicing extract from matrix `A_5` the following:\n",
    "\n",
    "- an element in its third row and second column\n",
    "- an element in its last column and second row\n",
    "- its first row\n",
    "- its third column\n",
    "- its last two columns\n",
    "- its first and third row\n",
    "- all its elements in the interesction of its last two rows and first two columns\n",
    "- all its elements in the intesection of its two middle rows and two middle columns"
   ]
  },
  {
   "cell_type": "code",
   "execution_count": null,
   "metadata": {},
   "outputs": [],
   "source": [
    "A_5 = np.array([[1, 2, 3, 4], [5, 6, 7, 8], [9, 10, 11, 12], [13, 14, 15, 16]])\n",
    "A_5"
   ]
  },
  {
   "cell_type": "code",
   "execution_count": null,
   "metadata": {},
   "outputs": [],
   "source": [
    "# 3rd row , 2nd columns:\n",
    "A_5[2:3,1:2]"
   ]
  },
  {
   "cell_type": "code",
   "execution_count": null,
   "metadata": {},
   "outputs": [],
   "source": [
    "# element in ints last columns and second row:\n",
    "A_5[1:2,-1]"
   ]
  },
  {
   "cell_type": "code",
   "execution_count": null,
   "metadata": {},
   "outputs": [],
   "source": [
    "# it's first row:\n",
    "A_5[0,: ,]"
   ]
  },
  {
   "cell_type": "code",
   "execution_count": null,
   "metadata": {},
   "outputs": [],
   "source": [
    "# it's last two columns:\n",
    "A_5[:,2:]"
   ]
  },
  {
   "cell_type": "code",
   "execution_count": null,
   "metadata": {},
   "outputs": [],
   "source": [
    "# its first and third row:\n",
    "A_5[[0,2][1:2]]\n",
    "\n",
    "# Fancy indexing"
   ]
  },
  {
   "cell_type": "code",
   "execution_count": null,
   "metadata": {},
   "outputs": [],
   "source": [
    "# all its elements in the interesction of its last two rows and first two columns\n",
    "\n",
    "A_5[-2:,:2]\n"
   ]
  },
  {
   "cell_type": "code",
   "execution_count": null,
   "metadata": {},
   "outputs": [],
   "source": [
    "# all its elements in the intesection of its two middle rows and two middle columns\n",
    "A_5[1:3,1:3]"
   ]
  },
  {
   "cell_type": "markdown",
   "metadata": {},
   "source": [
    "#### Fancy Indexing:\n",
    "\n",
    "-   [[0, 2]] specifies the indices of the rows you want to extract (1st row = index 0, 3rd row = index 2).\n",
    "\n",
    "-   : selects all columns for the specified rows.\n",
    "\n",
    "\n",
    "(Use row indices inside [] to extract multiple rows in one go., Use : to keep all columns, or specify a range of columns if needed (e.g., A_5[[0, 2], 1:3] to extract specific columns)_)\n",
    "\n",
    "\n",
    "Core Concepts of Fancy Indexing:\n",
    "\n",
    "Fancy indexing allows you to access elements, rows, or columns in a non-sequential or customized manner by using arrays or lists of indices. It’s more flexible than traditional slicing.\n",
    "\n",
    "### 1. Fancy Indexing for Rows and Columns\n",
    "\n",
    "-   You use lists or arrays of indices to select specific rows, specific columns, or both.\n",
    "\n",
    "1.1 Example:"
   ]
  },
  {
   "cell_type": "code",
   "execution_count": null,
   "metadata": {},
   "outputs": [],
   "source": [
    "import numpy as np\n",
    "\n",
    "# Example array\n",
    "arr = np.array([[10, 20, 30], \n",
    "                [40, 50, 60], \n",
    "                [70, 80, 90]])\n",
    "\n",
    "# Select the 1st and 3rd rows\n",
    "print(arr[[0, 2], :])  # Output: [[10 20 30]\n",
    "                       #         [70 80 90]]\n",
    "\n",
    "# Select the 2nd and 3rd columns\n",
    "print(arr[:, [1, 2]])  # Output: [[20 30]\n",
    "                       #         [50 60]\n",
    "                       #         [80 90]]\n"
   ]
  },
  {
   "cell_type": "markdown",
   "metadata": {},
   "source": [
    "### 2. Fancy Indexing for Specific Elements\n",
    "\n",
    "-   Combine row indices and column indices to pick specific elements.\n",
    "\n",
    "1.2 Example:\n",
    "\n"
   ]
  },
  {
   "cell_type": "code",
   "execution_count": null,
   "metadata": {},
   "outputs": [],
   "source": [
    "# Example array\n",
    "arr = np.array([[10, 20, 30], \n",
    "                [40, 50, 60], \n",
    "                [70, 80, 90]])\n",
    "\n",
    "# Select elements at (0, 1), (1, 2), and (2, 0)\n",
    "print(arr[[0, 1, 2], [1, 2, 0]])  # Output: [20 60 70]\n"
   ]
  },
  {
   "cell_type": "markdown",
   "metadata": {},
   "source": [
    "Exercises\n",
    "\n",
    "Exercise 1: Extract Specific Rows and Columns:\n",
    "\n",
    "1) Extract the 1st and 4th rows (0-indexed).\n",
    "2) Extract the 2nd and 3rd columns for the 1st and 4th rows.\n",
    "3) Select specific elements: (0, 1), (2, 3), and (3, 0).\n",
    "\n",
    "* Bonus: Write a function extract_rows_columns that takes:\n",
    "\n",
    "1a) A 2D array,\n",
    "2a) A list of row indices,\n",
    "3a) A list of column indices, And returns the submatrix containing only those rows and columns."
   ]
  },
  {
   "cell_type": "code",
   "execution_count": null,
   "metadata": {},
   "outputs": [],
   "source": [
    "# 1.\n",
    "\n",
    "arr[[0,-1], :]\n",
    "\n",
    "# 2.\n",
    "\n",
    "arr[[0,-1],[1,2]]\n",
    "\n",
    "# 3.\n",
    "arr[[0,2,2],[1,2,0]]"
   ]
  },
  {
   "cell_type": "code",
   "execution_count": null,
   "metadata": {},
   "outputs": [],
   "source": [
    "# 1a)\n",
    "\n",
    "def extract_rows_columns(arr,rows,columns):\n",
    "    return arr[rows,columns]\n",
    "\n",
    "matrix_design = np.arange(50).reshape(5,-1)\n",
    "extract_rows_columns(matrix_design, [1, 3],[0, 2])\n",
    "\n"
   ]
  },
  {
   "cell_type": "markdown",
   "metadata": {},
   "source": [
    "**06.** Using conditional indexing, find all the elements of matrix `A_6` which are:\n",
    "\n",
    "- strictly greater than 1\n",
    "- not equal to zero\n",
    "- strictly lesser than -1 or greater than 2\n",
    "- in the [0, 3] segment (endpoints included) "
   ]
  },
  {
   "cell_type": "code",
   "execution_count": null,
   "metadata": {},
   "outputs": [],
   "source": [
    "A_6 = np.array([[0, -1, 3, 4, 2], [0, 2, 0, -4, 1], [0, 0, -5, 2, 1], [5, -1, 2, 0, -2]])\n",
    "   \n",
    "A_6[A_6>1]\n",
    "A_6[A_6 != 0]\n",
    "A_6[(A_6 <1) | (A_6 > 2)]\n",
    "A_6[(A_6<=0)&(A_6<=3)]"
   ]
  },
  {
   "cell_type": "markdown",
   "metadata": {},
   "source": [
    "**07.** Generate a random 3x7 matrix of floats, and then select all its entries greater or equal than 0.5 ."
   ]
  },
  {
   "cell_type": "code",
   "execution_count": null,
   "metadata": {},
   "outputs": [],
   "source": [
    "A_6 = np.random.random(size=(3,7))\n",
    "print(A_6)\n",
    "print(A_6[A_6>=0.5])"
   ]
  },
  {
   "cell_type": "markdown",
   "metadata": {},
   "source": [
    "**08.** `np.linspace()` creates a vector of equaly distant points between the two given points. Similar to this is `np.arange()` which produces a vector of equaly distant points between the two given points. Wait, what's the difference then? \n",
    "\n",
    " - for `np.linspace()` you specify the <u>number of points</u> between the two given points\n",
    " - for `np.arange()` you specify the <u>stepsize</u> between the numbers in the interval between the given two points\n",
    " \n",
    "To check this for yourself, do the following:\n",
    "\n",
    " - Make an array of 17 equally distributed points between 0 and 2\n",
    " - Make an array of points between 0 and 2 with stepsize 0.25"
   ]
  },
  {
   "cell_type": "code",
   "execution_count": null,
   "metadata": {},
   "outputs": [],
   "source": [
    "A = np.linspace(0,2,17)\n",
    "A\n",
    "\n",
    "B = np.arange(0,2,0.25)\n",
    "B\n"
   ]
  },
  {
   "cell_type": "markdown",
   "metadata": {},
   "source": [
    "-   np.arange ( ) - Purpose: Creates a sequence of numbers within a specified range. __Step size will not be included !__\n",
    "\n",
    "\n",
    "\n",
    "-   np.linspace ( ) - Purpose: Creates a sequence of numbers between a start and end range, with a specified number of equally spaced points."
   ]
  },
  {
   "cell_type": "markdown",
   "metadata": {},
   "source": [
    "**09.** Create the same array using both `np.linspace()` and `np.arange()`."
   ]
  },
  {
   "cell_type": "code",
   "execution_count": null,
   "metadata": {},
   "outputs": [],
   "source": [
    "arr1 = np.linspace(1,10,7)\n",
    "arr2 = np.arange(1,11,1.5)\n",
    "print(arr1,arr2)"
   ]
  },
  {
   "cell_type": "markdown",
   "metadata": {},
   "source": [
    "**10.** `np.concatenate()` let's you stack two (or more) vectors/matrices next to one antoher or on top of each other. Given to vectors `v_10a` and `v_10b` use it to:\n",
    "   - produce a new vector by stacking them one next to another (horizontal stacking)\n",
    "   - produce a new matrix by stacking them on top of each other (vertical stacking) "
   ]
  },
  {
   "cell_type": "code",
   "execution_count": null,
   "metadata": {},
   "outputs": [],
   "source": [
    "v_10a = np.array([1, 2, 3])\n",
    "v_10b = np.array([4, 5, 6])\n",
    "print(v_10a,v_10b)"
   ]
  },
  {
   "cell_type": "code",
   "execution_count": null,
   "metadata": {},
   "outputs": [],
   "source": [
    "np.concatenate((v_10a, v_10b), axis=0)\n",
    "\n",
    "# Expected output 1,2,3,4,5,6"
   ]
  },
  {
   "cell_type": "markdown",
   "metadata": {},
   "source": [
    "With this approach, we created a new vector array that has v_10a and v_10b horizontally stacked. __Axis = 0__ is the only axis for the 1D arrays. \n",
    "\n",
    "But why when I want to make a new matrix by vertically stacking these 2 arrays, i receive an __Axis__ error? AxisError: axis 1 is out of bounds for array of dimension 1\n",
    "\n",
    "-   The error occurs because np.concatenate() requires that the input arrays have the same number of dimensions, and the axis you specify must exist for those arrays. Let's break it down:\n",
    "\n",
    "This works because you are concatenating along axis 0, which is the only valid axis for 1D arrays.\n",
    "\n",
    "-   If you want to stack the arrays vertically and create a 2D matrix, you need to first convert the 1D arrays into 2D arrays. This can be done using np.reshape() or np.newaxis.\n"
   ]
  },
  {
   "cell_type": "code",
   "execution_count": null,
   "metadata": {},
   "outputs": [],
   "source": [
    "v_10a = np.array([1, 2, 3])\n",
    "v_10b = np.array([4, 5, 6])\n",
    "\n",
    "b = np.vstack((v_10a, v_10b))\n",
    "print(b)\n",
    "b.shape\n",
    "\n",
    "# np.vstack () could be used for this purpose for creating 2D from 1D vector.\n",
    "\n",
    "\n",
    "v_10a_2d = v_10a.reshape(1, -1)  # Shape: (1, 3)\n",
    "v_10b_2d = v_10b.reshape(1, -1)  # Shape: (1, 3)\n",
    "\n",
    "print(v_10a_2d.shape)\n",
    "print(v_10b_2d.shape)\n",
    "\n",
    "\n",
    "result = np.concatenate((v_10a_2d, v_10b_2d), axis=0)\n",
    "print(result)\n",
    "\n"
   ]
  },
  {
   "cell_type": "markdown",
   "metadata": {},
   "source": [
    "### Keypoints:\n",
    "\n",
    "-   A 1D array has only axis 0, so axis=1 is invalid.\n",
    "\n",
    "-   Convert 1D arrays to 2D using reshape() or use vstack() if you want to stack them vertically.\n",
    "\n",
    "-   __np.concatenate ( ) requires the arrays to have the same number of dimensions.__"
   ]
  },
  {
   "cell_type": "markdown",
   "metadata": {},
   "source": [
    "Now, do the same for matrices `A_10a` and `A_10b`."
   ]
  },
  {
   "cell_type": "code",
   "execution_count": null,
   "metadata": {},
   "outputs": [],
   "source": [
    "A_10a = np.array([[1, 2], [3, 4]]) # 2D\n",
    "A_10a"
   ]
  },
  {
   "cell_type": "code",
   "execution_count": null,
   "metadata": {},
   "outputs": [],
   "source": [
    "A_10b = np.array([[-3, -2], [1, 0]]) #2D\n",
    "A_10b"
   ]
  },
  {
   "cell_type": "code",
   "execution_count": null,
   "metadata": {},
   "outputs": [],
   "source": [
    "c = np.concatenate((A_10a,A_10b),axis=1)\n",
    "print(c)\n",
    "\n",
    "#Here we can choose between axis 1 and 0 . \n",
    "\n",
    "c = np.concatenate((A_10a,A_10b),axis=0)\n",
    "print(c)\n",
    "\n",
    "\n",
    "c = np.vstack((A_10a,A_10b))\n",
    "print(c)"
   ]
  },
  {
   "cell_type": "markdown",
   "metadata": {},
   "source": [
    "**11**. Given a 2x3 matrix `A_11` use\n",
    "\n",
    " - `np.vstack()` to expand it by two rows with some matrix `A_11a` you define\n",
    " - `np.hstack()` to expand it by two column with some matrix `A_11b` you define\n",
    " \n",
    "*Hint: Watch for the shapes!*"
   ]
  },
  {
   "cell_type": "code",
   "execution_count": null,
   "metadata": {},
   "outputs": [],
   "source": [
    "A_11 = np.array([[1, 7, 1], [7, 1, 7]])\n",
    "A_11"
   ]
  },
  {
   "cell_type": "code",
   "execution_count": null,
   "metadata": {},
   "outputs": [],
   "source": [
    "A_11.shape #2,3\n",
    "A_11a = np.array([[5,5,5],[9,0,9]])\n",
    "print(A_11a)\n",
    "A_11a.shape\n",
    "np.vstack((A_11,A_11a))"
   ]
  },
  {
   "cell_type": "code",
   "execution_count": null,
   "metadata": {},
   "outputs": [],
   "source": [
    "A_11b = np.arange(6).reshape(2,3)\n",
    "print(A_11b)\n",
    "\n",
    "np.hstack((A_11,A_11b))"
   ]
  },
  {
   "cell_type": "markdown",
   "metadata": {},
   "source": [
    "**12.** Find a way to turn matrix `A_12` into a vector containing its elements. \n",
    "\n",
    "*Hint: Try listening to Bolero.*"
   ]
  },
  {
   "cell_type": "code",
   "execution_count": null,
   "metadata": {},
   "outputs": [],
   "source": [
    "A_12 = np.array([[4, 7], [7, 4], [4, 7]])\n",
    "A_12"
   ]
  },
  {
   "cell_type": "code",
   "execution_count": null,
   "metadata": {},
   "outputs": [],
   "source": [
    "A_12V = A_12.reshape(-1,6)\n",
    "A_12V.shape\n",
    "print(A_12V)"
   ]
  },
  {
   "cell_type": "code",
   "execution_count": null,
   "metadata": {},
   "outputs": [],
   "source": [
    "A_12.ravel()"
   ]
  },
  {
   "cell_type": "markdown",
   "metadata": {},
   "source": [
    "### np.ravel ( )\n",
    "\n",
    "-   The np.ravel() function in NumPy is used to flatten a multi-dimensional array into a 1D array. It works similarly to reshape(-1) but is more focused on flattening.\n",
    "\n",
    "-   np.ravel() does not change the shape of the original array. It just returns a flattened version."
   ]
  },
  {
   "cell_type": "markdown",
   "metadata": {},
   "source": [
    "**13.** For the matrix `A_13` find \n",
    "\n",
    "- mean of all of its elements\n",
    "- mean of all of its elements in the second column\n",
    "- mean of all of its elements for every row"
   ]
  },
  {
   "cell_type": "code",
   "execution_count": 9,
   "metadata": {},
   "outputs": [
    {
     "data": {
      "text/plain": [
       "array([[ 1. ,  2. ,  3. ,  4. ],\n",
       "       [-1. , -2. , -3. , -4. ],\n",
       "       [ 0.1,  0.2,  0.3,  0.4]])"
      ]
     },
     "execution_count": 9,
     "metadata": {},
     "output_type": "execute_result"
    }
   ],
   "source": [
    "A_13 = np.array([[1, 2, 3, 4], [-1, -2, -3, -4], [.1, .2, .3, .4]])\n",
    "A_13"
   ]
  },
  {
   "cell_type": "code",
   "execution_count": null,
   "metadata": {},
   "outputs": [],
   "source": [
    "np.mean(A_13)"
   ]
  },
  {
   "cell_type": "code",
   "execution_count": 10,
   "metadata": {},
   "outputs": [
    {
     "data": {
      "text/plain": [
       "0.06666666666666667"
      ]
     },
     "execution_count": 10,
     "metadata": {},
     "output_type": "execute_result"
    }
   ],
   "source": [
    "np.mean(A_13[:,1:2])"
   ]
  },
  {
   "cell_type": "code",
   "execution_count": 12,
   "metadata": {},
   "outputs": [
    {
     "data": {
      "text/plain": [
       "array([ 2.5 , -2.5 ,  0.25])"
      ]
     },
     "execution_count": 12,
     "metadata": {},
     "output_type": "execute_result"
    }
   ],
   "source": [
    "np.mean(A_13, axis=1)"
   ]
  },
  {
   "cell_type": "markdown",
   "metadata": {},
   "source": [
    "**14.** For matrix `A_14` find\n",
    "\n",
    "- standard deviation of all of its elements\n",
    "- standard deviation of all of its elements for every column"
   ]
  },
  {
   "cell_type": "code",
   "execution_count": 14,
   "metadata": {},
   "outputs": [
    {
     "data": {
      "text/plain": [
       "array([[ 1. ,  2. ,  nan,  4. ],\n",
       "       [-1. ,  nan,  nan, -4. ],\n",
       "       [ nan,  0.2,  0.3,  0.4]])"
      ]
     },
     "execution_count": 14,
     "metadata": {},
     "output_type": "execute_result"
    }
   ],
   "source": [
    "A_14 = np.array([[1, 2, np.nan, 4], [-1, np.nan, np.nan, -4], [np.nan, .2, .3, .4]])\n",
    "A_14"
   ]
  },
  {
   "cell_type": "markdown",
   "metadata": {},
   "source": [
    "-   nanmean ( ) , remember?"
   ]
  },
  {
   "cell_type": "code",
   "execution_count": 16,
   "metadata": {},
   "outputs": [
    {
     "data": {
      "text/plain": [
       "2.1575086905966336"
      ]
     },
     "execution_count": 16,
     "metadata": {},
     "output_type": "execute_result"
    }
   ],
   "source": [
    "np.nanstd(A_14)"
   ]
  },
  {
   "cell_type": "code",
   "execution_count": 17,
   "metadata": {},
   "outputs": [
    {
     "data": {
      "text/plain": [
       "array([1.        , 0.9       , 0.        , 3.27142511])"
      ]
     },
     "execution_count": 17,
     "metadata": {},
     "output_type": "execute_result"
    }
   ],
   "source": [
    "np.nanstd(A_14, axis=0)"
   ]
  },
  {
   "cell_type": "markdown",
   "metadata": {},
   "source": [
    "### __std( )__\n",
    "\n",
    "-    The `std()` method in NumPy calculates the standard deviation of an array, which is a measure of the amount of variation or dispersion in a dataset.\n",
    "\n",
    "\n",
    "-   Standard deviation (SD) quantifies how spread out the numbers in a dataset are relative to their mean. A low standard deviation indicates that the values are close to the mean, while a high standard deviation indicates that the values are spread out over a larger range."
   ]
  },
  {
   "cell_type": "markdown",
   "metadata": {},
   "source": [
    "**15.** `np.argmin()` and `np.argmax()` are two very useful functions for finding an <u>index (position)</u> of the minimal/maximal value of an array. Given matrix `A_15` find\n",
    "\n",
    "- position of its biggest element \n",
    "- indices of every smallest element from its columns\n",
    "- position of its biggest negative element"
   ]
  },
  {
   "cell_type": "code",
   "execution_count": 52,
   "metadata": {},
   "outputs": [
    {
     "data": {
      "text/plain": [
       "array([[ 1, -1,  3,  4],\n",
       "       [ 2, -6, -3,  0],\n",
       "       [ 7, -4,  5, -5],\n",
       "       [ 8,  9,  6, -7]])"
      ]
     },
     "execution_count": 52,
     "metadata": {},
     "output_type": "execute_result"
    }
   ],
   "source": [
    "A_15 = np.array([[1, -1, 3, 4], [2, -6, -3, 0], [7, -4, 5, -5], [8, 9, 6, -7]])\n",
    "A_15"
   ]
  },
  {
   "cell_type": "code",
   "execution_count": 53,
   "metadata": {},
   "outputs": [
    {
     "data": {
      "text/plain": [
       "13"
      ]
     },
     "execution_count": 53,
     "metadata": {},
     "output_type": "execute_result"
    }
   ],
   "source": [
    "np.argmax(A_15)"
   ]
  },
  {
   "cell_type": "code",
   "execution_count": 54,
   "metadata": {},
   "outputs": [
    {
     "data": {
      "text/plain": [
       "array([0, 1, 1, 3], dtype=int64)"
      ]
     },
     "execution_count": 54,
     "metadata": {},
     "output_type": "execute_result"
    }
   ],
   "source": [
    "np.argmin(A_15, axis=0)"
   ]
  },
  {
   "cell_type": "code",
   "execution_count": 55,
   "metadata": {},
   "outputs": [],
   "source": [
    "# position of it's biggest negative element\n",
    "\n",
    "# 1. filter the negative elemnts - Use a condition to get only the negative elements of the matrix.\n",
    "\n",
    "# 2. Use np.max() on the filtered negatives to identify the largest negative value.\n",
    "\n",
    "# 3. 3. Get the Position of the Largest Negative Element - Use np.where() to find the indices of the largest negative element.\n",
    "\n",
    "\n",
    "# filter negatives and find the largest negative in the matrix\n",
    "\n",
    "largest_neg = np.max(A_15[A_15<0])\n",
    "\n"
   ]
  },
  {
   "cell_type": "code",
   "execution_count": 56,
   "metadata": {},
   "outputs": [],
   "source": [
    "# filter negatives and find the largest negative in the matrix\n",
    "\n",
    "largest_neg = np.max(A_15[A_15<0])"
   ]
  },
  {
   "cell_type": "code",
   "execution_count": 57,
   "metadata": {},
   "outputs": [
    {
     "name": "stdout",
     "output_type": "stream",
     "text": [
      "(array([0], dtype=int64), array([1], dtype=int64))\n"
     ]
    }
   ],
   "source": [
    "# find the position of the element\n",
    "\n",
    "position = np.where(A_15 == largest_neg)\n",
    "\n",
    "print(position) # -1 "
   ]
  },
  {
   "cell_type": "markdown",
   "metadata": {},
   "source": [
    "**16.** `np.where()` is a function which can change elements of the array based on some condition, in a single line of code. For example, given a matrix `A_16`"
   ]
  },
  {
   "cell_type": "code",
   "execution_count": 58,
   "metadata": {},
   "outputs": [
    {
     "data": {
      "text/plain": [
       "array([[ 1, -1,  3,  4],\n",
       "       [ 2, -6, -3,  0],\n",
       "       [ 7, -4,  5, -5],\n",
       "       [ 8,  9,  6, -7]])"
      ]
     },
     "execution_count": 58,
     "metadata": {},
     "output_type": "execute_result"
    }
   ],
   "source": [
    "A_16 = np.copy(A_15)\n",
    "A_16"
   ]
  },
  {
   "cell_type": "code",
   "execution_count": 59,
   "metadata": {},
   "outputs": [
    {
     "data": {
      "text/plain": [
       "array([[  1,  -2,   9,  16],\n",
       "       [  4, -12,  -6,   0],\n",
       "       [ 49,  -8,  25, -10],\n",
       "       [ 64,  81,  36, -14]])"
      ]
     },
     "execution_count": 59,
     "metadata": {},
     "output_type": "execute_result"
    }
   ],
   "source": [
    "np.where(A_16 > 0, A_16**2, 2*A_16)"
   ]
  },
  {
   "cell_type": "markdown",
   "metadata": {},
   "source": [
    "squares all its positive values and doubles all its negative values."
   ]
  },
  {
   "cell_type": "markdown",
   "metadata": {},
   "source": [
    "Now, using `np.where()` divide all even values of matrix A_16 by two, while leaving odd values the same. "
   ]
  },
  {
   "cell_type": "code",
   "execution_count": 66,
   "metadata": {},
   "outputs": [
    {
     "data": {
      "text/plain": [
       "array([[ 1., -1.,  3.,  2.],\n",
       "       [ 1., -3., -3.,  0.],\n",
       "       [ 7., -2.,  5., -5.],\n",
       "       [ 4.,  9.,  3., -7.]])"
      ]
     },
     "execution_count": 66,
     "metadata": {},
     "output_type": "execute_result"
    }
   ],
   "source": [
    "np.where(A_16 % 2 ==0, A_16//2, A_16)"
   ]
  },
  {
   "cell_type": "markdown",
   "metadata": {},
   "source": [
    "np.where() is a powerful NumPy function used for conditional indexing and searching. It allows you to return the indices of elements in an array that meet a given condition or to create a new array based on conditions.\n",
    "\n",
    "#### Usage: \n",
    "\n",
    "1. Find Indices of Elements Satisfying a Condition\n",
    "\n",
    "             If only the condition is provided, np.where() returns the indices where the condition is `True`."
   ]
  },
  {
   "cell_type": "code",
   "execution_count": 60,
   "metadata": {},
   "outputs": [
    {
     "name": "stdout",
     "output_type": "stream",
     "text": [
      "(array([3, 4], dtype=int64),)\n"
     ]
    }
   ],
   "source": [
    "arr = np.array([10, 15, 20, 25, 30])\n",
    "\n",
    "#Find indices where elements are greater than 20\n",
    "\n",
    "indices = np.where(arr > 20)\n",
    "print(indices)  # Output: (array([3, 4]),)"
   ]
  },
  {
   "cell_type": "markdown",
   "metadata": {},
   "source": [
    "2. Conditional Selection:\n",
    "\n",
    "            If x and y are provided, np.where() chooses elements from x where the condition is True, and from y where the condition is False."
   ]
  },
  {
   "cell_type": "code",
   "execution_count": 61,
   "metadata": {},
   "outputs": [
    {
     "name": "stdout",
     "output_type": "stream",
     "text": [
      "[1 1 1 0 0]\n"
     ]
    }
   ],
   "source": [
    "arr = np.array([10, 15, 20, 25, 30])\n",
    "\n",
    "# Replace elements greater than 20 with 0, others with 1\n",
    "result = np.where(arr > 20, 0, 1)\n",
    "print(result)  # Output: [1 1 1 0 0]\n"
   ]
  }
 ],
 "metadata": {
  "kernelspec": {
   "display_name": "Python 3",
   "language": "python",
   "name": "python3"
  },
  "language_info": {
   "codemirror_mode": {
    "name": "ipython",
    "version": 3
   },
   "file_extension": ".py",
   "mimetype": "text/x-python",
   "name": "python",
   "nbconvert_exporter": "python",
   "pygments_lexer": "ipython3",
   "version": "3.11.4"
  }
 },
 "nbformat": 4,
 "nbformat_minor": 2
}
