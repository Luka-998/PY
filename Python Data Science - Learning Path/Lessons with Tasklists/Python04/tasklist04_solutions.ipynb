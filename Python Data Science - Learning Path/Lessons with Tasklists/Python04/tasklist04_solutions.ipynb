{
 "cells": [
  {
   "cell_type": "markdown",
   "id": "6162b1c1",
   "metadata": {},
   "source": [
    "# DATA SCIENCE SESSIONS VOL. 3\n",
    "### A Foundational Python Data Science Course\n",
    "## Task List 04: Numpy "
   ]
  },
  {
   "cell_type": "markdown",
   "id": "b22614c5",
   "metadata": {},
   "source": [
    "### Intro\n",
    "\n",
    "Handling NumPy arrays can seem like a nightmare at first. But it's all about practice. Take a deep breath, and good luck!"
   ]
  },
  {
   "cell_type": "code",
   "execution_count": 3,
   "id": "5bf8dd47",
   "metadata": {},
   "outputs": [],
   "source": [
    "import numpy as np"
   ]
  },
  {
   "cell_type": "markdown",
   "id": "445498a6",
   "metadata": {},
   "source": [
    "**01.** Using `np.array()` create\n",
    "- A *vector* (i.e. one-dimensional array) of lenght 5\n",
    "- A *matrix* (i.e. two-dimensional array) of shape 2x3"
   ]
  },
  {
   "cell_type": "code",
   "execution_count": 4,
   "id": "30364348",
   "metadata": {},
   "outputs": [
    {
     "data": {
      "text/plain": [
       "array([0, 1, 2, 3, 4])"
      ]
     },
     "execution_count": 4,
     "metadata": {},
     "output_type": "execute_result"
    }
   ],
   "source": [
    "np.array([0, 1, 2, 3, 4])"
   ]
  },
  {
   "cell_type": "code",
   "execution_count": 5,
   "id": "c0d50b30",
   "metadata": {},
   "outputs": [
    {
     "data": {
      "text/plain": [
       "array([[1, 2, 3],\n",
       "       [3, 2, 1]])"
      ]
     },
     "execution_count": 5,
     "metadata": {},
     "output_type": "execute_result"
    }
   ],
   "source": [
    "np.array([[1, 2, 3], [3, 2, 1]])"
   ]
  },
  {
   "cell_type": "markdown",
   "id": "62915f8f",
   "metadata": {},
   "source": [
    "**02.** `.reshape()` array method is most commonly used to reshape vectors into matrices of desired (allowable) shape. Let's see it in action:"
   ]
  },
  {
   "cell_type": "code",
   "execution_count": 6,
   "id": "b004bd91",
   "metadata": {},
   "outputs": [
    {
     "name": "stdout",
     "output_type": "stream",
     "text": [
      "[1. 1. 1. 1. 1. 1.]\n",
      "(6,)\n"
     ]
    }
   ],
   "source": [
    "v_2 = np.ones(6)\n",
    "print(v_2)\n",
    "print(v_2.shape)"
   ]
  },
  {
   "cell_type": "markdown",
   "id": "58dafdad",
   "metadata": {},
   "source": [
    "`v_2` is a vector of ones of lenght 6. Run the cells below to see what happens when we reshape it."
   ]
  },
  {
   "cell_type": "code",
   "execution_count": 7,
   "id": "ab5fb978",
   "metadata": {},
   "outputs": [
    {
     "data": {
      "text/plain": [
       "array([[1., 1., 1.],\n",
       "       [1., 1., 1.]])"
      ]
     },
     "execution_count": 7,
     "metadata": {},
     "output_type": "execute_result"
    }
   ],
   "source": [
    "v_2a = v_2.reshape((2, 3))\n",
    "v_2a"
   ]
  },
  {
   "cell_type": "code",
   "execution_count": 8,
   "id": "512f500a",
   "metadata": {},
   "outputs": [
    {
     "data": {
      "text/plain": [
       "(2, 3)"
      ]
     },
     "execution_count": 8,
     "metadata": {},
     "output_type": "execute_result"
    }
   ],
   "source": [
    "v_2a.shape"
   ]
  },
  {
   "cell_type": "markdown",
   "id": "b2216616",
   "metadata": {},
   "source": [
    "And what happens if we do this?"
   ]
  },
  {
   "cell_type": "code",
   "execution_count": 9,
   "id": "4cb590f0",
   "metadata": {},
   "outputs": [
    {
     "data": {
      "text/plain": [
       "array([[1., 1.],\n",
       "       [1., 1.],\n",
       "       [1., 1.]])"
      ]
     },
     "execution_count": 9,
     "metadata": {},
     "output_type": "execute_result"
    }
   ],
   "source": [
    "v_2b = v_2.reshape((3, 2))\n",
    "v_2b"
   ]
  },
  {
   "cell_type": "code",
   "execution_count": 13,
   "id": "26c2b525",
   "metadata": {},
   "outputs": [
    {
     "data": {
      "text/plain": [
       "(3, 2)"
      ]
     },
     "execution_count": 13,
     "metadata": {},
     "output_type": "execute_result"
    }
   ],
   "source": [
    "v_2b.shape"
   ]
  },
  {
   "cell_type": "markdown",
   "id": "7d28dc39",
   "metadata": {},
   "source": [
    "And this? "
   ]
  },
  {
   "cell_type": "code",
   "execution_count": 14,
   "id": "399581d1",
   "metadata": {},
   "outputs": [
    {
     "ename": "ValueError",
     "evalue": "cannot reshape array of size 6 into shape (4,2)",
     "output_type": "error",
     "traceback": [
      "\u001b[1;31m---------------------------------------------------------------------------\u001b[0m",
      "\u001b[1;31mValueError\u001b[0m                                Traceback (most recent call last)",
      "Cell \u001b[1;32mIn[14], line 1\u001b[0m\n\u001b[1;32m----> 1\u001b[0m \u001b[43mv_2\u001b[49m\u001b[38;5;241;43m.\u001b[39;49m\u001b[43mreshape\u001b[49m\u001b[43m(\u001b[49m\u001b[43m(\u001b[49m\u001b[38;5;241;43m4\u001b[39;49m\u001b[43m,\u001b[49m\u001b[43m \u001b[49m\u001b[38;5;241;43m2\u001b[39;49m\u001b[43m)\u001b[49m\u001b[43m)\u001b[49m\n",
      "\u001b[1;31mValueError\u001b[0m: cannot reshape array of size 6 into shape (4,2)"
     ]
    }
   ],
   "source": [
    "v_2.reshape((4, 2))"
   ]
  },
  {
   "cell_type": "markdown",
   "id": "6ec0a529",
   "metadata": {},
   "source": [
    "Why the error?"
   ]
  },
  {
   "cell_type": "markdown",
   "id": "6593111b",
   "metadata": {},
   "source": [
    "Now, create a vector of zeros of length 12 and reshape it to some matrix."
   ]
  },
  {
   "cell_type": "code",
   "execution_count": null,
   "id": "3268674b",
   "metadata": {},
   "outputs": [],
   "source": [
    "np.zeros(12).reshape(4, 3)"
   ]
  },
  {
   "cell_type": "markdown",
   "id": "cd483a2b",
   "metadata": {},
   "source": [
    "**03.** -1 is a very special number when used with reshape. Let's make a vector of ones of lenght 20:"
   ]
  },
  {
   "cell_type": "code",
   "execution_count": 2,
   "id": "0635bed3",
   "metadata": {},
   "outputs": [
    {
     "ename": "NameError",
     "evalue": "name 'np' is not defined",
     "output_type": "error",
     "traceback": [
      "\u001b[1;31m---------------------------------------------------------------------------\u001b[0m",
      "\u001b[1;31mNameError\u001b[0m                                 Traceback (most recent call last)",
      "Cell \u001b[1;32mIn[2], line 1\u001b[0m\n\u001b[1;32m----> 1\u001b[0m v_3 \u001b[38;5;241m=\u001b[39m \u001b[43mnp\u001b[49m\u001b[38;5;241m.\u001b[39mones(\u001b[38;5;241m20\u001b[39m)\n\u001b[0;32m      2\u001b[0m v_3\n",
      "\u001b[1;31mNameError\u001b[0m: name 'np' is not defined"
     ]
    }
   ],
   "source": [
    "v_3 = np.ones(20)\n",
    "v_3"
   ]
  },
  {
   "cell_type": "markdown",
   "id": "1cb23945",
   "metadata": {},
   "source": [
    "Now see what happens if we use `.reshape((5, -1))` on it:"
   ]
  },
  {
   "cell_type": "code",
   "execution_count": null,
   "id": "59ac20ba",
   "metadata": {},
   "outputs": [],
   "source": [
    "v_3a = v_3.reshape((5, -1))\n",
    "print(v_3a)\n",
    "print(v_3a.shape)"
   ]
  },
  {
   "cell_type": "markdown",
   "id": "f477dc40",
   "metadata": {},
   "source": [
    "What do you think will happen if we use `.reshape((-1, 10))` on `v_3`?"
   ]
  },
  {
   "cell_type": "code",
   "execution_count": 15,
   "id": "0c39e75a",
   "metadata": {},
   "outputs": [
    {
     "ename": "NameError",
     "evalue": "name 'v_3' is not defined",
     "output_type": "error",
     "traceback": [
      "\u001b[1;31m---------------------------------------------------------------------------\u001b[0m",
      "\u001b[1;31mNameError\u001b[0m                                 Traceback (most recent call last)",
      "Cell \u001b[1;32mIn[15], line 1\u001b[0m\n\u001b[1;32m----> 1\u001b[0m \u001b[43mv_3\u001b[49m\u001b[38;5;241m.\u001b[39mreshape(\u001b[38;5;241m-\u001b[39m\u001b[38;5;241m1\u001b[39m, \u001b[38;5;241m10\u001b[39m)\n",
      "\u001b[1;31mNameError\u001b[0m: name 'v_3' is not defined"
     ]
    }
   ],
   "source": [
    "v_3.reshape(-1, 10)"
   ]
  },
  {
   "cell_type": "markdown",
   "id": "b7c01941",
   "metadata": {},
   "source": [
    "Later on in the course, when implementing Machine Learning, you'll be sometimes required to reshape a vector into *row matrix* or *column matrix*. What are those? See for yourself, on the example of the following vector:"
   ]
  },
  {
   "cell_type": "code",
   "execution_count": null,
   "id": "581bf2ce",
   "metadata": {},
   "outputs": [],
   "source": [
    "v = np.ones(5)\n",
    "print(v)\n",
    "print(v.shape)"
   ]
  },
  {
   "cell_type": "markdown",
   "id": "1b51cfd8",
   "metadata": {},
   "source": [
    "- Row matrix"
   ]
  },
  {
   "cell_type": "code",
   "execution_count": null,
   "id": "dc01cd96",
   "metadata": {},
   "outputs": [],
   "source": [
    "v_row = v.reshape(1, -1)\n",
    "print(v_row)\n",
    "print(v_row.shape)"
   ]
  },
  {
   "cell_type": "markdown",
   "id": "27d27d8b",
   "metadata": {},
   "source": [
    "- Column matrix"
   ]
  },
  {
   "cell_type": "code",
   "execution_count": null,
   "id": "82e33231",
   "metadata": {},
   "outputs": [],
   "source": [
    "v_col = v.reshape(-1, 1)\n",
    "print(v_col)\n",
    "print(v_col.shape)"
   ]
  },
  {
   "cell_type": "markdown",
   "id": "8c61b890",
   "metadata": {},
   "source": [
    "**04.** Let"
   ]
  },
  {
   "cell_type": "code",
   "execution_count": null,
   "id": "af35a592",
   "metadata": {},
   "outputs": [],
   "source": [
    "x = np.array([-1, 0, 1])\n",
    "y = np.array([1, 0, 0])\n",
    "\n",
    "A = np.eye(3) #this creates a 3x3 identity matrix\n",
    "B = np.diag((2, 1, -2)) #this creates a diagonal matrix with the given elements on the main diagonal\n",
    "\n",
    "print('x = ', x)\n",
    "print('-------------')\n",
    "print('y = ', y)\n",
    "print('-------------')\n",
    "print('A = \\n', A)\n",
    "print('-------------')\n",
    "print('B = \\n', B)"
   ]
  },
  {
   "cell_type": "markdown",
   "id": "39634cad",
   "metadata": {},
   "source": [
    "Compute \n",
    "\n",
    "- $x\\cdot y$ (the inner product)\n",
    "- $Ay$\n",
    "- $AB$\n",
    "- $xBy$\n",
    "- $B^TA$\n",
    "- $AB - 4BA$"
   ]
  },
  {
   "cell_type": "code",
   "execution_count": null,
   "id": "ed924c3a",
   "metadata": {},
   "outputs": [],
   "source": [
    "x@y"
   ]
  },
  {
   "cell_type": "code",
   "execution_count": null,
   "id": "4e86b79d",
   "metadata": {},
   "outputs": [],
   "source": [
    "A@y"
   ]
  },
  {
   "cell_type": "code",
   "execution_count": null,
   "id": "dcafb7a6",
   "metadata": {},
   "outputs": [],
   "source": [
    "A@B"
   ]
  },
  {
   "cell_type": "code",
   "execution_count": null,
   "id": "08b79da2",
   "metadata": {},
   "outputs": [],
   "source": [
    "x@B@y"
   ]
  },
  {
   "cell_type": "code",
   "execution_count": null,
   "id": "511807d0",
   "metadata": {},
   "outputs": [],
   "source": [
    "B.T@A"
   ]
  },
  {
   "cell_type": "code",
   "execution_count": null,
   "id": "f53a0667",
   "metadata": {},
   "outputs": [],
   "source": [
    "A@B - 4*B@A"
   ]
  },
  {
   "cell_type": "markdown",
   "id": "8cd2b56b",
   "metadata": {},
   "source": [
    "Notice the outputs of the operations above? Depending on the operands involved, you can obtain either a vector, a matrix or a *scalar*, i.e. a number. Knowing what kind of output to expect for given inputs is very useful when doing *Linear Algebra*.\n",
    "\n",
    "But why all this? Why Linear Algebra? Well, because\n",
    "\n",
    "$$ {\\rm No\\ Linear\\ Algebra} \\Rightarrow {\\rm No\\ Machine\\ Learning}. $$\n",
    "a\n",
    "But, don't worry - we aren't going to do some fancy Linear Algebra in this course. We'll just cover the most basic concepts, needed to understand the mathematics behind Machine Learning and utilizing ML in Python. And should you decide to venture into *Deep Learning* - area of ML dealing with *Neural Networks* (used for Computer Vision, Chatbots and Natural Language Understanding/Generation), be prepared to do Linear Algebra quite a bit:)"
   ]
  },
  {
   "cell_type": "markdown",
   "id": "f2672eaa",
   "metadata": {},
   "source": [
    "**05.** Using indexing and index slicing extract from matrix `A_5` the following:\n",
    "\n",
    "- an element in its third row and second column\n",
    "- an element in its last column and second row\n",
    "- its first row\n",
    "- its third column\n",
    "- its last two columns\n",
    "- its first and third row\n",
    "- all its elements in the interesction of its last two rows and first two columns\n",
    "- all its elements in the intesection of its two middle rows and two middle columns"
   ]
  },
  {
   "cell_type": "code",
   "execution_count": 4,
   "id": "0c38a86a",
   "metadata": {},
   "outputs": [
    {
     "data": {
      "text/plain": [
       "array([[ 1,  2,  3,  4],\n",
       "       [ 5,  6,  7,  8],\n",
       "       [ 9, 10, 11, 12],\n",
       "       [13, 14, 15, 16]])"
      ]
     },
     "execution_count": 4,
     "metadata": {},
     "output_type": "execute_result"
    }
   ],
   "source": [
    "A_5 = np.array([[1, 2, 3, 4], [5, 6, 7, 8], [9, 10, 11, 12], [13, 14, 15, 16]])\n",
    "A_5"
   ]
  },
  {
   "cell_type": "code",
   "execution_count": null,
   "id": "fc7c490c",
   "metadata": {},
   "outputs": [],
   "source": [
    "A_5[2, 1]"
   ]
  },
  {
   "cell_type": "code",
   "execution_count": null,
   "id": "c8b343ac",
   "metadata": {},
   "outputs": [],
   "source": [
    "A_5[1, -1]"
   ]
  },
  {
   "cell_type": "code",
   "execution_count": null,
   "id": "fed63e01",
   "metadata": {},
   "outputs": [],
   "source": [
    "A_5[0]"
   ]
  },
  {
   "cell_type": "code",
   "execution_count": null,
   "id": "437c1a02",
   "metadata": {},
   "outputs": [],
   "source": [
    "A_5[:, 2]"
   ]
  },
  {
   "cell_type": "code",
   "execution_count": 5,
   "id": "48e393fb",
   "metadata": {},
   "outputs": [
    {
     "data": {
      "text/plain": [
       "array([[ 3,  4],\n",
       "       [ 7,  8],\n",
       "       [11, 12],\n",
       "       [15, 16]])"
      ]
     },
     "execution_count": 5,
     "metadata": {},
     "output_type": "execute_result"
    }
   ],
   "source": [
    "A_5[:, -2:]"
   ]
  },
  {
   "cell_type": "code",
   "execution_count": 6,
   "id": "485b7542",
   "metadata": {},
   "outputs": [
    {
     "data": {
      "text/plain": [
       "array([[ 1,  2,  3,  4],\n",
       "       [ 9, 10, 11, 12]])"
      ]
     },
     "execution_count": 6,
     "metadata": {},
     "output_type": "execute_result"
    }
   ],
   "source": [
    "A_5[[0, 2]]"
   ]
  },
  {
   "cell_type": "code",
   "execution_count": 9,
   "id": "30697ae8",
   "metadata": {},
   "outputs": [
    {
     "data": {
      "text/plain": [
       "array([[ 9, 10],\n",
       "       [13, 14]])"
      ]
     },
     "execution_count": 9,
     "metadata": {},
     "output_type": "execute_result"
    }
   ],
   "source": [
    "A_5[-2:, :2]"
   ]
  },
  {
   "cell_type": "code",
   "execution_count": 7,
   "id": "4b31ff31",
   "metadata": {},
   "outputs": [
    {
     "data": {
      "text/plain": [
       "array([[ 6,  7],\n",
       "       [10, 11]])"
      ]
     },
     "execution_count": 7,
     "metadata": {},
     "output_type": "execute_result"
    }
   ],
   "source": [
    "A_5[1:3, 1:3]"
   ]
  },
  {
   "cell_type": "markdown",
   "id": "0bbb98dc",
   "metadata": {},
   "source": [
    "**06.** Using conditional indexing, find all the elements of matrix `A_6` which are:\n",
    "\n",
    "- strictly greater than 1\n",
    "- not equal to zero\n",
    "- strictly lesser than -1 or greater than 2\n",
    "- in the [0, 3] segment (endpoints included) "
   ]
  },
  {
   "cell_type": "code",
   "execution_count": null,
   "id": "e32fb181",
   "metadata": {},
   "outputs": [],
   "source": [
    "A_6 = np.array([[0, -1, 3, 4, 2], [0, 2, 0, -4, 1], [0, 0, -5, 2, 1], [5, -1, 2, 0, -2]])\n",
    "A_6"
   ]
  },
  {
   "cell_type": "code",
   "execution_count": null,
   "id": "7fa48853",
   "metadata": {},
   "outputs": [],
   "source": [
    "A_6[A_6 > 1]"
   ]
  },
  {
   "cell_type": "code",
   "execution_count": null,
   "id": "becb64c6",
   "metadata": {},
   "outputs": [],
   "source": [
    "A_6[A_6 != 0]"
   ]
  },
  {
   "cell_type": "code",
   "execution_count": null,
   "id": "4c480c42",
   "metadata": {},
   "outputs": [],
   "source": [
    "A_6[(A_6 < -1) | (A_6 > 2)]"
   ]
  },
  {
   "cell_type": "code",
   "execution_count": null,
   "id": "1a1bd4ee",
   "metadata": {},
   "outputs": [],
   "source": [
    "A_6[(0 <= A_6) & (A_6 <= 3)]"
   ]
  },
  {
   "cell_type": "markdown",
   "id": "a7e70f5f",
   "metadata": {},
   "source": [
    "**07.** Generate a random 3x7 matrix of floats, and then select all its entries greater or equal than 0.5 ."
   ]
  },
  {
   "cell_type": "code",
   "execution_count": null,
   "id": "a6cf9b60",
   "metadata": {},
   "outputs": [],
   "source": [
    "A_7 = np.random.random(size=(3, 7))\n",
    "A_7"
   ]
  },
  {
   "cell_type": "code",
   "execution_count": null,
   "id": "119aabeb",
   "metadata": {},
   "outputs": [],
   "source": [
    "A_7[A_7 >= .5]"
   ]
  },
  {
   "cell_type": "markdown",
   "id": "5bfc1307",
   "metadata": {},
   "source": [
    "**08.** `np.linspace()` creates a vector of equaly distant points between the two given points. Similar to this is `np.arange()` which produces a vector of equaly distant points between the two given points. Wait, what's the difference then? \n",
    "\n",
    " - for `np.linspace()` you specify the <u>number of points</u> between the two given points\n",
    " - for `np.arange()` you specify the <u>stepsize</u> between the numbers in the interval between the given two points\n",
    " \n",
    "To check this for yourself, do the following:\n",
    "\n",
    " - Make an array of 17 equally distributed points between 0 and 2\n",
    " - Make an array of points between 0 and 2 with stepsize 0.25"
   ]
  },
  {
   "cell_type": "code",
   "execution_count": null,
   "id": "63b87452",
   "metadata": {},
   "outputs": [],
   "source": [
    "np.linspace(0, 2, 17)"
   ]
  },
  {
   "cell_type": "code",
   "execution_count": null,
   "id": "d3ceadf3",
   "metadata": {},
   "outputs": [],
   "source": [
    "np.arange(0, 2, .25)"
   ]
  },
  {
   "cell_type": "markdown",
   "id": "a0cb7544",
   "metadata": {},
   "source": [
    "Notice the difference? What happens to the endpoints of those two arrays?"
   ]
  },
  {
   "cell_type": "markdown",
   "id": "d633653a",
   "metadata": {},
   "source": [
    "**09.** Create the same array using both `np.linspace()` and `np.arange()`."
   ]
  },
  {
   "cell_type": "code",
   "execution_count": null,
   "id": "704c0023",
   "metadata": {},
   "outputs": [],
   "source": [
    "np.linspace(0, 2, 9)"
   ]
  },
  {
   "cell_type": "code",
   "execution_count": null,
   "id": "5f435b8b",
   "metadata": {},
   "outputs": [],
   "source": [
    "np.arange(0, 2.25, .25)"
   ]
  },
  {
   "cell_type": "markdown",
   "id": "4369af2c",
   "metadata": {},
   "source": [
    "c"
   ]
  },
  {
   "cell_type": "code",
   "execution_count": 44,
   "id": "83f47279",
   "metadata": {},
   "outputs": [],
   "source": [
    "v_10a = np.array([1, 2, 3])\n",
    "v_10b = np.array([4, 5, 6])"
   ]
  },
  {
   "cell_type": "code",
   "execution_count": null,
   "id": "1209df19",
   "metadata": {},
   "outputs": [],
   "source": [
    "np.concatenate((v_10a, v_10b), axis=0)"
   ]
  },
  {
   "cell_type": "code",
   "execution_count": null,
   "id": "ae945d68",
   "metadata": {},
   "outputs": [],
   "source": [
    "v_10a = v_10a.reshape(1, -1)\n",
    "v_10b = v_10b.reshape(1, -1)\n",
    "\n",
    "np.concatenate((v_10a, v_10b), axis=0)"
   ]
  },
  {
   "cell_type": "markdown",
   "id": "4648ba7d",
   "metadata": {},
   "source": [
    "Now, do the same for matrices `A_10a` and `A_10b`."
   ]
  },
  {
   "cell_type": "code",
   "execution_count": null,
   "id": "8c3ca14b",
   "metadata": {},
   "outputs": [],
   "source": [
    "A_10a = np.array([[1, 2], [3, 4]])\n",
    "A_10a"
   ]
  },
  {
   "cell_type": "code",
   "execution_count": null,
   "id": "2340a73a",
   "metadata": {},
   "outputs": [],
   "source": [
    "A_10b = np.array([[-3, -2], [1, 0]])\n",
    "A_10b"
   ]
  },
  {
   "cell_type": "code",
   "execution_count": null,
   "id": "bbc5e80a",
   "metadata": {},
   "outputs": [],
   "source": [
    "np.concatenate((A_10a, A_10b), axis=1)"
   ]
  },
  {
   "cell_type": "code",
   "execution_count": null,
   "id": "4c3439f2",
   "metadata": {},
   "outputs": [],
   "source": [
    "np.concatenate((A_10a, A_10b), axis=0)"
   ]
  },
  {
   "cell_type": "markdown",
   "id": "1014af64",
   "metadata": {},
   "source": [
    "What are the shapes of newly obtained matrices?"
   ]
  },
  {
   "cell_type": "code",
   "execution_count": null,
   "id": "53c8fa16",
   "metadata": {
    "scrolled": true
   },
   "outputs": [],
   "source": [
    "(2, 4)"
   ]
  },
  {
   "cell_type": "code",
   "execution_count": null,
   "id": "d906ac02",
   "metadata": {},
   "outputs": [],
   "source": [
    "(4, 2)"
   ]
  },
  {
   "cell_type": "markdown",
   "id": "6b4cbf55",
   "metadata": {},
   "source": [
    "**11**. Given a 2x3 matrix `A_11` use\n",
    "\n",
    " - `np.vstack()` to expand it by two rows with some matrix `A_11a` you define\n",
    " - `np.hstack()` to expand it by two column with some matrix `A_11b` you define\n",
    " \n",
    "*Hint: Watch for the shapes!*"
   ]
  },
  {
   "cell_type": "code",
   "execution_count": null,
   "id": "e41ee789",
   "metadata": {},
   "outputs": [],
   "source": [
    "A_11 = np.array([[1, 7, 1], [7, 1, 7]])\n",
    "A_11"
   ]
  },
  {
   "cell_type": "code",
   "execution_count": null,
   "id": "37ba1922",
   "metadata": {},
   "outputs": [],
   "source": [
    "A_11a = np.array([[1, 0, 0], [0, 0, -1]])\n",
    "A_11a"
   ]
  },
  {
   "cell_type": "code",
   "execution_count": null,
   "id": "7d33b32b",
   "metadata": {},
   "outputs": [],
   "source": [
    "np.vstack((A_11, A_11a))"
   ]
  },
  {
   "cell_type": "code",
   "execution_count": null,
   "id": "0897b1b6",
   "metadata": {},
   "outputs": [],
   "source": [
    "A_11b = np.array([[1, 0], [0, -1]])\n",
    "A_11b"
   ]
  },
  {
   "cell_type": "code",
   "execution_count": null,
   "id": "1b81bcdd",
   "metadata": {},
   "outputs": [],
   "source": [
    "np.hstack((A_11, A_11b))"
   ]
  },
  {
   "cell_type": "markdown",
   "id": "f5b22ea6",
   "metadata": {},
   "source": [
    "**12.** Find a way to turn matrix `A_12` into a vector containing its elements. \n",
    "\n",
    "*Hint: Try listening to Bolero.*"
   ]
  },
  {
   "cell_type": "code",
   "execution_count": null,
   "id": "34428f54",
   "metadata": {},
   "outputs": [],
   "source": [
    "A_12 = np.array([[4, 7], [7, 4], [4, 7]])\n",
    "A_12"
   ]
  },
  {
   "cell_type": "code",
   "execution_count": null,
   "id": "18b7dd0b",
   "metadata": {},
   "outputs": [],
   "source": [
    "A_12.ravel()"
   ]
  },
  {
   "cell_type": "markdown",
   "id": "d775f7a8",
   "metadata": {},
   "source": [
    "**13.** For the matrix `A_13` find \n",
    "\n",
    "- mean of all of its elements\n",
    "- mean of all of its elements in the second column\n",
    "- mean of all of its elements for every row"
   ]
  },
  {
   "cell_type": "code",
   "execution_count": 3,
   "id": "cef91cc5",
   "metadata": {},
   "outputs": [
    {
     "data": {
      "text/plain": [
       "array([[ 1. ,  2. ,  3. ,  4. ],\n",
       "       [-1. , -2. , -3. , -4. ],\n",
       "       [ 0.1,  0.2,  0.3,  0.4]])"
      ]
     },
     "execution_count": 3,
     "metadata": {},
     "output_type": "execute_result"
    }
   ],
   "source": [
    "import numpy as np\n",
    "A_13 = np.array([[1, 2, 3, 4], [-1, -2, -3, -4], [.1, .2, .3, .4]])\n",
    "A_13"
   ]
  },
  {
   "cell_type": "code",
   "execution_count": 7,
   "id": "8828a8e4",
   "metadata": {},
   "outputs": [
    {
     "data": {
      "text/plain": [
       "0.08333333333333333"
      ]
     },
     "execution_count": 7,
     "metadata": {},
     "output_type": "execute_result"
    }
   ],
   "source": [
    "A_13.mean()"
   ]
  },
  {
   "cell_type": "code",
   "execution_count": 4,
   "id": "9d6bf465",
   "metadata": {},
   "outputs": [
    {
     "data": {
      "text/plain": [
       "0.06666666666666667"
      ]
     },
     "execution_count": 4,
     "metadata": {},
     "output_type": "execute_result"
    }
   ],
   "source": [
    "A_13[:, 1].mean()"
   ]
  },
  {
   "cell_type": "code",
   "execution_count": 5,
   "id": "bfffd84e",
   "metadata": {},
   "outputs": [
    {
     "data": {
      "text/plain": [
       "array([ 2.5 , -2.5 ,  0.25])"
      ]
     },
     "execution_count": 5,
     "metadata": {},
     "output_type": "execute_result"
    }
   ],
   "source": [
    "np.mean(A_13, axis=1)"
   ]
  },
  {
   "cell_type": "markdown",
   "id": "a1dcd2cd",
   "metadata": {},
   "source": [
    "**14.** For matrix `A_14` find\n",
    "\n",
    "- standard deviation of all of its elements\n",
    "- standard deviation of all of its elements for every column"
   ]
  },
  {
   "cell_type": "code",
   "execution_count": null,
   "id": "48a54c9e",
   "metadata": {},
   "outputs": [],
   "source": [
    "A_14 = np.array([[1, 2, np.nan, 4], [-1, np.nan, np.nan, -4], [np.nan, .2, .3, .4]])\n",
    "A_14"
   ]
  },
  {
   "cell_type": "code",
   "execution_count": null,
   "id": "5614c964",
   "metadata": {},
   "outputs": [],
   "source": [
    "np.nanstd(A_14)"
   ]
  },
  {
   "cell_type": "code",
   "execution_count": null,
   "id": "d040df10",
   "metadata": {},
   "outputs": [],
   "source": [
    "np.nanstd(A_14, axis=0)"
   ]
  },
  {
   "cell_type": "markdown",
   "id": "98b00a36",
   "metadata": {},
   "source": [
    "**15.** `np.argmin()` and `np.argmax()` are two very useful functions for finding an <u>index (position)</u> of the minimal/maximal value of an array. Given matrix `A_15` find\n",
    "\n",
    "- position of its biggest element\n",
    "- indices of every smallest element from its columns\n",
    "- position of its biggest negative element"
   ]
  },
  {
   "cell_type": "code",
   "execution_count": null,
   "id": "b6bf472f",
   "metadata": {},
   "outputs": [],
   "source": [
    "A_15 = np.array([[1, -1, 3, 4], [2, -6, -3, 0], [7, -4, 5, -5], [8, 9, 6, -7]])\n",
    "A_15"
   ]
  },
  {
   "cell_type": "code",
   "execution_count": null,
   "id": "1696f0b1",
   "metadata": {},
   "outputs": [],
   "source": [
    "np.argmax(A_15)"
   ]
  },
  {
   "cell_type": "code",
   "execution_count": null,
   "id": "b2009697",
   "metadata": {},
   "outputs": [],
   "source": [
    "np.argmin(A_15, axis=0)"
   ]
  },
  {
   "cell_type": "code",
   "execution_count": null,
   "id": "4fc45fa5",
   "metadata": {},
   "outputs": [],
   "source": [
    "np.argmax(A_15 == np.max(A_15[A_15 < 0]))"
   ]
  },
  {
   "cell_type": "markdown",
   "id": "c8f827fe",
   "metadata": {},
   "source": [
    "**16.** `np.where()` is a function which can change elements of the array based on some condition, in a single line of code. For example, given a matrix `A_16`"
   ]
  },
  {
   "cell_type": "code",
   "execution_count": null,
   "id": "fc25924e",
   "metadata": {},
   "outputs": [],
   "source": [
    "A_16 = np.copy(A_15)\n",
    "A_16"
   ]
  },
  {
   "cell_type": "code",
   "execution_count": null,
   "id": "6feb8b2e",
   "metadata": {},
   "outputs": [],
   "source": [
    "np.where(A_16 > 0, A_16**2, 2*A_16)"
   ]
  },
  {
   "cell_type": "markdown",
   "id": "765c1cd7",
   "metadata": {},
   "source": [
    "squares all its positive values and doubles all its negative values."
   ]
  },
  {
   "cell_type": "markdown",
   "id": "19f6aee7",
   "metadata": {},
   "source": [
    "Now, using `np.where()` divide all even values of matrix A_16 by two, while leaving odd values the same. "
   ]
  },
  {
   "cell_type": "code",
   "execution_count": null,
   "id": "c8b95581",
   "metadata": {},
   "outputs": [],
   "source": [
    "np.where(A_16 % 2 == 0, A_16//2, A_16)"
   ]
  },
  {
   "cell_type": "code",
   "execution_count": null,
   "id": "bdb4e554",
   "metadata": {},
   "outputs": [],
   "source": []
  }
 ],
 "metadata": {
  "kernelspec": {
   "display_name": "Python 3",
   "language": "python",
   "name": "python3"
  },
  "language_info": {
   "codemirror_mode": {
    "name": "ipython",
    "version": 3
   },
   "file_extension": ".py",
   "mimetype": "text/x-python",
   "name": "python",
   "nbconvert_exporter": "python",
   "pygments_lexer": "ipython3",
   "version": "3.11.4"
  }
 },
 "nbformat": 4,
 "nbformat_minor": 5
}
