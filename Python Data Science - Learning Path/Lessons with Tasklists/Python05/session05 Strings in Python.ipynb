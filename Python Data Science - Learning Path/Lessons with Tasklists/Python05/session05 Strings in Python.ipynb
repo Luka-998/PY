{
 "cells": [
  {
   "cell_type": "markdown",
   "metadata": {},
   "source": [
    "## Session 05: Strings in Python\n"
   ]
  },
  {
   "cell_type": "markdown",
   "metadata": {},
   "source": [
    "### 0. What do we want to do today?\n",
    "\n",
    "Our goal in **Session05** is to learn\n",
    "\n",
    "- about Strings in Python,\n",
    "- operations with Strings,\n",
    "- useful String methods defined in Python."
   ]
  },
  {
   "cell_type": "markdown",
   "metadata": {},
   "source": [
    "#### 1. Where am I?\n",
    "\n",
    "Your are (or you should be...) in the `session05` directory, where we find \n",
    "- this notebook, \n",
    "- it's HTML version, \n",
    "- another directory `_data` that contains textual file named `python_zen.txt`."
   ]
  },
  {
   "cell_type": "code",
   "execution_count": null,
   "metadata": {},
   "outputs": [],
   "source": [
    "import os\n",
    "\n",
    "work_dir = os.getcwd()\n",
    "print(work_dir)\n",
    "print(os.listdir(work_dir))\n",
    "\n",
    "data_dir = os.path.join(work_dir,\"_data\")\n",
    "print(os.listdir(data_dir))"
   ]
  },
  {
   "cell_type": "markdown",
   "metadata": {},
   "source": [
    "### Things we have learned so far"
   ]
  },
  {
   "cell_type": "markdown",
   "metadata": {},
   "source": [
    "Defining the string variable:"
   ]
  },
  {
   "cell_type": "code",
   "execution_count": 4,
   "metadata": {},
   "outputs": [],
   "source": [
    "foo = 'This is a one sentence text.'\n",
    "\n",
    "# pangram\n",
    "bar = 'The quick brown fox jumps over the lazy dog.'"
   ]
  },
  {
   "cell_type": "markdown",
   "metadata": {},
   "source": [
    "Can we 'sum' the strings?"
   ]
  },
  {
   "cell_type": "code",
   "execution_count": null,
   "metadata": {},
   "outputs": [],
   "source": [
    "foo + bar"
   ]
  },
  {
   "cell_type": "markdown",
   "metadata": {},
   "source": [
    "Yes, Python knows that 'summing' means concatenating. Yes, that's right. This operation is usually called string concatenation. But, you have to know that Python just 'tapes' second on the first one. If you want to make sure there is a space between the end of the first and second sentence, you have to do it yourself."
   ]
  },
  {
   "cell_type": "code",
   "execution_count": null,
   "metadata": {},
   "outputs": [],
   "source": [
    "foo + '' + bar"
   ]
  },
  {
   "cell_type": "markdown",
   "metadata": {},
   "source": [
    "Previously, we mentioned `mutability`, `sequences` and `iterables`. How is that related to strings?\n",
    "\n",
    "Well, we said that:\n",
    "- mutable objects allow changing values of their attributes or their representation,\n",
    "- sequences preserve the order of inserted elements, and you can refer to each of these elements through its index,\n",
    "- iterables are objects that we can iterate through.\n",
    "\n",
    "How does this reflect on strings?"
   ]
  },
  {
   "cell_type": "markdown",
   "metadata": {},
   "source": [
    "#### Strings are immutable"
   ]
  },
  {
   "cell_type": "code",
   "execution_count": null,
   "metadata": {},
   "outputs": [],
   "source": [
    "foo"
   ]
  },
  {
   "cell_type": "code",
   "execution_count": null,
   "metadata": {},
   "outputs": [],
   "source": [
    "foo[0] = \"A\""
   ]
  },
  {
   "cell_type": "markdown",
   "metadata": {},
   "source": [
    "`TypeError: 'str' object does not support item assignment`\n"
   ]
  },
  {
   "cell_type": "markdown",
   "metadata": {},
   "source": [
    "#### Strings as sequences"
   ]
  },
  {
   "cell_type": "markdown",
   "metadata": {},
   "source": [
    "We have already mentioned some of these operations, but it's not bad to refresh our memory. These apply to all sequence types, but let's see how they work on strings."
   ]
  },
  {
   "cell_type": "code",
   "execution_count": null,
   "metadata": {},
   "outputs": [],
   "source": [
    "foo + bar"
   ]
  },
  {
   "cell_type": "code",
   "execution_count": null,
   "metadata": {},
   "outputs": [],
   "source": [
    "foo*2"
   ]
  },
  {
   "cell_type": "code",
   "execution_count": null,
   "metadata": {},
   "outputs": [],
   "source": [
    "foo[0]"
   ]
  },
  {
   "cell_type": "code",
   "execution_count": null,
   "metadata": {},
   "outputs": [],
   "source": [
    "foo[:3]"
   ]
  },
  {
   "cell_type": "code",
   "execution_count": null,
   "metadata": {},
   "outputs": [],
   "source": [
    "len(foo)"
   ]
  },
  {
   "cell_type": "code",
   "execution_count": null,
   "metadata": {},
   "outputs": [],
   "source": [
    "list(range(len(foo)))"
   ]
  },
  {
   "cell_type": "markdown",
   "metadata": {},
   "source": [
    "Let's define one helper function for giving us an overview of the string and indexing positions. Disregard the \"complexity\" of the code; you will be able to write this yourself by the end of this session."
   ]
  },
  {
   "cell_type": "code",
   "execution_count": 16,
   "metadata": {},
   "outputs": [],
   "source": [
    "def scheme_string(s):\n",
    "    print('')\n",
    "    print('String:', s)\n",
    "    print('')\n",
    "    print('Scheme:')\n",
    "    print('|'.join(f'{x: >3}' for x in range(len(s))))\n",
    "    print(' '.join([f'{x: >3}' for x in s]))\n",
    "    print('|'.join(f'{-x: >3}' for x in range(len(s), 0, -1)))\n",
    "    print()\n",
    "    print('Length:', len(s))"
   ]
  },
  {
   "cell_type": "code",
   "execution_count": null,
   "metadata": {},
   "outputs": [],
   "source": [
    "scheme_string(foo)"
   ]
  },
  {
   "cell_type": "markdown",
   "metadata": {},
   "source": [
    "`1. range(len(s)):`\n",
    "\n",
    "\n",
    "-   range(len(s)) generates a sequence of numbers from 0 to len(s) - 1, representing the indices of the string s."
   ]
  },
  {
   "cell_type": "markdown",
   "metadata": {},
   "source": [
    "`2. f'{x: >3}'`: \n",
    "\n",
    "The x: >3 part formats x to:\n",
    "\n",
    "-   Be right-aligned (indicated by the >).\n",
    "\n",
    "-   Take up 3 spaces. For example:\n",
    "\n",
    ">If x = 1, it becomes ' 1'.\n",
    "\n",
    ">If x = 10, it becomes ' 10'."
   ]
  },
  {
   "cell_type": "markdown",
   "metadata": {},
   "source": [
    "`3.for x in range(len(s))'`:\n",
    "\n",
    "-   This is a generator expression that creates formatted strings for each index in the range."
   ]
  },
  {
   "cell_type": "markdown",
   "metadata": {},
   "source": [
    "`4. '|'.join(...)`:\n",
    "\n",
    "-   The join method combines all the formatted index strings into a single string, separated by the | character."
   ]
  },
  {
   "cell_type": "code",
   "execution_count": null,
   "metadata": {},
   "outputs": [],
   "source": [
    "foo[0:9]"
   ]
  },
  {
   "cell_type": "code",
   "execution_count": null,
   "metadata": {},
   "outputs": [],
   "source": [
    "foo[14: 22]"
   ]
  },
  {
   "cell_type": "code",
   "execution_count": null,
   "metadata": {},
   "outputs": [],
   "source": [
    "foo[-16:-24:-1]"
   ]
  },
  {
   "cell_type": "code",
   "execution_count": null,
   "metadata": {},
   "outputs": [],
   "source": [
    "scheme_string(foo)"
   ]
  },
  {
   "cell_type": "code",
   "execution_count": null,
   "metadata": {},
   "outputs": [],
   "source": [
    "foo[14:22:-1]"
   ]
  },
  {
   "cell_type": "code",
   "execution_count": null,
   "metadata": {},
   "outputs": [],
   "source": [
    "list(range(21, 13, -1))"
   ]
  },
  {
   "cell_type": "code",
   "execution_count": null,
   "metadata": {},
   "outputs": [],
   "source": [
    "foo.index('te')"
   ]
  },
  {
   "cell_type": "code",
   "execution_count": null,
   "metadata": {},
   "outputs": [],
   "source": [
    "foo.rindex('te')"
   ]
  },
  {
   "cell_type": "code",
   "execution_count": null,
   "metadata": {},
   "outputs": [],
   "source": [
    "foo.index('te',10, 23)"
   ]
  },
  {
   "cell_type": "markdown",
   "metadata": {},
   "source": [
    "The method returns the index of the first occurrence of substring within the specified range. If the substring is not found, it raises a ValueError.\n",
    "\n",
    "-   ` str.index (substring, start, end)`\n",
    "\n",
    "substring: The substring you want to find.\n",
    "\n",
    "start (optional): The starting index of the range to search.\n",
    "\n",
    "end (optional): The ending index of the range to search (exclusive)."
   ]
  },
  {
   "cell_type": "code",
   "execution_count": null,
   "metadata": {},
   "outputs": [],
   "source": [
    "[1,2,3,5,3,2,5,6].index(3, 4)\n",
    "\n",
    "# search range is a list [1, 2, 3, 5, 3, 2, 5, 6]\n",
    "\n",
    "# The search starts at index 4:\n",
    "\n",
    "# [3, 2, 5, 6]\n",
    "\n",
    "# The number 3 first appears at index 4 (relative to the entire list).\n",
    "\n",
    "\n",
    "# OutPut # 4"
   ]
  },
  {
   "cell_type": "markdown",
   "metadata": {},
   "source": [
    "General Syntax of ` list.index( )` -    list.index ( value, start, end)\n",
    "\n",
    "- value: The value you want to find in the list.\n",
    "\n",
    "- start (optional): The index at which to start searching.\n",
    "\n",
    "- end (optional): The index at which to stop searching (not inclusive).\n",
    "\n",
    "The method returns the index of the first occurrence of value within the specified range. If the value is not found, it raises a ValueError."
   ]
  },
  {
   "cell_type": "code",
   "execution_count": null,
   "metadata": {},
   "outputs": [],
   "source": [
    "foo.count('te')"
   ]
  },
  {
   "cell_type": "code",
   "execution_count": null,
   "metadata": {},
   "outputs": [],
   "source": [
    "'te' in foo"
   ]
  },
  {
   "cell_type": "markdown",
   "metadata": {},
   "source": [
    "Official Python documentation say: \n",
    ">> In particular, tuples and lists are compared lexicographically by comparing corresponding elements. This means that to compare equal, every element must compare equal and the two sequences must be of the same type and have the same length. \n",
    "\n",
    "But, how does that work on strings?"
   ]
  },
  {
   "cell_type": "code",
   "execution_count": null,
   "metadata": {},
   "outputs": [],
   "source": [
    "'This' == 'This'\n",
    "\n",
    "# True"
   ]
  },
  {
   "cell_type": "code",
   "execution_count": null,
   "metadata": {},
   "outputs": [],
   "source": [
    "'This' == 'This '\n",
    "\n",
    "#False!!"
   ]
  },
  {
   "cell_type": "markdown",
   "metadata": {},
   "source": [
    "Interesting!  This seems to be correct for strings too.\n",
    "\n",
    "Wait, what does `lexicographically' even mean here? Well, it means you compare sequences as you would compare words. Letter by corresponding letter.\n",
    "\n",
    "Of course, here you also have to think about spaces on both sides of the string."
   ]
  },
  {
   "cell_type": "code",
   "execution_count": null,
   "metadata": {},
   "outputs": [],
   "source": [
    "' This' == 'This'\n",
    "\n",
    "#Also False!"
   ]
  },
  {
   "cell_type": "markdown",
   "metadata": {},
   "source": [
    "How do we deal with this?\n",
    "\n",
    "Well, strings have their specific `methods` , and we will go through some of these in the next section.\n",
    "\n",
    "But before that, let's try something that may not make any sense at all.\n",
    "\n",
    "Let's try to find the minimum and maximum of the string sequence!"
   ]
  },
  {
   "cell_type": "code",
   "execution_count": null,
   "metadata": {},
   "outputs": [],
   "source": [
    "min(foo)"
   ]
  },
  {
   "cell_type": "code",
   "execution_count": null,
   "metadata": {},
   "outputs": [],
   "source": [
    "max(foo)"
   ]
  },
  {
   "cell_type": "markdown",
   "metadata": {},
   "source": [
    "How does a string have a minimum, and why is the \"x\" character the string's maximum? \n",
    "\n",
    "We know how to compare the values of numbers, so letters must have their numerical representation, right? \n",
    "\n",
    "We will describe what is happening behind the scenes later on."
   ]
  },
  {
   "cell_type": "markdown",
   "metadata": {},
   "source": [
    "## Interesting string methods"
   ]
  },
  {
   "cell_type": "markdown",
   "metadata": {},
   "source": [
    "Now we will go over some most useful string methods."
   ]
  },
  {
   "cell_type": "code",
   "execution_count": null,
   "metadata": {},
   "outputs": [],
   "source": [
    "'This is a sentence '.strip()"
   ]
  },
  {
   "cell_type": "code",
   "execution_count": null,
   "metadata": {},
   "outputs": [],
   "source": [
    "' This is a sentence '.strip()\n",
    "\n",
    "# Removing the space, right? ''"
   ]
  },
  {
   "cell_type": "code",
   "execution_count": null,
   "metadata": {},
   "outputs": [],
   "source": [
    "' This is a sentence '.rstrip()\n",
    "\n",
    "#Right strip\n"
   ]
  },
  {
   "cell_type": "code",
   "execution_count": null,
   "metadata": {},
   "outputs": [],
   "source": [
    "' This is a sentence '.lstrip()\n",
    "\n",
    "#Left strip"
   ]
  },
  {
   "cell_type": "code",
   "execution_count": null,
   "metadata": {},
   "outputs": [],
   "source": [
    "str.strip?"
   ]
  },
  {
   "cell_type": "markdown",
   "metadata": {},
   "source": [
    "### Return a copy of the string with leading and trailing whitespace removed.\n"
   ]
  },
  {
   "cell_type": "code",
   "execution_count": null,
   "metadata": {},
   "outputs": [],
   "source": [
    "foo.strip('.')"
   ]
  },
  {
   "cell_type": "code",
   "execution_count": null,
   "metadata": {},
   "outputs": [],
   "source": [
    "foo.strip('this.')"
   ]
  },
  {
   "cell_type": "code",
   "execution_count": null,
   "metadata": {},
   "outputs": [],
   "source": [
    "foo.lstrip('This ')"
   ]
  },
  {
   "cell_type": "code",
   "execution_count": null,
   "metadata": {},
   "outputs": [],
   "source": [
    "foo.lstrip('This ').capitalize()"
   ]
  },
  {
   "cell_type": "code",
   "execution_count": null,
   "metadata": {},
   "outputs": [],
   "source": [
    "foo.lstrip('This ').upper()"
   ]
  },
  {
   "cell_type": "code",
   "execution_count": null,
   "metadata": {},
   "outputs": [],
   "source": [
    "bar"
   ]
  },
  {
   "cell_type": "code",
   "execution_count": null,
   "metadata": {},
   "outputs": [],
   "source": [
    "bar.casefold()"
   ]
  },
  {
   "cell_type": "markdown",
   "metadata": {},
   "source": [
    "Wait, this looks like what `.lower()` should return, right?"
   ]
  },
  {
   "cell_type": "code",
   "execution_count": null,
   "metadata": {},
   "outputs": [],
   "source": [
    "bar.lower()"
   ]
  },
  {
   "cell_type": "markdown",
   "metadata": {},
   "source": [
    "Well yes, but... no!"
   ]
  },
  {
   "cell_type": "code",
   "execution_count": null,
   "metadata": {},
   "outputs": [],
   "source": [
    "\"der Fluß\".lower()"
   ]
  },
  {
   "cell_type": "code",
   "execution_count": null,
   "metadata": {},
   "outputs": [],
   "source": [
    "\"der Fluß\".casefold()"
   ]
  },
  {
   "cell_type": "markdown",
   "metadata": {},
   "source": [
    "How is this possible? Strings are more complicated than they appear. Hint: __Unicode__. We will be back on this later."
   ]
  },
  {
   "cell_type": "code",
   "execution_count": null,
   "metadata": {},
   "outputs": [],
   "source": [
    "foo.lstrip('This ').capitalize()"
   ]
  },
  {
   "cell_type": "code",
   "execution_count": null,
   "metadata": {},
   "outputs": [],
   "source": [
    "foo.lstrip('This ').title()"
   ]
  },
  {
   "cell_type": "markdown",
   "metadata": {},
   "source": [
    "__str.title( )__  - > More specifically, words start with uppercased characters and all remaining\n",
    "cased characters have lower case."
   ]
  },
  {
   "cell_type": "code",
   "execution_count": null,
   "metadata": {},
   "outputs": [],
   "source": [
    "str.title?"
   ]
  },
  {
   "cell_type": "code",
   "execution_count": null,
   "metadata": {},
   "outputs": [],
   "source": [
    "foo.lstrip('This ').title().swapcase()\n",
    "\n",
    "# expected to convert upper case to lower and opposite"
   ]
  },
  {
   "cell_type": "code",
   "execution_count": null,
   "metadata": {},
   "outputs": [],
   "source": [
    "foo.startswith('This')"
   ]
  },
  {
   "cell_type": "code",
   "execution_count": null,
   "metadata": {},
   "outputs": [],
   "source": [
    "foo.endswith('.')"
   ]
  },
  {
   "cell_type": "code",
   "execution_count": null,
   "metadata": {},
   "outputs": [],
   "source": [
    "foo.index('What')"
   ]
  },
  {
   "cell_type": "code",
   "execution_count": null,
   "metadata": {},
   "outputs": [],
   "source": [
    "foo.index('te')"
   ]
  },
  {
   "cell_type": "code",
   "execution_count": null,
   "metadata": {},
   "outputs": [],
   "source": [
    "scheme_string(foo)"
   ]
  },
  {
   "cell_type": "code",
   "execution_count": null,
   "metadata": {},
   "outputs": [],
   "source": [
    "foo.find('What')\n",
    "\n",
    "# Return -1 on failure.\n"
   ]
  },
  {
   "cell_type": "code",
   "execution_count": null,
   "metadata": {},
   "outputs": [],
   "source": [
    "str.find?"
   ]
  },
  {
   "cell_type": "code",
   "execution_count": null,
   "metadata": {},
   "outputs": [],
   "source": [
    "foo.find('This',5,15)"
   ]
  },
  {
   "cell_type": "code",
   "execution_count": null,
   "metadata": {},
   "outputs": [],
   "source": [
    "foo.find('This')"
   ]
  },
  {
   "cell_type": "code",
   "execution_count": null,
   "metadata": {},
   "outputs": [],
   "source": [
    "foo.find('te')"
   ]
  },
  {
   "cell_type": "code",
   "execution_count": null,
   "metadata": {},
   "outputs": [],
   "source": [
    "foo.rfind('te')"
   ]
  },
  {
   "cell_type": "code",
   "execution_count": null,
   "metadata": {},
   "outputs": [],
   "source": [
    "foo.ljust(35, '<')"
   ]
  },
  {
   "cell_type": "code",
   "execution_count": null,
   "metadata": {},
   "outputs": [],
   "source": [
    "str.ljust?\n",
    "\n",
    "# Return a left-justified string of length width.\n",
    "# Padding is done using the specified fill character (default is a space).\n"
   ]
  },
  {
   "cell_type": "code",
   "execution_count": null,
   "metadata": {},
   "outputs": [],
   "source": [
    "foo.ljust(50, 'i')"
   ]
  },
  {
   "cell_type": "code",
   "execution_count": null,
   "metadata": {},
   "outputs": [],
   "source": [
    "scheme_string(foo.rjust(35, '<'))"
   ]
  },
  {
   "cell_type": "code",
   "execution_count": null,
   "metadata": {},
   "outputs": [],
   "source": [
    "foo"
   ]
  },
  {
   "cell_type": "code",
   "execution_count": null,
   "metadata": {},
   "outputs": [],
   "source": [
    "foo.split()"
   ]
  },
  {
   "cell_type": "code",
   "execution_count": null,
   "metadata": {},
   "outputs": [],
   "source": [
    "str.split?"
   ]
  },
  {
   "cell_type": "code",
   "execution_count": null,
   "metadata": {},
   "outputs": [],
   "source": [
    "foo.rsplit()"
   ]
  },
  {
   "cell_type": "markdown",
   "metadata": {},
   "source": [
    "Hmm, no difference. At least looks like it."
   ]
  },
  {
   "cell_type": "code",
   "execution_count": null,
   "metadata": {},
   "outputs": [],
   "source": [
    "foo.split(maxsplit=10)"
   ]
  },
  {
   "cell_type": "code",
   "execution_count": null,
   "metadata": {},
   "outputs": [],
   "source": [
    "foo.partition('is')"
   ]
  },
  {
   "cell_type": "code",
   "execution_count": null,
   "metadata": {},
   "outputs": [],
   "source": [
    "str.partition?\n",
    "\n",
    "# Partition the string into three parts using the given separator.\n",
    "# This will search for the separator in the string.  If the separator is found,\n",
    "#returns a 3-tuple containing the part before the separator, the separator\n",
    "# itself, and the part after it."
   ]
  },
  {
   "cell_type": "code",
   "execution_count": null,
   "metadata": {},
   "outputs": [],
   "source": [
    "foo.replace('e', 'b')\n",
    "\n",
    "# Replace 'e' with 'b'\n",
    "\n",
    "foo.replace('e', 'b', 2) (#old(e), new(b), count= 2)\n",
    "\n",
    "str.replace?"
   ]
  },
  {
   "cell_type": "markdown",
   "metadata": {},
   "source": [
    "There are also methods that check if strings are of a certain format. For example:"
   ]
  },
  {
   "cell_type": "code",
   "execution_count": null,
   "metadata": {},
   "outputs": [],
   "source": [
    "foo.istitle()"
   ]
  },
  {
   "cell_type": "code",
   "execution_count": null,
   "metadata": {},
   "outputs": [],
   "source": [
    "foo.isupper()"
   ]
  },
  {
   "cell_type": "code",
   "execution_count": null,
   "metadata": {},
   "outputs": [],
   "source": [
    "foo.isspace()"
   ]
  },
  {
   "cell_type": "code",
   "execution_count": null,
   "metadata": {},
   "outputs": [],
   "source": [
    "'   '.isspace()"
   ]
  },
  {
   "cell_type": "markdown",
   "metadata": {},
   "source": [
    "So let's give overview of used string methods:\n",
    "- `index` and `rindex`,\n",
    "- `find` and `rfind`,\n",
    "- `strip`, `lstrip` and `strip`,\n",
    "- `count`\n",
    "- `capitalize`, `title`, `upper`, `lower`, `swapcase` and `casefold`,\n",
    "- `startswith` and `endswith`,\n",
    "- `ljust` and `rjust`,\n",
    "- `split` and `rsplit`,\n",
    "- `replace`,\n",
    "- `isupper`, `islower`, `isspace`, `istitle`. "
   ]
  },
  {
   "cell_type": "markdown",
   "metadata": {},
   "source": [
    "But there is also a way of checking if string characters are part of a certain character subset. What does this mean?\n",
    "\n",
    "Well, as humans, we can certainly differentiate between '1' and 'a'.\n",
    "\n",
    "'1' is a string representation of a numeric, and 'a' is a character of a small alphabet letter.\n",
    "\n",
    "How do we test a string based on its characters?\n",
    "\n",
    "Let's take some of the different types of characters that can end up in a string. Then we will test each of them with some of the string methods and print out a table."
   ]
  },
  {
   "cell_type": "code",
   "execution_count": 136,
   "metadata": {},
   "outputs": [],
   "source": [
    "# examples different characters in strings\n",
    "str_list = [\n",
    "    '123',\n",
    "    '123a',\n",
    "    'ab12',\n",
    "    'abc',\n",
    "    '¼',\n",
    "    '1/4',\n",
    "    '一',\n",
    "    '10.2',\n",
    "    '10\\u00B2',\n",
    "    '11\\u00B2',\n",
    "    '\\u2463',\n",
    "    '\\u246A',\n",
    "    '٢',\n",
    "    '\\N{ROMAN NUMERAL ONE}' + '\\N{ROMAN NUMERAL TEN}',\n",
    "    '\\N{ROMAN NUMERAL TEN}',\n",
    "    '\\N{BLACK CHESS QUEEN}'\n",
    "]"
   ]
  },
  {
   "cell_type": "code",
   "execution_count": 137,
   "metadata": {},
   "outputs": [],
   "source": [
    "# some of the string methods for testing string content\n",
    "method_list = [str.isalnum, str.isalpha, str.isascii, str.isdecimal, str.isdigit, str.isnumeric]"
   ]
  },
  {
   "cell_type": "code",
   "execution_count": null,
   "metadata": {},
   "outputs": [],
   "source": [
    "# let's print out scheme of method string representation\n",
    "scheme_string(str(method_list[0]))"
   ]
  },
  {
   "cell_type": "markdown",
   "metadata": {},
   "source": [
    "Do not pay attention to the code and its complexity. Just look at the output."
   ]
  },
  {
   "cell_type": "code",
   "execution_count": null,
   "metadata": {},
   "outputs": [],
   "source": [
    "print(' ' * 10 + ''.join([i.rjust(6) for i in str_list]))\n",
    "for method in method_list:\n",
    "    m = str(method)\n",
    "    method_name = m[m.index('is'):m.index('of')-2]\n",
    "    print(method_name.rjust(10) + ''.join([f'{method(i): >6}' for i in str_list]))"
   ]
  },
  {
   "cell_type": "markdown",
   "metadata": {},
   "source": [
    "Essentially, Python can recognize different types of characters, including letters from various foreign languages. Example is ٢ which is 2 in Arabic. It is clearly an alpha-numeric, numeric, decimal number and a digit. What may be a bit confusing is how Python evaluates characters when methods `isdecimal`, `isdigit` and `isnumeric` are called. \n",
    "\n",
    "First thing to note is: **isdecimal() ⊆ isdigit() ⊆ isnumeric()**.That is, what is evaluated as decimal is also a digit, and numeric too. What is digit is also a numeric, but doesn't have to be a digit. \n",
    "\n",
    "Let us go through Python API on these:\n",
    "\n",
    ">> **str.isdecimal()**\n",
    ">> - Return True if all characters in the string are decimal characters and there is at least one character, False otherwise. Decimal characters are those that can be used to form numbers in base 10, e.g. U+0660, ARABIC-INDIC DIGIT ZERO. Formally a decimal character is a character in the Unicode General Category “Nd”.\n",
    "\n",
    ">>**str.isdigit()**\n",
    ">> - Return True if all characters in the string are digits and there is at least one character, False otherwise. Digits include decimal characters and digits that need special handling, such as the compatibility superscript digits. This covers digits which cannot be used to form numbers in base 10, like the Kharosthi numbers. Formally, a digit is a character that has the property value Numeric_Type=Digit or Numeric_Type=Decimal.\n",
    "\n",
    ">> **str.isnumeric()**\n",
    ">> - Return True if all characters in the string are numeric characters, and there is at least one character, False otherwise. Numeric characters include digit characters, and all characters that have the Unicode numeric value property, e.g. U+2155, VULGAR FRACTION ONE FIFTH. Formally, numeric characters are those with the property value Numeric_Type=Digit, Numeric_Type=Decimal or Numeric_Type=Numeric.\n",
    "\n",
    "To sum it up:\n",
    "- **isdecimal()** method supports only Decimal Numbers.\n",
    "- **isdigit()** method supports Decimals, Subscripts, Superscripts.\n",
    "- **isnumeric()** method supports Digits, Vulgar Fractions, Subscripts, Superscripts, Roman Numerals, Currency Numerators."
   ]
  },
  {
   "cell_type": "markdown",
   "metadata": {},
   "source": [
    "Now is a good time to talk about these special characters."
   ]
  },
  {
   "cell_type": "markdown",
   "metadata": {},
   "source": [
    "#### Encodings: ASCII, Unicode and UTF-8\n",
    "\n",
    "The whole idea of encoding goes back to the early days of human history. One example would be smoke signals used for wireless transmission of messages. Another widely known way of encoding is the Morse code, which has special sequences of sounds for each letter and more. With the invention of computers, there was a need to store data in memory and send it over the wire. Since computers only worked with 0s and 1s, we needed a way to encode alphabet letters into sequences of 0s and 1s. Even though there were encodings before it, the first and most widely known one, at least in the computer era, is ASCII encoding.\n",
    "\n",
    "ASCII encoding was used to encode all English alphabet letters (lower and upper case), punctuation marks, and some specific characters for special use. In the first, there were 127 of these symbols. Later versions included additional modifications of the latin alphabet, but due to the way alphabet symbols were encoded in memory, there were just 127 coding points left to use. This was not enough for supporting different languages across the planet and also adding hundreds of special symbols, e.g., emojis.\n",
    "\n",
    "This is the reason Unicode was invented. Unicode is a newer and more powerful encoding standard, although it succeeded ASCII and is backward compatible. It consists of code points assigned to the symbol (glyph). With these code points, it can support more than 1 million different symbols all across the planet that are or were in use, e.g., Egyptian hieroglyphs. This comes at the cost of complexity, so we will not get into much detail at this point. Even though Unicode encodes various glyphs with code points, this doesn't solve the challenge of storing this in memory, i.e., translating it into 0s and 1s. So we need additional standards for this. And there are many, but one widely known is UTF-8. Even ASCII can be used at this point, albeit in a subset of cases.\n",
    "\n",
    "What is important to know is that:\n",
    "- the 3.x version Python treats all strings as Unicode ones. This is the reason why you can have, for example, '¼', '٢' or '♛' in your string.\n",
    "- when you store your text in files or send it over the internet, it gets encoded.\n",
    "- the way you **encode it on the sending side** and the way it gets **decoded on the receiving side must be the same**.\n",
    "\n",
    "Most of the time this is done automatically by the operating system and Python, but every once in a while you might end up with errors while trying to read the textual file in Python, and it is good to know what could be the cause of them."
   ]
  },
  {
   "cell_type": "markdown",
   "metadata": {},
   "source": [
    "What about 'der Fluß' and `casefold` method? Explain.\n",
    "\n",
    "So, let's see how strings are encoded."
   ]
  },
  {
   "cell_type": "code",
   "execution_count": 148,
   "metadata": {},
   "outputs": [],
   "source": [
    "unique_string = '¼ ٢ ♛'"
   ]
  },
  {
   "cell_type": "code",
   "execution_count": null,
   "metadata": {},
   "outputs": [],
   "source": [
    "unique_string.encode('Ascii')"
   ]
  },
  {
   "cell_type": "markdown",
   "metadata": {},
   "source": [
    "Wow, ASCII really doens't know how to encode these glyphs. Let's try with UTF-8."
   ]
  },
  {
   "cell_type": "code",
   "execution_count": null,
   "metadata": {},
   "outputs": [],
   "source": [
    "unique_string.encode('UTF-8')"
   ]
  },
  {
   "cell_type": "markdown",
   "metadata": {},
   "source": [
    "Okay, this apparently works, but what is this? Let's say this is how our `unique_string` gets stored in the memory. Kind of, but it's more than enough for you to know at this point."
   ]
  },
  {
   "cell_type": "markdown",
   "metadata": {},
   "source": [
    "One more thing. Do you remember when we did get the `min` and `max` values of the string? Well, this has to do with encodings too. Each string character has its own code point. In ASCII that code point can be interpreted as a number between 1 and 255. This is the reason why you can compare them!"
   ]
  },
  {
   "cell_type": "code",
   "execution_count": null,
   "metadata": {},
   "outputs": [],
   "source": [
    "'a' > 'b'"
   ]
  },
  {
   "cell_type": "code",
   "execution_count": null,
   "metadata": {},
   "outputs": [],
   "source": [
    "'b' > 'a'"
   ]
  },
  {
   "cell_type": "code",
   "execution_count": null,
   "metadata": {},
   "outputs": [],
   "source": [
    "foo"
   ]
  },
  {
   "cell_type": "markdown",
   "metadata": {},
   "source": [
    "Python has builtin functions for getting the numerical representation of a character.\n",
    "\n",
    "- Docstring: Return the Unicode code point for a one-character string.\n",
    "\n"
   ]
  },
  {
   "cell_type": "code",
   "execution_count": null,
   "metadata": {},
   "outputs": [],
   "source": [
    "ord('a')\n",
    "ord?\n",
    "\n",
    "# Docstring: Return the Unicode code point for a one-character string.\n"
   ]
  },
  {
   "cell_type": "code",
   "execution_count": null,
   "metadata": {},
   "outputs": [],
   "source": [
    "ord('b')"
   ]
  },
  {
   "cell_type": "markdown",
   "metadata": {},
   "source": [
    "Or, you can go the inverse."
   ]
  },
  {
   "cell_type": "code",
   "execution_count": null,
   "metadata": {},
   "outputs": [],
   "source": [
    "chr(98)"
   ]
  },
  {
   "cell_type": "code",
   "execution_count": null,
   "metadata": {},
   "outputs": [],
   "source": [
    "chr(100)"
   ]
  },
  {
   "cell_type": "code",
   "execution_count": null,
   "metadata": {},
   "outputs": [],
   "source": [
    "chr(99)"
   ]
  },
  {
   "cell_type": "markdown",
   "metadata": {},
   "source": [
    "This way of interpreting characters gives us the ability to sort strings lexicographically."
   ]
  },
  {
   "cell_type": "code",
   "execution_count": null,
   "metadata": {},
   "outputs": [],
   "source": [
    "'aaa' > 'aaa'"
   ]
  },
  {
   "cell_type": "code",
   "execution_count": null,
   "metadata": {},
   "outputs": [],
   "source": [
    "'aaa' > 'aab'"
   ]
  },
  {
   "cell_type": "code",
   "execution_count": null,
   "metadata": {},
   "outputs": [],
   "source": [
    "'aab' > 'aaa'"
   ]
  },
  {
   "cell_type": "code",
   "execution_count": null,
   "metadata": {},
   "outputs": [],
   "source": [
    "'aaaa' > 'aaa'"
   ]
  },
  {
   "cell_type": "markdown",
   "metadata": {},
   "source": [
    "Let's sort the string and see the result."
   ]
  },
  {
   "cell_type": "code",
   "execution_count": null,
   "metadata": {},
   "outputs": [],
   "source": [
    "bar"
   ]
  },
  {
   "cell_type": "code",
   "execution_count": null,
   "metadata": {},
   "outputs": [],
   "source": [
    "sorted(bar)"
   ]
  },
  {
   "cell_type": "code",
   "execution_count": null,
   "metadata": {},
   "outputs": [],
   "source": [
    "''.join(sorted(bar))"
   ]
  },
  {
   "cell_type": "code",
   "execution_count": null,
   "metadata": {},
   "outputs": [],
   "source": [
    "sorted?"
   ]
  },
  {
   "cell_type": "markdown",
   "metadata": {},
   "source": [
    "Now let's get to some practical parts. Let's load the Python Zen textual file from the file in `_data` directory, and print the result."
   ]
  },
  {
   "cell_type": "code",
   "execution_count": 183,
   "metadata": {},
   "outputs": [],
   "source": [
    "with open('_data/python_zen.txt', 'r', encoding='utf-8') as f:\n",
    "    text_lines = f.readlines()"
   ]
  },
  {
   "cell_type": "code",
   "execution_count": null,
   "metadata": {},
   "outputs": [],
   "source": [
    "text_lines"
   ]
  },
  {
   "cell_type": "markdown",
   "metadata": {},
   "source": [
    "Obviously, this is the list of strings, where each string is a text row in the file. But what is `\\n'? Remember special symbols in ASCII? Well, '\\n' is one of these. It is a **new line** symbol. It instructs the computer to know where it should break the text into a new line."
   ]
  },
  {
   "cell_type": "code",
   "execution_count": null,
   "metadata": {},
   "outputs": [],
   "source": [
    "print('This is the new line\\nThis is the second line')"
   ]
  },
  {
   "cell_type": "markdown",
   "metadata": {},
   "source": [
    "There is dozen of these but the important ones are:\n",
    "- **'\\n'** - new line or line feed (LF)\n",
    "- **'\\r'** - carriage return (CR)\n",
    "- **'\\t'** - tab\n",
    "\n",
    "\n",
    "**Important!!** Windows users: CRLF, Unix users: LF"
   ]
  },
  {
   "cell_type": "code",
   "execution_count": null,
   "metadata": {},
   "outputs": [],
   "source": [
    "print('This is one line\\nThis is another\\tThis is tab spaced on the second,\\t and this is tab again on the same line')"
   ]
  },
  {
   "cell_type": "code",
   "execution_count": null,
   "metadata": {},
   "outputs": [],
   "source": [
    "print('This is one text row\\nThis is another one\\nBut\\twhat\\tis\\tthis?\\nAnd what\\bwhot is this?')"
   ]
  },
  {
   "cell_type": "markdown",
   "metadata": {},
   "source": [
    "So what do we do with these new lines at the end of each string? We strip them! - Talking about python zen strings "
   ]
  },
  {
   "cell_type": "code",
   "execution_count": null,
   "metadata": {},
   "outputs": [],
   "source": [
    "[l.strip() for l in text_lines]"
   ]
  },
  {
   "cell_type": "markdown",
   "metadata": {},
   "source": [
    "Easy as that. Now you can work with each line, or you can join them togheather."
   ]
  },
  {
   "cell_type": "code",
   "execution_count": null,
   "metadata": {},
   "outputs": [],
   "source": [
    "print(''.join([l.strip() for l in text_lines]))"
   ]
  },
  {
   "cell_type": "markdown",
   "metadata": {},
   "source": [
    "Or just join them for better preview."
   ]
  },
  {
   "cell_type": "code",
   "execution_count": null,
   "metadata": {},
   "outputs": [],
   "source": [
    "print(''.join(text_lines))"
   ]
  },
  {
   "cell_type": "markdown",
   "metadata": {},
   "source": [
    "For the end of this part, let's introduce one additional way of defining strings. We will refresh on two approaches we have learned so far."
   ]
  },
  {
   "cell_type": "code",
   "execution_count": null,
   "metadata": {},
   "outputs": [],
   "source": [
    "print('This is the test string')"
   ]
  },
  {
   "cell_type": "code",
   "execution_count": null,
   "metadata": {},
   "outputs": [],
   "source": [
    "print(\"This isn't the test string.\")"
   ]
  },
  {
   "cell_type": "code",
   "execution_count": 196,
   "metadata": {},
   "outputs": [],
   "source": [
    "test_string = \"\"\"\n",
    "Well, this is the new kind of defining a string!\n",
    "Isn't this awesome?\n",
    "\n",
    "I can even quote with double quotes: \"The quick brown fox jumps over the lazy dog.\"\n",
    "\"\"\"\n",
    "\n",
    "\n",
    "# Docstring"
   ]
  },
  {
   "cell_type": "code",
   "execution_count": null,
   "metadata": {},
   "outputs": [],
   "source": [
    "print(test_string)"
   ]
  },
  {
   "cell_type": "code",
   "execution_count": null,
   "metadata": {},
   "outputs": [],
   "source": [
    "test_string.split('\\n')"
   ]
  },
  {
   "cell_type": "code",
   "execution_count": null,
   "metadata": {},
   "outputs": [],
   "source": [
    "test_string = \"This is a test string.\" \\\n",
    "              \"But this is also part of it\"\n",
    "\n",
    "test_string"
   ]
  },
  {
   "cell_type": "code",
   "execution_count": null,
   "metadata": {},
   "outputs": [],
   "source": [
    "test_string = \"This is a test string.\" \\\n",
    "              \"\\nBut this is also part of it\""
   ]
  },
  {
   "cell_type": "code",
   "execution_count": null,
   "metadata": {},
   "outputs": [],
   "source": [
    "print(test_string)"
   ]
  },
  {
   "cell_type": "markdown",
   "metadata": {},
   "source": [
    "#### Strings formatting"
   ]
  },
  {
   "cell_type": "markdown",
   "metadata": {},
   "source": [
    "So far, we have defined string variables, played with string methods, and talked about reading textual files from the file system.\n",
    "\n",
    "What about the scenario where you have some intermediate results of your code that you want to print out or even save to a file? How do you include variable values in strings for displaying and saving?\n",
    "\n",
    "Well, we used one simple way:"
   ]
  },
  {
   "cell_type": "code",
   "execution_count": 208,
   "metadata": {},
   "outputs": [],
   "source": [
    "a = 5\n",
    "b = 6"
   ]
  },
  {
   "cell_type": "code",
   "execution_count": null,
   "metadata": {},
   "outputs": [],
   "source": [
    "print('This is the result of summing a and b:', a+b)"
   ]
  },
  {
   "cell_type": "markdown",
   "metadata": {},
   "source": [
    "What if `a` variable holds a floating point number?"
   ]
  },
  {
   "cell_type": "code",
   "execution_count": 210,
   "metadata": {},
   "outputs": [],
   "source": [
    "a = 12.3954382934823"
   ]
  },
  {
   "cell_type": "code",
   "execution_count": null,
   "metadata": {},
   "outputs": [],
   "source": [
    "print('This is the result of summing a and b:',a+b)"
   ]
  },
  {
   "cell_type": "markdown",
   "metadata": {},
   "source": [
    "Do we really need this many decimal places? What if I want to format my output in a more readable format? For example:\n"
   ]
  },
  {
   "cell_type": "code",
   "execution_count": null,
   "metadata": {},
   "outputs": [],
   "source": [
    "print('Report')\n",
    "print('a = ', a)\n",
    "print('b = ', b)\n",
    "print('-'*20)\n",
    "print('a + b =',a+b)\n",
    "print('a * b =', a*b)\n",
    "print('(a+b)/a=',(a+b/2))\n",
    "print('-'*20)"
   ]
  },
  {
   "cell_type": "markdown",
   "metadata": {},
   "source": [
    "Of course, you can play with spaces and achieve something that may suit your needs. But Python has a way of achieving this easily.\n",
    "\n",
    "This is achieved using f-strings.\n",
    "\n",
    "F-strings are defined as regular ones with the letter 'f' prefix."
   ]
  },
  {
   "cell_type": "code",
   "execution_count": null,
   "metadata": {},
   "outputs": [],
   "source": [
    "print('Test string')"
   ]
  },
  {
   "cell_type": "code",
   "execution_count": null,
   "metadata": {},
   "outputs": [],
   "source": [
    "print(f'Test string')"
   ]
  },
  {
   "cell_type": "markdown",
   "metadata": {},
   "source": [
    "Same thing, yes? Well, f-string gives you more. Look:"
   ]
  },
  {
   "cell_type": "code",
   "execution_count": null,
   "metadata": {},
   "outputs": [],
   "source": [
    "print(f'This is the sum of a and b: {a+b}')"
   ]
  },
  {
   "cell_type": "markdown",
   "metadata": {},
   "source": [
    "Too much decimal places? Not a problem!"
   ]
  },
  {
   "cell_type": "code",
   "execution_count": null,
   "metadata": {},
   "outputs": [],
   "source": [
    "print(f'This is the sum of a and b: {a+b:.2f}')"
   ]
  },
  {
   "cell_type": "markdown",
   "metadata": {},
   "source": [
    "Informally speaking, the format for inserting a variable value into an f-string is:\n",
    "\n",
    "`{variable_name:formatting}`\n",
    "\n",
    "**Variable name** part can be a previously defined variable or the result of calling functions or methods.\n",
    "\n",
    "**Formatting** part depends on the variable data type. We said that there are four primitive data types: `int`, `float`, `str`, and `boolean`."
   ]
  },
  {
   "cell_type": "code",
   "execution_count": null,
   "metadata": {},
   "outputs": [],
   "source": [
    "type(a)"
   ]
  },
  {
   "cell_type": "code",
   "execution_count": null,
   "metadata": {},
   "outputs": [],
   "source": [
    "print(f'This is a method name: {str.isalnum}')"
   ]
  },
  {
   "cell_type": "markdown",
   "metadata": {},
   "source": [
    "Here Python tries to get the string representation of method `isalnum`. But we can also call method inside an f-string."
   ]
  },
  {
   "cell_type": "code",
   "execution_count": null,
   "metadata": {},
   "outputs": [],
   "source": [
    "print(f\"This is uppercase foo:{foo.upper():s}\")"
   ]
  },
  {
   "cell_type": "markdown",
   "metadata": {},
   "source": [
    "#### What Does `:s` Do in an __f-string__?\n",
    "\n",
    "In Python f-strings, the :s format specifier is used to explicitly specify that the value should be treated as a string. However, this is redundant for foo.upper() because:\n",
    "\n",
    "- foo.upper() already returns a string.\n",
    "\n",
    "- Python automatically assumes the value is a string when formatting it in an f-string.\n",
    "\n",
    "\n",
    "#### When Is :s Useful?\n",
    "\n",
    "- You want to explicitly enforce that the value should be treated as a string.\n",
    "\n",
    "- This might matter when you're working with custom objects or types that could be cast to strings, and you want to be explicit about the formatting."
   ]
  },
  {
   "cell_type": "code",
   "execution_count": null,
   "metadata": {},
   "outputs": [],
   "source": [
    "print(f'This is a:{a}')"
   ]
  },
  {
   "cell_type": "code",
   "execution_count": null,
   "metadata": {},
   "outputs": [],
   "source": [
    "print(f'This is a:{a+b}')"
   ]
  },
  {
   "cell_type": "code",
   "execution_count": null,
   "metadata": {},
   "outputs": [],
   "source": [
    "# Number. This is the same as d except that it uses the current locale setting to\n",
    "# insert the appropriate number separator characters.\n",
    "print(f'This is a:{a:n}.') "
   ]
  },
  {
   "cell_type": "code",
   "execution_count": null,
   "metadata": {},
   "outputs": [],
   "source": [
    "print(f'This is a:{a:.2f}.')"
   ]
  },
  {
   "cell_type": "code",
   "execution_count": null,
   "metadata": {},
   "outputs": [],
   "source": [
    "print(f'This is a:{a:.2}.') # scientific notation by default"
   ]
  },
  {
   "cell_type": "markdown",
   "metadata": {},
   "source": [
    "### `:.2 `\n",
    "is a shorthand for formatting the number with 2 significant figures.\n",
    "\n",
    "> When no specific type (like f for fixed-point or e for scientific notation) is provided, Python defaults to using scientific notation for floating-point numbers.\n",
    "\n",
    "#### Why Scientific Notations?\n",
    "\n",
    "> In the absence of an explicit type (like f), Python assumes you might want the most compact representation, often in scientific notation when dealing with floating-point numbers."
   ]
  },
  {
   "cell_type": "code",
   "execution_count": null,
   "metadata": {},
   "outputs": [],
   "source": [
    "# Exponent notation. Prints the number in scientific notation using the letter ‘e’\n",
    "# to indicate the exponent. The default precision is 6.\n",
    "print(f'This is a:{a:e}.') # explicitly set scientific notation "
   ]
  },
  {
   "cell_type": "markdown",
   "metadata": {},
   "source": [
    "### `:e`\n",
    "\n",
    "tells Python to represent the number in scientific notation.\n",
    "\n",
    "- The .2 part specifies that you want 2 digits after the decimal point in the mantissa (the part before e).\n",
    ">>A number in scientific notation looks like:\n",
    "m×10nm×10n, written as m.en in Python, where:\n",
    "\n",
    "- m is the mantissa.\n",
    "\n",
    "- n is the exponent (the power of 10)\n",
    "\n",
    "***"
   ]
  },
  {
   "cell_type": "markdown",
   "metadata": {},
   "source": [
    "This is all great. We can format and display numbers in a more appealing way. For prices, we surely do not need 10 decimal places. For scientific notation, we can use explicit formatting.\n",
    "\n",
    "F-strings give more options. One of these is positioning a variable value in the string."
   ]
  },
  {
   "cell_type": "code",
   "execution_count": null,
   "metadata": {},
   "outputs": [],
   "source": [
    "print(f\"{'Report':+>30s}\")"
   ]
  },
  {
   "cell_type": "code",
   "execution_count": null,
   "metadata": {},
   "outputs": [],
   "source": [
    "print(f\"{'Report':-^30s}\")"
   ]
  },
  {
   "cell_type": "code",
   "execution_count": null,
   "metadata": {},
   "outputs": [],
   "source": [
    "print(f\"{'Report':-^50s}\")\n",
    "print(f\"We have two variables:\")\n",
    "print(f\"a = {a:.2f}\")\n",
    "print(f\"b = {b:.2f}\")\n",
    "print('-'*50)\n",
    "print(f\"Here are some of the calculations:\")\n",
    "print(f\"a + b = {a+b:.2f}\")\n",
    "print(f\"a * b = {a*b:.2f}\")\n",
    "print(f\"(a + b) / 2 = {(a+b)/2:.2f}\")\n",
    "print('-'*50)"
   ]
  },
  {
   "cell_type": "markdown",
   "metadata": {},
   "source": [
    "Cool. Now lets use the formatting options for positioning values in f-strings."
   ]
  },
  {
   "cell_type": "code",
   "execution_count": null,
   "metadata": {},
   "outputs": [],
   "source": [
    "print(f\"{'Report':-^50s}\")\n",
    "print(f\"We have two variables:\")\n",
    "print(f\"a = {a:>46.2f}\")\n",
    "print(f\"b = {b:>46.2f}\")\n",
    "print('-'*50)\n",
    "print(f\"Here are some of the calculations:\")\n",
    "print(f\"a + b = {a+b:>42.2f}\")\n",
    "print(f\"a * b = {a*b:>42.2f}\")\n",
    "print(f\"(a + b) / 2 = {(a+b)/2:>36.2f}\")\n",
    "print('-'*50)"
   ]
  },
  {
   "cell_type": "markdown",
   "metadata": {},
   "source": [
    "But there is an even better way to achieve all of this. Remember `\"\"\"`? F-strings can be defined that way too!"
   ]
  },
  {
   "cell_type": "code",
   "execution_count": 252,
   "metadata": {},
   "outputs": [],
   "source": [
    "report_string = f\"\"\"\n",
    "{'Report':-^50s}\n",
    "a = {a:>46.2f}\n",
    "b = {b:>46.2f}\n",
    "{'-'*50}\n",
    "Here are some of the calculations:\n",
    "a + b = {a+b:>42.2f}\n",
    "a * b = {a*b:>42.2f}\n",
    "(a + b) / 2 = {(a+b)/2:>36.2f}\n",
    "{'-'*50}\n",
    "\"\"\""
   ]
  },
  {
   "cell_type": "code",
   "execution_count": null,
   "metadata": {},
   "outputs": [],
   "source": [
    "print(report_string)"
   ]
  },
  {
   "cell_type": "code",
   "execution_count": null,
   "metadata": {},
   "outputs": [],
   "source": [
    "print(report_string)"
   ]
  },
  {
   "cell_type": "code",
   "execution_count": null,
   "metadata": {},
   "outputs": [],
   "source": [
    "def scheme_string(s):\n",
    "    print('')\n",
    "    print('String:', s)\n",
    "    print('')\n",
    "    print('Scheme:')\n",
    "    print('|'.join(f'{x: >3}' for x in range(len(s))))\n",
    "    print(' '.join([f'{x: >3}' for x in s]))\n",
    "    print('|'.join(f'{-x: >3}' for x in range(len(s), 0, -1)))\n",
    "    print()\n",
    "    print('Length:', len(s))\n",
    "\n",
    "\n",
    "scheme_string('Luka Jasovic')\n"
   ]
  },
  {
   "cell_type": "markdown",
   "metadata": {},
   "source": [
    "### `.join()`\n",
    "\n",
    "I wanted to put more emhpasis on this method since I am havign hard time understanding it in depth. Below is the useful link for claryfing learned knowledge about .join().\n",
    "Please check:  https://www.geeksforgeeks.org/python-string-join-method/\n",
    "\n",
    "My notes:\n",
    "\n",
    "`.join()` is a great tool for cocatenanting elements of an iterable \n",
    "As the basic syntax:\n",
    "\n",
    "separator_string.join(iterable)\n",
    "\n",
    "- separator_string -> string that will be placed between each element of the iterable\n",
    "\n",
    "- iterable -> an iterable containing elements to be joined. Each element should be type(str)\n",
    "\n",
    "\n",
    "Basic example:"
   ]
  },
  {
   "cell_type": "code",
   "execution_count": null,
   "metadata": {},
   "outputs": [],
   "source": [
    "words = ['Python','is','awesome']\n",
    "print(''.join(words))\n",
    "# Python is awesome\n",
    "\n"
   ]
  },
  {
   "cell_type": "code",
   "execution_count": null,
   "metadata": {},
   "outputs": [],
   "source": [
    "letters = 'ABCDE'\n",
    "print('-'.join(letters))\n",
    "#A-B-C-D-E"
   ]
  },
  {
   "cell_type": "markdown",
   "metadata": {},
   "source": [
    "Lets try the string scheme function now:"
   ]
  },
  {
   "cell_type": "code",
   "execution_count": null,
   "metadata": {},
   "outputs": [],
   "source": [
    "def string_scheme(string):\n",
    "    print('')\n",
    "    print(f\"String: {string}.\")\n",
    "    print('+'*len(string))\n",
    "    print('|'.join(f'{x: >3}'for x in range(len(string))))\n",
    "    print(''.join([f'{x:>3}'for x in string]))\n",
    "    print('|'.join(f'{-x:>3}'for x in range(len(string),0,-1)))\n",
    "\n",
    "string_scheme('You are doing great anon! ')"
   ]
  },
  {
   "cell_type": "markdown",
   "metadata": {},
   "source": [
    "Additional exercise with methods learned in this session:"
   ]
  },
  {
   "cell_type": "code",
   "execution_count": null,
   "metadata": {},
   "outputs": [],
   "source": [
    "x = ['List','Of','Numbers']\n",
    "print(f\"{'tekst:':-^30s}\")\n",
    "print('  -- '.join(x))"
   ]
  },
  {
   "cell_type": "code",
   "execution_count": 497,
   "metadata": {},
   "outputs": [
    {
     "name": "stdout",
     "output_type": "stream",
     "text": [
      "\n",
      "---------------------------Welcome to this exercise where we refresh learned string methods!----------------------------\n",
      "------------------------------------------There will be several examples below------------------------------------------\n",
      "-------------------------------------------There will be some number as well--------------------------------------------\n",
      "------------------------------------------------------------------------------------------------------------------------\n",
      "This Is The 1St Sentence                                                      Capitalize every first letter of each word\n",
      "this is the 2nd sentence                                                       Lowercase for case-insensitive comparison\n",
      "This is the 3rd sentence to strip it out!                                             Remove leading and trailing spaces\n",
      " This is the 3rd sentence to rstrip it out!                                         Remove only trailing spaces (rstrip)\n",
      "tHIS iS tHe 4th Sentence                                           Swap case: lowercase becomes uppercase and vice versa\n",
      "['Th', ' ', ' the 5th sentence, use 2nd word for the splitting']                    Split string into substrings by \"is\"\n",
      "('This is the 6th sentence, ', 'used', ' for partition - 3 parts!')        Partition into 3 parts using the separator\n",
      "This+is+the+8th+sentence                                                                             Join words with \"+\"\n",
      "The number is: 12                                                                     Example of a number in an f-string\n",
      "\n"
     ]
    }
   ],
   "source": [
    "a = 'This is the 1st sentence'.title()  # Title case\n",
    "b = 'This is the 2nd sentence'.casefold()  # Lowercase for case-insensitive (caseless) comparison\n",
    "c = ' This is the 3rd sentence to strip it out!'.strip()  # Remove leading and trailing spaces\n",
    "c1 = ' This is the 3rd sentence to rstrip it out!'.rstrip()  # Remove trailing whitespace\n",
    "d = 'This Is ThE 4TH sENTENCE'.swapcase()  # Swap case\n",
    "e = 'This is the 5th sentence, use 2nd word for the splitting'.split('is')  # Split into a list of substrings\n",
    "f = 'This is the 6th sentence, used for partition - 3 parts!'.partition('used')  # Partition into 3 substrings\n",
    "g = '+'.join('This is the 8th sentence'.split())  # Join substrings with '+'\n",
    "no1 = 12\n",
    "\n",
    "string_methods_examples = f\"\"\"\n",
    "{'Welcome to this exercise where we refresh learned string methods!':-^120s}\n",
    "{'There will be several examples below':-^120s}\n",
    "{'There will be some number as well':-^120s}\n",
    "{'-'*120}\n",
    "{a:<50s}{'Capitalize every first letter of each word':>70s}\n",
    "{b:<50s}{'Lowercase for case-insensitive comparison':>70s}\n",
    "{c:<50s}{'Remove leading and trailing spaces':>70s}\n",
    "{c1:<50s}{'Remove only trailing spaces (rstrip)':>70s}\n",
    "{d:<50s}{'Swap case: lowercase becomes uppercase and vice versa':>70s}\n",
    "{str(e):<50s}{'Split string into substrings by \"is\"':>56s}\n",
    "{str(f):<50s}{'Partition into 3 parts using the separator':>50s}\n",
    "{g:<50s}{'Join words with \"+\"':>70s}\n",
    "{f\"The number is: {no1}\":<50s}{'Example of a number in an f-string':>70s}\n",
    "\"\"\"\n",
    "\n",
    "print(string_methods_examples)"
   ]
  }
 ],
 "metadata": {
  "kernelspec": {
   "display_name": "Python 3",
   "language": "python",
   "name": "python3"
  },
  "language_info": {
   "codemirror_mode": {
    "name": "ipython",
    "version": 3
   },
   "file_extension": ".py",
   "mimetype": "text/x-python",
   "name": "python",
   "nbconvert_exporter": "python",
   "pygments_lexer": "ipython3",
   "version": "3.11.4"
  }
 },
 "nbformat": 4,
 "nbformat_minor": 2
}
