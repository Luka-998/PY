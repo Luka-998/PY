{
 "cells": [
  {
   "cell_type": "markdown",
   "metadata": {},
   "source": [
    "## Session 07: Relational Structure + Pivot\n"
   ]
  },
  {
   "cell_type": "code",
   "execution_count": null,
   "metadata": {},
   "outputs": [],
   "source": [
    "import numpy as np\n",
    "import pandas as pd\n",
    "import matplotlib.pyplot as plt\n",
    "import seaborn as sns\n",
    "import os\n",
    "work_dir = os.getcwd()\n",
    "print(work_dir)\n",
    "\n",
    "data_dir = os.path.join(work_dir,'_data')\n",
    "file_path = os.path.join('_data/flights.csv')\n",
    "flights = pd.read_csv(file_path)\n",
    "display(flights.head())"
   ]
  },
  {
   "cell_type": "markdown",
   "metadata": {},
   "source": [
    "The `tailnum` column in `flights` contains the plain tail number:"
   ]
  },
  {
   "cell_type": "code",
   "execution_count": null,
   "metadata": {},
   "outputs": [],
   "source": [
    "flights['tailnum'].value_counts()"
   ]
  },
  {
   "cell_type": "markdown",
   "metadata": {},
   "source": [
    "Lets load the planes data frame now:"
   ]
  },
  {
   "cell_type": "code",
   "execution_count": null,
   "metadata": {},
   "outputs": [],
   "source": [
    "planes = pd.read_csv(('_data/planes.csv'),index_col=0)\n",
    "display(planes)\n",
    "\n",
    "# in this data frame we have ['manufacturer'] and also a ['tailnum'] ( which we also have in flights)\n",
    "# idea is to make on data frame with joining flights['tailnum'] by their count , with data from manufacturer data frame ['tailnum','manufacturer']"
   ]
  },
  {
   "cell_type": "markdown",
   "metadata": {},
   "source": [
    "The same column, `tailnum`, is present in `planes` too. \n",
    "\n",
    "**N.B.** For what follows, it is not necessary that any pair of columns containing data that can be matched also bear the same name in two DataFrames (to be elaborated in the live session)."
   ]
  },
  {
   "cell_type": "markdown",
   "metadata": {},
   "source": [
    "We are interested to learn what `manufacturer` (in `planes`) produced the planes that flew the most of the flights present in `flights`. The frequency data - how many flights were observed by plane - are known from the `flights` DataFrame, where planes are identified by their `tailnum`. However, the data on `manufacturer` are found only in the `planes` DataFrame, where planes are also identified by their `tailnum`. We need to bring these two DataFrames, or subsets of them, together in order to merge the information from `flights` with the data in `planes` and proceed with our analysis of `manufacturers`.\n",
    "\n",
    "These are the steps that we will follow in order to perform our analysis:\n",
    "- group `flights` by `tailnum` and count the number of flights per plane;\n",
    "- **join** the resulting DataFrame to `planes`;\n",
    "- inspect what manufacturers produced the most frequently flied aricrafts."
   ]
  },
  {
   "cell_type": "markdown",
   "metadata": {},
   "source": [
    "### Left and right join in Pandas"
   ]
  },
  {
   "cell_type": "markdown",
   "metadata": {},
   "source": [
    "Step 1: Group `flights` by `tailnum` and count the number of flights per plane."
   ]
  },
  {
   "cell_type": "code",
   "execution_count": null,
   "metadata": {},
   "outputs": [],
   "source": [
    "flights_count = flights['tailnum']\\\n",
    "            .value_counts()\\\n",
    "             .reset_index()\\\n",
    "            .rename(columns={'index':'tailnum','count':'number_of_flights'})\\\n",
    "            .sort_values(by='number_of_flights')\n",
    "\n",
    "\n",
    "flights_count"
   ]
  },
  {
   "cell_type": "markdown",
   "metadata": {},
   "source": [
    "Step 2. **Join** the resulting DataFrame to `manufacturers` from `planes`."
   ]
  },
  {
   "cell_type": "code",
   "execution_count": null,
   "metadata": {},
   "outputs": [],
   "source": [
    "planes['manufacturer']"
   ]
  },
  {
   "cell_type": "code",
   "execution_count": null,
   "metadata": {},
   "outputs": [],
   "source": [
    "manufacturers= planes[['tailnum','manufacturer']]\n",
    "display(manufacturers)\n"
   ]
  },
  {
   "cell_type": "code",
   "execution_count": null,
   "metadata": {},
   "outputs": [],
   "source": [
    "manufacturers = manufacturers.merge(flights_count,how='left')\n",
    "display(manufacturers)"
   ]
  },
  {
   "cell_type": "code",
   "execution_count": null,
   "metadata": {},
   "outputs": [],
   "source": [
    "manufacturer_counts = manufacturers[['manufacturer','number_of_flights']]\\\n",
    ".groupby('manufacturer')\\\n",
    ".agg(sum)\\\n",
    ".reset_index()\\\n",
    ".rename(columns={'number_of_flights':'sum'})\\\n",
    ".sort_values(by='sum', ascending=False)\n",
    "\n",
    "manufacturer_counts"
   ]
  },
  {
   "cell_type": "code",
   "execution_count": null,
   "metadata": {},
   "outputs": [],
   "source": [
    "fig, ax = plt.subplots()\n",
    "ax.barh(y='manufacturer', width='sum', data=manufacturer_counts)\n",
    "ax.set_title('Number of flights per manufacturer', size=12, pad=10)\n",
    "ax.set_ylabel(ylabel='Manufacturer', fontsize=8)\n",
    "ax.tick_params(axis='y', which='major', labelsize=6)\n",
    "\n",
    "ax.grid(alpha=.5)"
   ]
  },
  {
   "cell_type": "markdown",
   "metadata": {},
   "source": [
    "When a left join is performed, the data in the left table stays completely unchanged (except for the inclusion of new columns). Let's see: who works where?"
   ]
  },
  {
   "cell_type": "code",
   "execution_count": null,
   "metadata": {},
   "outputs": [],
   "source": [
    "df_left = pd.DataFrame({'Name':['Peter', 'Anna', 'John', 'Marina', 'Suzana'],\n",
    "                        'Department':['English', 'English', 'Russian', 'German', 'Spanish']})\n",
    "df_left"
   ]
  },
  {
   "cell_type": "code",
   "execution_count": null,
   "metadata": {},
   "outputs": [],
   "source": [
    "df_right= pd.DataFrame({'Department':['English', 'Russian', 'German'],\n",
    "                         'Building':['IA', 'II', 'II']})\n",
    "df_right"
   ]
  },
  {
   "cell_type": "code",
   "execution_count": null,
   "metadata": {},
   "outputs": [],
   "source": [
    "df_result = df_left.merge(df_right, how='left')\n",
    "df_result"
   ]
  },
  {
   "cell_type": "markdown",
   "metadata": {},
   "source": [
    "### This part will be focused on my practicing `joins` while using pandas, regarding my meain goal to learn pandas library."
   ]
  },
  {
   "cell_type": "markdown",
   "metadata": {},
   "source": [
    "If there is more than one match, the data from the left table will be replicated when necessary:"
   ]
  },
  {
   "cell_type": "code",
   "execution_count": null,
   "metadata": {},
   "outputs": [],
   "source": [
    "df_left = pd.DataFrame({'Name':['Peter', 'Anna', 'John', 'Marina', 'Suzana'],\n",
    "                        'Department':['English', 'English', 'Russian', 'German', 'Spanish']})\n",
    "df_left"
   ]
  },
  {
   "cell_type": "code",
   "execution_count": null,
   "metadata": {},
   "outputs": [],
   "source": [
    "df_right = pd.DataFrame({'Department':['English', 'English', 'Russian', 'German'],\n",
    "                         'Building':['IA', 'IB', 'II', 'II']})\n",
    "df_right"
   ]
  },
  {
   "cell_type": "code",
   "execution_count": null,
   "metadata": {},
   "outputs": [],
   "source": [
    "df_result = df_left.merge(df_right, how='left', on='Department')\n",
    "df_result\n",
    "\n",
    "(df_result.isna().sum())\n"
   ]
  },
  {
   "cell_type": "markdown",
   "metadata": {},
   "source": [
    "With NaN , expected. "
   ]
  },
  {
   "cell_type": "markdown",
   "metadata": {},
   "source": [
    "### Inner and outer (full) join in Pandas"
   ]
  },
  {
   "cell_type": "markdown",
   "metadata": {},
   "source": [
    "**Inner join**: keep only the rows from the left and right table that match. Nothing else. `pd.DataFrame.merge` performs inner join **by default**; the data are **replicated** from any table if necessary."
   ]
  },
  {
   "cell_type": "markdown",
   "metadata": {},
   "source": [
    "## `.join()` \n",
    "\n",
    "- Joins combine two DataFrames based on a key column(s) or index.\n",
    "\n",
    "### Inner Join: \n",
    "\n",
    "- Returns only matching rows between two DataFrames.\n",
    "\n",
    "### Outer (Full) Join: \n",
    "\n",
    "- Returns all rows from both DataFrames. Missing values in non-matching rows are filled with NaN."
   ]
  },
  {
   "cell_type": "code",
   "execution_count": null,
   "metadata": {},
   "outputs": [],
   "source": [
    "#  Inner Join example:\n",
    "\n",
    "df1= pd.DataFrame({'employee_id':[1,2,3],\n",
    "                   'name':['Alice','Bob','Skyler']})\n",
    "\n",
    "df1"
   ]
  },
  {
   "cell_type": "code",
   "execution_count": null,
   "metadata": {},
   "outputs": [],
   "source": [
    "df2 = pd.DataFrame({\n",
    "    'employee_id': [2, 3, 4],\n",
    "    'salary': [70000, 80000, 90000]\n",
    "})\n",
    "df2"
   ]
  },
  {
   "cell_type": "code",
   "execution_count": null,
   "metadata": {},
   "outputs": [],
   "source": [
    "# Inner join\n",
    "\n",
    "inner_join = pd.merge(df1,df2, on='employee_id', how='inner')\n",
    "display(inner_join)\n",
    "\n",
    "# We see that only rows that overlaps are joined"
   ]
  },
  {
   "cell_type": "markdown",
   "metadata": {},
   "source": [
    "Only employees with IDs 2 and 3 are included because they exist in both DataFrames.\n",
    "\n",
    "- Employee 1 (from df1) and Employee 4 (from df2) are excluded."
   ]
  },
  {
   "cell_type": "markdown",
   "metadata": {},
   "source": [
    "### Now Outer join (full join)"
   ]
  },
  {
   "cell_type": "code",
   "execution_count": null,
   "metadata": {},
   "outputs": [],
   "source": [
    "outer_join = pd.merge(df1,df2, how='outer',on='employee_id')\n",
    "outer_join"
   ]
  },
  {
   "cell_type": "markdown",
   "metadata": {},
   "source": [
    "Employee 1 and 4 are included, but their non-matching values are filled with NaN.\n",
    "\n",
    "For Employee 1, the salary is NaN.\n",
    "\n",
    "For Employee 4, the name is NaN."
   ]
  },
  {
   "cell_type": "markdown",
   "metadata": {},
   "source": [
    "Conclusion : Outer join merges all the rows , and missing ones fill with NaN's \n",
    "\n",
    "Inner Join merges only rows that are the same on both data frames."
   ]
  },
  {
   "cell_type": "markdown",
   "metadata": {},
   "source": [
    "#### Lets do some practice:"
   ]
  },
  {
   "cell_type": "code",
   "execution_count": null,
   "metadata": {},
   "outputs": [],
   "source": [
    "#DF 1 product\n",
    "\n",
    "products = pd.DataFrame({\n",
    "    'product_id':[101,102,103,104],\n",
    "    'product_name':['Laptop', 'Tablet', 'Smartphone', 'Monitor']\n",
    "})\n",
    "\n",
    "products\n",
    "\n",
    "## DF2 sales\n",
    "\n",
    "sales = pd.DataFrame({\n",
    "    'product_id': [101, 103, 105],\n",
    "    'units_sold': [500, 200, 50]\n",
    "})\n",
    "\n",
    "sales"
   ]
  },
  {
   "cell_type": "markdown",
   "metadata": {},
   "source": [
    "`Inner Join: Only products with sales`"
   ]
  },
  {
   "cell_type": "code",
   "execution_count": null,
   "metadata": {},
   "outputs": [],
   "source": [
    "inner_join = pd.merge(products,sales, on='product_id', how='inner')\n",
    "inner_join"
   ]
  },
  {
   "cell_type": "markdown",
   "metadata": {},
   "source": [
    "` Outer Join: All products and sales data`"
   ]
  },
  {
   "cell_type": "code",
   "execution_count": null,
   "metadata": {},
   "outputs": [],
   "source": [
    "outter_join = pd.merge(products,sales, how='outer', on='product_id')\n",
    "outter_join"
   ]
  },
  {
   "cell_type": "markdown",
   "metadata": {},
   "source": [
    "### `Left` and `Right` with `how=' '` can be used to include all rows from only one data frame:"
   ]
  },
  {
   "cell_type": "code",
   "execution_count": null,
   "metadata": {},
   "outputs": [],
   "source": [
    "left_join = pd.merge(products,sales, how='left', on='product_id')\n",
    "left_join"
   ]
  },
  {
   "cell_type": "code",
   "execution_count": null,
   "metadata": {},
   "outputs": [],
   "source": [
    "right_join = pd.merge(products,sales, how='right', on='product_id')\n",
    "right_join"
   ]
  },
  {
   "cell_type": "markdown",
   "metadata": {},
   "source": [
    "### Semi-join and anti-join"
   ]
  },
  {
   "cell_type": "markdown",
   "metadata": {},
   "source": [
    "A **semi-join** *filters the left table* down to those observations that have a match in the right table:"
   ]
  },
  {
   "cell_type": "code",
   "execution_count": null,
   "metadata": {},
   "outputs": [],
   "source": [
    "df_left = pd.DataFrame({'ID':[1, 2, 3, 4, 5, 6, 7, 8],\n",
    "                        'Price':[173, 452, 333, 98, 76, 899, 200, 201]})\n",
    "df_left"
   ]
  },
  {
   "cell_type": "code",
   "execution_count": null,
   "metadata": {},
   "outputs": [],
   "source": [
    "df_right = pd.DataFrame({'ID':[1, 2, 3, 3, 3, 7, 7, 8],\n",
    "                         'Store':['A4', 'A4', 'A1', 'B3', 'C6', 'A1', 'B2', 'B2']})\n",
    "df_right"
   ]
  },
  {
   "cell_type": "code",
   "execution_count": null,
   "metadata": {},
   "outputs": [],
   "source": [
    "df_result = df_left[df_left['ID'].isin(df_right['ID'])]\n",
    "df_result"
   ]
  },
  {
   "cell_type": "markdown",
   "metadata": {},
   "source": [
    "An **anti-join** returns the observations in the left table *that do not have* a matching observation in the right table."
   ]
  },
  {
   "cell_type": "code",
   "execution_count": null,
   "metadata": {},
   "outputs": [],
   "source": [
    "df_left = pd.DataFrame({'ID':[1, 2, 3, 4, 5, 6, 7, 8],\n",
    "                        'Price':[173, 452, 333, 98, 76, 899, 200, 201]})\n",
    "df_left"
   ]
  },
  {
   "cell_type": "code",
   "execution_count": null,
   "metadata": {},
   "outputs": [],
   "source": [
    "df_right = pd.DataFrame({'ID':[1, 2, 3, 3, 3, 7, 7, 8],\n",
    "                         'Store':['A4', 'A4', 'A1', 'B3', 'C6', 'A1', 'B2', 'B2']})\n",
    "df_right"
   ]
  },
  {
   "cell_type": "code",
   "execution_count": null,
   "metadata": {},
   "outputs": [],
   "source": [
    "df_anti_join = df_left[~(df_left['ID']).isin(df_right['ID'])]\n",
    "df_anti_join\n",
    "\n",
    "# - filter ID in result from the ID *not* in the right table\n",
    "\n"
   ]
  },
  {
   "cell_type": "markdown",
   "metadata": {},
   "source": [
    "### Multiple keys and different column names"
   ]
  },
  {
   "cell_type": "code",
   "execution_count": null,
   "metadata": {},
   "outputs": [],
   "source": [
    "df_left = pd.DataFrame({'ID':[1, 2, 3, 4, 5, 6, 7, 8],\n",
    "                        'Demand':['Low', 'Low', 'Low', 'Low', 'High', 'High', 'High', 'High'],\n",
    "                        'Price':[173, 452, 333, 98, 76, 899, 200, 201]})\n",
    "df_left"
   ]
  },
  {
   "cell_type": "code",
   "execution_count": null,
   "metadata": {},
   "outputs": [],
   "source": [
    "df_right = pd.DataFrame({'ID':[1, 2, 3, 5, 5, 7, 7, 8],\n",
    "                         'InStoreDemand':['Low', 'High', 'High', 'Low', 'High', 'Low', 'High', 'High'],\n",
    "                         'Store':['A4', 'A4', 'A1', 'B3', 'C6', 'A1', 'B2', 'B2']})\n",
    "df_right"
   ]
  },
  {
   "cell_type": "code",
   "execution_count": null,
   "metadata": {},
   "outputs": [],
   "source": [
    "df_result = df_left.merge(df_right, \n",
    "                          left_on=['ID', 'Demand'], \n",
    "                          right_on=['ID', 'InStoreDemand'])\n",
    "df_result"
   ]
  },
  {
   "cell_type": "markdown",
   "metadata": {},
   "source": [
    "#### More examples, Practice joins in Pandas \n",
    "\n",
    "1) (left join example)"
   ]
  },
  {
   "cell_type": "markdown",
   "metadata": {},
   "source": [
    "Compute the average delay of departure for flights across different *destination* airports. Include the standard deviation of the delay too.\n",
    "\n",
    "Load `airports`:"
   ]
  },
  {
   "cell_type": "code",
   "execution_count": null,
   "metadata": {},
   "outputs": [],
   "source": [
    "airports = pd.read_csv(os.path.join(data_dir,'airports.csv'),index_col=0)\n",
    "airports.head()\n",
    "\n"
   ]
  },
  {
   "cell_type": "code",
   "execution_count": null,
   "metadata": {},
   "outputs": [],
   "source": [
    "flights.dtypes"
   ]
  },
  {
   "cell_type": "code",
   "execution_count": null,
   "metadata": {},
   "outputs": [],
   "source": [
    "mean_dep_delay = flights[['dest','dep_delay']]\n",
    "print(mean_dep_delay)\n",
    "\n",
    "#lets filter this"
   ]
  },
  {
   "cell_type": "code",
   "execution_count": null,
   "metadata": {},
   "outputs": [],
   "source": [
    "mean_dep_delay.dropna()\n",
    "\n",
    "mean_dep_delay.groupby('dest')\\\n",
    "            .agg(['mean','std'])\\\n",
    "            .rename(columns={'dest':'destination','dep_delay':'departure_delay'})\\\n",
    "            .reset_index()"
   ]
  },
  {
   "cell_type": "markdown",
   "metadata": {},
   "source": [
    "Join into `Airports`"
   ]
  },
  {
   "cell_type": "code",
   "execution_count": null,
   "metadata": {},
   "outputs": [],
   "source": [
    "airports_delay = airports.merge(mean_dep_delay,\n",
    "                                how='left',\n",
    "                                left_on='faa',\n",
    "                                right_on='dest')\n",
    "\n",
    "airports_delay=airports_delay.dropna()\n",
    "airports_delay.sort_values(by='mean', ascending=False, inplace=True)\n",
    "airports_delay[['name', 'mean', 'std']]\n"
   ]
  },
  {
   "cell_type": "markdown",
   "metadata": {},
   "source": [
    "### Pivot: Long-to-Wide and Wide-to-Long transformations "
   ]
  },
  {
   "cell_type": "markdown",
   "metadata": {},
   "source": [
    "The so called **wide** and **long** data formats refer to the respective usage of DataFrames to represent the same information in two different ways. \n",
    "\n",
    "Let's begin with the **long** format:"
   ]
  },
  {
   "cell_type": "code",
   "execution_count": 106,
   "metadata": {},
   "outputs": [
    {
     "data": {
      "text/html": [
       "<div>\n",
       "<style scoped>\n",
       "    .dataframe tbody tr th:only-of-type {\n",
       "        vertical-align: middle;\n",
       "    }\n",
       "\n",
       "    .dataframe tbody tr th {\n",
       "        vertical-align: top;\n",
       "    }\n",
       "\n",
       "    .dataframe thead th {\n",
       "        text-align: right;\n",
       "    }\n",
       "</style>\n",
       "<table border=\"1\" class=\"dataframe\">\n",
       "  <thead>\n",
       "    <tr style=\"text-align: right;\">\n",
       "      <th></th>\n",
       "      <th>store</th>\n",
       "      <th>itemID</th>\n",
       "      <th>price</th>\n",
       "    </tr>\n",
       "  </thead>\n",
       "  <tbody>\n",
       "    <tr>\n",
       "      <th>0</th>\n",
       "      <td>Center</td>\n",
       "      <td>1</td>\n",
       "      <td>110</td>\n",
       "    </tr>\n",
       "    <tr>\n",
       "      <th>1</th>\n",
       "      <td>Center</td>\n",
       "      <td>2</td>\n",
       "      <td>25</td>\n",
       "    </tr>\n",
       "    <tr>\n",
       "      <th>2</th>\n",
       "      <td>Center</td>\n",
       "      <td>3</td>\n",
       "      <td>47</td>\n",
       "    </tr>\n",
       "    <tr>\n",
       "      <th>3</th>\n",
       "      <td>Center</td>\n",
       "      <td>4</td>\n",
       "      <td>200</td>\n",
       "    </tr>\n",
       "    <tr>\n",
       "      <th>4</th>\n",
       "      <td>North</td>\n",
       "      <td>1</td>\n",
       "      <td>105</td>\n",
       "    </tr>\n",
       "    <tr>\n",
       "      <th>5</th>\n",
       "      <td>North</td>\n",
       "      <td>2</td>\n",
       "      <td>20</td>\n",
       "    </tr>\n",
       "    <tr>\n",
       "      <th>6</th>\n",
       "      <td>North</td>\n",
       "      <td>3</td>\n",
       "      <td>41</td>\n",
       "    </tr>\n",
       "    <tr>\n",
       "      <th>7</th>\n",
       "      <td>North</td>\n",
       "      <td>4</td>\n",
       "      <td>150</td>\n",
       "    </tr>\n",
       "  </tbody>\n",
       "</table>\n",
       "</div>"
      ],
      "text/plain": [
       "    store  itemID  price\n",
       "0  Center       1    110\n",
       "1  Center       2     25\n",
       "2  Center       3     47\n",
       "3  Center       4    200\n",
       "4   North       1    105\n",
       "5   North       2     20\n",
       "6   North       3     41\n",
       "7   North       4    150"
      ]
     },
     "execution_count": 106,
     "metadata": {},
     "output_type": "execute_result"
    }
   ],
   "source": [
    "df_long = pd.DataFrame({'store': ['Center', 'Center', 'Center', 'Center', 'North', 'North', 'North', 'North'],\n",
    "     'itemID': [1, 2, 3, 4, 1, 2, 3, 4],\n",
    "     'price': [110, 25, 47, 200, 105, 20, 41, 150]})\n",
    "df_long\n"
   ]
  },
  {
   "cell_type": "markdown",
   "metadata": {},
   "source": [
    "The **wide** representation of the same data can be obtained from `pandas.pivot` in the following way:"
   ]
  },
  {
   "cell_type": "code",
   "execution_count": 107,
   "metadata": {},
   "outputs": [
    {
     "data": {
      "text/html": [
       "<div>\n",
       "<style scoped>\n",
       "    .dataframe tbody tr th:only-of-type {\n",
       "        vertical-align: middle;\n",
       "    }\n",
       "\n",
       "    .dataframe tbody tr th {\n",
       "        vertical-align: top;\n",
       "    }\n",
       "\n",
       "    .dataframe thead th {\n",
       "        text-align: right;\n",
       "    }\n",
       "</style>\n",
       "<table border=\"1\" class=\"dataframe\">\n",
       "  <thead>\n",
       "    <tr style=\"text-align: right;\">\n",
       "      <th></th>\n",
       "      <th>itemID</th>\n",
       "      <th>Center</th>\n",
       "      <th>North</th>\n",
       "    </tr>\n",
       "  </thead>\n",
       "  <tbody>\n",
       "    <tr>\n",
       "      <th>0</th>\n",
       "      <td>1</td>\n",
       "      <td>110</td>\n",
       "      <td>105</td>\n",
       "    </tr>\n",
       "    <tr>\n",
       "      <th>1</th>\n",
       "      <td>2</td>\n",
       "      <td>25</td>\n",
       "      <td>20</td>\n",
       "    </tr>\n",
       "    <tr>\n",
       "      <th>2</th>\n",
       "      <td>3</td>\n",
       "      <td>47</td>\n",
       "      <td>41</td>\n",
       "    </tr>\n",
       "    <tr>\n",
       "      <th>3</th>\n",
       "      <td>4</td>\n",
       "      <td>200</td>\n",
       "      <td>150</td>\n",
       "    </tr>\n",
       "  </tbody>\n",
       "</table>\n",
       "</div>"
      ],
      "text/plain": [
       "   itemID  Center  North\n",
       "0       1     110    105\n",
       "1       2      25     20\n",
       "2       3      47     41\n",
       "3       4     200    150"
      ]
     },
     "execution_count": 107,
     "metadata": {},
     "output_type": "execute_result"
    }
   ],
   "source": [
    "df_wide = pd.pivot(df_long, \n",
    "                   index='itemID', \n",
    "                   columns='store', \n",
    "                   values='price').reset_index().rename_axis(None, axis=1)\n",
    "df_wide"
   ]
  },
  {
   "cell_type": "code",
   "execution_count": 109,
   "metadata": {},
   "outputs": [
    {
     "data": {
      "text/html": [
       "<div>\n",
       "<style scoped>\n",
       "    .dataframe tbody tr th:only-of-type {\n",
       "        vertical-align: middle;\n",
       "    }\n",
       "\n",
       "    .dataframe tbody tr th {\n",
       "        vertical-align: top;\n",
       "    }\n",
       "\n",
       "    .dataframe thead th {\n",
       "        text-align: right;\n",
       "    }\n",
       "</style>\n",
       "<table border=\"1\" class=\"dataframe\">\n",
       "  <thead>\n",
       "    <tr style=\"text-align: right;\">\n",
       "      <th></th>\n",
       "      <th>store</th>\n",
       "      <th>1</th>\n",
       "      <th>2</th>\n",
       "      <th>3</th>\n",
       "      <th>4</th>\n",
       "    </tr>\n",
       "  </thead>\n",
       "  <tbody>\n",
       "    <tr>\n",
       "      <th>0</th>\n",
       "      <td>Center</td>\n",
       "      <td>110</td>\n",
       "      <td>25</td>\n",
       "      <td>47</td>\n",
       "      <td>200</td>\n",
       "    </tr>\n",
       "    <tr>\n",
       "      <th>1</th>\n",
       "      <td>North</td>\n",
       "      <td>105</td>\n",
       "      <td>20</td>\n",
       "      <td>41</td>\n",
       "      <td>150</td>\n",
       "    </tr>\n",
       "  </tbody>\n",
       "</table>\n",
       "</div>"
      ],
      "text/plain": [
       "    store    1   2   3    4\n",
       "0  Center  110  25  47  200\n",
       "1   North  105  20  41  150"
      ]
     },
     "execution_count": 109,
     "metadata": {},
     "output_type": "execute_result"
    }
   ],
   "source": [
    "df_wide = pd.pivot(df_long,\n",
    "                   index='store',\n",
    "                   columns='itemID',\n",
    "                   values='price').reset_index().rename_axis(None, axis=1)\n",
    "\n",
    "df_wide"
   ]
  },
  {
   "cell_type": "markdown",
   "metadata": {},
   "source": [
    "### Readings and Videos\n",
    "- [Visual JOIN](https://joins.spathon.com/)\n",
    "- [Combining Data in pandas With merge(), .join(), and concat()](https://realpython.com/pandas-merge-join-and-concat/)\n",
    "- [Pivot tables with Pandas, Reuven Lerner](https://www.youtube.com/watch?v=abO6e_b-EHs)"
   ]
  },
  {
   "cell_type": "markdown",
   "metadata": {},
   "source": [
    "### A highly recommended To Do\n",
    "- [Pivot Tables, from Python Data Science Handbook by Jake VanderPlas](https://jakevdp.github.io/PythonDataScienceHandbook/03.09-pivot-tables.html)"
   ]
  }
 ],
 "metadata": {
  "kernelspec": {
   "display_name": "Python 3",
   "language": "python",
   "name": "python3"
  },
  "language_info": {
   "codemirror_mode": {
    "name": "ipython",
    "version": 3
   },
   "file_extension": ".py",
   "mimetype": "text/x-python",
   "name": "python",
   "nbconvert_exporter": "python",
   "pygments_lexer": "ipython3",
   "version": "3.11.4"
  }
 },
 "nbformat": 4,
 "nbformat_minor": 2
}
