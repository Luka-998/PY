{
 "cells": [
  {
   "cell_type": "markdown",
   "metadata": {},
   "source": [
    "# DATA SCIENCE SESSIONS VOL. 3\n",
    "### A Foundational Python Data Science Course\n",
    "## Session 08: Intro to Probability Theory. Experimental and Theoretical Probability. Discrete Random Variables\n",
    "\n",
    "[&larr; Back to course webpage](https://datakolektiv.com/)\n",
    "\n",
    "Feedback should be send to [goran.milovanovic@datakolektiv.com](mailto:goran.milovanovic@datakolektiv.com). \n",
    "\n",
    "These notebooks accompany the DATA SCIENCE SESSIONS VOL. 3 :: A Foundational Python Data Science Course."
   ]
  },
  {
   "cell_type": "markdown",
   "metadata": {},
   "source": [
    "### Lecturers\n",
    "\n",
    "[Goran S. Milovanović, PhD, DataKolektiv, Chief Scientist & Owner](https://www.linkedin.com/in/gmilovanovic/)\n",
    "\n",
    "[Aleksandar Cvetković, PhD, DataKolektiv, Consultant](https://www.linkedin.com/in/alegzndr/)\n",
    "\n",
    "[Ilija Lazarević, MA, DataKolektiv, Consultant](https://www.linkedin.com/in/ilijalazarevic/)"
   ]
  },
  {
   "cell_type": "markdown",
   "metadata": {},
   "source": [
    "---"
   ]
  },
  {
   "cell_type": "markdown",
   "metadata": {},
   "source": [
    "## 1. Event and Experimental Probability"
   ]
  },
  {
   "cell_type": "markdown",
   "metadata": {},
   "source": [
    "---\n",
    "\n",
    "Let's get back to the coin. $\\frac{1}{2}$ says you. But what does it mean? Maybe you ment that out of two tossings you'll land exactly one Tails ($TH$ or $HT$)? Okay, let's toss a coin two times. I got $TT$. Maybe my assumption was wrong? Or I've just got unlucky? Let's toss it again. $HT$ this time. Maybe I'm actually right? Or I got lucky. Another two tosses! $HH$. Hmm... Unlucky again? But can I talk about luck in mathematics and in hypothesis testing?\n",
    "\n",
    "What about the other answer: 50%. Does that mean that I'll land Tails exactly half the times when tossing a coin $N$ times? Let's toss it, say, 10 times. But I don't actually have a coin. Luckily I have Python which can simulate tossing a coin. "
   ]
  },
  {
   "cell_type": "code",
   "execution_count": 3,
   "metadata": {},
   "outputs": [],
   "source": [
    "import numpy as np\n",
    "import pandas as pd\n",
    "import math\n",
    "import matplotlib.pyplot as plt\n",
    "import seaborn as sns\n",
    "import tabulate as tab\n",
    "rng = np.random.default_rng(seed=1023) #random number generator\n",
    "\n"
   ]
  },
  {
   "cell_type": "code",
   "execution_count": 4,
   "metadata": {},
   "outputs": [
    {
     "data": {
      "text/plain": [
       "array(['H', 'H', 'T', 'T', 'T', 'T', 'H', 'T', 'H', 'T'], dtype='<U1')"
      ]
     },
     "execution_count": 4,
     "metadata": {},
     "output_type": "execute_result"
    }
   ],
   "source": [
    "coin = ['H','T']\n",
    "tossing = rng.choice(coin, size=10)\n",
    "\n",
    "tossing\n",
    "\n",
    "# array(['H, T', 'H, T', 'H, T', 'H, T', 'H, T', 'H, T', 'H, T', 'H, T', 'H, T', 'H, T'], dtype='<U4')"
   ]
  },
  {
   "cell_type": "markdown",
   "metadata": {},
   "source": [
    "6 of 10 Tails. Close, but not quite 50%. But, wait. 50% also means 50/100. Let's toss a coin 100 times then. "
   ]
  },
  {
   "cell_type": "code",
   "execution_count": 5,
   "metadata": {},
   "outputs": [
    {
     "data": {
      "text/plain": [
       "array(['T', 'H', 'H', 'H', 'T', 'H', 'T', 'T', 'H', 'T', 'H', 'H', 'T',\n",
       "       'H', 'T', 'H', 'H', 'H', 'T', 'T', 'H', 'T', 'H', 'H', 'H', 'H',\n",
       "       'T', 'H', 'H', 'T', 'H', 'H', 'T', 'T', 'H', 'H', 'H', 'T', 'H',\n",
       "       'T', 'H', 'H', 'T', 'H', 'T', 'H', 'T', 'H', 'T', 'T', 'H', 'H',\n",
       "       'H', 'H', 'T', 'T', 'T', 'T', 'T', 'T', 'T', 'H', 'T', 'H', 'T',\n",
       "       'T', 'T', 'T', 'H', 'H', 'H', 'H', 'H', 'H', 'T', 'H', 'H', 'H',\n",
       "       'T', 'T', 'T', 'T', 'H', 'T', 'H', 'T', 'T', 'H', 'H', 'T', 'T',\n",
       "       'H', 'T', 'H', 'T', 'T', 'T', 'H', 'H', 'H'], dtype='<U1')"
      ]
     },
     "execution_count": 5,
     "metadata": {},
     "output_type": "execute_result"
    }
   ],
   "source": [
    "tossing = rng.choice(coin, size=100)\n",
    "tossing\n",
    "\n"
   ]
  },
  {
   "cell_type": "markdown",
   "metadata": {},
   "source": [
    "How many Tails, then?"
   ]
  },
  {
   "cell_type": "code",
   "execution_count": 6,
   "metadata": {},
   "outputs": [
    {
     "data": {
      "text/plain": [
       "(array(['H', 'T'], dtype='<U1'), array([53, 47], dtype=int64))"
      ]
     },
     "execution_count": 6,
     "metadata": {},
     "output_type": "execute_result"
    }
   ],
   "source": [
    "np.unique(tossing, return_counts=True)"
   ]
  },
  {
   "cell_type": "markdown",
   "metadata": {},
   "source": [
    "47/100. Not bad. But not quite 50%. Lucky, but not as quite? (But can I talk about luck in mathematics and in hypothesis testing?) What if those 50% is actually an *approximation* of the result? Let's toss a coin 1000 times.  "
   ]
  },
  {
   "cell_type": "code",
   "execution_count": 7,
   "metadata": {},
   "outputs": [
    {
     "data": {
      "text/plain": [
       "(array(['H', 'T'], dtype='<U1'), array([480, 520], dtype=int64))"
      ]
     },
     "execution_count": 7,
     "metadata": {},
     "output_type": "execute_result"
    }
   ],
   "source": [
    "tossing = rng.choice(coin, size=1000)\n",
    "np.unique(tossing, return_counts=True)"
   ]
  },
  {
   "cell_type": "markdown",
   "metadata": {},
   "source": [
    "520/1000. That's 52%. And that's not that quite bad *approximation*. But still... Now, let's toss a coin ONE MILLION TIMES."
   ]
  },
  {
   "cell_type": "code",
   "execution_count": 8,
   "metadata": {},
   "outputs": [
    {
     "data": {
      "text/plain": [
       "(array(['H', 'T'], dtype='<U1'), array([500537, 499463], dtype=int64))"
      ]
     },
     "execution_count": 8,
     "metadata": {},
     "output_type": "execute_result"
    }
   ],
   "source": [
    "tossing = rng.choice(coin, size=10**6)\n",
    "np.unique(tossing, return_counts=True)"
   ]
  },
  {
   "cell_type": "code",
   "execution_count": 9,
   "metadata": {},
   "outputs": [
    {
     "data": {
      "text/plain": [
       "(array(['H', 'T'], dtype='<U1'), array([499561, 500439], dtype=int64))"
      ]
     },
     "execution_count": 9,
     "metadata": {},
     "output_type": "execute_result"
    }
   ],
   "source": [
    "tossing = rng.choice(coin, size=10**6)\n",
    "np.unique(tossing,return_counts=True)"
   ]
  },
  {
   "cell_type": "markdown",
   "metadata": {},
   "source": [
    "### `499463/10**6`\n",
    "\n",
    "Well - that's 49.95%, almost 50%. Quite good approximation. \n",
    "\n",
    "What if tossed a coin more than million times?"
   ]
  },
  {
   "cell_type": "code",
   "execution_count": 10,
   "metadata": {},
   "outputs": [
    {
     "data": {
      "text/plain": [
       "(array(['H', 'T'], dtype='<U1'), array([5000091, 4999909], dtype=int64))"
      ]
     },
     "execution_count": 10,
     "metadata": {},
     "output_type": "execute_result"
    }
   ],
   "source": [
    "tossing = rng.choice(coin, size=10**7)\n",
    "np.unique(tossing, return_counts=True)"
   ]
  },
  {
   "cell_type": "code",
   "execution_count": 11,
   "metadata": {},
   "outputs": [
    {
     "data": {
      "text/plain": [
       "0.5000092"
      ]
     },
     "execution_count": 11,
     "metadata": {},
     "output_type": "execute_result"
    }
   ],
   "source": [
    "5000092/10**7"
   ]
  },
  {
   "cell_type": "markdown",
   "metadata": {},
   "source": [
    "This is even better, veeeery close to 50%; 50.001%, to be more exact.\n",
    "\n",
    "And if we tossed a coin **infinitely many times**? Then there is no approximation. We'd get 50% sharp. Mathematically, we can write this\n",
    "\n",
    "$$ P(T) = \\lim_{N_{\\rm TRIES}\\rightarrow\\infty}\\frac{n_{\\rm HITS}}{N_{\\rm TRIES}} = 0.5 = \\frac{1}{2}.$$"
   ]
  },
  {
   "cell_type": "markdown",
   "metadata": {},
   "source": [
    "What are all these letters? Let's interpret this formula one by one. \n",
    "\n",
    "- $T$ is the *event*: event of landing Tails when tossing ONE coin. \n",
    "\n",
    "\n",
    "- $P$ is the *probability*: we may consider it as a function which *measures* how probable an event is. So, $P(T)$ is probability of langing Tails when tossing one coin. \n",
    "\n",
    "\n",
    "- $N_{\\rm TRIES}$ is the number of trials of the SAME experiment. In our case, it's the number of tossing a coin. \n",
    "\n",
    "\n",
    "- $n_{\\rm HITS}$ is the number of 'hits', i.e. the number of desired outcomes in our set of trials. In our case, it's the number of Tails landed. \n",
    "\n",
    "\n",
    "- $\\lim_{N_{\\rm TRIES}\\rightarrow\\infty}$ is the *limit*: a value of the fraction $\\frac{n_{\\rm HITS}}{N_{\\rm TRIES}}$ which we would obtain if we would *theoretically* be able to toss a coin infinitely many times in our finite lives. But we can't do that. We can only obtain an *experimental* (or *statistical*) approximation of the *theoretical* value in finite number of trials. And as we demonstrated - the larger number of trials, the better the approximation. "
   ]
  },
  {
   "cell_type": "markdown",
   "metadata": {},
   "source": [
    "***"
   ]
  },
  {
   "cell_type": "markdown",
   "metadata": {},
   "source": [
    "Let's now illustrate this *limit* on another example: rolling a six-sided die. Intuintively we say that the probability of getting a 6 is $\\frac{1}{6}$, or 16.666...% . Similarly as with the coin, we'll simulate rolling a die for various numbers of trials and list the results, i.e. approximations of theoretical probability."
   ]
  },
  {
   "cell_type": "code",
   "execution_count": 12,
   "metadata": {},
   "outputs": [
    {
     "name": "stdout",
     "output_type": "stream",
     "text": [
      "|    |     No. of Rolls |        No. of 6s |   Experimental Probability |\n",
      "|---:|-----------------:|-----------------:|---------------------------:|\n",
      "|  0 |     56           |      6           |                    0.10714 |\n",
      "|  1 |     63           |     10           |                    0.15873 |\n",
      "|  2 |     71           |     11           |                    0.15493 |\n",
      "|  3 |     81           |     12           |                    0.14815 |\n",
      "|  4 |     91           |     16           |                    0.17582 |\n",
      "|  5 |    103           |     16           |                    0.15534 |\n",
      "|  6 |    116           |     21           |                    0.18103 |\n",
      "|  7 |    132           |     15           |                    0.11364 |\n",
      "|  8 |    149           |     24           |                    0.16107 |\n",
      "|  9 |    168           |     44           |                    0.2619  |\n",
      "| 10 |    190           |     31           |                    0.16316 |\n",
      "| 11 |    215           |     26           |                    0.12093 |\n",
      "| 12 |    243           |     46           |                    0.1893  |\n",
      "| 13 |    275           |     43           |                    0.15636 |\n",
      "| 14 |    310           |     54           |                    0.17419 |\n",
      "| 15 |    351           |     58           |                    0.16524 |\n",
      "| 16 |    396           |     63           |                    0.15909 |\n",
      "| 17 |    448           |     66           |                    0.14732 |\n",
      "| 18 |    506           |     92           |                    0.18182 |\n",
      "| 19 |    572           |     94           |                    0.16434 |\n",
      "| 20 |    646           |    120           |                    0.18576 |\n",
      "| 21 |    730           |    109           |                    0.14932 |\n",
      "| 22 |    825           |    139           |                    0.16848 |\n",
      "| 23 |    932           |    152           |                    0.16309 |\n",
      "| 24 |   1053           |    165           |                    0.1567  |\n",
      "| 25 |   1190           |    207           |                    0.17395 |\n",
      "| 26 |   1345           |    224           |                    0.16654 |\n",
      "| 27 |   1519           |    235           |                    0.15471 |\n",
      "| 28 |   1717           |    305           |                    0.17764 |\n",
      "| 29 |   1940           |    303           |                    0.15619 |\n",
      "| 30 |   2192           |    369           |                    0.16834 |\n",
      "| 31 |   2477           |    434           |                    0.17521 |\n",
      "| 32 |   2798           |    488           |                    0.17441 |\n",
      "| 33 |   3162           |    566           |                    0.179   |\n",
      "| 34 |   3572           |    596           |                    0.16685 |\n",
      "| 35 |   4037           |    633           |                    0.1568  |\n",
      "| 36 |   4561           |    786           |                    0.17233 |\n",
      "| 37 |   5153           |    856           |                    0.16612 |\n",
      "| 38 |   5823           |    968           |                    0.16624 |\n",
      "| 39 |   6579           |   1114           |                    0.16933 |\n",
      "| 40 |   7433           |   1237           |                    0.16642 |\n",
      "| 41 |   8399           |   1401           |                    0.16681 |\n",
      "| 42 |   9490           |   1568           |                    0.16523 |\n",
      "| 43 |  10722           |   1774           |                    0.16545 |\n",
      "| 44 |  12115           |   1919           |                    0.1584  |\n",
      "| 45 |  13688           |   2301           |                    0.1681  |\n",
      "| 46 |  15466           |   2597           |                    0.16792 |\n",
      "| 47 |  17475           |   2932           |                    0.16778 |\n",
      "| 48 |  19744           |   3204           |                    0.16228 |\n",
      "| 49 |  22309           |   3750           |                    0.16809 |\n",
      "| 50 |  25206           |   4317           |                    0.17127 |\n",
      "| 51 |  28480           |   4751           |                    0.16682 |\n",
      "| 52 |  32179           |   5401           |                    0.16784 |\n",
      "| 53 |  36358           |   6043           |                    0.16621 |\n",
      "| 54 |  41080           |   6718           |                    0.16353 |\n",
      "| 55 |  46415           |   7744           |                    0.16684 |\n",
      "| 56 |  52444           |   8891           |                    0.16953 |\n",
      "| 57 |  59255           |   9823           |                    0.16578 |\n",
      "| 58 |  66951           |  11092           |                    0.16567 |\n",
      "| 59 |  75646           |  12678           |                    0.1676  |\n",
      "| 60 |  85470           |  14145           |                    0.1655  |\n",
      "| 61 |  96571           |  16081           |                    0.16652 |\n",
      "| 62 | 109113           |  17945           |                    0.16446 |\n",
      "| 63 | 123284           |  20627           |                    0.16731 |\n",
      "| 64 | 139296           |  23106           |                    0.16588 |\n",
      "| 65 | 157387           |  26320           |                    0.16723 |\n",
      "| 66 | 177827           |  29485           |                    0.16581 |\n",
      "| 67 | 200923           |  33624           |                    0.16735 |\n",
      "| 68 | 227018           |  37663           |                    0.1659  |\n",
      "| 69 | 256502           |  42930           |                    0.16737 |\n",
      "| 70 | 289815           |  48222           |                    0.16639 |\n",
      "| 71 | 327454           |  54649           |                    0.16689 |\n",
      "| 72 | 369983           |  61705           |                    0.16678 |\n",
      "| 73 | 418034           |  69505           |                    0.16627 |\n",
      "| 74 | 472326           |  78449           |                    0.16609 |\n",
      "| 75 | 533669           |  89059           |                    0.16688 |\n",
      "| 76 | 602980           | 100550           |                    0.16676 |\n",
      "| 77 | 681292           | 114013           |                    0.16735 |\n",
      "| 78 | 769774           | 127854           |                    0.16609 |\n",
      "| 79 | 869749           | 145830           |                    0.16767 |\n",
      "| 80 | 982707           | 163945           |                    0.16683 |\n",
      "| 81 |      1.11034e+06 | 185029           |                    0.16664 |\n",
      "| 82 |      1.25454e+06 | 209332           |                    0.16686 |\n",
      "| 83 |      1.41747e+06 | 236612           |                    0.16693 |\n",
      "| 84 |      1.60157e+06 | 267273           |                    0.16688 |\n",
      "| 85 |      1.80957e+06 | 300822           |                    0.16624 |\n",
      "| 86 |      2.04459e+06 | 340730           |                    0.16665 |\n",
      "| 87 |      2.31013e+06 | 384549           |                    0.16646 |\n",
      "| 88 |      2.61016e+06 | 434777           |                    0.16657 |\n",
      "| 89 |      2.94915e+06 | 491056           |                    0.16651 |\n",
      "| 90 |      3.33217e+06 | 556237           |                    0.16693 |\n",
      "| 91 |      3.76494e+06 | 627055           |                    0.16655 |\n",
      "| 92 |      4.2539e+06  | 708226           |                    0.16649 |\n",
      "| 93 |      4.80638e+06 | 802023           |                    0.16687 |\n",
      "| 94 |      5.43061e+06 | 904614           |                    0.16658 |\n",
      "| 95 |      6.13591e+06 |      1.02276e+06 |                    0.16668 |\n",
      "| 96 |      6.93281e+06 |      1.1564e+06  |                    0.1668  |\n",
      "| 97 |      7.8332e+06  |      1.30608e+06 |                    0.16674 |\n",
      "| 98 |      8.85054e+06 |      1.4752e+06  |                    0.16668 |\n",
      "| 99 |      1e+07       |      1.6667e+06  |                    0.16667 |\n"
     ]
    }
   ],
   "source": [
    "exp_prob_df = pd.DataFrame(columns=['No. of Rolls', 'No. of 6s', 'Experimental Probability'])\n",
    "\n",
    "number_of_rolls = np.logspace(1.75, 7, 100, dtype=int).tolist()\n",
    "number_of_6s = []\n",
    "die = list(range(1, 7))\n",
    "           \n",
    "for n_rolls in number_of_rolls:\n",
    "    rolling = rng.choice(die, size=n_rolls)\n",
    "    \n",
    "    results = np.unique(rolling, return_counts=True)\n",
    "    n_6 = results[1][-1]\n",
    "    number_of_6s.append(n_6)\n",
    "\n",
    "number_of_6s = np.asarray(number_of_6s)\n",
    "\n",
    "exp_prob_df['No. of Rolls'] = number_of_rolls\n",
    "exp_prob_df['No. of 6s'] = number_of_6s\n",
    "exp_prob_df['Experimental Probability'] = np.round(number_of_6s/number_of_rolls, 5)\n",
    "    \n",
    "    \n",
    "print(exp_prob_df.to_markdown())"
   ]
  },
  {
   "cell_type": "markdown",
   "metadata": {},
   "source": [
    "And here's how our limit looks like:"
   ]
  },
  {
   "cell_type": "markdown",
   "metadata": {},
   "source": [
    "by scatter plot using seaborn"
   ]
  },
  {
   "cell_type": "code",
   "execution_count": 13,
   "metadata": {},
   "outputs": [
    {
     "data": {
      "image/png": "[encoded data removed]",
      "text/plain": [
       "<Figure size 1600x1000 with 1 Axes>"
      ]
     },
     "metadata": {},
     "output_type": "display_data"
    }
   ],
   "source": [
    "fig,ax = plt.subplots(figsize=(16,10))\n",
    "sns.scatterplot(ax=ax,data=exp_prob_df, x='No. of Rolls',y='Experimental Probability');\n",
    "ax.set_xscale('log')\n",
    "ax.axhline(0.16667,c='b')\n",
    "ax.set_yticks(np.linspace(exp_prob_df['Experimental Probability'].min(), exp_prob_df['Experimental Probability'].max(),25))\n",
    "ax.legend(['Theoretical Probability']);\n",
    "ax.grid(alpha=.1)\n"
   ]
  },
  {
   "cell_type": "markdown",
   "metadata": {},
   "source": [
    "scatter plot by using matplotlib."
   ]
  },
  {
   "cell_type": "code",
   "execution_count": 14,
   "metadata": {},
   "outputs": [
    {
     "data": {
      "text/plain": [
       "<matplotlib.lines.Line2D at 0x2a69b658d50>"
      ]
     },
     "execution_count": 14,
     "metadata": {},
     "output_type": "execute_result"
    },
    {
     "data": {
      "image/png": "[encoded data removed]",
      "text/plain": [
       "<Figure size 1800x1200 with 1 Axes>"
      ]
     },
     "metadata": {},
     "output_type": "display_data"
    }
   ],
   "source": [
    "plt.figure(figsize=(18,12))\n",
    "plt.scatter(data=exp_prob_df,x='No. of Rolls',y='Experimental Probability')\n",
    "plt.yticks(np.linspace(exp_prob_df['Experimental Probability'].min(),exp_prob_df['Experimental Probability'].max(),25))\n",
    "plt.xscale('log')\n",
    "plt.xlabel('Number of rolls')\n",
    "plt.ylabel('Experimental Probability')\n",
    "plt.grid(alpha=.2)\n",
    "plt.legend('Experimental Probability');\n",
    "plt.axhline(0.16667,c='r')"
   ]
  },
  {
   "cell_type": "markdown",
   "metadata": {},
   "source": [
    "From the scatterplot above we see how the values of ratio $\\frac{n_{\\rm HITS}}{N_{\\rm TRIES}}$ converge towards the predicted theoretical probability of 16.666...% as $N_{\\rm TRIES}\\rightarrow\\infty$."
   ]
  },
  {
   "cell_type": "markdown",
   "metadata": {},
   "source": [
    "But, is there a way to calculate theoretical probability **exactly**?"
   ]
  },
  {
   "cell_type": "markdown",
   "metadata": {},
   "source": [
    "## 2. $\\sigma$-Algebra of Events and Theoretical Probability"
   ]
  },
  {
   "cell_type": "markdown",
   "metadata": {},
   "source": [
    "In order to be able to speak properly about theoretical probability (and be able to compute it), we need to introduce *$\\sigma$-algebra of events* and *probability-as-a-measure*. We can consider $\\sigma$-algebra of events as a family of sets where every set is an event, and every element of this event-set is an *outcome* for which consider the evenet realized, i.e. a *favorable outcome*. \n",
    "\n",
    "For example, if we toss a coin two times, then one event-set might be\n",
    "\n",
    "$$ A - {\\rm Landed\\ 1\\ Heads\\ and\\ 1\\ Tails}, $$\n",
    "\n",
    "and its elements are\n",
    "\n",
    "$$ A = \\{HT, TH\\}.$$"
   ]
  },
  {
   "cell_type": "markdown",
   "metadata": {},
   "source": [
    "A set of all the possible outcomes for a given experiment/observation is called the *universal set*. It is denoted by $\\Omega$ and it is the set upon which $\\sigma$-algebra of events is built upon, from the subsets $A\\subset\\Omega$ of the universal set.  \n",
    "\n",
    "For tossing a coin two times we have\n",
    "\n",
    "$$ \\Omega = \\{HH, HT, TH, TT\\},$$\n",
    "\n",
    "and obviously\n",
    "\n",
    "$$ A \\subset \\Omega. $$"
   ]
  },
  {
   "cell_type": "markdown",
   "metadata": {},
   "source": [
    "A set of all the possible outcomes for a given experiment/observation is called the *universal set*. It is denoted by $\\Omega$ and it is the set upon which $\\sigma$-algebra of events is built upon, from the subsets $A\\subset\\Omega$ of the universal set.  \n",
    "\n",
    "For tossing a coin two times we have\n",
    "\n",
    "$$ \\Omega = \\{HH, HT, TH, TT\\},$$\n",
    "\n",
    "and obviously\n",
    "\n",
    "$$ A \\subset \\Omega. $$"
   ]
  },
  {
   "cell_type": "markdown",
   "metadata": {},
   "source": [
    "Let $\\Sigma$ be a $\\sigma$-algebra of events on $\\Omega$, and $A$ and $B$ two events (which we write $A, B\\in \\Sigma$). Then we have:"
   ]
  },
  {
   "cell_type": "markdown",
   "metadata": {},
   "source": [
    "$$1^\\circ\\quad \\emptyset,\\ \\Omega \\in \\Sigma$$\n",
    "\n",
    "$$2^\\circ\\quad A^C \\in \\Sigma$$\n",
    "\n",
    "$$3^\\circ\\quad A\\cup B \\in \\Sigma$$\n",
    "\n",
    "$$4^\\circ\\quad A\\cap B \\in \\Sigma.$$"
   ]
  },
  {
   "cell_type": "markdown",
   "metadata": {},
   "source": [
    "What do these cryptic messages even mean? Let's explain them one by one, I promise they make sense."
   ]
  },
  {
   "cell_type": "markdown",
   "metadata": {},
   "source": [
    "$$1^\\circ\\quad \\emptyset,\\ \\Omega \\in \\Sigma$$"
   ]
  },
  {
   "cell_type": "markdown",
   "metadata": {},
   "source": [
    "This means that the empty set $\\emptyset$ and the total set $\\Omega$ are also considered as events.\n",
    "\n",
    "$\\emptyset$ is called an *impossible event*, and it does not contain any (possible) outcome. \n",
    "\n",
    "$\\Omega$, viewed as an event is called *certain event* - getting any outcome from all the possible outcomes is definitely a certain event. \n",
    "\n",
    "---"
   ]
  },
  {
   "cell_type": "markdown",
   "metadata": {},
   "source": [
    "$$2^\\circ\\quad A^C \\in \\Sigma$$"
   ]
  },
  {
   "cell_type": "markdown",
   "metadata": {},
   "source": [
    "An complementary set of $A$: $A^C = \\Omega\\setminus A$ is also considered as an event. Every unfavourable outcome of $A$ is favourable for $A^C$ (and vice versa). So, for the event $A$ as defined above, we have:\n",
    "\n",
    "$$ A^C = \\{HH, TT\\}. $$\n",
    "\n",
    "---"
   ]
  },
  {
   "cell_type": "markdown",
   "metadata": {},
   "source": [
    "$$3^\\circ\\quad A\\cup B \\in \\Sigma$$"
   ]
  },
  {
   "cell_type": "markdown",
   "metadata": {},
   "source": [
    "A union of two events (denoted also as $A + B$) is also considered as an event. But what is a union of two events actually? We say that the event $A\\cup B$ is realized when at least one of the events $A$ **OR** $B$ is realized. $A\\cup B$ contains all the outcomes which are favourable for either the event $A$ **OR** event $B$.\n",
    "\n",
    "For example, if we define event $B$ as\n",
    "\n",
    "$$B - {\\rm Landed\\ 2\\ Tails,}$$\n",
    "\n",
    "we have \n",
    "\n",
    "$$ A\\cup B = \\{HT, TH, TT\\}.$$\n",
    "\n",
    "---"
   ]
  },
  {
   "cell_type": "markdown",
   "metadata": {},
   "source": [
    "$$4^\\circ\\quad A\\cap B \\in \\Sigma.$$"
   ]
  },
  {
   "cell_type": "markdown",
   "metadata": {},
   "source": [
    "An intersection of two events (denoted also as AB) is also considered as an event. We say that the event $AB$ is realized when both events $A$ **AND** $B$ are simultaneously realized. $AB$ contains all the outcomes which are favourable for both events $A$ **AND** $B$. \n",
    "\n",
    "For examle, if we define event $C$ as \n",
    "\n",
    "$$ C - {\\rm Tails\\ in\\ the\\ first\\ coin\\ toss}, $$\n",
    "\n",
    "we have \n",
    "\n",
    "$$ AC = \\{HT, TH\\} \\cap \\{TH, TT\\} = \\{TH\\}.$$"
   ]
  },
  {
   "cell_type": "markdown",
   "metadata": {},
   "source": [
    "Two events $A$ and $B$ are *mutually exclusive* or *disjoint* if $A\\cap B = \\emptyset$, i.e. if realization of both events simultaneously is an impossible event.\n",
    "\n",
    "Two events $A$ and $B$ are *independant* if the outcome of one event does not influence the outcome of the other. For example, when tossing a coin two times, the result of the first toss does not influence the outcome of the second.\n",
    "\n",
    "---"
   ]
  },
  {
   "cell_type": "markdown",
   "metadata": {},
   "source": [
    "One more importan notion is the *elementary event* - an event containing a single possible outcome. So, for tossing our coin two times, elementary events are: $\\{HH\\},\\ \\{HT\\},\\ \\{TH\\}$ and $\\{TT\\}$."
   ]
  },
  {
   "cell_type": "markdown",
   "metadata": {},
   "source": [
    "$\\sigma$-algebras of events serve us as a brige between the natural language by which we describe events and their outcomes with formal mathematical language to describe them via sets, their elements and set operations. The upside of mathematical objects is that it is natural to impose some measure on them, and now we can measure the events, i.e. measure the probability of event realization. So we can define probability-as-a-measure, that is a mapping $P$ from $\\sigma$-algebra of events to interval a set of real numbers via following set of *axioms* (known as *Kolmogorov Axioms*):"
   ]
  },
  {
   "cell_type": "markdown",
   "metadata": {},
   "source": [
    "**Axiom 1**: For any event $A$ we have\n",
    "\n",
    "$$ P(A)\\geqslant 0.$$\n",
    "\n",
    "**Axiom 2**: For certain event $\\Omega$ we have\n",
    "\n",
    "$$ P(\\Omega) = 1.$$\n",
    "\n",
    "**Axiom 3**: For mutually exclusive events $A_1, A_2, \\ldots, A_n, \\ldots$ we have\n",
    "\n",
    "$$P\\Big(\\bigcup_{i=1}^{\\infty}A_i\\Big) = \\sum_{i=1}^{\\infty}P(A_i).$$"
   ]
  },
  {
   "cell_type": "markdown",
   "metadata": {},
   "source": [
    "What do those axioms tell us?"
   ]
  },
  {
   "cell_type": "markdown",
   "metadata": {},
   "source": [
    "**Axiom 1** means that the probability of any event has to be some non-negative real number; in other words - we cannot have negative probability (the same way we cannot have negative length, surface or volume - which are also measures of some kind)"
   ]
  },
  {
   "cell_type": "markdown",
   "metadata": {},
   "source": [
    "**Axiom 2** says that the probability of a certain event is 1 (or 100%). As we know that $\\Omega$, viewed as a set, is a universal set, i.e. set that contains all the possible outcomes - this axiom also tells us that the probability of observing any outcome of all possible defined outcomes is equal to 1. "
   ]
  },
  {
   "cell_type": "markdown",
   "metadata": {},
   "source": [
    "If we want to compute a probability of some union of mutually exclusive events, **Axiom 3** tells us that we can do that just by summing the probabilities of every single event. "
   ]
  },
  {
   "cell_type": "markdown",
   "metadata": {},
   "source": [
    "***"
   ]
  },
  {
   "cell_type": "markdown",
   "metadata": {},
   "source": [
    "And here's a nice reminder for $\\sigma$-algebras and Kolmogorov Axioms:"
   ]
  },
  {
   "cell_type": "markdown",
   "metadata": {},
   "source": [
    "<img src=\"prob.png\" style=\"width: 800px;\"/>"
   ]
  },
  {
   "cell_type": "markdown",
   "metadata": {},
   "source": [
    "These axioms have very usefull consequences; if $A$ and $B$ are two events, we have:\n",
    "\n",
    "$$ 1^\\circ\\ P(\\emptyset) = 0, $$\n",
    "\n",
    "$$ 2^\\circ\\ 0 \\leqslant P(A) \\leqslant 1, $$\n",
    "\n",
    "$$ 3^\\circ\\ P(A^C) = 1 - P(A), $$\n",
    "\n",
    "$$ 4^\\circ\\ A\\subseteq B \\Rightarrow P(A) \\leqslant P(B).$$\n",
    "\n",
    "$$ 5^\\circ\\ A,\\ B\\ {\\rm indep.} \\Rightarrow P(AB) = P(A)P(B).$$"
   ]
  },
  {
   "cell_type": "markdown",
   "metadata": {},
   "source": [
    "Let's now go over these consequences. "
   ]
  },
  {
   "cell_type": "markdown",
   "metadata": {},
   "source": [
    "$$ 1^\\circ\\ P(\\emptyset) = 0 $$"
   ]
  },
  {
   "cell_type": "markdown",
   "metadata": {},
   "source": [
    "We saw that impossible event is represented by $\\emptyset$. So, this tells us that the probability of an impossible event is 0. "
   ]
  },
  {
   "cell_type": "markdown",
   "metadata": {},
   "source": [
    "***"
   ]
  },
  {
   "cell_type": "markdown",
   "metadata": {},
   "source": [
    "$$ 2^\\circ\\ 0 \\leqslant P(A) \\leqslant 1 $$"
   ]
  },
  {
   "cell_type": "markdown",
   "metadata": {},
   "source": [
    "Not only that the probability of an event is some non-negative real number - it's a real number belonging to the interval [0, 1]; and the endpoints of this interval correspond to the impossible event ($P(\\emptyset) = 0$) and certain event ($P(\\Omega) = 1$). The closer the probability is to 1, the more probable is the realization of an event. This also alows us to speak about probabilities in terms of percents. "
   ]
  },
  {
   "cell_type": "markdown",
   "metadata": {},
   "source": [
    "***"
   ]
  },
  {
   "cell_type": "markdown",
   "metadata": {},
   "source": [
    "$$ 3^\\circ\\ P(A^C) = 1 - P(A) $$\n",
    "This tells us how to simply calculate probability of a complementary event. If a probability of an event happening is 22%, then the probability of it NOT happening is 78%."
   ]
  },
  {
   "cell_type": "markdown",
   "metadata": {},
   "source": [
    "***"
   ]
  },
  {
   "cell_type": "markdown",
   "metadata": {},
   "source": [
    "$$4^\\circ\\ A\\subseteq B \\Rightarrow P(A) \\leqslant P(B) $$"
   ]
  },
  {
   "cell_type": "markdown",
   "metadata": {},
   "source": [
    "If set $A$ is contained in set $B$, i.e. if all the outcomes favourable for event $A$ are also favourable for event $B$, then event $A$ has smaller (or equal) chances for realization than the event $B$. In other words - events with smaller set of favourable outcomes are less probable. "
   ]
  },
  {
   "cell_type": "markdown",
   "metadata": {},
   "source": [
    "***"
   ]
  },
  {
   "cell_type": "markdown",
   "metadata": {},
   "source": [
    "$$ 5^\\circ\\ A,\\ B\\ {\\rm indep.} \\Rightarrow P(AB) = P(A)P(B).$$\n",
    "\n",
    "If two events are independant, then the probability of them both occuring is equal to the product of probabilites of each event occuring independantly. If we toss a coin two times, we can calculate\n",
    "\n",
    "$$P(HT) = P(H)P(T).$$\n",
    "\n",
    "---"
   ]
  },
  {
   "cell_type": "markdown",
   "metadata": {},
   "source": [
    "All this talk about the Probability Theory, but we still haven't figured out how to calculate theoretical probability. Don't worry, we are almost there - and we have all the ingredients to write a formula that stems quite naturally from the theoretical foundations above. "
   ]
  },
  {
   "cell_type": "markdown",
   "metadata": {},
   "source": [
    "As we saw, probabilty of an event should be some number between 0 and 1, with probabilities of impossible and certain event as extreme values. And the bigger the event/set is, the biger its probability should be. This leads us to define theoretical probability of an event ($A$) via the following simple formula:\n",
    "\n",
    "$$P(A) = \\frac{|A|}{|\\Omega|} = \\frac{{\\rm No.\\ of\\ all\\ the\\ favourable\\ outcomes\\ for}\\ A}{{\\rm No.\\ of\\ all\\ the\\ possible\\ outcomes}}.$$"
   ]
  },
  {
   "cell_type": "markdown",
   "metadata": {},
   "source": [
    "($|A|$ is the *cardinality* of a set, i.e. a number of elements that set has.)"
   ]
  },
  {
   "cell_type": "markdown",
   "metadata": {},
   "source": [
    "One can easily check that formula for the probability, as given above, satisfies all the Kolmogorov Axioms and, of course, all the listed consequences. "
   ]
  },
  {
   "cell_type": "markdown",
   "metadata": {},
   "source": [
    "***"
   ]
  },
  {
   "cell_type": "markdown",
   "metadata": {},
   "source": [
    "Now that we have the 'formula for probability' we can easily calculate probabilities of the events listed at the beginning of this notebook. "
   ]
  },
  {
   "cell_type": "markdown",
   "metadata": {},
   "source": [
    "- Probability of landing Tails on a coin toss:\n",
    "\n",
    "$$P(T) = \\frac{|\\{T\\}|}{|\\{H, T\\}|} = \\frac{1}{2}.$$\n",
    "\n",
    "\n",
    "- Probability of landing at least one Tails on two coin tosses (event $A$):\n",
    "\n",
    "$$P(A) = \\frac{|\\{TH, HT, TT\\}|}{|\\{HH, TH, HT, TT\\}|} = \\frac{3}{4}.$$\n",
    "\n",
    "\n",
    "- Probability of getting 6 when rolling a six-sided die:\n",
    "\n",
    "$$P(X = 6) = \\frac{|\\{6\\}|}{|\\{1, 2, 3, 4, 5, 6\\}|} = \\frac{1}{6}.$$\n",
    "\n",
    "\n",
    "\n",
    "- Probability of getting less than 5 when rolling a six-sided die:\n",
    "\n",
    "$$P(X < 5) = \\frac{|\\{1, 2, 3, 4\\}|}{|\\{1, 2, 3, 4, 5, 6\\}|} = \\frac{4}{6} = \\frac{2}{3}.$$\n",
    "\n",
    "\n",
    "\n",
    "- Probability of getting any number from 1 to 6 when rolling a six-sided die:\n",
    "\n",
    "$$P(1\\leqslant X\\leqslant 6) = \\frac{|\\{1, 2, 3, 4, 5, 6\\}|}{|\\{1, 2, 3, 4, 5, 6\\}|} = \\frac{6}{6} = 1.$$\n",
    "\n",
    "\n",
    "\n",
    "- Probability of getting a 7 when rolling a six-sided die:\n",
    "\n",
    "$$P(X = 7) = \\frac{|\\emptyset|}{|\\{1, 2, 3, 4, 5, 6\\}|} = \\frac{0}{6} = 0.$$\n",
    "\n",
    "\n",
    "- Probability of getting 6 or 7 when rolling a 20-sided die:\n",
    "\n",
    "$$P(\\{X=6\\}\\cup\\{X=7\\}) = P(X=6) + P(X=7) = \\frac{1}{20} + \\frac{1}{20} = \\frac{2}{20} = \\frac{1}{10}.$$\n",
    "\n",
    "\n",
    "\n",
    "- Probability of getting less than 19 when rolling a 20-sided die:\n",
    "\n",
    "$$P(X < 19) = 1 - P(\\{X < 19\\}^C) = 1 - P(X\\geqslant 19) =  1 -\\frac{|\\{19, 20\\}|}{|\\{1, 2, \\ldots, 20\\}|} = 1 - \\frac{2}{20} = \\frac{18}{20} = \\frac{9}{10}.$$\n",
    "\n",
    "\n",
    "- Probability of getting two sixes in two dice rolls:\n",
    "\n",
    "$$P(\\{X_1 = 6\\}\\cap\\{X_2 = 6\\}) = P(\\{X_1 = 6\\})P(\\{X_2 = 6\\}) = \\frac{1}{6}\\cdot\\frac{1}{6} = \\frac{1}{36}.$$\n",
    "\n",
    "\n",
    "- Probability of drawing an Ace from a deck of cards:"
   ]
  },
  {
   "cell_type": "code",
   "execution_count": 15,
   "metadata": {},
   "outputs": [
    {
     "name": "stdout",
     "output_type": "stream",
     "text": [
      "P(X = A) = |{🂡, 🂱, 🃁, 🃑}|/|Whole Deck of Cards| = 4/52 = 1/13.\n"
     ]
    }
   ],
   "source": [
    "print('P(X = A) = |{\\U0001F0A1, \\U0001F0B1, \\U0001F0C1, \\U0001F0D1}|/|Whole Deck of Cards| = 4/52 = 1/13.')"
   ]
  },
  {
   "cell_type": "markdown",
   "metadata": {},
   "source": [
    "Even though we have a tool to calculate probability of an event exactly, we shouldn't forget about experimental probability. First, it can serve us to experimentally check our theoretical calculation. Secondly, and more important: sometimes calculating theoretical probability is difficult, or even impossible; so, performing the experiments and noting down the results is a way to obtain the probability of an event. "
   ]
  },
  {
   "cell_type": "markdown",
   "metadata": {},
   "source": [
    "While we've been using the given formula for calculating theoretical probabilities, there was actually one important thing that we hid under the rug - the formula works only in case when $\\Omega$ is finite set. But what if $\\Omega$ is infinite? Does all this mathematical construction breaks down? Actually no. $\\sigma$-algebras, Kolmogorov Axioms and their consequences actually give us tools to handle even infinite $\\Omega$s, and we'll see how later on. \n",
    "\n",
    "But first let's talk about *random variables*."
   ]
  },
  {
   "cell_type": "markdown",
   "metadata": {},
   "source": [
    "## 3. Random variable: a Discrete Type"
   ]
  },
  {
   "cell_type": "markdown",
   "metadata": {},
   "source": [
    "When we were calculating theoretical probabilities a bit above we introduced the following notation $P(X = 6)$ or $P(X \\geqslant 19)$. What is this $X$? It is actually a random variable (RV) - a varable which can take one of the several different values, each with its own probability. \n",
    "\n",
    "There are two types of random variables: *discrete* and *(absolutely) continuous*. Values of RV are elements, i.e. outcomes of set $\\Omega$. If $\\Omega$ is finite or *countably infinite*, then associated RV is discrete. If $\\Omega$ is *uncountably infinite*, then the corresponding RV is continuous. \n",
    "\n",
    "\n",
    "We'll speak about discrete RVs now. "
   ]
  },
  {
   "cell_type": "markdown",
   "metadata": {},
   "source": [
    "---"
   ]
  },
  {
   "cell_type": "markdown",
   "metadata": {},
   "source": [
    "A discrete random variable is fully described if we know all the values it can take, and all the probabilities corresponding to those values. This 'description' of a random variable is called its *distribution*. So, 'knowing' a random variable is equivalent to 'knowing' its distribution. "
   ]
  },
  {
   "cell_type": "markdown",
   "metadata": {},
   "source": [
    "For tossing a coin, a random variable $X$ can take two values: Heads and Tails, each with probability $\\frac{1}{2}$. We can write its distribution as\n",
    "\n",
    "$$ X :\n",
    "\\begin{pmatrix}\n",
    "H & T\\\\\n",
    "\\frac{1}{2} & \\frac{1}{2}\n",
    "\\end{pmatrix}.\n",
    "$$"
   ]
  },
  {
   "cell_type": "markdown",
   "metadata": {},
   "source": [
    "This 'function' which assigns a probability to each outcome is also called *probability mass function* or *p.m.f*."
   ]
  },
  {
   "cell_type": "markdown",
   "metadata": {},
   "source": [
    "For rolling a six sided die, we have a random variable which can take some of the values from the die given with p.m.f\n",
    "\n",
    "$$ X :\n",
    "\\begin{pmatrix}\n",
    "1 & 2 & 3 & 4 & 5 & 6\\\\\n",
    "\\frac{1}{6} & \\frac{1}{6} & \\frac{1}{6} & \\frac{1}{6} & \\frac{1}{6} & \\frac{1}{6}\n",
    "\\end{pmatrix}.\n",
    "$$"
   ]
  },
  {
   "cell_type": "markdown",
   "metadata": {},
   "source": [
    "We can even define RVs on our own. The only important thing is that all the probabilites in its distribution need to sum to 1 (as the union of all elementary events, i.e. of every possible outcome gives $\\Omega$, and $P(\\Omega) = 1$). \n",
    "\n",
    "For example:"
   ]
  },
  {
   "cell_type": "markdown",
   "metadata": {},
   "source": [
    "\n",
    "$$ X :\n",
    "\\begin{pmatrix}\n",
    "-1 & 0 & 2 & 4.7\\\\\n",
    " 0.2 & 0.05 & 0.45 & 0.3\n",
    "\\end{pmatrix}.\n",
    "$$"
   ]
  },
  {
   "cell_type": "markdown",
   "metadata": {},
   "source": [
    "We can simulate the outcomes of this RV using `rng.choice()`:"
   ]
  },
  {
   "cell_type": "code",
   "execution_count": 16,
   "metadata": {},
   "outputs": [],
   "source": [
    "rng = np.random.default_rng(seed=10012)\n",
    "\n",
    "x = [-1,0,2,4.7]"
   ]
  },
  {
   "cell_type": "code",
   "execution_count": 17,
   "metadata": {},
   "outputs": [
    {
     "data": {
      "text/plain": [
       "array([-1. , -1. ,  4.7, -1. ,  0. ,  2. ,  2. ,  4.7,  4.7, -1. ,  2. ,\n",
       "        2. , -1. ,  2. ,  2. ,  2. ,  4.7,  2. , -1. ,  2. ,  4.7,  4.7,\n",
       "        4.7,  4.7,  2. ,  2. ,  4.7,  2. , -1. ,  2. ,  4.7,  2. ,  2. ,\n",
       "        2. ,  2. ,  2. ,  4.7, -1. , -1. ,  4.7,  4.7,  2. , -1. ,  2. ,\n",
       "        2. , -1. ,  4.7, -1. ,  2. ,  0. , -1. ,  2. ,  2. ,  2. , -1. ,\n",
       "        4.7,  2. ,  2. ,  4.7,  2. ,  4.7,  4.7,  2. ,  2. , -1. , -1. ,\n",
       "       -1. , -1. , -1. ,  4.7, -1. , -1. ,  0. ,  4.7, -1. ,  4.7, -1. ,\n",
       "        2. ,  2. ,  4.7, -1. , -1. , -1. , -1. ,  4.7,  2. ,  2. ,  4.7,\n",
       "        2. ,  2. ,  2. ,  2. ,  4.7,  2. ,  2. ,  2. ,  2. ,  2. , -1. ,\n",
       "        2. ])"
      ]
     },
     "execution_count": 17,
     "metadata": {},
     "output_type": "execute_result"
    }
   ],
   "source": [
    "outcome = rng.choice(x,p=(0.2,0.05,0.45,0.3),size=100)\n",
    "outcome"
   ]
  },
  {
   "cell_type": "code",
   "execution_count": 18,
   "metadata": {},
   "outputs": [
    {
     "data": {
      "text/plain": [
       "(array([-1. ,  0. ,  2. ,  4.7]), array([28,  3, 44, 25], dtype=int64))"
      ]
     },
     "execution_count": 18,
     "metadata": {},
     "output_type": "execute_result"
    }
   ],
   "source": [
    "no_outcome = np.unique(outcome, return_counts=True)\n",
    "no_outcome"
   ]
  },
  {
   "cell_type": "code",
   "execution_count": 19,
   "metadata": {},
   "outputs": [
    {
     "data": {
      "image/png": "[encoded data removed]",
      "text/plain": [
       "<Figure size 1600x1000 with 1 Axes>"
      ]
     },
     "metadata": {},
     "output_type": "display_data"
    }
   ],
   "source": [
    "fig,ax = plt.subplots(figsize=(16,10))\n",
    "sns.barplot(ax=ax, x=no_outcome[0],y=(no_outcome[1]/100))\n",
    "ax.axhline(.2, c='b', linestyle='--')\n",
    "ax.axhline(.05, c='orange', linestyle='--')\n",
    "ax.axhline(.45, c='green', linestyle='--')\n",
    "ax.axhline(.3, c='red', linestyle='--')\n",
    "ax.set_yticks(np.arange(0, .55, .05));"
   ]
  },
  {
   "cell_type": "code",
   "execution_count": 20,
   "metadata": {},
   "outputs": [
    {
     "data": {
      "image/png": "[encoded data removed]",
      "text/plain": [
       "<Figure size 800x600 with 1 Axes>"
      ]
     },
     "metadata": {},
     "output_type": "display_data"
    }
   ],
   "source": [
    "no_tries = 10**6\n",
    "outcomes = rng.choice(x,p=[.2, .05, .45, .3], size=no_tries)\n",
    "no_outcomes = np.unique(outcomes, return_counts=True)\n",
    "\n",
    "fig, ax = plt.subplots(figsize=(8, 6))\n",
    "\n",
    "\n",
    "\n",
    "sns.barplot(ax = ax, x = no_outcomes[0], y = no_outcomes[1]/no_tries)\n",
    "ax.axhline(.2, c='b', linestyle='--')\n",
    "ax.axhline(.05, c='orange', linestyle='--')\n",
    "ax.axhline(.45, c='green', linestyle='--')\n",
    "ax.axhline(.3, c='red', linestyle='--')\n",
    "ax.set_yticks(np.arange(0, .55, .05));"
   ]
  },
  {
   "cell_type": "markdown",
   "metadata": {},
   "source": [
    "***"
   ]
  },
  {
   "cell_type": "markdown",
   "metadata": {},
   "source": [
    "Let's assume we have a following discrete random variable which can take infinitely many values:\n",
    "\n",
    "\n",
    "$$ X :\n",
    "\\begin{pmatrix}\n",
    "1 & 2 & \\cdots & k & \\cdots \\\\\n",
    "p_1 & p_2 & \\cdots & p_k & \\cdots & \n",
    "\\end{pmatrix}.\n",
    "$$"
   ]
  },
  {
   "cell_type": "markdown",
   "metadata": {},
   "source": [
    "Using its distribution, we can calculate probabilities of some events in the following manner (which also applies for finite RVs):\n",
    "\n",
    "$$ P(X = k) = p_k $$  \n",
    "\n",
    "$$ P(X \\leqslant k) = p_1 + p_2 + \\cdots + p_k $$\n",
    "\n",
    "$$ P(X < k) = P(X \\leqslant k - 1) = p_1 + p_2 + \\cdots + p_{k-1} $$\n",
    "\n",
    "$$ P(3 \\leqslant X \\leqslant k) = p_3 + p_4 + \\cdots + p_k $$\n",
    "\n",
    "$$ P(X > k) = 1 - P(X \\leqslant k) = 1 - (p_1 + p_2 + \\cdots + p_k) $$\n",
    "\n",
    "---"
   ]
  },
  {
   "cell_type": "markdown",
   "metadata": {},
   "source": [
    "Probability $P(X\\leqslant k)$ is quite an important one - it even has it's name *cumulative distribution function* or *c.d.f.*. It's denoted by $F(k)$, and it simply sums all the probabilities for all values up to $k$:"
   ]
  },
  {
   "cell_type": "markdown",
   "metadata": {},
   "source": [
    "$$ F :\n",
    "\\begin{pmatrix}\n",
    "1 & 2 &  3 & \\cdots & N\\\\\n",
    "p_1 & p_1 + p_2  & p_1 + p_2 + p_3 & \\cdots & 1 \n",
    "\\end{pmatrix}.\n",
    "$$"
   ]
  },
  {
   "cell_type": "markdown",
   "metadata": {},
   "source": [
    "## 4. Discrete Type Distributions"
   ]
  },
  {
   "cell_type": "markdown",
   "metadata": {},
   "source": [
    "Random or *stochastic* processes are not just some mathematical intellectual plaything. They occur all around us and within us. Many stochastic natural and social phenomena behave according to some distribution, and can be modelled according to that distribution. Here we go through some of those important discrete-type distributions."
   ]
  },
  {
   "cell_type": "markdown",
   "metadata": {},
   "source": [
    "### Bernoulli Distribution - ` Binary Outcome `"
   ]
  },
  {
   "cell_type": "markdown",
   "metadata": {},
   "source": [
    "The simplest discrete distribution is Bernoulli Distribution - it's a distribution of a RV that has binary outcomes - yes/no, hit/miss or success/failure. The *parameter* of this distribution is $p$ - the probability of 'hit'. This distribution looks like:"
   ]
  },
  {
   "cell_type": "markdown",
   "metadata": {},
   "source": [
    "$$ X :\n",
    "\\begin{pmatrix}\n",
    "0 & 1\\\\\n",
    "1 - p & p\n",
    "\\end{pmatrix}.\n",
    "$$"
   ]
  },
  {
   "cell_type": "markdown",
   "metadata": {},
   "source": [
    "To sample from Bernoulli Distribution we can use `rng.choice()` with two outcomes. Say, we have a population that gives a 'yes' answer to some question in 2/3 cases and 'no' in 1/3 cases, and we want to draw a sample of 100 from it. Here's a sample:"
   ]
  },
  {
   "cell_type": "code",
   "execution_count": 21,
   "metadata": {},
   "outputs": [
    {
     "data": {
      "text/plain": [
       "<matplotlib.lines.Line2D at 0x2a69b54e5d0>"
      ]
     },
     "execution_count": 21,
     "metadata": {},
     "output_type": "execute_result"
    },
    {
     "data": {
      "image/png": "[encoded data removed]",
      "text/plain": [
       "<Figure size 1600x800 with 1 Axes>"
      ]
     },
     "metadata": {},
     "output_type": "display_data"
    }
   ],
   "source": [
    "x = ['Yes', 'No']\n",
    "\n",
    "sample = rng.choice(x,p=[2/3,1/3],size=100)\n",
    "no_outcome = np.unique(sample,return_counts=True)\n",
    "\n",
    "fig,ax = plt.subplots(figsize=(16,8))\n",
    "\n",
    "sns.barplot(ax=ax,x=no_outcome[0],y=no_outcome[1],hue=x)\n",
    "\n",
    "ax.axhline(1/3*100,c='r')\n",
    "ax.axhline(2/3*100,c='b')\n",
    "\n"
   ]
  },
  {
   "cell_type": "markdown",
   "metadata": {},
   "source": [
    "### Binomial Distribution"
   ]
  },
  {
   "cell_type": "code",
   "execution_count": 22,
   "metadata": {},
   "outputs": [],
   "source": [
    "# Mathematical formula math.comb(n,k)*p**k*(1-p)**(n-k)\n",
    "\n",
    "# Two mutually exsclusive outcomes of the trial\n",
    "\n",
    "# two possible outcomes hit/miss, success/failure."
   ]
  },
  {
   "cell_type": "markdown",
   "metadata": {},
   "source": [
    "Binomial distribution gives an answer to the following question: *what's the probability of getting $k$ hits in $n$ trials of the same hit/miss experiment, having probability of hit equal to $p$?*\n",
    "\n",
    "Binomial Distribution has two parameteres:\n",
    "\n",
    "- $n$: number of repetitions of the same experiment\n",
    "- $p$: probability of a hit (success)\n",
    "\n",
    "If a random variable $X$ has a Binomial Distribution with parameters $n$ and $p$, we write that\n",
    "\n",
    "$$ X \\sim \\mathcal{B}(n, p).$$\n",
    "\n",
    "For example, we'd like to know what's the probability of landing 7 Tails in tossing a coin 10 times. We can approximate this probability by sampling from the Binomial Distribution with parameters $n=10$ and $p=0.5$ ($\\mathcal{B}(100, 0.5)$), using `rng.binomial()`."
   ]
  },
  {
   "cell_type": "markdown",
   "metadata": {},
   "source": [
    "---"
   ]
  },
  {
   "cell_type": "markdown",
   "metadata": {},
   "source": [
    "### Landing 7 Tails in tossing coin 10 times while n = 10 and p = 0.5\n",
    "n = number of tossing which is 10\n",
    "\n",
    "0.5 is probability to land a H or T which is p\n",
    "\n",
    "`size` = 100 means that we run the experiment 100 times in the row..\n",
    "\n",
    "\n",
    "## 📌 What this does:\n",
    "\n",
    "- Simulates 100 independent experiments where we flip a coin 10 times each.\n",
    "\n",
    "- Each experiment counts how many tails we got in those 10 flips.\n",
    "\n",
    "- Stores 100 results (each between 0-10 tails)."
   ]
  },
  {
   "cell_type": "code",
   "execution_count": 48,
   "metadata": {},
   "outputs": [
    {
     "data": {
      "text/plain": [
       "array([3, 4, 2, 4, 2, 6, 8, 3, 7, 5, 5, 6, 6, 5, 7, 4, 4, 3, 6, 5, 5, 7,\n",
       "       5, 3, 2, 7, 4, 6, 4, 7, 3, 4, 6, 4, 4, 5, 6, 7, 2, 5, 3, 5, 4, 3,\n",
       "       3, 5, 5, 6, 4, 7, 4, 4, 4, 6, 4, 3, 7, 7, 6, 4, 1, 6, 2, 7, 2, 7,\n",
       "       5, 4, 5, 7, 4, 2, 8, 6, 7, 8, 6, 5, 4, 3, 9, 5, 8, 3, 7, 3, 3, 6,\n",
       "       5, 6, 3, 6, 5, 4, 6, 7, 7, 5, 4, 4], dtype=int64)"
      ]
     },
     "execution_count": 48,
     "metadata": {},
     "output_type": "execute_result"
    }
   ],
   "source": [
    "outcomes1 = rng.binomial(n=10, p=.5, size=100)\n",
    "outcomes1"
   ]
  },
  {
   "cell_type": "markdown",
   "metadata": {},
   "source": [
    "Okay so, after looking at the output:\n",
    "\n",
    "Each value in the array, represents how many times we received 7 Tails in 10 coin tosses, and that experiment has been ran for 100 times. (size = 100)\n",
    "\n",
    "And this is the correct thought process for this model. I just wanted to be sure I understood it correctly.\n",
    "\n",
    "> Each value in the outcomes array represents the number of times \"Tails\" appeared in that experiment.\n",
    "\n",
    "> So if outcomes[0] = 4, it means that in the first experiment, Tails appeared 4 times out of 10 flips.\n",
    "\n",
    "> Similarly, outcomes[1] = 7 means that in the second experiment, Tails appeared 7 times out of 10 flips."
   ]
  },
  {
   "cell_type": "code",
   "execution_count": 49,
   "metadata": {},
   "outputs": [
    {
     "data": {
      "text/plain": [
       "(array([1, 2, 3, 4, 5, 6, 7, 8, 9], dtype=int64),\n",
       " array([ 1,  7, 14, 22, 18, 17, 16,  4,  1], dtype=int64))"
      ]
     },
     "execution_count": 49,
     "metadata": {},
     "output_type": "execute_result"
    }
   ],
   "source": [
    "no_outcomes1 = np.unique(outcomes1, return_counts=True)\n",
    "no_outcomes1"
   ]
  },
  {
   "cell_type": "markdown",
   "metadata": {},
   "source": [
    "### Understanding `np.unique () ` in this case.\n",
    "\n",
    "#### Take a look at the output of __no_outcomes1__:\n",
    "\n",
    "> array[0] - values [1, 2, 3, 4, 5, 6, 7, 8, 9] - > This means that, in some experiments, we got 1 tail, 2 tails, 3 tails, ... up to 9 tails in 10 coin flips.\n",
    "\n",
    "- Also ,  Each value in `array[0]` still represents 10 coin tosses!\n",
    "\n",
    "> array[1] - counts [ 2,  5, 13, 20, 26, 20,  8,  5,  1] - > These counts represents number of outcomes (__Tails__ ) we received in 100 (size = 100) experiments. For example, we received:\n",
    "\n",
    "\n",
    "- 1 Tail in 2 of 100 experiments (20 coin toss in total)\n",
    "\n",
    "- 2 tails in 5 of 100 experiments (50 coin toss in total)"
   ]
  },
  {
   "cell_type": "code",
   "execution_count": 50,
   "metadata": {},
   "outputs": [
    {
     "data": {
      "image/png": "[encoded data removed]",
      "text/plain": [
       "<Figure size 800x600 with 1 Axes>"
      ]
     },
     "metadata": {},
     "output_type": "display_data"
    }
   ],
   "source": [
    "fig, ax = plt.subplots(figsize=(8, 6))\n",
    "\n",
    "\n",
    "sns.barplot(ax = ax, x = no_outcomes1[0], y = no_outcomes1[1]/100)\n",
    "ax.set_yticks(np.arange(0, np.max(no_outcomes[1]/no_tries) + .05, .05));"
   ]
  },
  {
   "cell_type": "code",
   "execution_count": 26,
   "metadata": {},
   "outputs": [
    {
     "ename": "TypeError",
     "evalue": "arange() requires stop to be specified.",
     "output_type": "error",
     "traceback": [
      "\u001b[1;31m---------------------------------------------------------------------------\u001b[0m",
      "\u001b[1;31mTypeError\u001b[0m                                 Traceback (most recent call last)",
      "Cell \u001b[1;32mIn[26], line 1\u001b[0m\n\u001b[1;32m----> 1\u001b[0m \u001b[43mnp\u001b[49m\u001b[38;5;241;43m.\u001b[39;49m\u001b[43marange\u001b[49m\u001b[43m(\u001b[49m\u001b[43m)\u001b[49m\n",
      "\u001b[1;31mTypeError\u001b[0m: arange() requires stop to be specified."
     ]
    }
   ],
   "source": [
    "np.arange()"
   ]
  },
  {
   "cell_type": "markdown",
   "metadata": {},
   "source": [
    "Lets define a function for this model:"
   ]
  },
  {
   "cell_type": "code",
   "execution_count": 51,
   "metadata": {},
   "outputs": [],
   "source": [
    "def sample_from_binomial(p,n, no_tries=10**6,k=None):\n",
    "    outcomes_func= rng.binomial(n,p,size=no_tries)\n",
    "    no_outcomes = np.unique(outcomes_func,return_counts=True)\n",
    "\n",
    "    fig,ax = plt.subplots(figsize=(10,6))\n",
    "\n",
    "    sns.barplot(ax=ax,x=no_outcomes[0],y=no_outcomes[1]/no_tries,hue=p)\n",
    "\n",
    "    if k:\n",
    "        theor_p= math.comb(n,k)*p**k*(1-p)**(n-k)\n",
    "        ax.axhline(theor_p, c='m', linestyle='--')\n",
    "\n",
    "    ax.set_yticks(np.arange(0, np.max(no_outcomes[1]/no_tries) + .05, .05)); \n",
    "    "
   ]
  },
  {
   "cell_type": "markdown",
   "metadata": {},
   "source": [
    "## _k = None_ \n",
    "\n",
    "### In python , if variable has assigned value such as None, it is false.\n",
    "\n",
    "- `if k`: ensures the extra calculation only runs when needed.\n",
    "\n",
    "#### `theor_p` calculates theoretical binomial distribution for given k which could be 7 tails in 10 experiments  = 0.7     "
   ]
  },
  {
   "cell_type": "markdown",
   "metadata": {},
   "source": [
    "# (n choose k) * p ** k*(1-p)**(n-k)"
   ]
  },
  {
   "cell_type": "code",
   "execution_count": 52,
   "metadata": {},
   "outputs": [
    {
     "data": {
      "image/png": "[encoded data removed]",
      "text/plain": [
       "<Figure size 1000x600 with 1 Axes>"
      ]
     },
     "metadata": {},
     "output_type": "display_data"
    }
   ],
   "source": [
    "sample_from_binomial(n=10, p=.5, no_tries=10**6)"
   ]
  },
  {
   "cell_type": "markdown",
   "metadata": {},
   "source": [
    "But we can actually calculate these probabilities theoretically, via"
   ]
  },
  {
   "cell_type": "markdown",
   "metadata": {},
   "source": [
    "$$P(X = k) = \\binom{n}{k}p^k(1-p)^{n-k},$$\n",
    "\n",
    "where $\\binom{n}{k}$, called *binomial coefficient*, is\n",
    "\n",
    "$$\\binom{n}{k} = \\frac{n!}{k!(n-k)!}.$$"
   ]
  },
  {
   "cell_type": "markdown",
   "metadata": {},
   "source": [
    "Say we have some unfair coin which lands Tails with probability 0.25, and we toss it three times. Using the formula above for $\\mathcal{B}(3, 0.25)$ we obtain the probabilities for number of Tails in 3 tosses $X$:"
   ]
  },
  {
   "cell_type": "markdown",
   "metadata": {},
   "source": [
    "$$ X :\n",
    "\\begin{pmatrix}\n",
    "0 & 1 & 2 & 3\\\\\n",
    "0.421875 & 0.421875 & 0.140625 & 0.015625\n",
    "\\end{pmatrix}.\n",
    "$$"
   ]
  },
  {
   "cell_type": "markdown",
   "metadata": {},
   "source": [
    "And to confirm the results experimentally:"
   ]
  },
  {
   "cell_type": "code",
   "execution_count": null,
   "metadata": {},
   "outputs": [
    {
     "data": {
      "image/png": "[encoded data removed]",
      "text/plain": [
       "<Figure size 1000x600 with 1 Axes>"
      ]
     },
     "metadata": {},
     "output_type": "display_data"
    }
   ],
   "source": [
    "sample_from_binomial(p=.25, n=3,k=1, no_tries=10**6)"
   ]
  },
  {
   "cell_type": "markdown",
   "metadata": {},
   "source": [
    "### Clarification of the results here\n",
    "\n",
    "#### 4 bars , X distribution is:\n",
    "\n",
    "$$ X :\n",
    "\\begin{pmatrix}\n",
    "0 & 1 & 2 & 3\\\\\n",
    "0.421875 & 0.421875 & 0.140625 & 0.015625\n",
    "\\end{pmatrix}.\n",
    "$$"
   ]
  },
  {
   "cell_type": "markdown",
   "metadata": {},
   "source": [
    "### The x-axis (outcome values) represents the number of Tails (successes) in 3 tosses.#"
   ]
  },
  {
   "cell_type": "markdown",
   "metadata": {},
   "source": [
    "#### Since we toss the coin 3 times, the possible outcomes (values of X) are:\n",
    "\n",
    "- 0 Tails (HHH)\n",
    "\n",
    "- 1 Tail (THH, HTH, HHT)\n",
    "\n",
    "- 2 Tails (TTH, THT, HTT)\n",
    "\n",
    "- 3 Tails (TTT)"
   ]
  },
  {
   "cell_type": "markdown",
   "metadata": {},
   "source": [
    "## `What Does k=1 Do in the Function?`"
   ]
  },
  {
   "cell_type": "markdown",
   "metadata": {},
   "source": [
    "#### The function calculates the theoretical probability of getting exactly k successes (1 Tail in this case) using the Binomial Probability Formula"
   ]
  },
  {
   "cell_type": "markdown",
   "metadata": {},
   "source": [
    "### By setting k=1, we are focusing on the probability of exactly 1 Tail appearing in 3 tosses."
   ]
  },
  {
   "cell_type": "markdown",
   "metadata": {},
   "source": [
    "---"
   ]
  },
  {
   "cell_type": "markdown",
   "metadata": {},
   "source": [
    "### Geometric Distribution"
   ]
  },
  {
   "cell_type": "markdown",
   "metadata": {},
   "source": [
    "Geometric Distribution gives an answer to the following question: *what's the probability of getting the first hit in 6th repetition of a hit/miss experiment, if the probability of a hit is $p$?* \n",
    "\n",
    "Geometric Distribution has only one parameter: probability of a hit $p$.\n",
    "\n",
    "Random variable $X$ having Geometric Distribution has (countably) infinite values.\n",
    "\n",
    "For example, we'd like to know what's the probability of getting a first 6 in 3rd roll of a six-sided die . We can approximate this probability by sampling from the Geometric Distribution with parameter $p=1/6$, using `rng.geometric()`."
   ]
  },
  {
   "cell_type": "code",
   "execution_count": null,
   "metadata": {},
   "outputs": [
    {
     "data": {
      "text/plain": [
       "array([ 1, 29,  7, 11,  4,  1, 17, 19,  2,  1,  6,  8,  3,  8,  6,  6,  5,\n",
       "        3,  6,  1,  2,  1,  1, 26, 12,  6,  1,  6,  5,  2,  2,  1,  2,  1,\n",
       "       12,  6,  1, 10,  7,  2,  9,  6, 14, 17,  6,  3,  5,  1,  4,  1,  9,\n",
       "       10,  8,  7,  2,  5,  4, 11,  1,  8,  6, 12, 17,  4, 13,  2,  4,  3,\n",
       "       14,  7,  9,  1, 13,  3,  3, 10,  5,  1,  1,  1,  2,  2, 20,  5,  1,\n",
       "       11,  1,  2,  5,  3, 23,  9,  2,  5,  1,  2,  4, 20,  6, 29],\n",
       "      dtype=int64)"
      ]
     },
     "execution_count": 137,
     "metadata": {},
     "output_type": "execute_result"
    }
   ],
   "source": [
    "outcomes = rng.geometric(1/6,size=100)\n",
    "outcomes"
   ]
  },
  {
   "cell_type": "code",
   "execution_count": null,
   "metadata": {},
   "outputs": [
    {
     "data": {
      "text/plain": [
       "(array([ 1,  2,  3,  4,  5,  6,  7,  8,  9, 10, 11, 12, 13, 14, 17, 19, 20,\n",
       "        23, 26, 29], dtype=int64),\n",
       " array([20, 13,  7,  6,  8, 11,  4,  4,  4,  3,  3,  3,  2,  2,  3,  1,  2,\n",
       "         1,  1,  2], dtype=int64))"
      ]
     },
     "execution_count": 138,
     "metadata": {},
     "output_type": "execute_result"
    }
   ],
   "source": [
    "no_outcomes = np.unique(outcomes, return_counts=True)\n",
    "no_outcomes"
   ]
  },
  {
   "cell_type": "code",
   "execution_count": null,
   "metadata": {},
   "outputs": [
    {
     "data": {
      "text/plain": [
       "[<matplotlib.axis.YTick at 0x2040dd7d850>,\n",
       " <matplotlib.axis.YTick at 0x2040dd5fb90>,\n",
       " <matplotlib.axis.YTick at 0x2040dc61d90>,\n",
       " <matplotlib.axis.YTick at 0x2040dc280d0>,\n",
       " <matplotlib.axis.YTick at 0x2040dc18590>,\n",
       " <matplotlib.axis.YTick at 0x2040dc192d0>]"
      ]
     },
     "execution_count": 31,
     "metadata": {},
     "output_type": "execute_result"
    },
    {
     "data": {
      "image/png": "[encoded data removed]",
      "text/plain": [
       "<Figure size 1000x600 with 1 Axes>"
      ]
     },
     "metadata": {},
     "output_type": "display_data"
    }
   ],
   "source": [
    "fig,ax =plt.subplots(figsize=(10,6))\n",
    "\n",
    "sns.barplot(ax=ax, x= no_outcomes[0],y= no_outcomes[1]/100)\n",
    "ax.set_yticks(np.arange(0,0.3,0.05))\n"
   ]
  },
  {
   "cell_type": "code",
   "execution_count": null,
   "metadata": {},
   "outputs": [],
   "source": [
    "def sample_from_geometric(p,n=10**6, k=None):\n",
    "    outcomes= rng.geometric(p, size=n)\n",
    "    no_outcomes = np.unique(outcomes, return_counts = True)\n",
    "\n",
    "    fig,ax = plt.subplots(figsize=(20,6))\n",
    "\n",
    "    sns.barplot(ax=ax, x=no_outcomes[0],y=no_outcomes[1]/n)\n",
    "\n",
    "    if k:\n",
    "        geometric = p*(1-p)**(k-1)\n",
    "        ax.axhline(geometric,c='r',linestyle='--')\n",
    "    \n",
    "    ax.set_yticks(np.arange(0, np.max(no_outcomes[1]/no_tries) + .025, .025)); "
   ]
  },
  {
   "cell_type": "code",
   "execution_count": null,
   "metadata": {},
   "outputs": [
    {
     "data": {
      "image/png": "[encoded data removed]",
      "text/plain": [
       "<Figure size 2000x600 with 1 Axes>"
      ]
     },
     "metadata": {},
     "output_type": "display_data"
    }
   ],
   "source": [
    "sample_from_geometric(p=1/6,n=10**6)"
   ]
  },
  {
   "cell_type": "markdown",
   "metadata": {},
   "source": [
    "We can calculate these probabilities theoretically using a formula for a RV having Geometric Distribution:\n",
    "\n",
    "$$P(X=k) = (1-p)^{k-1}p.$$"
   ]
  },
  {
   "cell_type": "markdown",
   "metadata": {},
   "source": [
    "So, for our example we have - k = 3.  `k` is number of trials up to first `success`\n",
    "\n",
    "$$P(X = 3) = \\Big(\\frac{5}{6}\\Big)^2\\cdot\\frac{1}{6} = 0.1157407407... .$$"
   ]
  },
  {
   "cell_type": "code",
   "execution_count": null,
   "metadata": {},
   "outputs": [
    {
     "data": {
      "image/png": "[encoded data removed]",
      "text/plain": [
       "<Figure size 2000x600 with 1 Axes>"
      ]
     },
     "metadata": {},
     "output_type": "display_data"
    }
   ],
   "source": [
    "sample_from_geometric(p=1/6,n=10**6,k=3)\n",
    "\n",
    "#Exactly matches!"
   ]
  },
  {
   "cell_type": "markdown",
   "metadata": {},
   "source": [
    "## Discrete Uniform Distribution"
   ]
  },
  {
   "cell_type": "markdown",
   "metadata": {},
   "source": [
    "This is actually a known one - it's a distribution of a RV where every outcome has the same probability: rolling a six-sided die, for example. The only parameter of this random variable is $N$ - number of values this RV can take. And the probability of each outcome is $\\frac{1}{N}$.\n",
    "\n",
    "We can sample from Discrete Uniform Distribution using `rng.choice()` without the `p` argument. "
   ]
  },
  {
   "cell_type": "markdown",
   "metadata": {},
   "source": [
    "Let's sample frequencies of each number when rolling a six-sided die. "
   ]
  },
  {
   "cell_type": "code",
   "execution_count": 28,
   "metadata": {},
   "outputs": [],
   "source": [
    "def sample_from_dud(N,no_tries=10**6):\n",
    "    outcomes = rng.choice(np.arange(1,N+1),size=no_tries )\n",
    "    no_outcomes=np.unique(outcomes,return_counts=True)\n",
    "\n",
    "    fig,ax = plt.subplots(figsize=(20,6))\n",
    "\n",
    "    sns.barplot(ax=ax, x=no_outcomes[0], y=no_outcomes[1]/no_tries)\n",
    "    ax.axhline(1/N,c='r',linestyle='--')\n",
    "    ax.set_yticks(np.arange(0,np.max(no_outcomes[1]/no_tries),.25))"
   ]
  },
  {
   "cell_type": "code",
   "execution_count": 29,
   "metadata": {},
   "outputs": [
    {
     "data": {
      "image/png": "[encoded data removed]",
      "text/plain": [
       "<Figure size 2000x600 with 1 Axes>"
      ]
     },
     "metadata": {},
     "output_type": "display_data"
    }
   ],
   "source": [
    "sample_from_dud(N=6,no_tries=10**6)"
   ]
  },
  {
   "cell_type": "markdown",
   "metadata": {},
   "source": [
    "## Poisson Distribution"
   ]
  },
  {
   "cell_type": "markdown",
   "metadata": {},
   "source": [
    "Poisson Distribution gives an answer to the following question: *if the average number of occurences of an event during some time interval is $\\lambda$ - what is the probability of that event occuring $k$ times during the that interval?* \n",
    "\n",
    "Poisson Distribution has only one parameter: average number of occurences $\\lambda$.\n",
    "\n",
    "Random variable $X$ having Poisson Distribution has (countably) infinite values.\n",
    "\n",
    "We can sample from Poisson Distribution using `rng.poisson()`.\n",
    "\n",
    "*Example* (Following and adapting from Ladislaus Bortkiewicz, 1898). Assumption: on the average, 10 soldiers in the Prussian army were killed accidentally by horse kick monthly. What is the probability that 17 soldies in the Prussian army will be accidently killed by horse kicks during the month?"
   ]
  },
  {
   "cell_type": "code",
   "execution_count": 31,
   "metadata": {},
   "outputs": [
    {
     "data": {
      "text/plain": [
       "array([12,  9, 10, 11, 16, 13, 12, 13,  6, 11, 14, 12, 10, 17, 10, 13,  9,\n",
       "       14, 12, 10, 11,  6, 11,  6, 10,  1, 13, 15,  6, 11, 12, 10, 10, 18,\n",
       "        9,  5,  8, 15, 16, 12,  9,  5,  6, 16,  9, 10,  8, 10, 10, 13, 11,\n",
       "        6, 11, 11, 13, 11,  4, 13, 10,  7,  9, 16,  8, 12,  9,  9, 10, 10,\n",
       "       10,  8,  7,  7,  7, 11,  3,  8, 13, 10, 18, 15, 13,  8, 10, 12,  6,\n",
       "        9,  9, 14, 11, 12, 15,  7, 10, 12, 11, 11,  7,  7,  6, 10],\n",
       "      dtype=int64)"
      ]
     },
     "execution_count": 31,
     "metadata": {},
     "output_type": "execute_result"
    }
   ],
   "source": [
    "outcomes = rng.poisson(lam=10, size= 100)\n",
    "outcomes"
   ]
  },
  {
   "cell_type": "code",
   "execution_count": 32,
   "metadata": {},
   "outputs": [
    {
     "data": {
      "text/plain": [
       "(array([ 1,  3,  4,  5,  6,  7,  8,  9, 10, 11, 12, 13, 14, 15, 16, 17, 18],\n",
       "       dtype=int64),\n",
       " array([ 1,  1,  1,  2,  8,  7,  6, 10, 18, 13, 10,  9,  3,  4,  4,  1,  2],\n",
       "       dtype=int64))"
      ]
     },
     "execution_count": 32,
     "metadata": {},
     "output_type": "execute_result"
    }
   ],
   "source": [
    "no_outcomes = np.unique(outcomes, return_counts=True)\n",
    "no_outcomes"
   ]
  },
  {
   "cell_type": "code",
   "execution_count": 40,
   "metadata": {},
   "outputs": [],
   "source": [
    "def sample_from_poisson(lam,no_tries=10**6,k=None):\n",
    "    outcomes = rng.poisson(lam,size=no_tries)\n",
    "    no_outcomes = np.unique(outcomes, return_counts=True)\n",
    "\n",
    "    fig,ax =plt.subplots(figsize=(10,6))\n",
    "\n",
    "    sns.barplot(ax = ax, x = no_outcomes[0], y = no_outcomes[1]/no_tries)\n",
    "\n",
    "    if k:\n",
    "        p_theor = lam**k*np.exp(-lam)/np.math.factorial(k)\n",
    "        ax.axhline(p_theor, c='m', linestyle='--')\n",
    "\n",
    "    ax.set_yticks(np.arange(0, np.max(no_outcomes[1]/no_tries) + .025, .025)); \n"
   ]
  },
  {
   "cell_type": "code",
   "execution_count": null,
   "metadata": {},
   "outputs": [
    {
     "name": "stderr",
     "output_type": "stream",
     "text": [
      "C:\\Users\\Admin\\AppData\\Local\\Temp\\ipykernel_912\\3335488584.py:10: DeprecationWarning: `np.math` is a deprecated alias for the standard library `math` module (Deprecated Numpy 1.25). Replace usages of `np.math` with `math`\n",
      "  p_theor = lam**k*np.exp(-lam)/np.math.factorial(k)\n"
     ]
    },
    {
     "data": {
      "image/png": "[encoded data removed]",
      "text/plain": [
       "<Figure size 1000x600 with 1 Axes>"
      ]
     },
     "metadata": {},
     "output_type": "display_data"
    }
   ],
   "source": [
    "sample_from_poisson(lam=10,no_tries=10**6)"
   ]
  },
  {
   "cell_type": "markdown",
   "metadata": {},
   "source": [
    "We can calculate these probabilities theoretically using a formula for a RV having Geometric Distribution:\n",
    "\n",
    "$$P(X=k) = \\frac{\\lambda^ke^{-\\lambda}}{k!}.$$"
   ]
  },
  {
   "cell_type": "markdown",
   "metadata": {},
   "source": [
    "So, for our example, we have:\n",
    "\n",
    "$$P(X = 17) = \\frac{10^{17}\\cdot e^{-10}}{17!} \\approx 0.012764 $$"
   ]
  },
  {
   "cell_type": "code",
   "execution_count": 42,
   "metadata": {},
   "outputs": [
    {
     "name": "stderr",
     "output_type": "stream",
     "text": [
      "C:\\Users\\Admin\\AppData\\Local\\Temp\\ipykernel_912\\3335488584.py:10: DeprecationWarning: `np.math` is a deprecated alias for the standard library `math` module (Deprecated Numpy 1.25). Replace usages of `np.math` with `math`\n",
      "  p_theor = lam**k*np.exp(-lam)/np.math.factorial(k)\n"
     ]
    },
    {
     "data": {
      "image/png": "[encoded data removed]",
      "text/plain": [
       "<Figure size 1000x600 with 1 Axes>"
      ]
     },
     "metadata": {},
     "output_type": "display_data"
    }
   ],
   "source": [
    "sample_from_poisson(lam=10, no_tries=10**6, k=17)"
   ]
  },
  {
   "cell_type": "markdown",
   "metadata": {},
   "source": [
    "### k is not a probability → It represents the exact number of occurrences we are calculating. \n",
    "\n",
    "###  λ (lambda) is the expected average number of occurrences."
   ]
  },
  {
   "cell_type": "markdown",
   "metadata": {},
   "source": [
    "We can calculate the probability of exactly 17 soldiers die in a month. "
   ]
  },
  {
   "cell_type": "code",
   "execution_count": 65,
   "metadata": {},
   "outputs": [
    {
     "data": {
      "text/plain": [
       "0.022999584406166312"
      ]
     },
     "execution_count": 65,
     "metadata": {},
     "output_type": "execute_result"
    }
   ],
   "source": [
    "import scipy\n",
    "from scipy.stats import poisson\n",
    "\n",
    "lam, k= 10,17\n",
    "probability = poisson.pmf(lam,k)\n",
    "\n",
    "probability"
   ]
  },
  {
   "cell_type": "markdown",
   "metadata": {},
   "source": [
    "## 5. Distributions - Once More, with Feelings. With SciPy"
   ]
  },
  {
   "cell_type": "markdown",
   "metadata": {},
   "source": [
    "SciPy is a Python module much used by statisticians, which we are also going to be using a bit during our course. SciPy comes quite handy if we need to work with random variables having some known distribution - not only we can use SciPy's methods for sampling from a given distribution, we can use them to calculate theoretical probabilities and c.d.f values. \n",
    "\n",
    "Let's first import it."
   ]
  },
  {
   "cell_type": "code",
   "execution_count": 62,
   "metadata": {},
   "outputs": [],
   "source": [
    "import scipy"
   ]
  },
  {
   "cell_type": "code",
   "execution_count": 61,
   "metadata": {},
   "outputs": [],
   "source": [
    "from scipy.stats import binom"
   ]
  },
  {
   "cell_type": "markdown",
   "metadata": {},
   "source": [
    "We can sample from $\\mathcal{B}(10, 0.5)$ using `binom.rvs()` method:"
   ]
  },
  {
   "cell_type": "code",
   "execution_count": 45,
   "metadata": {},
   "outputs": [
    {
     "data": {
      "text/plain": [
       "array([4, 6, 7, 3, 5, 4, 8, 5, 5, 8, 2, 3, 3, 8, 5, 6, 3, 5, 9, 8, 4, 5,\n",
       "       6, 9, 5, 7, 8, 5, 7, 5, 6, 4, 5, 6, 5, 3, 6, 4, 7, 7, 4, 6, 4, 4,\n",
       "       4, 3, 4, 5, 6, 5, 6, 6, 5, 8, 4, 6, 6, 6, 6, 4, 5, 5, 7, 5, 3, 5,\n",
       "       5, 4, 5, 6, 4, 0, 6, 6, 3, 4, 3, 7, 7, 5, 8, 7, 3, 6, 6, 6, 4, 9,\n",
       "       5, 7, 5, 5, 8, 6, 4, 8, 5, 5, 4, 3], dtype=int64)"
      ]
     },
     "execution_count": 45,
     "metadata": {},
     "output_type": "execute_result"
    }
   ],
   "source": [
    "binom.rvs(n=10, p=.5, size=100)"
   ]
  },
  {
   "cell_type": "markdown",
   "metadata": {},
   "source": [
    "*If we roll a 20-sided die 100 times, what's the probability of getting 20 ten times?*\n",
    "\n",
    "Here we have $\\mathcal{B}(100, 1/20)$, and $k=10$. We can calculate this probability using `binom.pmf()` method:"
   ]
  },
  {
   "cell_type": "code",
   "execution_count": 46,
   "metadata": {},
   "outputs": [
    {
     "data": {
      "text/plain": [
       "0.01671588409593141"
      ]
     },
     "execution_count": 46,
     "metadata": {},
     "output_type": "execute_result"
    }
   ],
   "source": [
    "binom.pmf(k=10, n=100, p=1/20)"
   ]
  },
  {
   "cell_type": "code",
   "execution_count": 69,
   "metadata": {},
   "outputs": [
    {
     "data": {
      "image/png": "[encoded data removed]",
      "text/plain": [
       "<Figure size 1000x600 with 1 Axes>"
      ]
     },
     "metadata": {},
     "output_type": "display_data"
    }
   ],
   "source": [
    "sample_from_binomial(n=100, p=1/20, k=10)"
   ]
  },
  {
   "cell_type": "markdown",
   "metadata": {},
   "source": [
    "*What's the probability of getting 20 ten or less times?* We can calculate that using `binom.cdf()` method:\n"
   ]
  },
  {
   "cell_type": "code",
   "execution_count": 67,
   "metadata": {},
   "outputs": [
    {
     "data": {
      "text/plain": [
       "0.9885275899325153"
      ]
     },
     "execution_count": 67,
     "metadata": {},
     "output_type": "execute_result"
    }
   ],
   "source": [
    "binom.cdf(k=10, n=100, p=1/20)"
   ]
  },
  {
   "cell_type": "markdown",
   "metadata": {},
   "source": [
    "*What's the probability of getting 20 more than ten times?*\n"
   ]
  },
  {
   "cell_type": "code",
   "execution_count": 70,
   "metadata": {},
   "outputs": [
    {
     "data": {
      "text/plain": [
       "0.011472410067484673"
      ]
     },
     "execution_count": 70,
     "metadata": {},
     "output_type": "execute_result"
    }
   ],
   "source": [
    "1 - binom.cdf(k=10, n=100, p=1/20)"
   ]
  },
  {
   "cell_type": "markdown",
   "metadata": {},
   "source": [
    "### Poisson Distribution "
   ]
  },
  {
   "cell_type": "markdown",
   "metadata": {},
   "source": [
    "For Poisson Distribution we use `poisson` object from `scipy.stats` module"
   ]
  },
  {
   "cell_type": "code",
   "execution_count": 56,
   "metadata": {},
   "outputs": [],
   "source": [
    "from scipy.stats import poisson"
   ]
  },
  {
   "cell_type": "markdown",
   "metadata": {},
   "source": [
    "We can sample from Poisson Distribution with $\\lambda = 5$ using `poisson.rvs()` method (which is given as $\\mu$ for scipy):"
   ]
  },
  {
   "cell_type": "code",
   "execution_count": 57,
   "metadata": {},
   "outputs": [
    {
     "data": {
      "text/plain": [
       "array([ 6,  6,  3,  2,  5,  7,  5,  8,  4, 11,  6,  8,  8,  4,  7,  6,  7,\n",
       "        4,  8,  3,  5,  3,  6,  6,  6,  3,  3,  6,  5,  6,  3,  3,  3,  2,\n",
       "        3,  3,  3,  9,  4,  5,  3,  7, 13,  5,  4,  6,  2,  6,  5, 10,  5,\n",
       "        8,  4,  5,  6,  7,  3,  5,  7,  3,  2,  2,  7,  7,  8,  7,  6,  5,\n",
       "        7,  2,  5,  5,  7,  7,  3,  9,  2,  8,  8,  2,  4,  5,  9,  4,  3,\n",
       "        1, 10,  4,  5,  6,  2,  3,  3,  8,  7,  4, 13,  5,  4,  4],\n",
       "      dtype=int64)"
      ]
     },
     "execution_count": 57,
     "metadata": {},
     "output_type": "execute_result"
    }
   ],
   "source": [
    "poisson.rvs(mu=5, size=100)"
   ]
  },
  {
   "cell_type": "markdown",
   "metadata": {},
   "source": [
    "*What's the probability of 7 people entering a store in an one-hour period, if we know that 5 people enter the store, in average, in one-hour period?*"
   ]
  },
  {
   "cell_type": "code",
   "execution_count": 71,
   "metadata": {},
   "outputs": [
    {
     "data": {
      "text/plain": [
       "0.10444486295705395"
      ]
     },
     "execution_count": 71,
     "metadata": {},
     "output_type": "execute_result"
    }
   ],
   "source": [
    "poisson.pmf(k=7, mu=5)"
   ]
  },
  {
   "cell_type": "code",
   "execution_count": 72,
   "metadata": {},
   "outputs": [
    {
     "name": "stderr",
     "output_type": "stream",
     "text": [
      "C:\\Users\\Admin\\AppData\\Local\\Temp\\ipykernel_912\\3335488584.py:10: DeprecationWarning: `np.math` is a deprecated alias for the standard library `math` module (Deprecated Numpy 1.25). Replace usages of `np.math` with `math`\n",
      "  p_theor = lam**k*np.exp(-lam)/np.math.factorial(k)\n"
     ]
    },
    {
     "data": {
      "image/png": "[encoded data removed]",
      "text/plain": [
       "<Figure size 1000x600 with 1 Axes>"
      ]
     },
     "metadata": {},
     "output_type": "display_data"
    }
   ],
   "source": [
    "sample_from_poisson(lam=5, k=7)"
   ]
  },
  {
   "cell_type": "markdown",
   "metadata": {},
   "source": [
    "*On the average, 10 soldiers in the Prussian army were killed accidentally by horse kick monthly. What is the probability that **17 or more** soldies in the Prussian army will be accidently killed by horse kicks during the month?*"
   ]
  },
  {
   "cell_type": "code",
   "execution_count": 73,
   "metadata": {},
   "outputs": [
    {
     "data": {
      "text/plain": [
       "0.01427761359704971"
      ]
     },
     "execution_count": 73,
     "metadata": {},
     "output_type": "execute_result"
    }
   ],
   "source": [
    "1 - poisson.cdf(mu=10, k=17)"
   ]
  },
  {
   "cell_type": "markdown",
   "metadata": {},
   "source": [
    "DataKolektiv, 2022/23.\n",
    "\n",
    "[hello@datakolektiv.com](mailto:goran.milovanovic@datakolektiv.com)\n",
    "\n",
    "![](../img/DK_Logo_100.png)"
   ]
  },
  {
   "cell_type": "markdown",
   "metadata": {},
   "source": [
    "<font size=1>License: [GPLv3](https://www.gnu.org/licenses/gpl-3.0.txt) This Notebook is free software: you can redistribute it and/or modify it under the terms of the GNU General Public License as published by the Free Software Foundation, either version 3 of the License, or (at your option) any later version. This Notebook is distributed in the hope that it will be useful, but WITHOUT ANY WARRANTY; without even the implied warranty of MERCHANTABILITY or FITNESS FOR A PARTICULAR PURPOSE. See the GNU General Public License for more details. You should have received a copy of the GNU General Public License along with this Notebook. If not, see http://www.gnu.org/licenses/.</font>"
   ]
  }
 ],
 "metadata": {
  "kernelspec": {
   "display_name": "Python 3",
   "language": "python",
   "name": "python3"
  },
  "language_info": {
   "codemirror_mode": {
    "name": "ipython",
    "version": 3
   },
   "file_extension": ".py",
   "mimetype": "text/x-python",
   "name": "python",
   "nbconvert_exporter": "python",
   "pygments_lexer": "ipython3",
   "version": "3.11.4"
  }
 },
 "nbformat": 4,
 "nbformat_minor": 2
}
