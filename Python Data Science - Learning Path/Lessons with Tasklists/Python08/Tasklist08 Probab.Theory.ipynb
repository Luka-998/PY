{
 "cells": [
  {
   "cell_type": "markdown",
   "metadata": {},
   "source": [
    "# DATA SCIENCE SESSIONS VOL. 3\n",
    "### A Foundational Python Data Science Course\n",
    "## TaskList 08: Probability 1.\n",
    "\n",
    "[&larr; Back to course webpage](https://datakolektiv.com/)\n",
    "\n",
    "Feedback should be send to [goran.milovanovic@datakolektiv.com](mailto:goran.milovanovic@datakolektiv.com). \n",
    "\n",
    "These notebooks accompany the DATA SCIENCE SESSIONS VOL. 3 :: A Foundational Python Data Science Course."
   ]
  },
  {
   "cell_type": "markdown",
   "metadata": {},
   "source": [
    "### Lecturers\n",
    "\n",
    "[Goran S. Milovanović, PhD, DataKolektiv, Chief Scientist & Owner](https://www.linkedin.com/in/gmilovanovic/)\n",
    "\n",
    "[Aleksandar Cvetković, PhD, DataKolektiv, Consultant](https://www.linkedin.com/in/alegzndr/)\n",
    "\n",
    "[Ilija Lazarević, MA, DataKolektiv, Consultant](https://www.linkedin.com/in/ilijalazarevic/)"
   ]
  },
  {
   "cell_type": "markdown",
   "metadata": {},
   "source": [
    "***"
   ]
  },
  {
   "cell_type": "markdown",
   "metadata": {},
   "source": [
    "### Intro\n",
    "\n",
    "In this tasklist we will deal with the basics of Probability Theory as presented in Session 08 and 09. \n",
    "This tasklist is meant as a refresher of what was discussed in the sessions. It is not meant to improve your Python coding skills except for very basic things in Numpy and Scipy and all in relation to Probability Theory alone. "
   ]
  },
  {
   "cell_type": "markdown",
   "metadata": {},
   "source": [
    "**00.** There are 15 red, 20 blue, and 10 yellow marbles in a bowl. The statistical experiment that we wish to study is a random draw of a marble from the bowl. Use a Numpy vector to represent the event space of this experiment (i.e. create a \"bowl\" that contains 15 red, 20 blue, and 10 yellow marbles; you can perhaps use numbers to represent different colors)."
   ]
  },
  {
   "cell_type": "code",
   "execution_count": null,
   "metadata": {},
   "outputs": [],
   "source": [
    "import numpy as np\n",
    "\n",
    "reds = np.repeat(1,repeats=15, axis=0)\n",
    "blues = np.repeat(2,repeats=20,axis=0)\n",
    "yellows = np.repeat(3,repeats=10,axis=0)\n",
    "event_space = np.concatenate([reds, blues, yellows])\n",
    "event_space\n"
   ]
  },
  {
   "cell_type": "markdown",
   "metadata": {},
   "source": [
    "**01.** Use Numpy to compute $P(Blue)$, $P(Red)$, and $P(Yellow)$. What is their sum?"
   ]
  },
  {
   "cell_type": "code",
   "execution_count": null,
   "metadata": {},
   "outputs": [],
   "source": [
    "p_blue = event_space[event_space==2].size/event_space.size\n",
    "p_red = event_space[event_space==1].size/event_space.size\n",
    "p_yellow = event_space[event_space==3].size/event_space\n",
    "sum_all = (p_blue+p_red+p_yellow)"
   ]
  },
  {
   "cell_type": "markdown",
   "metadata": {},
   "source": [
    "**02.** Compute $P(Blue \\cup Red)$"
   ]
  },
  {
   "cell_type": "code",
   "execution_count": null,
   "metadata": {},
   "outputs": [],
   "source": [
    "\n",
    "\n",
    "{p_blue} | {p_red} # Set \n",
    "\n",
    "p_blue_red = p_blue+p_red"
   ]
  },
  {
   "cell_type": "markdown",
   "metadata": {},
   "source": [
    "**03.** Assume that we have already drew five blue, two red, and six yellow marbles from the bowl. Following each draw we **did not return** the marble back into the bowl. What is now $P(Blue)$, the probability to draw a blue marble at random?"
   ]
  },
  {
   "cell_type": "code",
   "execution_count": null,
   "metadata": {},
   "outputs": [],
   "source": []
  }
 ],
 "metadata": {
  "kernelspec": {
   "display_name": "Python 3",
   "language": "python",
   "name": "python3"
  },
  "language_info": {
   "codemirror_mode": {
    "name": "ipython",
    "version": 3
   },
   "file_extension": ".py",
   "mimetype": "text/x-python",
   "name": "python",
   "nbconvert_exporter": "python",
   "pygments_lexer": "ipython3",
   "version": "3.11.4"
  }
 },
 "nbformat": 4,
 "nbformat_minor": 2
}
