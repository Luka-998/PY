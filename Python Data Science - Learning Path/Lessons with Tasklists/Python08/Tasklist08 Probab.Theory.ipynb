{
 "cells": [
  {
   "cell_type": "markdown",
   "metadata": {},
   "source": [
    "# DATA SCIENCE SESSIONS VOL. 3\n",
    "### A Foundational Python Data Science Course\n",
    "## TaskList 08: Probability 1.\n",
    "\n",
    "[&larr; Back to course webpage](https://datakolektiv.com/)\n",
    "\n",
    "Feedback should be send to [goran.milovanovic@datakolektiv.com](mailto:goran.milovanovic@datakolektiv.com). \n",
    "\n",
    "These notebooks accompany the DATA SCIENCE SESSIONS VOL. 3 :: A Foundational Python Data Science Course."
   ]
  },
  {
   "cell_type": "markdown",
   "metadata": {},
   "source": [
    "### Lecturers\n",
    "\n",
    "[Goran S. Milovanović, PhD, DataKolektiv, Chief Scientist & Owner](https://www.linkedin.com/in/gmilovanovic/)\n",
    "\n",
    "[Aleksandar Cvetković, PhD, DataKolektiv, Consultant](https://www.linkedin.com/in/alegzndr/)\n",
    "\n",
    "[Ilija Lazarević, MA, DataKolektiv, Consultant](https://www.linkedin.com/in/ilijalazarevic/)"
   ]
  },
  {
   "cell_type": "markdown",
   "metadata": {},
   "source": [
    "***"
   ]
  },
  {
   "cell_type": "markdown",
   "metadata": {},
   "source": [
    "### Intro\n",
    "\n",
    "In this tasklist we will deal with the basics of Probability Theory as presented in Session 08 and 09. \n",
    "This tasklist is meant as a refresher of what was discussed in the sessions. It is not meant to improve your Python coding skills except for very basic things in Numpy and Scipy and all in relation to Probability Theory alone. "
   ]
  },
  {
   "cell_type": "markdown",
   "metadata": {},
   "source": [
    "**00.** There are 15 red, 20 blue, and 10 yellow marbles in a bowl. The statistical experiment that we wish to study is a random draw of a marble from the bowl. Use a Numpy vector to represent the event space of this experiment (i.e. create a \"bowl\" that contains 15 red, 20 blue, and 10 yellow marbles; you can perhaps use numbers to represent different colors)."
   ]
  },
  {
   "cell_type": "code",
   "execution_count": 91,
   "metadata": {},
   "outputs": [
    {
     "data": {
      "text/plain": [
       "array([1, 1, 1, 1, 1, 1, 1, 1, 1, 1, 1, 1, 1, 1, 1, 2, 2, 2, 2, 2, 2, 2,\n",
       "       2, 2, 2, 2, 2, 2, 2, 2, 2, 2, 2, 2, 2, 3, 3, 3, 3, 3, 3, 3, 3, 3,\n",
       "       3])"
      ]
     },
     "execution_count": 91,
     "metadata": {},
     "output_type": "execute_result"
    }
   ],
   "source": [
    "import numpy as np\n",
    "\n",
    "reds = np.repeat(1,repeats=15, axis=0)\n",
    "blues = np.repeat(2,repeats=20,axis=0)\n",
    "yellows = np.repeat(3,repeats=10,axis=0)\n",
    "event_space = np.concatenate([reds, blues, yellows])\n",
    "event_space\n"
   ]
  },
  {
   "cell_type": "markdown",
   "metadata": {},
   "source": [
    "**01.** Use Numpy to compute $P(Blue)$, $P(Red)$, and $P(Yellow)$. What is their sum?"
   ]
  },
  {
   "cell_type": "code",
   "execution_count": 92,
   "metadata": {},
   "outputs": [
    {
     "data": {
      "text/plain": [
       "0.4444444444444444"
      ]
     },
     "execution_count": 92,
     "metadata": {},
     "output_type": "execute_result"
    }
   ],
   "source": [
    "p_blue = event_space[event_space==2].size/event_space.size\n",
    "p_red = event_space[event_space==1].size/event_space.size\n",
    "p_yellow = event_space[event_space==3].size/event_space\n",
    "sum_all = (p_blue+p_red+p_yellow)\n",
    "p_blue"
   ]
  },
  {
   "cell_type": "markdown",
   "metadata": {},
   "source": [
    "**02.** Compute $P(Blue \\cup Red)$"
   ]
  },
  {
   "cell_type": "code",
   "execution_count": 93,
   "metadata": {},
   "outputs": [],
   "source": [
    "\n",
    "\n",
    "{p_blue} | {p_red} # Set \n",
    "\n",
    "p_blue_red = p_blue+p_red"
   ]
  },
  {
   "cell_type": "markdown",
   "metadata": {},
   "source": [
    "**03.** Assume that we have already drew five blue, two red, and six yellow marbles from the bowl. Following each draw we **did not return** the marble back into the bowl. What is now $P(Blue)$, the probability to draw a blue marble at random?"
   ]
  },
  {
   "cell_type": "code",
   "execution_count": 94,
   "metadata": {},
   "outputs": [
    {
     "data": {
      "text/plain": [
       "0.46875"
      ]
     },
     "execution_count": 94,
     "metadata": {},
     "output_type": "execute_result"
    }
   ],
   "source": [
    "blue_deleted = 5\n",
    "red_deleted = 2\n",
    "yellow_deleted = 6\n",
    "\n",
    "new_event_space_size = event_space.size - (blue_deleted+red_deleted+yellow_deleted)\n",
    "new_number_of_blues = event_space[event_space==2].size - blue_deleted\n",
    "\n",
    "new_blue_p = new_number_of_blues/new_event_space_size\n",
    "\n",
    "\n",
    "new_blue_p\n",
    "\n"
   ]
  },
  {
   "cell_type": "markdown",
   "metadata": {},
   "source": [
    "**04.** I have a tricky coin with $P(Head)=.78$. What is the probability that I obtain sixty-five $Heads$ from one hundred tosses of my tricky coin? (I like tricky things, indeed). Use Scipy!"
   ]
  },
  {
   "cell_type": "markdown",
   "metadata": {},
   "source": [
    "binomial it is. we are looking for k hits in n trials of the same hit/miss experiment."
   ]
  },
  {
   "cell_type": "code",
   "execution_count": 95,
   "metadata": {},
   "outputs": [
    {
     "name": "stdout",
     "output_type": "stream",
     "text": [
      "The probability of obtaining 65 Heads from one hundrer tosses is 0.0010241976052498668\n"
     ]
    }
   ],
   "source": [
    "import scipy\n",
    "from scipy.stats import binom\n",
    "rng=np.random.default_rng(seed=10012)\n",
    "\n",
    "x = 65\n",
    "n = 100\n",
    "p = 0.78\n",
    "\n",
    "outcome = binom.pmf(x,n,p)\n",
    "outcome\n",
    "\n",
    "print(f'The probability of obtaining 65 Heads from one hundrer tosses is {outcome}')"
   ]
  },
  {
   "cell_type": "markdown",
   "metadata": {},
   "source": [
    "**05.** And what is the probability to obtain sixty-five **or more than sixty-five** Heads? **N.B. Tricky**. "
   ]
  },
  {
   "cell_type": "code",
   "execution_count": 96,
   "metadata": {},
   "outputs": [
    {
     "data": {
      "text/plain": [
       "0.9989758023947501"
      ]
     },
     "execution_count": 96,
     "metadata": {},
     "output_type": "execute_result"
    }
   ],
   "source": [
    "outcome_final = 1- outcome\n",
    "\n",
    "outcome_final"
   ]
  },
  {
   "cell_type": "markdown",
   "metadata": {},
   "source": [
    "**06.** My cat scratches me - accidentally or intentionally - 9.97 times monthly on the average. What is the probability that the darned animal will scratch me 11 times in the following month?"
   ]
  },
  {
   "cell_type": "markdown",
   "metadata": {},
   "source": [
    "I think this one is Poission distribution. Because we have :\n",
    "\n",
    "λ (lambda) is the expected number of occurrences in a given time interval. Also, lambda in scipy is referred as the `mu`. \n",
    "\n",
    "k is the actual observed count of occurrences (e.g., how many events actually happened)."
   ]
  },
  {
   "cell_type": "markdown",
   "metadata": {},
   "source": [
    "### mu = λ (expected occurrences per interval)."
   ]
  },
  {
   "cell_type": "code",
   "execution_count": 104,
   "metadata": {},
   "outputs": [
    {
     "data": {
      "text/plain": [
       "0.11339007402506597"
      ]
     },
     "execution_count": 104,
     "metadata": {},
     "output_type": "execute_result"
    }
   ],
   "source": [
    "from scipy.stats import poisson\n",
    "mu = 9.97\n",
    "k =11\n",
    "animal_scratches = poisson.pmf(k,mu)\n",
    "\n",
    "animal_scratches"
   ]
  },
  {
   "cell_type": "markdown",
   "metadata": {},
   "source": [
    "**07.** And what is the probability that the cat will scratch me five or less than five times (on a good month)?"
   ]
  },
  {
   "cell_type": "markdown",
   "metadata": {},
   "source": [
    "                                                                                                    P(X ≤ 5)"
   ]
  },
  {
   "cell_type": "markdown",
   "metadata": {},
   "source": [
    "- We need to sum P(X = 0) + P(X = 1) + ... + P(X = 5).\n",
    "\n",
    "- Instead of summing manually, we use Poisson's cumulative distribution function (poisson.cdf)"
   ]
  },
  {
   "cell_type": "code",
   "execution_count": 109,
   "metadata": {},
   "outputs": [
    {
     "data": {
      "text/plain": [
       "0.0682295077107305"
      ]
     },
     "execution_count": 109,
     "metadata": {},
     "output_type": "execute_result"
    }
   ],
   "source": [
    "\n",
    "\n",
    "animal_scratches_v2 = poisson.cdf(k=5,mu=9.97)\n",
    "animal_scratches_v2"
   ]
  },
  {
   "cell_type": "markdown",
   "metadata": {},
   "source": [
    "**08.** The probability that any of my bank's customer support agents answer my phone call on weekends is $P(Answer)=.05$ (**N.B.** the website says it's a 24h support any given day; they just don't give a d*). What is the probability that my phone call will be answered in my 10th attempt?\n",
    "\n",
    "**N.B.** If you wonder if Scipy can handle a Geometric distribution... [scipy.stats.geom](https://docs.scipy.org/doc/scipy/reference/generated/scipy.stats.geom.html)"
   ]
  },
  {
   "cell_type": "code",
   "execution_count": 113,
   "metadata": {},
   "outputs": [
    {
     "data": {
      "text/plain": [
       "0.03151247048623045"
      ]
     },
     "execution_count": 113,
     "metadata": {},
     "output_type": "execute_result"
    }
   ],
   "source": [
    "p = 0.05\n",
    "N = 10\n",
    "\n",
    "from scipy.stats import geom\n",
    "\n",
    "probability = geom.pmf(N,p)\n",
    "\n",
    "probability"
   ]
  },
  {
   "cell_type": "markdown",
   "metadata": {},
   "source": [
    "**09.** And what is the probability that my call will be answered in the first ten attempts, including the tenth attempt?"
   ]
  },
  {
   "cell_type": "code",
   "execution_count": 115,
   "metadata": {},
   "outputs": [
    {
     "data": {
      "text/plain": [
       "0.4012630607616211"
      ]
     },
     "execution_count": 115,
     "metadata": {},
     "output_type": "execute_result"
    }
   ],
   "source": [
    "probability_ten_less = geom.cdf(N,0.05)\n",
    "probability_ten_less"
   ]
  },
  {
   "cell_type": "markdown",
   "metadata": {},
   "source": [
    "**10.** As [Alex](https://www.linkedin.com/in/alegzndr/) explained in Session08, we consider finite, countably infinite, and uncountably infinite event sets in Probability Theory. The set of all natural numbers, $\\mathbb{N}$, is countably infinite, and its cardinal number - meaning its size - is $\\aleph_0$ (aleph-zero). A set is uncountably infinite if it cannot be brought into a 1:1 correspondence with the set of natural numbers, $\\mathbb{N}$, and of course $\\mathbb{R}$ - the set of real numbers - is thus uncountably infinite. We say that the cardinal number of $\\mathbb{R}$ is $\\aleph_1$ (aleph-one). Prove that there are no sets whose cardinality lies between $\\aleph_0$ and $\\aleph_1$. Please make sure to keep the proof concise, elegant, and easy to read. You can use OpenAI's [ChatGPT](https://openai.com/blog/chatgpt) to solve this task if you prefer.\n",
    "\n",
    "Some background material is provided in [Continuum hypothesis|English Wikipedia](https://en.wikipedia.org/wiki/Continuum_hypothesis)."
   ]
  }
 ],
 "metadata": {
  "kernelspec": {
   "display_name": "Python 3",
   "language": "python",
   "name": "python3"
  },
  "language_info": {
   "codemirror_mode": {
    "name": "ipython",
    "version": 3
   },
   "file_extension": ".py",
   "mimetype": "text/x-python",
   "name": "python",
   "nbconvert_exporter": "python",
   "pygments_lexer": "ipython3",
   "version": "3.11.4"
  }
 },
 "nbformat": 4,
 "nbformat_minor": 2
}
