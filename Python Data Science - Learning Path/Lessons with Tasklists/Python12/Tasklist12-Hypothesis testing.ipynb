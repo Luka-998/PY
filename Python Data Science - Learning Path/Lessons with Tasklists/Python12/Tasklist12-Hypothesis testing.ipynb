{
 "cells": [
  {
   "cell_type": "markdown",
   "metadata": {},
   "source": [
    "# DATA SCIENCE SESSIONS VOL. 3\n",
    "### A Foundational Python Data Science Course\n",
    "## Tasklist 12: Statistical Hypothesis Testing + Correlation(s).\n",
    "\n",
    "[&larr; Back to course webpage](https://datakolektiv.com/)\n",
    "\n",
    "Feedback should be send to [goran.milovanovic@datakolektiv.com](mailto:goran.milovanovic@datakolektiv.com). \n",
    "\n",
    "These notebooks accompany the DATA SCIENCE SESSIONS VOL. 3 :: A Foundational Python Data Science Course."
   ]
  },
  {
   "cell_type": "markdown",
   "metadata": {},
   "source": [
    "### Lecturers\n",
    "\n",
    "[Goran S. Milovanović, PhD, DataKolektiv, Chief Scientist & Owner](https://www.linkedin.com/in/gmilovanovic/)\n",
    "\n",
    "[Aleksandar Cvetković, PhD, DataKolektiv, Consultant](https://www.linkedin.com/in/alegzndr/)\n",
    "\n",
    "[Ilija Lazarević, MA, DataKolektiv, Consultant](https://www.linkedin.com/in/ilijalazarevic/)"
   ]
  },
  {
   "cell_type": "markdown",
   "metadata": {},
   "source": [
    "***"
   ]
  },
  {
   "cell_type": "markdown",
   "metadata": {},
   "source": [
    "### Intro \n",
    "\n",
    "The goal of this Tasklist is to consolidate our knowledge of applied Probability Theory so to be able to formulate and solve problems in the Statistical Hypothesis Framework that we have covered in our Session 12. Later on we will touch upon correlation(s) again. Let's do it: "
   ]
  },
  {
   "cell_type": "code",
   "execution_count": null,
   "metadata": {},
   "outputs": [],
   "source": [
    "# Import the Python modules that you think you will need:\n",
    "\n",
    "import numpy as np\n",
    "import pandas as pd\n",
    "import seaborn as sns\n",
    "import scipy.stats\n",
    "rng = np.random.default_rng(seed=10013)"
   ]
  },
  {
   "cell_type": "markdown",
   "metadata": {},
   "source": [
    "**N.B.** We have some datasets prepared for this task list, found in the `_data` directory."
   ]
  },
  {
   "cell_type": "code",
   "execution_count": 6,
   "metadata": {},
   "outputs": [
    {
     "name": "stdout",
     "output_type": "stream",
     "text": [
      "['chi_square_table.csv']\n"
     ]
    }
   ],
   "source": [
    "import os \n",
    "data_dir = os.path.join(os.getcwd(),'_data')\n",
    "for roots,dirs,files in os.walk(data_dir):\n",
    "    for file in files:\n",
    "        print(files)"
   ]
  },
  {
   "cell_type": "markdown",
   "metadata": {},
   "source": [
    "**01.** We will use the `chi_square_table.csv` dataset here.Read through the secion on $\\chi^2$ distrubution and the related $\\chi^2$ statistical test in Session 12 again. Using only Numpy, Pandas, and SciPy, perform a $\\chi^2$ test for the following data set (you will need to compute he test stastics by hand - use Numpy). Compute the probability of Type I Error (the $p$ value), report the test statistic, the $p$ value, and make a conclusion."
   ]
  },
  {
   "cell_type": "code",
   "execution_count": 50,
   "metadata": {},
   "outputs": [
    {
     "data": {
      "text/html": [
       "<div>\n",
       "<style scoped>\n",
       "    .dataframe tbody tr th:only-of-type {\n",
       "        vertical-align: middle;\n",
       "    }\n",
       "\n",
       "    .dataframe tbody tr th {\n",
       "        vertical-align: top;\n",
       "    }\n",
       "\n",
       "    .dataframe thead th {\n",
       "        text-align: right;\n",
       "    }\n",
       "</style>\n",
       "<table border=\"1\" class=\"dataframe\">\n",
       "  <thead>\n",
       "    <tr style=\"text-align: right;\">\n",
       "      <th></th>\n",
       "      <th>expected</th>\n",
       "      <th>observed</th>\n",
       "    </tr>\n",
       "  </thead>\n",
       "  <tbody>\n",
       "    <tr>\n",
       "      <th>0</th>\n",
       "      <td>20</td>\n",
       "      <td>80</td>\n",
       "    </tr>\n",
       "    <tr>\n",
       "      <th>1</th>\n",
       "      <td>30</td>\n",
       "      <td>20</td>\n",
       "    </tr>\n",
       "    <tr>\n",
       "      <th>2</th>\n",
       "      <td>50</td>\n",
       "      <td>70</td>\n",
       "    </tr>\n",
       "    <tr>\n",
       "      <th>3</th>\n",
       "      <td>20</td>\n",
       "      <td>10</td>\n",
       "    </tr>\n",
       "    <tr>\n",
       "      <th>4</th>\n",
       "      <td>40</td>\n",
       "      <td>60</td>\n",
       "    </tr>\n",
       "    <tr>\n",
       "      <th>5</th>\n",
       "      <td>40</td>\n",
       "      <td>30</td>\n",
       "    </tr>\n",
       "    <tr>\n",
       "      <th>6</th>\n",
       "      <td>70</td>\n",
       "      <td>40</td>\n",
       "    </tr>\n",
       "    <tr>\n",
       "      <th>7</th>\n",
       "      <td>50</td>\n",
       "      <td>30</td>\n",
       "    </tr>\n",
       "    <tr>\n",
       "      <th>8</th>\n",
       "      <td>40</td>\n",
       "      <td>20</td>\n",
       "    </tr>\n",
       "    <tr>\n",
       "      <th>9</th>\n",
       "      <td>60</td>\n",
       "      <td>60</td>\n",
       "    </tr>\n",
       "    <tr>\n",
       "      <th>10</th>\n",
       "      <td>15</td>\n",
       "      <td>15</td>\n",
       "    </tr>\n",
       "    <tr>\n",
       "      <th>11</th>\n",
       "      <td>40</td>\n",
       "      <td>30</td>\n",
       "    </tr>\n",
       "    <tr>\n",
       "      <th>12</th>\n",
       "      <td>20</td>\n",
       "      <td>30</td>\n",
       "    </tr>\n",
       "    <tr>\n",
       "      <th>13</th>\n",
       "      <td>50</td>\n",
       "      <td>30</td>\n",
       "    </tr>\n",
       "    <tr>\n",
       "      <th>14</th>\n",
       "      <td>60</td>\n",
       "      <td>40</td>\n",
       "    </tr>\n",
       "    <tr>\n",
       "      <th>15</th>\n",
       "      <td>20</td>\n",
       "      <td>30</td>\n",
       "    </tr>\n",
       "    <tr>\n",
       "      <th>16</th>\n",
       "      <td>60</td>\n",
       "      <td>60</td>\n",
       "    </tr>\n",
       "    <tr>\n",
       "      <th>17</th>\n",
       "      <td>30</td>\n",
       "      <td>40</td>\n",
       "    </tr>\n",
       "    <tr>\n",
       "      <th>18</th>\n",
       "      <td>40</td>\n",
       "      <td>50</td>\n",
       "    </tr>\n",
       "    <tr>\n",
       "      <th>19</th>\n",
       "      <td>20</td>\n",
       "      <td>30</td>\n",
       "    </tr>\n",
       "  </tbody>\n",
       "</table>\n",
       "</div>"
      ],
      "text/plain": [
       "    expected  observed\n",
       "0         20        80\n",
       "1         30        20\n",
       "2         50        70\n",
       "3         20        10\n",
       "4         40        60\n",
       "5         40        30\n",
       "6         70        40\n",
       "7         50        30\n",
       "8         40        20\n",
       "9         60        60\n",
       "10        15        15\n",
       "11        40        30\n",
       "12        20        30\n",
       "13        50        30\n",
       "14        60        40\n",
       "15        20        30\n",
       "16        60        60\n",
       "17        30        40\n",
       "18        40        50\n",
       "19        20        30"
      ]
     },
     "execution_count": 50,
     "metadata": {},
     "output_type": "execute_result"
    }
   ],
   "source": [
    "# load dataset\n",
    "\n",
    "dataset1= pd.read_csv('_data\\\\chi_square_table.csv')\n",
    "dataset1\n"
   ]
  },
  {
   "cell_type": "code",
   "execution_count": null,
   "metadata": {},
   "outputs": [
    {
     "name": "stdout",
     "output_type": "stream",
     "text": [
      "Chi-square test result is: 277.6904761904762\n",
      "type I error is: 0.0\n"
     ]
    }
   ],
   "source": [
    "# sample\n",
    "# znaci meni treba da uradim hi test, sa podacima iz gornjeg data frejma\n",
    "# hi = (observed-expected)^2/ expected\n",
    "from scipy.stats import chi2\n",
    "observed = (dataset1['observed'])\n",
    "expected = (dataset1['expected'])\n",
    "\n",
    "chi = np.sum((observed-expected)**2/expected)\n",
    "chi\n",
    "p = 1 - chi2.cdf(x=chi,df=19)\n",
    "\n",
    "print(f\"Chi-square test result is: {chi}\")\n",
    "print(f\"type I error is: {p}\")\n"
   ]
  },
  {
   "cell_type": "markdown",
   "metadata": {},
   "source": [
    "**02.** Use the same dataset as in **01.** to do the following:\n",
    "\n",
    "- study the [scipy.stats.chisquare](https://docs.scipy.org/doc/scipy/reference/generated/scipy.stats.chisquare.html) documentation\n",
    "- import `chisquare` from `scipy.stats`\n",
    "- and use the `chisquare` method to perform the $\\chi^2$ test.\n",
    "- Note: `ddof` in `scipy.stats.chisquare` is your number of degrees of freedom, which is $k-1$ for the $\\chi^2$ test with $k$ categories."
   ]
  },
  {
   "cell_type": "code",
   "execution_count": 80,
   "metadata": {},
   "outputs": [
    {
     "data": {
      "text/plain": [
       "Power_divergenceResult(statistic=277.6904761904762, pvalue=0.0)"
      ]
     },
     "execution_count": 80,
     "metadata": {},
     "output_type": "execute_result"
    }
   ],
   "source": [
    "### your code here ###\n",
    "from scipy.stats import chisquare\n",
    "k = dataset1.shape[0]\n",
    "scipy.stats.chisquare(f_obs = dataset1['observed'], \n",
    "                      f_exp= dataset1['expected'], \n",
    "                      ddof=k-1, \n",
    "                      axis=0)"
   ]
  },
  {
   "cell_type": "markdown",
   "metadata": {},
   "source": [
    "Confused by something in the results? Well, that is the reason why perhaps you should learn how to do Statistical Hypothesis Testing by hand! Read through this discussion (but do not expect the answer to what worries you): [Getting nan for p values in scipy chisquare: Don't know why?](https://stackoverflow.com/questions/40380217/getting-nan-for-p-values-in-scipy-chisquare-dont-know-why)."
   ]
  },
  {
   "cell_type": "markdown",
   "metadata": {},
   "source": [
    "**03.** A t-test against a constant value: create a random vector of size `1,000` from the Normal Distribution with $\\mu=5$ and $\\sigma=2$ and test if its mean is statistically significantly different from `5.3`. Use SciPy to compute the t-test and report your results (you will probably need to import something). Explain the finding in your own words!"
   ]
  },
  {
   "cell_type": "code",
   "execution_count": null,
   "metadata": {},
   "outputs": [
    {
     "name": "stdout",
     "output_type": "stream",
     "text": [
      "-5.129701185779551\n",
      "3.48514908964101e-07\n"
     ]
    }
   ],
   "source": [
    "# Here we need to compare ttest from our example to constant.\n",
    "from scipy.stats import ttest_1samp,norm\n",
    "\n",
    "rvs = norm.rvs(loc=5,scale=2,size=1000)\n",
    "mean_rvs = np.mean(rvs)\n",
    "t_stat, p_val = ttest_1samp(rvs,popmean=5.3)\n",
    "print(t_stat)\n",
    "print(p_val)\n",
    "\n",
    "# P > 0.05 Null hypothesis is not rejected"
   ]
  },
  {
   "cell_type": "markdown",
   "metadata": {},
   "source": [
    "**04.** A t-test for independent measures. We are assuming the following:\n",
    "\n",
    "- People educated in Math via method A score, on the average, 78 points on some standardized test X; while\n",
    "- people educated in Math via method B score, on the average, 65 points on some standardized test X;\n",
    "- the standard deviation of the test scores is always 14.\n",
    "\n",
    "Generate two random vectors of size `1,000` each that represent this hypotheses and perform an independent measures t-test for two group means using SciPy. Explain: what justifies the use of and *independent t-test* in this case? Are the two methods empirically really likely to yield different results?"
   ]
  },
  {
   "cell_type": "code",
   "execution_count": 111,
   "metadata": {},
   "outputs": [
    {
     "name": "stdout",
     "output_type": "stream",
     "text": [
      "result of t-test is 20.435920064301307, and p-value is 1.9043633518560624e-84\n"
     ]
    }
   ],
   "source": [
    "# this is the case of ttest where 2 variables are independant and we have two samples\n",
    "\n",
    "from scipy.stats import ttest_ind\n",
    "\n",
    "sample1=norm.rvs(loc=78,scale=14,size=1000)\n",
    "sample2=norm.rvs(loc=65,scale=14,size=1000)\n",
    "\n",
    "t_test,p_val =ttest_ind(sample1,sample2)\n",
    "\n",
    "print(f\"result of t-test is {t_test}, and p-value is {p_val}\")"
   ]
  },
  {
   "cell_type": "markdown",
   "metadata": {},
   "source": [
    "**05.** A t-test for repeated measures (paired t-test). We are assuming the following:\n",
    "\n",
    "- Before training with DataKolektiv, people typically (on the average) can score 67 points on some standardize test Y;\n",
    "- while after training with DataKolektiv they score 88 points on the average;\n",
    "- it is known that the standard deviation of the test scores is 28.\n",
    "\n",
    "Generate two random vectors of size `1,000` each that represent these hypotheses and perform an dependent measures t-test for two group means using SciPy. Explain: what justifies the use of a *paired t-test* in this case? According to the test result, is the DataKolektiv training really effective? Explain the finding."
   ]
  },
  {
   "cell_type": "code",
   "execution_count": 113,
   "metadata": {},
   "outputs": [
    {
     "name": "stdout",
     "output_type": "stream",
     "text": [
      "Result of t-test is -20.394181078307042 and p-value is 1.4416353399618521e-77\n"
     ]
    }
   ],
   "source": [
    "from scipy.stats import ttest_rel\n",
    "\n",
    "sample1=norm.rvs(loc=67,scale=22, size =1000)\n",
    "sample2=norm.rvs(loc=88,scale=22,size=1000)\n",
    "\n",
    "t_test,p_val=ttest_rel(sample1,sample2)\n",
    "\n",
    "print(f\"Result of t-test is {t_test} and p-value is {p_val}\")"
   ]
  },
  {
   "cell_type": "markdown",
   "metadata": {},
   "source": [
    "**06.** Correlation. Generate two random, normally distributed vectors with $\\mu=5$ and $\\mu=7.5$, both having the same $\\sigma=2.3$, both of size `1,000`. Use Numpy `np.cov()` (**N.B.** mind the documentation - the `ddof` argument!) to compute the sample covariance between these two vectors, then standardize them and compute the Pearson correlation coefficient. Use Pandas to visualize produce the respective scatterplot."
   ]
  },
  {
   "cell_type": "code",
   "execution_count": 126,
   "metadata": {},
   "outputs": [
    {
     "data": {
      "text/plain": [
       "<Axes: xlabel='X', ylabel='Y'>"
      ]
     },
     "execution_count": 126,
     "metadata": {},
     "output_type": "execute_result"
    },
    {
     "data": {
      "image/png": "[encoded data removed]",
      "text/plain": [
       "<Figure size 640x480 with 1 Axes>"
      ]
     },
     "metadata": {},
     "output_type": "display_data"
    }
   ],
   "source": [
    "# To refresh, cov. is represented as cov = (x- mean(x) * y -mean(y))/ n - 1 \n",
    "#First go to covariance\n",
    "\n",
    "sample1_vector = norm.rvs(loc=5,scale=2.3,size=1000)\n",
    "sample2_vector = norm.rvs(loc=7.5,scale=2.3,size=1000)\n",
    "\n",
    "data_frame = pd.DataFrame({\n",
    "    'X':sample1_vector,\n",
    "    'Y':sample2_vector,\n",
    "})\n",
    "\n",
    "data_frame\n",
    "\n",
    "\n",
    "sns.scatterplot(data=data_frame,x='X',y='Y')\n"
   ]
  },
  {
   "cell_type": "code",
   "execution_count": 131,
   "metadata": {},
   "outputs": [
    {
     "data": {
      "text/plain": [
       "array([[5.17188488, 5.17188488],\n",
       "       [5.17188488, 5.17188488]])"
      ]
     },
     "execution_count": 131,
     "metadata": {},
     "output_type": "execute_result"
    }
   ],
   "source": [
    "np.cov(sample1_vector,sample1_vector)"
   ]
  },
  {
   "cell_type": "code",
   "execution_count": 136,
   "metadata": {},
   "outputs": [
    {
     "data": {
      "text/html": [
       "<div>\n",
       "<style scoped>\n",
       "    .dataframe tbody tr th:only-of-type {\n",
       "        vertical-align: middle;\n",
       "    }\n",
       "\n",
       "    .dataframe tbody tr th {\n",
       "        vertical-align: top;\n",
       "    }\n",
       "\n",
       "    .dataframe thead th {\n",
       "        text-align: right;\n",
       "    }\n",
       "</style>\n",
       "<table border=\"1\" class=\"dataframe\">\n",
       "  <thead>\n",
       "    <tr style=\"text-align: right;\">\n",
       "      <th></th>\n",
       "      <th>X</th>\n",
       "      <th>Y</th>\n",
       "      <th>zx</th>\n",
       "      <th>zy</th>\n",
       "    </tr>\n",
       "  </thead>\n",
       "  <tbody>\n",
       "    <tr>\n",
       "      <th>0</th>\n",
       "      <td>4.577776</td>\n",
       "      <td>7.148707</td>\n",
       "      <td>5.642651</td>\n",
       "      <td>-0.214525</td>\n",
       "    </tr>\n",
       "    <tr>\n",
       "      <th>1</th>\n",
       "      <td>0.963258</td>\n",
       "      <td>8.597231</td>\n",
       "      <td>-1.053714</td>\n",
       "      <td>0.406330</td>\n",
       "    </tr>\n",
       "    <tr>\n",
       "      <th>2</th>\n",
       "      <td>4.281258</td>\n",
       "      <td>9.904294</td>\n",
       "      <td>-0.516589</td>\n",
       "      <td>0.966552</td>\n",
       "    </tr>\n",
       "    <tr>\n",
       "      <th>3</th>\n",
       "      <td>4.002310</td>\n",
       "      <td>6.309012</td>\n",
       "      <td>6.853700</td>\n",
       "      <td>-0.574428</td>\n",
       "    </tr>\n",
       "    <tr>\n",
       "      <th>4</th>\n",
       "      <td>5.865988</td>\n",
       "      <td>3.272218</td>\n",
       "      <td>15.178390</td>\n",
       "      <td>-1.876033</td>\n",
       "    </tr>\n",
       "    <tr>\n",
       "      <th>...</th>\n",
       "      <td>...</td>\n",
       "      <td>...</td>\n",
       "      <td>...</td>\n",
       "      <td>...</td>\n",
       "    </tr>\n",
       "    <tr>\n",
       "      <th>995</th>\n",
       "      <td>4.223261</td>\n",
       "      <td>7.712616</td>\n",
       "      <td>4.088376</td>\n",
       "      <td>0.027173</td>\n",
       "    </tr>\n",
       "    <tr>\n",
       "      <th>996</th>\n",
       "      <td>6.312875</td>\n",
       "      <td>1.564019</td>\n",
       "      <td>19.259603</td>\n",
       "      <td>-2.608187</td>\n",
       "    </tr>\n",
       "    <tr>\n",
       "      <th>997</th>\n",
       "      <td>5.733877</td>\n",
       "      <td>5.608666</td>\n",
       "      <td>10.075307</td>\n",
       "      <td>-0.874604</td>\n",
       "    </tr>\n",
       "    <tr>\n",
       "      <th>998</th>\n",
       "      <td>5.511435</td>\n",
       "      <td>6.356641</td>\n",
       "      <td>8.261490</td>\n",
       "      <td>-0.554013</td>\n",
       "    </tr>\n",
       "    <tr>\n",
       "      <th>999</th>\n",
       "      <td>6.530995</td>\n",
       "      <td>4.701097</td>\n",
       "      <td>12.803347</td>\n",
       "      <td>-1.263599</td>\n",
       "    </tr>\n",
       "  </tbody>\n",
       "</table>\n",
       "<p>1000 rows × 4 columns</p>\n",
       "</div>"
      ],
      "text/plain": [
       "            X         Y         zx        zy\n",
       "0    4.577776  7.148707   5.642651 -0.214525\n",
       "1    0.963258  8.597231  -1.053714  0.406330\n",
       "2    4.281258  9.904294  -0.516589  0.966552\n",
       "3    4.002310  6.309012   6.853700 -0.574428\n",
       "4    5.865988  3.272218  15.178390 -1.876033\n",
       "..        ...       ...        ...       ...\n",
       "995  4.223261  7.712616   4.088376  0.027173\n",
       "996  6.312875  1.564019  19.259603 -2.608187\n",
       "997  5.733877  5.608666  10.075307 -0.874604\n",
       "998  5.511435  6.356641   8.261490 -0.554013\n",
       "999  6.530995  4.701097  12.803347 -1.263599\n",
       "\n",
       "[1000 rows x 4 columns]"
      ]
     },
     "execution_count": 136,
     "metadata": {},
     "output_type": "execute_result"
    }
   ],
   "source": [
    "#Insert covariance as column in the table for x and y, respectively\n",
    "\n",
    "data_frame['zx'] = (sample1_vector-(np.mean(sample1_vector)*(sample2_vector-(np.mean(sample2_vector)))/np.std(sample1_vector,ddof=1)))\n",
    "data_frame['zy'] = (data_frame['Y']-np.mean(data_frame['Y']))/np.std(data_frame['Y'], ddof=1)\n",
    "\n",
    "data_frame\n"
   ]
  },
  {
   "cell_type": "markdown",
   "metadata": {},
   "source": [
    "DataKolektiv, 2022/23.\n",
    "\n",
    "[hello@datakolektiv.com](mailto:goran.milovanovic@datakolektiv.com)\n",
    "\n",
    "![](../img/DK_Logo_100.png)"
   ]
  },
  {
   "cell_type": "markdown",
   "metadata": {},
   "source": [
    "<font size=1>License: [GPLv3](https://www.gnu.org/licenses/gpl-3.0.txt) This Notebook is free software: you can redistribute it and/or modify it under the terms of the GNU General Public License as published by the Free Software Foundation, either version 3 of the License, or (at your option) any later version. This Notebook is distributed in the hope that it will be useful, but WITHOUT ANY WARRANTY; without even the implied warranty of MERCHANTABILITY or FITNESS FOR A PARTICULAR PURPOSE. See the GNU General Public License for more details. You should have received a copy of the GNU General Public License along with this Notebook. If not, see http://www.gnu.org/licenses/.</font>"
   ]
  }
 ],
 "metadata": {
  "kernelspec": {
   "display_name": "Python 3",
   "language": "python",
   "name": "python3"
  },
  "language_info": {
   "codemirror_mode": {
    "name": "ipython",
    "version": 3
   },
   "file_extension": ".py",
   "mimetype": "text/x-python",
   "name": "python",
   "nbconvert_exporter": "python",
   "pygments_lexer": "ipython3",
   "version": "3.11.4"
  }
 },
 "nbformat": 4,
 "nbformat_minor": 2
}
