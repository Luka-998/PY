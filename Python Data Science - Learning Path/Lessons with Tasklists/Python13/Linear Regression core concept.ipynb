{
 "cells": [
  {
   "cell_type": "markdown",
   "metadata": {},
   "source": [
    "#### This file is my understanding of both manual step-by-step simple linear regression and with using using `LinearRegression().fit()` method from `scipy` \n",
    "\n",
    "***\n",
    "\n",
    "- It is completely done by myself without any external help. \n",
    "\n",
    "- This is just my approval to myself that I have figured it out, nothing more. \n"
   ]
  },
  {
   "cell_type": "markdown",
   "metadata": {},
   "source": [
    "### Manual step by step linear regression and parameters optimization:  \n",
    " \n",
    "\n",
    "> minimizing the sum squared errors`(SSE)`\n",
    "\n",
    "> parameters optimization `(b0 - intercept and b1-input variable)`"
   ]
  },
  {
   "cell_type": "markdown",
   "metadata": {},
   "source": [
    "### **Goal is to predict weight(y) from height(x) with `linear regression`**"
   ]
  },
  {
   "cell_type": "code",
   "execution_count": null,
   "metadata": {},
   "outputs": [],
   "source": [
    "import numpy as np\n",
    "import pandas as pd\n",
    "import scipy as sp\n",
    "from scipy.stats import norm\n",
    "\n",
    "# first the dataset (This is just example so i will make it very simple)\n",
    "\n",
    "metric = pd.DataFrame({\n",
    "    'Weight':[5,10,12,17,18],\n",
    "    'Heights':[30,62,70,100,109]\n",
    "})\n",
    "metric"
   ]
  },
  {
   "cell_type": "code",
   "execution_count": null,
   "metadata": {},
   "outputs": [],
   "source": [
    "# defining the function that will calculate residual , and later on the goal is to minimize the residual.\n",
    "\n",
    "def sse_handling(parameters):\n",
    "    beta_0 = parameters[0]\n",
    "    beta_1 = parameters[1]\n",
    "    # predicted data will be (Y^)- because we predict the weight FROM height. Here Y_hat represents unoptimized weight value\n",
    "    y_hat = beta_0 + beta_1*metric['Heights']\n",
    "    # defining the residual - it's Y(actual) - Y(^hat)\n",
    "    residual = metric['Weight'] - y_hat \n",
    "    #square it\n",
    "    residual = residual**2\n",
    "    #sum\n",
    "    residual = residual.sum()\n",
    "    #out\n",
    "    return residual\n",
    "\n",
    "parameters = [100,222]\n",
    "print(sse_handling(parameters))"
   ]
  },
  {
   "cell_type": "markdown",
   "metadata": {},
   "source": [
    "Now minimize the sse and get the most optimal b0 and b1 values\n",
    "\n",
    "- First initialize the random parameters -> to data frame also.\n",
    "\n",
    "- After making data frame, make the iteration of each row for column 1 and column 2 (bo1 and bo2)"
   ]
  },
  {
   "cell_type": "code",
   "execution_count": null,
   "metadata": {},
   "outputs": [],
   "source": [
    "rng = np.random.default_rng(seed=1013)\n",
    "\n",
    "init_b0 = rng.uniform(low = -100,high=100,size=100)\n",
    "init_b1 = rng.uniform(low= -100, high= 100, size=100)\n",
    "random_pars = pd.DataFrame({\n",
    "    'init_b0':init_b0,\n",
    "    'init_b1':init_b1\n",
    "}\n",
    ")\n",
    "random_pars"
   ]
  },
  {
   "cell_type": "code",
   "execution_count": null,
   "metadata": {},
   "outputs": [],
   "source": [
    "# i need to store these random parameters in some list that will be passed to lg_sse function\n",
    "sse = []\n",
    "for i in range(random_pars.shape[0]):\n",
    "    pars = [random_pars['init_b0'][i],random_pars['init_b1'][i]]\n",
    "    sse_value = sse_handling(pars)\n",
    "    sse.append(sse_value)\n",
    "random_pars['SSE'] = sse\n",
    "random_pars.sort_values(ascending=True,inplace=True,by='SSE',ignore_index=True)\n",
    "\n",
    "# ascending= True means that first pair of b0 and b1 is the smalles.\n",
    "\n",
    "random_pars\n",
    "\n",
    "# here we have a loop going through rows of columns init_bo and init_b1\n",
    "# they are stored in the empty list which is then appended to data frame random_pars\n",
    "\n",
    "\n",
    "\n"
   ]
  },
  {
   "cell_type": "code",
   "execution_count": null,
   "metadata": {},
   "outputs": [],
   "source": [
    "# With sort_values(... Ascending = True..), the first value for init_b0 and init_b1 will be the least one. \n",
    "# it is choosen with [0]\n",
    "\n",
    "best_pair = random_pars.iloc[0][['init_b0','init_b1']].values\n",
    "\n",
    "best_pair"
   ]
  },
  {
   "cell_type": "markdown",
   "metadata": {},
   "source": [
    "#### Method will be `Nelder-Mead`."
   ]
  },
  {
   "cell_type": "code",
   "execution_count": null,
   "metadata": {},
   "outputs": [],
   "source": [
    "from scipy import optimize\n",
    "\n",
    "optimized_model = optimize.minimize(\n",
    "    fun=sse_handling,\n",
    "    x0=best_pair,\n",
    "    method='Nelder-Mead'\n",
    ")\n",
    "\n",
    "print(f\"Best values for b0 is {best_pair[0]} and best value for b1 is {best_pair[1]}\")"
   ]
  },
  {
   "cell_type": "markdown",
   "metadata": {},
   "source": [
    "Above I had problem with `x0`. \n",
    "\n",
    "It is required that x0 has only one dimension. \n",
    "\n",
    "- check shape of init_b0 and init_b1."
   ]
  },
  {
   "cell_type": "markdown",
   "metadata": {},
   "source": [
    "### best values have been found for `b0` and `b1`\n",
    "\n",
    "- use these values to make a prediction of weight from height"
   ]
  },
  {
   "cell_type": "code",
   "execution_count": null,
   "metadata": {},
   "outputs": [],
   "source": [
    "optimized_model.x"
   ]
  },
  {
   "cell_type": "code",
   "execution_count": null,
   "metadata": {},
   "outputs": [],
   "source": [
    "best_b0, best_b1 = optimized_model.x"
   ]
  },
  {
   "cell_type": "code",
   "execution_count": null,
   "metadata": {},
   "outputs": [],
   "source": [
    "pred_weight = best_b0 + best_b1*metric['Heights']\n",
    "pred_weight= pd.DataFrame(pred_weight).rename(columns={'Heights':'Predicted_Weight'})\n",
    "pred_weight['Height'] = metric['Heights']\n",
    "pred_weight"
   ]
  },
  {
   "cell_type": "code",
   "execution_count": null,
   "metadata": {},
   "outputs": [],
   "source": [
    "type(metric)\n",
    "\n"
   ]
  },
  {
   "cell_type": "code",
   "execution_count": null,
   "metadata": {},
   "outputs": [],
   "source": [
    "import seaborn as sns\n",
    "\n",
    "sns.scatterplot(data=metric,x='Heights',y='Weight',label='Actual')\n",
    "sns.lineplot(data=pred_weight, y='Predicted_Weight',x=metric['Heights'],color='red', label='Predicted Weight')\n",
    "\n",
    "\n"
   ]
  },
  {
   "cell_type": "markdown",
   "metadata": {},
   "source": [
    "***"
   ]
  },
  {
   "cell_type": "markdown",
   "metadata": {},
   "source": [
    "### Now with `linear_regression()`"
   ]
  },
  {
   "cell_type": "code",
   "execution_count": null,
   "metadata": {},
   "outputs": [],
   "source": [
    "import statsmodels.api as sm\n",
    "import statsmodels.formula.api as smf\n",
    "metric"
   ]
  },
  {
   "cell_type": "code",
   "execution_count": null,
   "metadata": {},
   "outputs": [],
   "source": [
    "# My Data\n",
    "metric_1 = metric\n",
    "\n",
    "linear_model = smf.ols(formula='Weight ~ Heights', data=metric).fit()\n",
    "linear_model.summary()"
   ]
  },
  {
   "cell_type": "markdown",
   "metadata": {},
   "source": [
    "### with fit(), my model already has the best values for b0 `intercept` and b1 `input (heights)` in this case."
   ]
  },
  {
   "cell_type": "code",
   "execution_count": null,
   "metadata": {},
   "outputs": [],
   "source": [
    "linear_model.params\n",
    "\n",
    "#Output:\n",
    "\n",
    "#Intercept   -0.068155 - b0\n",
    "#Heights      0.168034 - b1\n",
    "#dtype: float64"
   ]
  },
  {
   "cell_type": "code",
   "execution_count": null,
   "metadata": {},
   "outputs": [],
   "source": [
    "metric_1['Predicted Weight'] = linear_model.predict()\n",
    "metric_1['Residuals'] = linear_model.resid\n",
    "metric_1"
   ]
  },
  {
   "cell_type": "markdown",
   "metadata": {},
   "source": [
    "### Plot with `regplot` and `scatterplot`:"
   ]
  },
  {
   "cell_type": "code",
   "execution_count": null,
   "metadata": {},
   "outputs": [],
   "source": [
    "sns.regplot(data=metric_1,x='Weight',y='Heights',ci=0,line_kws={'color':'red'})\n",
    "sns.scatterplot(data=metric_1,x='Predicted Weight')\n",
    "sns.despine(top=True,right=True,offset=10)"
   ]
  },
  {
   "cell_type": "code",
   "execution_count": null,
   "metadata": {},
   "outputs": [],
   "source": [
    "# - Pearson's correlation (R-value) coefficient and R^2\n",
    "print(f\"Pearson's coefficient of determination is R^2{round(linear_model.rsquared,4)}\")\n",
    "print(f\"Pearson's coefficient of correlation R-value is {round(np.sqrt(linear_model.rsquared),4)}\")"
   ]
  },
  {
   "cell_type": "markdown",
   "metadata": {},
   "source": [
    "Pearson's coefficient of `correlation` (R-value) explain linear relatedness of our variables. It measures strenght and relationship betweem them, while \n",
    "\n",
    "Pearson's coefficient of `determination` (R^2) tells us how much of the variability in Y is explained by X in a linear regression model."
   ]
  },
  {
   "cell_type": "markdown",
   "metadata": {},
   "source": [
    "- Interpretation of R^2:\n",
    "\n",
    "> R^2 = 1 (100%) - model explains perfect fit\n",
    "\n",
    "> R^2 = 0.25 (25%) - X explains only 25% of Y, meaning there are other factors affecting `Y`. 25% of the variance is explained by the `X`.\n"
   ]
  },
  {
   "cell_type": "code",
   "execution_count": null,
   "metadata": {},
   "outputs": [],
   "source": [
    "linear_model.pvalues\n",
    "\n",
    "# Output:\n",
    "\n",
    "#Intercept    0.883549 >p - not statistically significant\n",
    "#Heights      0.000072 < 0.05 - Statistically significat!\n",
    "#dtype: float64"
   ]
  },
  {
   "cell_type": "code",
   "execution_count": null,
   "metadata": {},
   "outputs": [],
   "source": [
    "linear_model.params\n",
    "\n",
    "#Output:\n",
    "\n",
    "#Intercept   -0.068155\n",
    "#Heights      0.168034\n",
    "#dtype: float64\n",
    "\n",
    "\n",
    "\n"
   ]
  },
  {
   "cell_type": "code",
   "execution_count": null,
   "metadata": {},
   "outputs": [],
   "source": [
    "# new data prediction based on the first fish_data data frame\n",
    "import os\n",
    "data_dir = os.path.join(os.getcwd(),'_data')\n",
    "print(data_dir)\n",
    "\n",
    "fish_data = pd.read_csv('_data\\\\fish.csv')\n",
    "fish_data\n",
    "model_frame = fish_data[['Height','Weight']]\n",
    "model_frame\n",
    "\n",
    "# - sampling the new data from the normal distribution with the mean and std parameters taken from the original data\n",
    "# this serves as random parameters\n",
    "predict_data = pd.DataFrame(columns=['Heights'])\n",
    "predict_data['Heights'] = rng.normal(loc=model_frame['Height'].mean(),scale =model_frame['Height'].std(),size=10)\n",
    "predict_data\n",
    "\n",
    "# - clipping the negative values \n",
    "predict_data = np.clip(a_min=0,a_max=np.inf, a=predict_data)\n",
    "\n",
    "predicted_weight = linear_model.predict(predict_data['Heights'])\n",
    "predict_data['Predicted_Weight'] = predicted_weight\n",
    "predict_data\n",
    "\n",
    "linear_model.params\n",
    "linear_model.pvalues\n",
    "\n",
    "# Height is statistically significant to predict weight in this example (p<0.05)"
   ]
  },
  {
   "cell_type": "markdown",
   "metadata": {},
   "source": [
    "### Ploting these predictions"
   ]
  },
  {
   "cell_type": "code",
   "execution_count": null,
   "metadata": {},
   "outputs": [],
   "source": [
    "model_frame\n",
    "\n"
   ]
  },
  {
   "cell_type": "code",
   "execution_count": null,
   "metadata": {},
   "outputs": [],
   "source": [
    "sns.scatterplot(data=model_frame,x='Height',y='Weight',color='red')\n",
    "sns.lineplot(data=predict_data,y='Predicted_Weight',x=model_frame['Height'])\n",
    "\n"
   ]
  },
  {
   "cell_type": "markdown",
   "metadata": {},
   "source": [
    "Here we can see that predicted weight (blue line) is away from scatter data. I expected this because the 'predicted_data' has been chosen as a random sampling parameters.  "
   ]
  },
  {
   "cell_type": "markdown",
   "metadata": {},
   "source": [
    "Anyway, using Pearson's coefficient of determination we can check how well model explains the variance in Y by X."
   ]
  },
  {
   "cell_type": "code",
   "execution_count": null,
   "metadata": {},
   "outputs": [],
   "source": [
    "from sklearn.metrics import r2_score\n",
    "\n",
    "r2 = r2_score(model_frame['Weight'],model_frame['Height'])\n",
    "r2\n",
    "\n",
    "# -1.1732692703241785 :/\n",
    "\n"
   ]
  },
  {
   "cell_type": "code",
   "execution_count": null,
   "metadata": {},
   "outputs": [],
   "source": [
    "predict_data.dropna(inplace=True)"
   ]
  },
  {
   "cell_type": "code",
   "execution_count": 233,
   "metadata": {},
   "outputs": [
    {
     "data": {
      "text/html": [
       "<div>\n",
       "<style scoped>\n",
       "    .dataframe tbody tr th:only-of-type {\n",
       "        vertical-align: middle;\n",
       "    }\n",
       "\n",
       "    .dataframe tbody tr th {\n",
       "        vertical-align: top;\n",
       "    }\n",
       "\n",
       "    .dataframe thead th {\n",
       "        text-align: right;\n",
       "    }\n",
       "</style>\n",
       "<table border=\"1\" class=\"dataframe\">\n",
       "  <thead>\n",
       "    <tr style=\"text-align: right;\">\n",
       "      <th></th>\n",
       "      <th>Heights</th>\n",
       "      <th>Predicted_Weight</th>\n",
       "      <th>Residual</th>\n",
       "    </tr>\n",
       "  </thead>\n",
       "  <tbody>\n",
       "    <tr>\n",
       "      <th>0</th>\n",
       "      <td>8.967512</td>\n",
       "      <td>1.438696</td>\n",
       "      <td>0.027122</td>\n",
       "    </tr>\n",
       "    <tr>\n",
       "      <th>1</th>\n",
       "      <td>7.260184</td>\n",
       "      <td>1.151806</td>\n",
       "      <td>-0.349980</td>\n",
       "    </tr>\n",
       "    <tr>\n",
       "      <th>2</th>\n",
       "      <td>13.136837</td>\n",
       "      <td>2.139286</td>\n",
       "      <td>0.305745</td>\n",
       "    </tr>\n",
       "    <tr>\n",
       "      <th>3</th>\n",
       "      <td>15.086334</td>\n",
       "      <td>2.466869</td>\n",
       "      <td>0.264712</td>\n",
       "    </tr>\n",
       "    <tr>\n",
       "      <th>4</th>\n",
       "      <td>0.000000</td>\n",
       "      <td>-0.068155</td>\n",
       "      <td>-0.247598</td>\n",
       "    </tr>\n",
       "  </tbody>\n",
       "</table>\n",
       "</div>"
      ],
      "text/plain": [
       "     Heights  Predicted_Weight  Residual\n",
       "0   8.967512          1.438696  0.027122\n",
       "1   7.260184          1.151806 -0.349980\n",
       "2  13.136837          2.139286  0.305745\n",
       "3  15.086334          2.466869  0.264712\n",
       "4   0.000000         -0.068155 -0.247598"
      ]
     },
     "execution_count": 233,
     "metadata": {},
     "output_type": "execute_result"
    }
   ],
   "source": [
    "predict_data"
   ]
  },
  {
   "cell_type": "code",
   "execution_count": 238,
   "metadata": {},
   "outputs": [
    {
     "data": {
      "image/png": "[encoded data removed]",
      "text/plain": [
       "<Figure size 1000x800 with 1 Axes>"
      ]
     },
     "metadata": {},
     "output_type": "display_data"
    }
   ],
   "source": [
    "# Just wanted to see something, ignore :D\n",
    "\n",
    "linear_model.resid\n",
    "\n",
    "residual = linear_model.resid\n",
    "predict_data['Residual'] = residual\n",
    "\n",
    "\n",
    "# plot the distribution of residual\n",
    "\n",
    "import matplotlib.pyplot as plt\n",
    "\n",
    "plt.figure(figsize=(10,8))\n",
    "sns.scatterplot(data=predict_data,x='Heights',y='Residual',label='Distribution of residuals')\n",
    "sns.despine(offset=8,trim=True)\n",
    "plt.axhline(y=0, c='r')\n",
    "plt.show()"
   ]
  }
 ],
 "metadata": {
  "kernelspec": {
   "display_name": "Python 3",
   "language": "python",
   "name": "python3"
  },
  "language_info": {
   "codemirror_mode": {
    "name": "ipython",
    "version": 3
   },
   "file_extension": ".py",
   "mimetype": "text/x-python",
   "name": "python",
   "nbconvert_exporter": "python",
   "pygments_lexer": "ipython3",
   "version": "3.11.4"
  }
 },
 "nbformat": 4,
 "nbformat_minor": 2
}
