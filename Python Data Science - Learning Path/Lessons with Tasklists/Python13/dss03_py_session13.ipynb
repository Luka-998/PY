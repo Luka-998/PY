{
 "cells": [
  {
   "attachments": {},
   "cell_type": "markdown",
   "id": "78dc32db",
   "metadata": {},
   "source": [
    "# DATA SCIENCE SESSIONS VOL. 3\n",
    "### A Foundational Python Data Science Course\n",
    "## Session 13: Simple Linear Regression. Estimation Theory continued: the Parametric bootstrap.\n",
    "\n",
    "[&larr; Back to course webpage](https://datakolektiv.com/)\n",
    "\n",
    "Feedback should be send to [goran.milovanovic@datakolektiv.com](mailto:goran.milovanovic@datakolektiv.com). \n",
    "\n",
    "These notebooks accompany the DATA SCIENCE SESSIONS VOL. 3 :: A Foundational Python Data Science Course."
   ]
  },
  {
   "cell_type": "markdown",
   "id": "6a29cb88",
   "metadata": {},
   "source": [
    "![](../img/IntroRDataScience_NonTech-1.jpg)"
   ]
  },
  {
   "cell_type": "markdown",
   "id": "547a2b91",
   "metadata": {},
   "source": [
    "### Lecturers\n",
    "\n",
    "[Goran S. Milovanović, PhD, DataKolektiv, Chief Scientist & Owner](https://www.linkedin.com/in/gmilovanovic/)\n",
    "\n",
    "[Aleksandar Cvetković, PhD, DataKolektiv, Consultant](https://www.linkedin.com/in/alegzndr/)\n",
    "\n",
    "[Ilija Lazarević, MA, DataKolektiv, Consultant](https://www.linkedin.com/in/ilijalazarevic/)"
   ]
  },
  {
   "cell_type": "markdown",
   "id": "ee3c05fd",
   "metadata": {},
   "source": [
    "![](../img/DK_Logo_100.png)"
   ]
  },
  {
   "cell_type": "markdown",
   "id": "e15d92a8",
   "metadata": {},
   "source": [
    "***"
   ]
  },
  {
   "cell_type": "markdown",
   "id": "aea9126f",
   "metadata": {},
   "source": [
    "## 1. Simple Linear Regression"
   ]
  },
  {
   "cell_type": "code",
   "execution_count": 4,
   "id": "3c11318e",
   "metadata": {},
   "outputs": [],
   "source": [
    "### --- Setup - importing the libraries\n",
    "\n",
    "# - supress those annoying 'Future Warning'\n",
    "import warnings\n",
    "warnings.simplefilter(action='ignore', category=FutureWarning)\n",
    "\n",
    "# - data\n",
    "import numpy as np\n",
    "import pandas as pd\n",
    "\n",
    "# - os\n",
    "import os\n",
    "\n",
    "# - ml\n",
    "import statsmodels.api as sm\n",
    "import statsmodels.formula.api as smf\n",
    "\n",
    "\n",
    "# - visualization\n",
    "import matplotlib.pyplot as plt\n",
    "import seaborn as sns\n",
    "\n",
    "# - parameters\n",
    "%matplotlib inline\n",
    "pd.options.mode.chained_assignment = None  # default='warn'\n",
    "sns.set_theme()\n",
    "# - rng\n",
    "rng = np.random.default_rng()\n",
    "# - plots\n",
    "plt.rc(\"figure\", figsize=(8, 6))\n",
    "plt.rc(\"font\", size=14)\n",
    "sns.set_theme(style='white')\n",
    "\n",
    "# - directory tree\n",
    "data_dir = os.path.join(os.getcwd(), '_data')"
   ]
  },
  {
   "attachments": {},
   "cell_type": "markdown",
   "id": "6f41d6eb",
   "metadata": {},
   "source": [
    "We will use the `Fish.csv` data set in this session. You can grab it from [Kaggle: fish-market](https://www.kaggle.com/datasets/aungpyaeap/fish-market). Please place the `Fish.csv` data set into your `_data` directory."
   ]
  },
  {
   "cell_type": "code",
   "execution_count": 5,
   "id": "3875c06c",
   "metadata": {},
   "outputs": [
    {
     "data": {
      "text/html": [
       "<div>\n",
       "<style scoped>\n",
       "    .dataframe tbody tr th:only-of-type {\n",
       "        vertical-align: middle;\n",
       "    }\n",
       "\n",
       "    .dataframe tbody tr th {\n",
       "        vertical-align: top;\n",
       "    }\n",
       "\n",
       "    .dataframe thead th {\n",
       "        text-align: right;\n",
       "    }\n",
       "</style>\n",
       "<table border=\"1\" class=\"dataframe\">\n",
       "  <thead>\n",
       "    <tr style=\"text-align: right;\">\n",
       "      <th></th>\n",
       "      <th>Species</th>\n",
       "      <th>Weight</th>\n",
       "      <th>Length1</th>\n",
       "      <th>Length2</th>\n",
       "      <th>Length3</th>\n",
       "      <th>Height</th>\n",
       "      <th>Width</th>\n",
       "    </tr>\n",
       "  </thead>\n",
       "  <tbody>\n",
       "    <tr>\n",
       "      <th>0</th>\n",
       "      <td>Bream</td>\n",
       "      <td>242.0</td>\n",
       "      <td>23.2</td>\n",
       "      <td>25.4</td>\n",
       "      <td>30.0</td>\n",
       "      <td>11.5200</td>\n",
       "      <td>4.0200</td>\n",
       "    </tr>\n",
       "    <tr>\n",
       "      <th>1</th>\n",
       "      <td>Bream</td>\n",
       "      <td>290.0</td>\n",
       "      <td>24.0</td>\n",
       "      <td>26.3</td>\n",
       "      <td>31.2</td>\n",
       "      <td>12.4800</td>\n",
       "      <td>4.3056</td>\n",
       "    </tr>\n",
       "    <tr>\n",
       "      <th>2</th>\n",
       "      <td>Bream</td>\n",
       "      <td>340.0</td>\n",
       "      <td>23.9</td>\n",
       "      <td>26.5</td>\n",
       "      <td>31.1</td>\n",
       "      <td>12.3778</td>\n",
       "      <td>4.6961</td>\n",
       "    </tr>\n",
       "    <tr>\n",
       "      <th>3</th>\n",
       "      <td>Bream</td>\n",
       "      <td>363.0</td>\n",
       "      <td>26.3</td>\n",
       "      <td>29.0</td>\n",
       "      <td>33.5</td>\n",
       "      <td>12.7300</td>\n",
       "      <td>4.4555</td>\n",
       "    </tr>\n",
       "    <tr>\n",
       "      <th>4</th>\n",
       "      <td>Bream</td>\n",
       "      <td>430.0</td>\n",
       "      <td>26.5</td>\n",
       "      <td>29.0</td>\n",
       "      <td>34.0</td>\n",
       "      <td>12.4440</td>\n",
       "      <td>5.1340</td>\n",
       "    </tr>\n",
       "    <tr>\n",
       "      <th>5</th>\n",
       "      <td>Bream</td>\n",
       "      <td>450.0</td>\n",
       "      <td>26.8</td>\n",
       "      <td>29.7</td>\n",
       "      <td>34.7</td>\n",
       "      <td>13.6024</td>\n",
       "      <td>4.9274</td>\n",
       "    </tr>\n",
       "    <tr>\n",
       "      <th>6</th>\n",
       "      <td>Bream</td>\n",
       "      <td>500.0</td>\n",
       "      <td>26.8</td>\n",
       "      <td>29.7</td>\n",
       "      <td>34.5</td>\n",
       "      <td>14.1795</td>\n",
       "      <td>5.2785</td>\n",
       "    </tr>\n",
       "    <tr>\n",
       "      <th>7</th>\n",
       "      <td>Bream</td>\n",
       "      <td>390.0</td>\n",
       "      <td>27.6</td>\n",
       "      <td>30.0</td>\n",
       "      <td>35.0</td>\n",
       "      <td>12.6700</td>\n",
       "      <td>4.6900</td>\n",
       "    </tr>\n",
       "    <tr>\n",
       "      <th>8</th>\n",
       "      <td>Bream</td>\n",
       "      <td>450.0</td>\n",
       "      <td>27.6</td>\n",
       "      <td>30.0</td>\n",
       "      <td>35.1</td>\n",
       "      <td>14.0049</td>\n",
       "      <td>4.8438</td>\n",
       "    </tr>\n",
       "    <tr>\n",
       "      <th>9</th>\n",
       "      <td>Bream</td>\n",
       "      <td>500.0</td>\n",
       "      <td>28.5</td>\n",
       "      <td>30.7</td>\n",
       "      <td>36.2</td>\n",
       "      <td>14.2266</td>\n",
       "      <td>4.9594</td>\n",
       "    </tr>\n",
       "  </tbody>\n",
       "</table>\n",
       "</div>"
      ],
      "text/plain": [
       "  Species  Weight  Length1  Length2  Length3   Height   Width\n",
       "0   Bream   242.0     23.2     25.4     30.0  11.5200  4.0200\n",
       "1   Bream   290.0     24.0     26.3     31.2  12.4800  4.3056\n",
       "2   Bream   340.0     23.9     26.5     31.1  12.3778  4.6961\n",
       "3   Bream   363.0     26.3     29.0     33.5  12.7300  4.4555\n",
       "4   Bream   430.0     26.5     29.0     34.0  12.4440  5.1340\n",
       "5   Bream   450.0     26.8     29.7     34.7  13.6024  4.9274\n",
       "6   Bream   500.0     26.8     29.7     34.5  14.1795  5.2785\n",
       "7   Bream   390.0     27.6     30.0     35.0  12.6700  4.6900\n",
       "8   Bream   450.0     27.6     30.0     35.1  14.0049  4.8438\n",
       "9   Bream   500.0     28.5     30.7     36.2  14.2266  4.9594"
      ]
     },
     "execution_count": 5,
     "metadata": {},
     "output_type": "execute_result"
    }
   ],
   "source": [
    "# - loading the dataset\n",
    "# - Kaggle: https://www.kaggle.com/datasets/aungpyaeap/fish-market\n",
    "# - place it in your _data/ directory\n",
    "fish_data = pd.read_csv(os.path.join(data_dir, 'Fish.csv'))\n",
    "fish_data.head(10)"
   ]
  },
  {
   "cell_type": "code",
   "execution_count": 6,
   "id": "2f70afdb",
   "metadata": {},
   "outputs": [
    {
     "name": "stdout",
     "output_type": "stream",
     "text": [
      "<class 'pandas.core.frame.DataFrame'>\n",
      "RangeIndex: 159 entries, 0 to 158\n",
      "Data columns (total 7 columns):\n",
      " #   Column   Non-Null Count  Dtype  \n",
      "---  ------   --------------  -----  \n",
      " 0   Species  159 non-null    object \n",
      " 1   Weight   159 non-null    float64\n",
      " 2   Length1  159 non-null    float64\n",
      " 3   Length2  159 non-null    float64\n",
      " 4   Length3  159 non-null    float64\n",
      " 5   Height   159 non-null    float64\n",
      " 6   Width    159 non-null    float64\n",
      "dtypes: float64(6), object(1)\n",
      "memory usage: 8.8+ KB\n"
     ]
    }
   ],
   "source": [
    "fish_data.info()"
   ]
  },
  {
   "cell_type": "markdown",
   "id": "ec9bcc3a",
   "metadata": {},
   "source": [
    "### Target: predict Weight from Height"
   ]
  },
  {
   "cell_type": "code",
   "execution_count": 7,
   "id": "86d495b2",
   "metadata": {},
   "outputs": [
    {
     "data": {
      "text/html": [
       "<div>\n",
       "<style scoped>\n",
       "    .dataframe tbody tr th:only-of-type {\n",
       "        vertical-align: middle;\n",
       "    }\n",
       "\n",
       "    .dataframe tbody tr th {\n",
       "        vertical-align: top;\n",
       "    }\n",
       "\n",
       "    .dataframe thead th {\n",
       "        text-align: right;\n",
       "    }\n",
       "</style>\n",
       "<table border=\"1\" class=\"dataframe\">\n",
       "  <thead>\n",
       "    <tr style=\"text-align: right;\">\n",
       "      <th></th>\n",
       "      <th>Height</th>\n",
       "      <th>Weight</th>\n",
       "    </tr>\n",
       "  </thead>\n",
       "  <tbody>\n",
       "    <tr>\n",
       "      <th>0</th>\n",
       "      <td>11.5200</td>\n",
       "      <td>242.0</td>\n",
       "    </tr>\n",
       "    <tr>\n",
       "      <th>1</th>\n",
       "      <td>12.4800</td>\n",
       "      <td>290.0</td>\n",
       "    </tr>\n",
       "    <tr>\n",
       "      <th>2</th>\n",
       "      <td>12.3778</td>\n",
       "      <td>340.0</td>\n",
       "    </tr>\n",
       "    <tr>\n",
       "      <th>3</th>\n",
       "      <td>12.7300</td>\n",
       "      <td>363.0</td>\n",
       "    </tr>\n",
       "    <tr>\n",
       "      <th>4</th>\n",
       "      <td>12.4440</td>\n",
       "      <td>430.0</td>\n",
       "    </tr>\n",
       "    <tr>\n",
       "      <th>...</th>\n",
       "      <td>...</td>\n",
       "      <td>...</td>\n",
       "    </tr>\n",
       "    <tr>\n",
       "      <th>154</th>\n",
       "      <td>2.0904</td>\n",
       "      <td>12.2</td>\n",
       "    </tr>\n",
       "    <tr>\n",
       "      <th>155</th>\n",
       "      <td>2.4300</td>\n",
       "      <td>13.4</td>\n",
       "    </tr>\n",
       "    <tr>\n",
       "      <th>156</th>\n",
       "      <td>2.2770</td>\n",
       "      <td>12.2</td>\n",
       "    </tr>\n",
       "    <tr>\n",
       "      <th>157</th>\n",
       "      <td>2.8728</td>\n",
       "      <td>19.7</td>\n",
       "    </tr>\n",
       "    <tr>\n",
       "      <th>158</th>\n",
       "      <td>2.9322</td>\n",
       "      <td>19.9</td>\n",
       "    </tr>\n",
       "  </tbody>\n",
       "</table>\n",
       "<p>159 rows × 2 columns</p>\n",
       "</div>"
      ],
      "text/plain": [
       "      Height  Weight\n",
       "0    11.5200   242.0\n",
       "1    12.4800   290.0\n",
       "2    12.3778   340.0\n",
       "3    12.7300   363.0\n",
       "4    12.4440   430.0\n",
       "..       ...     ...\n",
       "154   2.0904    12.2\n",
       "155   2.4300    13.4\n",
       "156   2.2770    12.2\n",
       "157   2.8728    19.7\n",
       "158   2.9322    19.9\n",
       "\n",
       "[159 rows x 2 columns]"
      ]
     },
     "execution_count": 7,
     "metadata": {},
     "output_type": "execute_result"
    }
   ],
   "source": [
    "model_frame = fish_data[['Height', 'Weight']]\n",
    "model_frame"
   ]
  },
  {
   "cell_type": "code",
   "execution_count": 8,
   "id": "05c7aed4",
   "metadata": {},
   "outputs": [
    {
     "data": {
      "text/html": [
       "<table class=\"simpletable\">\n",
       "<caption>OLS Regression Results</caption>\n",
       "<tr>\n",
       "  <th>Dep. Variable:</th>         <td>Weight</td>      <th>  R-squared:         </th> <td>   0.525</td>\n",
       "</tr>\n",
       "<tr>\n",
       "  <th>Model:</th>                   <td>OLS</td>       <th>  Adj. R-squared:    </th> <td>   0.522</td>\n",
       "</tr>\n",
       "<tr>\n",
       "  <th>Method:</th>             <td>Least Squares</td>  <th>  F-statistic:       </th> <td>   173.3</td>\n",
       "</tr>\n",
       "<tr>\n",
       "  <th>Date:</th>             <td>Fri, 21 Mar 2025</td> <th>  Prob (F-statistic):</th> <td>3.84e-27</td>\n",
       "</tr>\n",
       "<tr>\n",
       "  <th>Time:</th>                 <td>12:05:38</td>     <th>  Log-Likelihood:    </th> <td> -1101.0</td>\n",
       "</tr>\n",
       "<tr>\n",
       "  <th>No. Observations:</th>      <td>   159</td>      <th>  AIC:               </th> <td>   2206.</td>\n",
       "</tr>\n",
       "<tr>\n",
       "  <th>Df Residuals:</th>          <td>   157</td>      <th>  BIC:               </th> <td>   2212.</td>\n",
       "</tr>\n",
       "<tr>\n",
       "  <th>Df Model:</th>              <td>     1</td>      <th>                     </th>     <td> </td>   \n",
       "</tr>\n",
       "<tr>\n",
       "  <th>Covariance Type:</th>      <td>nonrobust</td>    <th>                     </th>     <td> </td>   \n",
       "</tr>\n",
       "</table>\n",
       "<table class=\"simpletable\">\n",
       "<tr>\n",
       "      <td></td>         <th>coef</th>     <th>std err</th>      <th>t</th>      <th>P>|t|</th>  <th>[0.025</th>    <th>0.975]</th>  \n",
       "</tr>\n",
       "<tr>\n",
       "  <th>Intercept</th> <td> -144.3860</td> <td>   45.663</td> <td>   -3.162</td> <td> 0.002</td> <td> -234.579</td> <td>  -54.193</td>\n",
       "</tr>\n",
       "<tr>\n",
       "  <th>Height</th>    <td>   60.4964</td> <td>    4.595</td> <td>   13.164</td> <td> 0.000</td> <td>   51.419</td> <td>   69.573</td>\n",
       "</tr>\n",
       "</table>\n",
       "<table class=\"simpletable\">\n",
       "<tr>\n",
       "  <th>Omnibus:</th>       <td>95.711</td> <th>  Durbin-Watson:     </th> <td>   0.279</td> \n",
       "</tr>\n",
       "<tr>\n",
       "  <th>Prob(Omnibus):</th> <td> 0.000</td> <th>  Jarque-Bera (JB):  </th> <td> 482.586</td> \n",
       "</tr>\n",
       "<tr>\n",
       "  <th>Skew:</th>          <td> 2.288</td> <th>  Prob(JB):          </th> <td>1.61e-105</td>\n",
       "</tr>\n",
       "<tr>\n",
       "  <th>Kurtosis:</th>      <td>10.204</td> <th>  Cond. No.          </th> <td>    23.3</td> \n",
       "</tr>\n",
       "</table><br/><br/>Notes:<br/>[1] Standard Errors assume that the covariance matrix of the errors is correctly specified."
      ],
      "text/latex": [
       "\\begin{center}\n",
       "\\begin{tabular}{lclc}\n",
       "\\toprule\n",
       "\\textbf{Dep. Variable:}    &      Weight      & \\textbf{  R-squared:         } &     0.525   \\\\\n",
       "\\textbf{Model:}            &       OLS        & \\textbf{  Adj. R-squared:    } &     0.522   \\\\\n",
       "\\textbf{Method:}           &  Least Squares   & \\textbf{  F-statistic:       } &     173.3   \\\\\n",
       "\\textbf{Date:}             & Fri, 21 Mar 2025 & \\textbf{  Prob (F-statistic):} &  3.84e-27   \\\\\n",
       "\\textbf{Time:}             &     12:05:38     & \\textbf{  Log-Likelihood:    } &   -1101.0   \\\\\n",
       "\\textbf{No. Observations:} &         159      & \\textbf{  AIC:               } &     2206.   \\\\\n",
       "\\textbf{Df Residuals:}     &         157      & \\textbf{  BIC:               } &     2212.   \\\\\n",
       "\\textbf{Df Model:}         &           1      & \\textbf{                     } &             \\\\\n",
       "\\textbf{Covariance Type:}  &    nonrobust     & \\textbf{                     } &             \\\\\n",
       "\\bottomrule\n",
       "\\end{tabular}\n",
       "\\begin{tabular}{lcccccc}\n",
       "                   & \\textbf{coef} & \\textbf{std err} & \\textbf{t} & \\textbf{P$> |$t$|$} & \\textbf{[0.025} & \\textbf{0.975]}  \\\\\n",
       "\\midrule\n",
       "\\textbf{Intercept} &    -144.3860  &       45.663     &    -3.162  &         0.002        &     -234.579    &      -54.193     \\\\\n",
       "\\textbf{Height}    &      60.4964  &        4.595     &    13.164  &         0.000        &       51.419    &       69.573     \\\\\n",
       "\\bottomrule\n",
       "\\end{tabular}\n",
       "\\begin{tabular}{lclc}\n",
       "\\textbf{Omnibus:}       & 95.711 & \\textbf{  Durbin-Watson:     } &     0.279  \\\\\n",
       "\\textbf{Prob(Omnibus):} &  0.000 & \\textbf{  Jarque-Bera (JB):  } &   482.586  \\\\\n",
       "\\textbf{Skew:}          &  2.288 & \\textbf{  Prob(JB):          } & 1.61e-105  \\\\\n",
       "\\textbf{Kurtosis:}      & 10.204 & \\textbf{  Cond. No.          } &      23.3  \\\\\n",
       "\\bottomrule\n",
       "\\end{tabular}\n",
       "%\\caption{OLS Regression Results}\n",
       "\\end{center}\n",
       "\n",
       "Notes: \\newline\n",
       " [1] Standard Errors assume that the covariance matrix of the errors is correctly specified."
      ],
      "text/plain": [
       "<class 'statsmodels.iolib.summary.Summary'>\n",
       "\"\"\"\n",
       "                            OLS Regression Results                            \n",
       "==============================================================================\n",
       "Dep. Variable:                 Weight   R-squared:                       0.525\n",
       "Model:                            OLS   Adj. R-squared:                  0.522\n",
       "Method:                 Least Squares   F-statistic:                     173.3\n",
       "Date:                Fri, 21 Mar 2025   Prob (F-statistic):           3.84e-27\n",
       "Time:                        12:05:38   Log-Likelihood:                -1101.0\n",
       "No. Observations:                 159   AIC:                             2206.\n",
       "Df Residuals:                     157   BIC:                             2212.\n",
       "Df Model:                           1                                         \n",
       "Covariance Type:            nonrobust                                         \n",
       "==============================================================================\n",
       "                 coef    std err          t      P>|t|      [0.025      0.975]\n",
       "------------------------------------------------------------------------------\n",
       "Intercept   -144.3860     45.663     -3.162      0.002    -234.579     -54.193\n",
       "Height        60.4964      4.595     13.164      0.000      51.419      69.573\n",
       "==============================================================================\n",
       "Omnibus:                       95.711   Durbin-Watson:                   0.279\n",
       "Prob(Omnibus):                  0.000   Jarque-Bera (JB):              482.586\n",
       "Skew:                           2.288   Prob(JB):                    1.61e-105\n",
       "Kurtosis:                      10.204   Cond. No.                         23.3\n",
       "==============================================================================\n",
       "\n",
       "Notes:\n",
       "[1] Standard Errors assume that the covariance matrix of the errors is correctly specified.\n",
       "\"\"\""
      ]
     },
     "execution_count": 8,
     "metadata": {},
     "output_type": "execute_result"
    }
   ],
   "source": [
    "# - fitting the linear model to the data\n",
    "linear_model = smf.ols(formula='Weight ~ Height', data=model_frame).fit()\n",
    "linear_model.summary()"
   ]
  },
  {
   "cell_type": "markdown",
   "id": "b206f9b3",
   "metadata": {},
   "source": [
    "Linear model has the form\n",
    "\n",
    "$$y = \\beta_1 x + \\beta_0 + \\varepsilon,$$\n",
    "\n",
    "where\n",
    "- $y$ - the true value of the *target variable*\n",
    "- $\\beta_1$ - the *slope* of the model\n",
    "- $\\beta_0$ - the *intercept* of the model\n",
    "- $\\varepsilon$ - the *residual*"
   ]
  },
  {
   "cell_type": "markdown",
   "id": "ded3d29b",
   "metadata": {},
   "source": [
    "The predicted value $\\hat{y}$ of the target variable is computed via Liner regression via\n",
    "\n",
    "$$\\hat{y} = \\beta_1 x + \\beta_0.$$"
   ]
  },
  {
   "cell_type": "code",
   "execution_count": 9,
   "id": "a0a39b64",
   "metadata": {},
   "outputs": [
    {
     "data": {
      "text/plain": [
       "Intercept   -144.385971\n",
       "Height        60.496351\n",
       "dtype: float64"
      ]
     },
     "execution_count": 9,
     "metadata": {},
     "output_type": "execute_result"
    }
   ],
   "source": [
    "# - model's parameters; Height represent the slope k\n",
    "linear_model.params"
   ]
  },
  {
   "cell_type": "code",
   "execution_count": 10,
   "id": "7d5bd0b7",
   "metadata": {},
   "outputs": [],
   "source": [
    "# - predicting the value using model's formula and parameters\n",
    "model_frame['Predicted Values'] = linear_model.predict()"
   ]
  },
  {
   "cell_type": "code",
   "execution_count": 11,
   "id": "9ed21256",
   "metadata": {},
   "outputs": [],
   "source": [
    "# - calculating the residuals - the difference between the true and predicted values\n",
    "model_frame['Residuals'] = linear_model.resid"
   ]
  },
  {
   "cell_type": "code",
   "execution_count": 12,
   "id": "356583c5",
   "metadata": {},
   "outputs": [
    {
     "data": {
      "text/html": [
       "<div>\n",
       "<style scoped>\n",
       "    .dataframe tbody tr th:only-of-type {\n",
       "        vertical-align: middle;\n",
       "    }\n",
       "\n",
       "    .dataframe tbody tr th {\n",
       "        vertical-align: top;\n",
       "    }\n",
       "\n",
       "    .dataframe thead th {\n",
       "        text-align: right;\n",
       "    }\n",
       "</style>\n",
       "<table border=\"1\" class=\"dataframe\">\n",
       "  <thead>\n",
       "    <tr style=\"text-align: right;\">\n",
       "      <th></th>\n",
       "      <th>Height</th>\n",
       "      <th>Weight</th>\n",
       "      <th>Predicted Values</th>\n",
       "      <th>Residuals</th>\n",
       "    </tr>\n",
       "  </thead>\n",
       "  <tbody>\n",
       "    <tr>\n",
       "      <th>0</th>\n",
       "      <td>11.5200</td>\n",
       "      <td>242.0</td>\n",
       "      <td>552.531995</td>\n",
       "      <td>-310.531995</td>\n",
       "    </tr>\n",
       "    <tr>\n",
       "      <th>1</th>\n",
       "      <td>12.4800</td>\n",
       "      <td>290.0</td>\n",
       "      <td>610.608492</td>\n",
       "      <td>-320.608492</td>\n",
       "    </tr>\n",
       "    <tr>\n",
       "      <th>2</th>\n",
       "      <td>12.3778</td>\n",
       "      <td>340.0</td>\n",
       "      <td>604.425765</td>\n",
       "      <td>-264.425765</td>\n",
       "    </tr>\n",
       "    <tr>\n",
       "      <th>3</th>\n",
       "      <td>12.7300</td>\n",
       "      <td>363.0</td>\n",
       "      <td>625.732580</td>\n",
       "      <td>-262.732580</td>\n",
       "    </tr>\n",
       "    <tr>\n",
       "      <th>4</th>\n",
       "      <td>12.4440</td>\n",
       "      <td>430.0</td>\n",
       "      <td>608.430623</td>\n",
       "      <td>-178.430623</td>\n",
       "    </tr>\n",
       "    <tr>\n",
       "      <th>...</th>\n",
       "      <td>...</td>\n",
       "      <td>...</td>\n",
       "      <td>...</td>\n",
       "      <td>...</td>\n",
       "    </tr>\n",
       "    <tr>\n",
       "      <th>154</th>\n",
       "      <td>2.0904</td>\n",
       "      <td>12.2</td>\n",
       "      <td>-17.924399</td>\n",
       "      <td>30.124399</td>\n",
       "    </tr>\n",
       "    <tr>\n",
       "      <th>155</th>\n",
       "      <td>2.4300</td>\n",
       "      <td>13.4</td>\n",
       "      <td>2.620162</td>\n",
       "      <td>10.779838</td>\n",
       "    </tr>\n",
       "    <tr>\n",
       "      <th>156</th>\n",
       "      <td>2.2770</td>\n",
       "      <td>12.2</td>\n",
       "      <td>-6.635779</td>\n",
       "      <td>18.835779</td>\n",
       "    </tr>\n",
       "    <tr>\n",
       "      <th>157</th>\n",
       "      <td>2.8728</td>\n",
       "      <td>19.7</td>\n",
       "      <td>29.407947</td>\n",
       "      <td>-9.707947</td>\n",
       "    </tr>\n",
       "    <tr>\n",
       "      <th>158</th>\n",
       "      <td>2.9322</td>\n",
       "      <td>19.9</td>\n",
       "      <td>33.001430</td>\n",
       "      <td>-13.101430</td>\n",
       "    </tr>\n",
       "  </tbody>\n",
       "</table>\n",
       "<p>159 rows × 4 columns</p>\n",
       "</div>"
      ],
      "text/plain": [
       "      Height  Weight  Predicted Values   Residuals\n",
       "0    11.5200   242.0        552.531995 -310.531995\n",
       "1    12.4800   290.0        610.608492 -320.608492\n",
       "2    12.3778   340.0        604.425765 -264.425765\n",
       "3    12.7300   363.0        625.732580 -262.732580\n",
       "4    12.4440   430.0        608.430623 -178.430623\n",
       "..       ...     ...               ...         ...\n",
       "154   2.0904    12.2        -17.924399   30.124399\n",
       "155   2.4300    13.4          2.620162   10.779838\n",
       "156   2.2770    12.2         -6.635779   18.835779\n",
       "157   2.8728    19.7         29.407947   -9.707947\n",
       "158   2.9322    19.9         33.001430  -13.101430\n",
       "\n",
       "[159 rows x 4 columns]"
      ]
     },
     "execution_count": 12,
     "metadata": {},
     "output_type": "execute_result"
    }
   ],
   "source": [
    "model_frame"
   ]
  },
  {
   "cell_type": "code",
   "execution_count": 13,
   "id": "638bccc4",
   "metadata": {},
   "outputs": [
    {
     "data": {
      "text/plain": [
       "count    1.590000e+02\n",
       "mean    -5.720092e-14\n",
       "std      2.468036e+02\n",
       "min     -3.572937e+02\n",
       "25%     -1.165323e+02\n",
       "50%     -7.076091e+01\n",
       "75%      3.391263e+01\n",
       "max      1.163621e+03\n",
       "Name: Residuals, dtype: float64"
      ]
     },
     "execution_count": 13,
     "metadata": {},
     "output_type": "execute_result"
    }
   ],
   "source": [
    "# - some statistics on the residuals\n",
    "model_frame['Residuals'].describe()"
   ]
  },
  {
   "cell_type": "code",
   "execution_count": 14,
   "id": "c9ad8b2c",
   "metadata": {},
   "outputs": [
    {
     "data": {
      "image/png": "[encoded data removed]",
      "text/plain": [
       "<Figure size 800x600 with 1 Axes>"
      ]
     },
     "metadata": {},
     "output_type": "display_data"
    }
   ],
   "source": [
    "# - plotting the true data, predicted values and the prediction line\n",
    "sns.regplot(data=model_frame, x='Height', y='Weight', ci=0, line_kws={'color':'red'})\n",
    "sns.scatterplot(data=model_frame, x='Height', y='Predicted Values', color='red', s=50)\n",
    "sns.despine(offset=10, trim=True)\n",
    "plt.title('Weight ~ Hight', fontsize=14);"
   ]
  },
  {
   "attachments": {},
   "cell_type": "markdown",
   "id": "e0c090a3",
   "metadata": {},
   "source": [
    "Ok, `statsmodels` can do it; how do we find out about the optimal values of $\\beta_0$ and $\\beta_1$?\n",
    "Let's build ourselves a function that (a) tests for some particular values of $\\beta_0$ and $\\beta_1$ for a particular regression problem (i.e. for a particular dataset) and returns the model error.\n",
    "\n",
    "The model error? Oh. Remember the residuals:\n",
    "\n",
    "$$\\epsilon_i = y_i - \\hat{y_i}$$\n",
    "\n",
    "where $y_i$ is the observation to be predicted, and $\\hat{y_i}$ the actual prediction?\n",
    "\n",
    "Next we do something similar to what happens in the computation of variance, square the differences:\n",
    "\n",
    "$$\\epsilon_i^2 = (y_i - \\hat{y_i})^2$$\n",
    "\n",
    "and define the model error for all observations to be **the sum of squares**:\n",
    "\n",
    "$$SSE = \\sum_{i=1}^{N}(y_i - \\hat{y_i})^2$$\n",
    "\n",
    "Obviously, the lower the $SSE$ - the Sum of Squared Error - the better the model! Here's a function that returns the SSE for a given data set (with two columns: the predictor and the criterion) and a choice of parameters $\\beta_0$ and $\\beta_1$:"
   ]
  },
  {
   "cell_type": "code",
   "execution_count": 15,
   "id": "ded9c927",
   "metadata": {},
   "outputs": [],
   "source": [
    "# - sse function\n",
    "def lg_sse(pars):\n",
    "    # - pick up the parameters\n",
    "    beta_0 = pars[0]\n",
    "    beta_1 = pars[1]\n",
    "    # - predict from parameters\n",
    "    preds = beta_0+beta_1*fish_data['Height']\n",
    "    # - compute residuals\n",
    "    residuals = fish_data['Weight']-preds\n",
    "    # - square the residuals\n",
    "    residuals = residuals**2\n",
    "    # - sum of squares\n",
    "    residuals = residuals.sum()\n",
    "    # - out:\n",
    "    return residuals"
   ]
  },
  {
   "cell_type": "markdown",
   "id": "5dd81e64",
   "metadata": {},
   "source": [
    "Test `lg_sse()` now:"
   ]
  },
  {
   "cell_type": "code",
   "execution_count": 16,
   "id": "498ddba5",
   "metadata": {},
   "outputs": [
    {
     "name": "stdout",
     "output_type": "stream",
     "text": [
      "9624100.07729549\n"
     ]
    }
   ],
   "source": [
    "pars = [-144.385971, 60.496351]\n",
    "print(lg_sse(pars))"
   ]
  },
  {
   "cell_type": "markdown",
   "id": "1a44de99",
   "metadata": {},
   "source": [
    "Check via `statsmodels`:"
   ]
  },
  {
   "cell_type": "code",
   "execution_count": 17,
   "id": "741669b7",
   "metadata": {},
   "outputs": [
    {
     "data": {
      "text/plain": [
       "9624100.07729549"
      ]
     },
     "execution_count": 17,
     "metadata": {},
     "output_type": "execute_result"
    }
   ],
   "source": [
    "(linear_model.resid**2).sum()"
   ]
  },
  {
   "cell_type": "markdown",
   "id": "f12684cf",
   "metadata": {},
   "source": [
    "Method A. Random parameter space search"
   ]
  },
  {
   "cell_type": "code",
   "execution_count": 18,
   "id": "c1e5c9e8",
   "metadata": {},
   "outputs": [
    {
     "data": {
      "text/html": [
       "<div>\n",
       "<style scoped>\n",
       "    .dataframe tbody tr th:only-of-type {\n",
       "        vertical-align: middle;\n",
       "    }\n",
       "\n",
       "    .dataframe tbody tr th {\n",
       "        vertical-align: top;\n",
       "    }\n",
       "\n",
       "    .dataframe thead th {\n",
       "        text-align: right;\n",
       "    }\n",
       "</style>\n",
       "<table border=\"1\" class=\"dataframe\">\n",
       "  <thead>\n",
       "    <tr style=\"text-align: right;\">\n",
       "      <th></th>\n",
       "      <th>beta_0</th>\n",
       "      <th>beta_1</th>\n",
       "    </tr>\n",
       "  </thead>\n",
       "  <tbody>\n",
       "    <tr>\n",
       "      <th>0</th>\n",
       "      <td>-81.065799</td>\n",
       "      <td>-39.628705</td>\n",
       "    </tr>\n",
       "    <tr>\n",
       "      <th>1</th>\n",
       "      <td>-136.384245</td>\n",
       "      <td>-169.196308</td>\n",
       "    </tr>\n",
       "    <tr>\n",
       "      <th>2</th>\n",
       "      <td>-182.543686</td>\n",
       "      <td>-134.056794</td>\n",
       "    </tr>\n",
       "    <tr>\n",
       "      <th>3</th>\n",
       "      <td>46.472811</td>\n",
       "      <td>-123.622177</td>\n",
       "    </tr>\n",
       "    <tr>\n",
       "      <th>4</th>\n",
       "      <td>-174.587529</td>\n",
       "      <td>76.340414</td>\n",
       "    </tr>\n",
       "  </tbody>\n",
       "</table>\n",
       "</div>"
      ],
      "text/plain": [
       "       beta_0      beta_1\n",
       "0  -81.065799  -39.628705\n",
       "1 -136.384245 -169.196308\n",
       "2 -182.543686 -134.056794\n",
       "3   46.472811 -123.622177\n",
       "4 -174.587529   76.340414"
      ]
     },
     "execution_count": 18,
     "metadata": {},
     "output_type": "execute_result"
    }
   ],
   "source": [
    "beta_0 = np.random.uniform(low=-200, high=200, size=10000)\n",
    "beta_1 = np.random.uniform(low=-200, high=200, size=10000)\n",
    "random_pars = pd.DataFrame({'beta_0':beta_0, 'beta_1':beta_1})\n",
    "random_pars.head()"
   ]
  },
  {
   "cell_type": "code",
   "execution_count": 19,
   "id": "100d648f",
   "metadata": {},
   "outputs": [
    {
     "data": {
      "text/html": [
       "<div>\n",
       "<style scoped>\n",
       "    .dataframe tbody tr th:only-of-type {\n",
       "        vertical-align: middle;\n",
       "    }\n",
       "\n",
       "    .dataframe tbody tr th {\n",
       "        vertical-align: top;\n",
       "    }\n",
       "\n",
       "    .dataframe thead th {\n",
       "        text-align: right;\n",
       "    }\n",
       "</style>\n",
       "<table border=\"1\" class=\"dataframe\">\n",
       "  <thead>\n",
       "    <tr style=\"text-align: right;\">\n",
       "      <th></th>\n",
       "      <th>beta_0</th>\n",
       "      <th>beta_1</th>\n",
       "      <th>sse</th>\n",
       "    </tr>\n",
       "  </thead>\n",
       "  <tbody>\n",
       "    <tr>\n",
       "      <th>8768</th>\n",
       "      <td>-157.707414</td>\n",
       "      <td>61.284868</td>\n",
       "      <td>9.632111e+06</td>\n",
       "    </tr>\n",
       "    <tr>\n",
       "      <th>8857</th>\n",
       "      <td>-127.539886</td>\n",
       "      <td>58.989659</td>\n",
       "      <td>9.632452e+06</td>\n",
       "    </tr>\n",
       "    <tr>\n",
       "      <th>2344</th>\n",
       "      <td>-135.440583</td>\n",
       "      <td>60.434230</td>\n",
       "      <td>9.635299e+06</td>\n",
       "    </tr>\n",
       "    <tr>\n",
       "      <th>4375</th>\n",
       "      <td>-140.709084</td>\n",
       "      <td>59.324736</td>\n",
       "      <td>9.635510e+06</td>\n",
       "    </tr>\n",
       "    <tr>\n",
       "      <th>8911</th>\n",
       "      <td>-170.296254</td>\n",
       "      <td>63.463265</td>\n",
       "      <td>9.649731e+06</td>\n",
       "    </tr>\n",
       "  </tbody>\n",
       "</table>\n",
       "</div>"
      ],
      "text/plain": [
       "          beta_0     beta_1           sse\n",
       "8768 -157.707414  61.284868  9.632111e+06\n",
       "8857 -127.539886  58.989659  9.632452e+06\n",
       "2344 -135.440583  60.434230  9.635299e+06\n",
       "4375 -140.709084  59.324736  9.635510e+06\n",
       "8911 -170.296254  63.463265  9.649731e+06"
      ]
     },
     "execution_count": 19,
     "metadata": {},
     "output_type": "execute_result"
    }
   ],
   "source": [
    "sse = []\n",
    "for i in range(random_pars.shape[0]):\n",
    "    pars = [random_pars['beta_0'][i],random_pars['beta_1'][i]]\n",
    "    sse.append(lg_sse(pars))\n",
    "random_pars['sse'] = sse\n",
    "random_pars.sort_values('sse', ascending=True, inplace=True)\n",
    "random_pars.head()"
   ]
  },
  {
   "cell_type": "markdown",
   "id": "36e62781",
   "metadata": {},
   "source": [
    "Check with `statsmodels`:"
   ]
  },
  {
   "cell_type": "code",
   "execution_count": 20,
   "id": "851b5979",
   "metadata": {},
   "outputs": [
    {
     "data": {
      "text/plain": [
       "Intercept   -144.385971\n",
       "Height        60.496351\n",
       "dtype: float64"
      ]
     },
     "execution_count": 20,
     "metadata": {},
     "output_type": "execute_result"
    }
   ],
   "source": [
    "linear_model.params"
   ]
  },
  {
   "cell_type": "markdown",
   "id": "969fdc33",
   "metadata": {},
   "source": [
    "Not bad, how about 100,000 random pairs?"
   ]
  },
  {
   "cell_type": "code",
   "execution_count": 21,
   "id": "58558b90",
   "metadata": {},
   "outputs": [
    {
     "data": {
      "text/html": [
       "<div>\n",
       "<style scoped>\n",
       "    .dataframe tbody tr th:only-of-type {\n",
       "        vertical-align: middle;\n",
       "    }\n",
       "\n",
       "    .dataframe tbody tr th {\n",
       "        vertical-align: top;\n",
       "    }\n",
       "\n",
       "    .dataframe thead th {\n",
       "        text-align: right;\n",
       "    }\n",
       "</style>\n",
       "<table border=\"1\" class=\"dataframe\">\n",
       "  <thead>\n",
       "    <tr style=\"text-align: right;\">\n",
       "      <th></th>\n",
       "      <th>beta_0</th>\n",
       "      <th>beta_1</th>\n",
       "      <th>sse</th>\n",
       "    </tr>\n",
       "  </thead>\n",
       "  <tbody>\n",
       "    <tr>\n",
       "      <th>32529</th>\n",
       "      <td>-143.057241</td>\n",
       "      <td>60.234473</td>\n",
       "      <td>9.624465e+06</td>\n",
       "    </tr>\n",
       "    <tr>\n",
       "      <th>79439</th>\n",
       "      <td>-144.077625</td>\n",
       "      <td>60.654470</td>\n",
       "      <td>9.624647e+06</td>\n",
       "    </tr>\n",
       "    <tr>\n",
       "      <th>36946</th>\n",
       "      <td>-148.051122</td>\n",
       "      <td>60.949445</td>\n",
       "      <td>9.624721e+06</td>\n",
       "    </tr>\n",
       "    <tr>\n",
       "      <th>25624</th>\n",
       "      <td>-136.735857</td>\n",
       "      <td>59.826464</td>\n",
       "      <td>9.625831e+06</td>\n",
       "    </tr>\n",
       "    <tr>\n",
       "      <th>60144</th>\n",
       "      <td>-150.587654</td>\n",
       "      <td>60.817517</td>\n",
       "      <td>9.626153e+06</td>\n",
       "    </tr>\n",
       "  </tbody>\n",
       "</table>\n",
       "</div>"
      ],
      "text/plain": [
       "           beta_0     beta_1           sse\n",
       "32529 -143.057241  60.234473  9.624465e+06\n",
       "79439 -144.077625  60.654470  9.624647e+06\n",
       "36946 -148.051122  60.949445  9.624721e+06\n",
       "25624 -136.735857  59.826464  9.625831e+06\n",
       "60144 -150.587654  60.817517  9.626153e+06"
      ]
     },
     "execution_count": 21,
     "metadata": {},
     "output_type": "execute_result"
    }
   ],
   "source": [
    "beta_0 = np.random.uniform(low=-200, high=200, size=100000)\n",
    "beta_1 = np.random.uniform(low=-200, high=200, size=100000)\n",
    "random_pars = pd.DataFrame({'beta_0':beta_0, 'beta_1':beta_1})\n",
    "sse = []\n",
    "for i in range(random_pars.shape[0]):\n",
    "    pars = [random_pars['beta_0'][i],random_pars['beta_1'][i]]\n",
    "    sse.append(lg_sse(pars))\n",
    "random_pars['sse'] = sse\n",
    "random_pars.sort_values('sse', ascending=True, inplace=True)\n",
    "random_pars.head()"
   ]
  },
  {
   "cell_type": "markdown",
   "id": "63e6f781",
   "metadata": {},
   "source": [
    "Method B. Grid search"
   ]
  },
  {
   "cell_type": "code",
   "execution_count": 22,
   "id": "2c3457e9",
   "metadata": {},
   "outputs": [
    {
     "data": {
      "text/html": [
       "<div>\n",
       "<style scoped>\n",
       "    .dataframe tbody tr th:only-of-type {\n",
       "        vertical-align: middle;\n",
       "    }\n",
       "\n",
       "    .dataframe tbody tr th {\n",
       "        vertical-align: top;\n",
       "    }\n",
       "\n",
       "    .dataframe thead th {\n",
       "        text-align: right;\n",
       "    }\n",
       "</style>\n",
       "<table border=\"1\" class=\"dataframe\">\n",
       "  <thead>\n",
       "    <tr style=\"text-align: right;\">\n",
       "      <th></th>\n",
       "      <th>beta_0</th>\n",
       "      <th>beta_1</th>\n",
       "    </tr>\n",
       "  </thead>\n",
       "  <tbody>\n",
       "    <tr>\n",
       "      <th>0</th>\n",
       "      <td>-200.0</td>\n",
       "      <td>-200.000000</td>\n",
       "    </tr>\n",
       "    <tr>\n",
       "      <th>1</th>\n",
       "      <td>-200.0</td>\n",
       "      <td>-195.959596</td>\n",
       "    </tr>\n",
       "    <tr>\n",
       "      <th>2</th>\n",
       "      <td>-200.0</td>\n",
       "      <td>-191.919192</td>\n",
       "    </tr>\n",
       "    <tr>\n",
       "      <th>3</th>\n",
       "      <td>-200.0</td>\n",
       "      <td>-187.878788</td>\n",
       "    </tr>\n",
       "    <tr>\n",
       "      <th>4</th>\n",
       "      <td>-200.0</td>\n",
       "      <td>-183.838384</td>\n",
       "    </tr>\n",
       "  </tbody>\n",
       "</table>\n",
       "</div>"
      ],
      "text/plain": [
       "   beta_0      beta_1\n",
       "0  -200.0 -200.000000\n",
       "1  -200.0 -195.959596\n",
       "2  -200.0 -191.919192\n",
       "3  -200.0 -187.878788\n",
       "4  -200.0 -183.838384"
      ]
     },
     "execution_count": 22,
     "metadata": {},
     "output_type": "execute_result"
    }
   ],
   "source": [
    "beta_0_vals = np.linspace(-200,200,100)\n",
    "beta_1_vals = np.linspace(-200,200,100)\n",
    "grid = np.array([(beta_0, beta_1) for beta_0 in beta_0_vals for beta_1 in beta_1_vals])\n",
    "grid = pd.DataFrame(grid)\n",
    "grid = grid.rename(columns={0: \"beta_0\", 1: \"beta_1\"})\n",
    "grid.head()"
   ]
  },
  {
   "cell_type": "code",
   "execution_count": 23,
   "id": "ac2b36fc",
   "metadata": {},
   "outputs": [
    {
     "data": {
      "text/html": [
       "<div>\n",
       "<style scoped>\n",
       "    .dataframe tbody tr th:only-of-type {\n",
       "        vertical-align: middle;\n",
       "    }\n",
       "\n",
       "    .dataframe tbody tr th {\n",
       "        vertical-align: top;\n",
       "    }\n",
       "\n",
       "    .dataframe thead th {\n",
       "        text-align: right;\n",
       "    }\n",
       "</style>\n",
       "<table border=\"1\" class=\"dataframe\">\n",
       "  <thead>\n",
       "    <tr style=\"text-align: right;\">\n",
       "      <th></th>\n",
       "      <th>beta_0</th>\n",
       "      <th>beta_1</th>\n",
       "      <th>sse</th>\n",
       "    </tr>\n",
       "  </thead>\n",
       "  <tbody>\n",
       "    <tr>\n",
       "      <th>1864</th>\n",
       "      <td>-127.272727</td>\n",
       "      <td>58.585859</td>\n",
       "      <td>9.634695e+06</td>\n",
       "    </tr>\n",
       "    <tr>\n",
       "      <th>1964</th>\n",
       "      <td>-123.232323</td>\n",
       "      <td>58.585859</td>\n",
       "      <td>9.637258e+06</td>\n",
       "    </tr>\n",
       "    <tr>\n",
       "      <th>965</th>\n",
       "      <td>-163.636364</td>\n",
       "      <td>62.626263</td>\n",
       "      <td>9.637272e+06</td>\n",
       "    </tr>\n",
       "    <tr>\n",
       "      <th>1764</th>\n",
       "      <td>-131.313131</td>\n",
       "      <td>58.585859</td>\n",
       "      <td>9.637324e+06</td>\n",
       "    </tr>\n",
       "    <tr>\n",
       "      <th>1065</th>\n",
       "      <td>-159.595960</td>\n",
       "      <td>62.626263</td>\n",
       "      <td>9.639683e+06</td>\n",
       "    </tr>\n",
       "  </tbody>\n",
       "</table>\n",
       "</div>"
      ],
      "text/plain": [
       "          beta_0     beta_1           sse\n",
       "1864 -127.272727  58.585859  9.634695e+06\n",
       "1964 -123.232323  58.585859  9.637258e+06\n",
       "965  -163.636364  62.626263  9.637272e+06\n",
       "1764 -131.313131  58.585859  9.637324e+06\n",
       "1065 -159.595960  62.626263  9.639683e+06"
      ]
     },
     "execution_count": 23,
     "metadata": {},
     "output_type": "execute_result"
    }
   ],
   "source": [
    "sse = []\n",
    "for i in range(grid.shape[0]):\n",
    "    pars = [grid['beta_0'][i],grid['beta_1'][i]]\n",
    "    sse.append(lg_sse(pars))\n",
    "grid['sse'] = sse\n",
    "grid.sort_values('sse', ascending=True, inplace=True)\n",
    "grid.head()"
   ]
  },
  {
   "attachments": {},
   "cell_type": "markdown",
   "id": "09ba1bb3",
   "metadata": {},
   "source": [
    "A grid more dense:"
   ]
  },
  {
   "cell_type": "code",
   "execution_count": 24,
   "id": "fdbfd6dc",
   "metadata": {},
   "outputs": [
    {
     "ename": "KeyboardInterrupt",
     "evalue": "",
     "output_type": "error",
     "traceback": [
      "\u001b[1;31m---------------------------------------------------------------------------\u001b[0m",
      "\u001b[1;31mKeyboardInterrupt\u001b[0m                         Traceback (most recent call last)",
      "Cell \u001b[1;32mIn[24], line 9\u001b[0m\n\u001b[0;32m      7\u001b[0m \u001b[38;5;28;01mfor\u001b[39;00m i \u001b[38;5;129;01min\u001b[39;00m \u001b[38;5;28mrange\u001b[39m(grid\u001b[38;5;241m.\u001b[39mshape[\u001b[38;5;241m0\u001b[39m]):\n\u001b[0;32m      8\u001b[0m     pars \u001b[38;5;241m=\u001b[39m [grid[\u001b[38;5;124m'\u001b[39m\u001b[38;5;124mbeta_0\u001b[39m\u001b[38;5;124m'\u001b[39m][i],grid[\u001b[38;5;124m'\u001b[39m\u001b[38;5;124mbeta_1\u001b[39m\u001b[38;5;124m'\u001b[39m][i]]\n\u001b[1;32m----> 9\u001b[0m     sse\u001b[38;5;241m.\u001b[39mappend(\u001b[43mlg_sse\u001b[49m\u001b[43m(\u001b[49m\u001b[43mpars\u001b[49m\u001b[43m)\u001b[49m)\n\u001b[0;32m     10\u001b[0m grid[\u001b[38;5;124m'\u001b[39m\u001b[38;5;124msse\u001b[39m\u001b[38;5;124m'\u001b[39m] \u001b[38;5;241m=\u001b[39m sse\n\u001b[0;32m     11\u001b[0m grid\u001b[38;5;241m.\u001b[39msort_values(\u001b[38;5;124m'\u001b[39m\u001b[38;5;124msse\u001b[39m\u001b[38;5;124m'\u001b[39m, ascending\u001b[38;5;241m=\u001b[39m\u001b[38;5;28;01mTrue\u001b[39;00m, inplace\u001b[38;5;241m=\u001b[39m\u001b[38;5;28;01mTrue\u001b[39;00m)\n",
      "Cell \u001b[1;32mIn[15], line 13\u001b[0m, in \u001b[0;36mlg_sse\u001b[1;34m(pars)\u001b[0m\n\u001b[0;32m     11\u001b[0m residuals \u001b[38;5;241m=\u001b[39m residuals\u001b[38;5;241m*\u001b[39m\u001b[38;5;241m*\u001b[39m\u001b[38;5;241m2\u001b[39m\n\u001b[0;32m     12\u001b[0m \u001b[38;5;66;03m# - sum of squares\u001b[39;00m\n\u001b[1;32m---> 13\u001b[0m residuals \u001b[38;5;241m=\u001b[39m \u001b[43mresiduals\u001b[49m\u001b[38;5;241;43m.\u001b[39;49m\u001b[43msum\u001b[49m\u001b[43m(\u001b[49m\u001b[43m)\u001b[49m\n\u001b[0;32m     14\u001b[0m \u001b[38;5;66;03m# - out:\u001b[39;00m\n\u001b[0;32m     15\u001b[0m \u001b[38;5;28;01mreturn\u001b[39;00m residuals\n",
      "File \u001b[1;32mc:\\Users\\Admin\\AppData\\Local\\Programs\\Python\\Python311\\Lib\\site-packages\\pandas\\core\\generic.py:11512\u001b[0m, in \u001b[0;36mNDFrame._add_numeric_operations.<locals>.sum\u001b[1;34m(self, axis, skipna, numeric_only, min_count, **kwargs)\u001b[0m\n\u001b[0;32m  11493\u001b[0m \u001b[38;5;129m@doc\u001b[39m(  \u001b[38;5;66;03m# type: ignore[misc]\u001b[39;00m\n\u001b[0;32m  11494\u001b[0m     _num_doc,\n\u001b[0;32m  11495\u001b[0m     desc\u001b[38;5;241m=\u001b[39m\u001b[38;5;124m\"\u001b[39m\u001b[38;5;124mReturn the sum of the values over the requested axis.\u001b[39m\u001b[38;5;130;01m\\n\u001b[39;00m\u001b[38;5;130;01m\\n\u001b[39;00m\u001b[38;5;124m\"\u001b[39m\n\u001b[1;32m   (...)\u001b[0m\n\u001b[0;32m  11510\u001b[0m     \u001b[38;5;241m*\u001b[39m\u001b[38;5;241m*\u001b[39mkwargs,\n\u001b[0;32m  11511\u001b[0m ):\n\u001b[1;32m> 11512\u001b[0m     \u001b[38;5;28;01mreturn\u001b[39;00m \u001b[43mNDFrame\u001b[49m\u001b[38;5;241;43m.\u001b[39;49m\u001b[43msum\u001b[49m\u001b[43m(\u001b[49m\u001b[38;5;28;43mself\u001b[39;49m\u001b[43m,\u001b[49m\u001b[43m \u001b[49m\u001b[43maxis\u001b[49m\u001b[43m,\u001b[49m\u001b[43m \u001b[49m\u001b[43mskipna\u001b[49m\u001b[43m,\u001b[49m\u001b[43m \u001b[49m\u001b[43mnumeric_only\u001b[49m\u001b[43m,\u001b[49m\u001b[43m \u001b[49m\u001b[43mmin_count\u001b[49m\u001b[43m,\u001b[49m\u001b[43m \u001b[49m\u001b[38;5;241;43m*\u001b[39;49m\u001b[38;5;241;43m*\u001b[39;49m\u001b[43mkwargs\u001b[49m\u001b[43m)\u001b[49m\n",
      "File \u001b[1;32mc:\\Users\\Admin\\AppData\\Local\\Programs\\Python\\Python311\\Lib\\site-packages\\pandas\\core\\generic.py:11280\u001b[0m, in \u001b[0;36mNDFrame.sum\u001b[1;34m(self, axis, skipna, numeric_only, min_count, **kwargs)\u001b[0m\n\u001b[0;32m  11272\u001b[0m \u001b[38;5;28;01mdef\u001b[39;00m \u001b[38;5;21msum\u001b[39m(\n\u001b[0;32m  11273\u001b[0m     \u001b[38;5;28mself\u001b[39m,\n\u001b[0;32m  11274\u001b[0m     axis: Axis \u001b[38;5;241m|\u001b[39m \u001b[38;5;28;01mNone\u001b[39;00m \u001b[38;5;241m=\u001b[39m \u001b[38;5;28;01mNone\u001b[39;00m,\n\u001b[1;32m   (...)\u001b[0m\n\u001b[0;32m  11278\u001b[0m     \u001b[38;5;241m*\u001b[39m\u001b[38;5;241m*\u001b[39mkwargs,\n\u001b[0;32m  11279\u001b[0m ):\n\u001b[1;32m> 11280\u001b[0m     \u001b[38;5;28;01mreturn\u001b[39;00m \u001b[38;5;28;43mself\u001b[39;49m\u001b[38;5;241;43m.\u001b[39;49m\u001b[43m_min_count_stat_function\u001b[49m\u001b[43m(\u001b[49m\n\u001b[0;32m  11281\u001b[0m \u001b[43m        \u001b[49m\u001b[38;5;124;43m\"\u001b[39;49m\u001b[38;5;124;43msum\u001b[39;49m\u001b[38;5;124;43m\"\u001b[39;49m\u001b[43m,\u001b[49m\u001b[43m \u001b[49m\u001b[43mnanops\u001b[49m\u001b[38;5;241;43m.\u001b[39;49m\u001b[43mnansum\u001b[49m\u001b[43m,\u001b[49m\u001b[43m \u001b[49m\u001b[43maxis\u001b[49m\u001b[43m,\u001b[49m\u001b[43m \u001b[49m\u001b[43mskipna\u001b[49m\u001b[43m,\u001b[49m\u001b[43m \u001b[49m\u001b[43mnumeric_only\u001b[49m\u001b[43m,\u001b[49m\u001b[43m \u001b[49m\u001b[43mmin_count\u001b[49m\u001b[43m,\u001b[49m\u001b[43m \u001b[49m\u001b[38;5;241;43m*\u001b[39;49m\u001b[38;5;241;43m*\u001b[39;49m\u001b[43mkwargs\u001b[49m\n\u001b[0;32m  11282\u001b[0m \u001b[43m    \u001b[49m\u001b[43m)\u001b[49m\n",
      "File \u001b[1;32mc:\\Users\\Admin\\AppData\\Local\\Programs\\Python\\Python311\\Lib\\site-packages\\pandas\\core\\generic.py:11263\u001b[0m, in \u001b[0;36mNDFrame._min_count_stat_function\u001b[1;34m(self, name, func, axis, skipna, numeric_only, min_count, **kwargs)\u001b[0m\n\u001b[0;32m  11260\u001b[0m \u001b[38;5;28;01mif\u001b[39;00m axis \u001b[38;5;129;01mis\u001b[39;00m \u001b[38;5;28;01mNone\u001b[39;00m:\n\u001b[0;32m  11261\u001b[0m     axis \u001b[38;5;241m=\u001b[39m \u001b[38;5;28mself\u001b[39m\u001b[38;5;241m.\u001b[39m_stat_axis_number\n\u001b[1;32m> 11263\u001b[0m \u001b[38;5;28;01mreturn\u001b[39;00m \u001b[38;5;28;43mself\u001b[39;49m\u001b[38;5;241;43m.\u001b[39;49m\u001b[43m_reduce\u001b[49m\u001b[43m(\u001b[49m\n\u001b[0;32m  11264\u001b[0m \u001b[43m    \u001b[49m\u001b[43mfunc\u001b[49m\u001b[43m,\u001b[49m\n\u001b[0;32m  11265\u001b[0m \u001b[43m    \u001b[49m\u001b[43mname\u001b[49m\u001b[38;5;241;43m=\u001b[39;49m\u001b[43mname\u001b[49m\u001b[43m,\u001b[49m\n\u001b[0;32m  11266\u001b[0m \u001b[43m    \u001b[49m\u001b[43maxis\u001b[49m\u001b[38;5;241;43m=\u001b[39;49m\u001b[43maxis\u001b[49m\u001b[43m,\u001b[49m\n\u001b[0;32m  11267\u001b[0m \u001b[43m    \u001b[49m\u001b[43mskipna\u001b[49m\u001b[38;5;241;43m=\u001b[39;49m\u001b[43mskipna\u001b[49m\u001b[43m,\u001b[49m\n\u001b[0;32m  11268\u001b[0m \u001b[43m    \u001b[49m\u001b[43mnumeric_only\u001b[49m\u001b[38;5;241;43m=\u001b[39;49m\u001b[43mnumeric_only\u001b[49m\u001b[43m,\u001b[49m\n\u001b[0;32m  11269\u001b[0m \u001b[43m    \u001b[49m\u001b[43mmin_count\u001b[49m\u001b[38;5;241;43m=\u001b[39;49m\u001b[43mmin_count\u001b[49m\u001b[43m,\u001b[49m\n\u001b[0;32m  11270\u001b[0m \u001b[43m\u001b[49m\u001b[43m)\u001b[49m\n",
      "File \u001b[1;32mc:\\Users\\Admin\\AppData\\Local\\Programs\\Python\\Python311\\Lib\\site-packages\\pandas\\core\\series.py:4670\u001b[0m, in \u001b[0;36mSeries._reduce\u001b[1;34m(self, op, name, axis, skipna, numeric_only, filter_type, **kwds)\u001b[0m\n\u001b[0;32m   4665\u001b[0m     \u001b[38;5;28;01mraise\u001b[39;00m \u001b[38;5;167;01mTypeError\u001b[39;00m(\n\u001b[0;32m   4666\u001b[0m         \u001b[38;5;124mf\u001b[39m\u001b[38;5;124m\"\u001b[39m\u001b[38;5;124mSeries.\u001b[39m\u001b[38;5;132;01m{\u001b[39;00mname\u001b[38;5;132;01m}\u001b[39;00m\u001b[38;5;124m does not allow \u001b[39m\u001b[38;5;132;01m{\u001b[39;00mkwd_name\u001b[38;5;132;01m}\u001b[39;00m\u001b[38;5;124m=\u001b[39m\u001b[38;5;132;01m{\u001b[39;00mnumeric_only\u001b[38;5;132;01m}\u001b[39;00m\u001b[38;5;124m \u001b[39m\u001b[38;5;124m\"\u001b[39m\n\u001b[0;32m   4667\u001b[0m         \u001b[38;5;124m\"\u001b[39m\u001b[38;5;124mwith non-numeric dtypes.\u001b[39m\u001b[38;5;124m\"\u001b[39m\n\u001b[0;32m   4668\u001b[0m     )\n\u001b[0;32m   4669\u001b[0m \u001b[38;5;28;01mwith\u001b[39;00m np\u001b[38;5;241m.\u001b[39merrstate(\u001b[38;5;28mall\u001b[39m\u001b[38;5;241m=\u001b[39m\u001b[38;5;124m\"\u001b[39m\u001b[38;5;124mignore\u001b[39m\u001b[38;5;124m\"\u001b[39m):\n\u001b[1;32m-> 4670\u001b[0m     \u001b[38;5;28;01mreturn\u001b[39;00m \u001b[43mop\u001b[49m\u001b[43m(\u001b[49m\u001b[43mdelegate\u001b[49m\u001b[43m,\u001b[49m\u001b[43m \u001b[49m\u001b[43mskipna\u001b[49m\u001b[38;5;241;43m=\u001b[39;49m\u001b[43mskipna\u001b[49m\u001b[43m,\u001b[49m\u001b[43m \u001b[49m\u001b[38;5;241;43m*\u001b[39;49m\u001b[38;5;241;43m*\u001b[39;49m\u001b[43mkwds\u001b[49m\u001b[43m)\u001b[49m\n",
      "File \u001b[1;32mc:\\Users\\Admin\\AppData\\Local\\Programs\\Python\\Python311\\Lib\\site-packages\\pandas\\core\\nanops.py:96\u001b[0m, in \u001b[0;36mdisallow.__call__.<locals>._f\u001b[1;34m(*args, **kwargs)\u001b[0m\n\u001b[0;32m     94\u001b[0m \u001b[38;5;28;01mtry\u001b[39;00m:\n\u001b[0;32m     95\u001b[0m     \u001b[38;5;28;01mwith\u001b[39;00m np\u001b[38;5;241m.\u001b[39merrstate(invalid\u001b[38;5;241m=\u001b[39m\u001b[38;5;124m\"\u001b[39m\u001b[38;5;124mignore\u001b[39m\u001b[38;5;124m\"\u001b[39m):\n\u001b[1;32m---> 96\u001b[0m         \u001b[38;5;28;01mreturn\u001b[39;00m \u001b[43mf\u001b[49m\u001b[43m(\u001b[49m\u001b[38;5;241;43m*\u001b[39;49m\u001b[43margs\u001b[49m\u001b[43m,\u001b[49m\u001b[43m \u001b[49m\u001b[38;5;241;43m*\u001b[39;49m\u001b[38;5;241;43m*\u001b[39;49m\u001b[43mkwargs\u001b[49m\u001b[43m)\u001b[49m\n\u001b[0;32m     97\u001b[0m \u001b[38;5;28;01mexcept\u001b[39;00m \u001b[38;5;167;01mValueError\u001b[39;00m \u001b[38;5;28;01mas\u001b[39;00m e:\n\u001b[0;32m     98\u001b[0m     \u001b[38;5;66;03m# we want to transform an object array\u001b[39;00m\n\u001b[0;32m     99\u001b[0m     \u001b[38;5;66;03m# ValueError message to the more typical TypeError\u001b[39;00m\n\u001b[0;32m    100\u001b[0m     \u001b[38;5;66;03m# e.g. this is normally a disallowed function on\u001b[39;00m\n\u001b[0;32m    101\u001b[0m     \u001b[38;5;66;03m# object arrays that contain strings\u001b[39;00m\n\u001b[0;32m    102\u001b[0m     \u001b[38;5;28;01mif\u001b[39;00m is_object_dtype(args[\u001b[38;5;241m0\u001b[39m]):\n",
      "File \u001b[1;32mc:\\Users\\Admin\\AppData\\Local\\Programs\\Python\\Python311\\Lib\\site-packages\\pandas\\core\\nanops.py:421\u001b[0m, in \u001b[0;36m_datetimelike_compat.<locals>.new_func\u001b[1;34m(values, axis, skipna, mask, **kwargs)\u001b[0m\n\u001b[0;32m    418\u001b[0m \u001b[38;5;28;01mif\u001b[39;00m datetimelike \u001b[38;5;129;01mand\u001b[39;00m mask \u001b[38;5;129;01mis\u001b[39;00m \u001b[38;5;28;01mNone\u001b[39;00m:\n\u001b[0;32m    419\u001b[0m     mask \u001b[38;5;241m=\u001b[39m isna(values)\n\u001b[1;32m--> 421\u001b[0m result \u001b[38;5;241m=\u001b[39m \u001b[43mfunc\u001b[49m\u001b[43m(\u001b[49m\u001b[43mvalues\u001b[49m\u001b[43m,\u001b[49m\u001b[43m \u001b[49m\u001b[43maxis\u001b[49m\u001b[38;5;241;43m=\u001b[39;49m\u001b[43maxis\u001b[49m\u001b[43m,\u001b[49m\u001b[43m \u001b[49m\u001b[43mskipna\u001b[49m\u001b[38;5;241;43m=\u001b[39;49m\u001b[43mskipna\u001b[49m\u001b[43m,\u001b[49m\u001b[43m \u001b[49m\u001b[43mmask\u001b[49m\u001b[38;5;241;43m=\u001b[39;49m\u001b[43mmask\u001b[49m\u001b[43m,\u001b[49m\u001b[43m \u001b[49m\u001b[38;5;241;43m*\u001b[39;49m\u001b[38;5;241;43m*\u001b[39;49m\u001b[43mkwargs\u001b[49m\u001b[43m)\u001b[49m\n\u001b[0;32m    423\u001b[0m \u001b[38;5;28;01mif\u001b[39;00m datetimelike:\n\u001b[0;32m    424\u001b[0m     result \u001b[38;5;241m=\u001b[39m _wrap_results(result, orig_values\u001b[38;5;241m.\u001b[39mdtype, fill_value\u001b[38;5;241m=\u001b[39miNaT)\n",
      "File \u001b[1;32mc:\\Users\\Admin\\AppData\\Local\\Programs\\Python\\Python311\\Lib\\site-packages\\pandas\\core\\nanops.py:494\u001b[0m, in \u001b[0;36mmaybe_operate_rowwise.<locals>.newfunc\u001b[1;34m(values, axis, **kwargs)\u001b[0m\n\u001b[0;32m    491\u001b[0m         results \u001b[38;5;241m=\u001b[39m [func(x, \u001b[38;5;241m*\u001b[39m\u001b[38;5;241m*\u001b[39mkwargs) \u001b[38;5;28;01mfor\u001b[39;00m x \u001b[38;5;129;01min\u001b[39;00m arrs]\n\u001b[0;32m    492\u001b[0m     \u001b[38;5;28;01mreturn\u001b[39;00m np\u001b[38;5;241m.\u001b[39marray(results)\n\u001b[1;32m--> 494\u001b[0m \u001b[38;5;28;01mreturn\u001b[39;00m \u001b[43mfunc\u001b[49m\u001b[43m(\u001b[49m\u001b[43mvalues\u001b[49m\u001b[43m,\u001b[49m\u001b[43m \u001b[49m\u001b[43maxis\u001b[49m\u001b[38;5;241;43m=\u001b[39;49m\u001b[43maxis\u001b[49m\u001b[43m,\u001b[49m\u001b[43m \u001b[49m\u001b[38;5;241;43m*\u001b[39;49m\u001b[38;5;241;43m*\u001b[39;49m\u001b[43mkwargs\u001b[49m\u001b[43m)\u001b[49m\n",
      "File \u001b[1;32mc:\\Users\\Admin\\AppData\\Local\\Programs\\Python\\Python311\\Lib\\site-packages\\pandas\\core\\nanops.py:643\u001b[0m, in \u001b[0;36mnansum\u001b[1;34m(values, axis, skipna, min_count, mask)\u001b[0m\n\u001b[0;32m    609\u001b[0m \u001b[38;5;129m@disallow\u001b[39m(\u001b[38;5;124m\"\u001b[39m\u001b[38;5;124mM8\u001b[39m\u001b[38;5;124m\"\u001b[39m)\n\u001b[0;32m    610\u001b[0m \u001b[38;5;129m@_datetimelike_compat\u001b[39m\n\u001b[0;32m    611\u001b[0m \u001b[38;5;129m@maybe_operate_rowwise\u001b[39m\n\u001b[1;32m   (...)\u001b[0m\n\u001b[0;32m    618\u001b[0m     mask: npt\u001b[38;5;241m.\u001b[39mNDArray[np\u001b[38;5;241m.\u001b[39mbool_] \u001b[38;5;241m|\u001b[39m \u001b[38;5;28;01mNone\u001b[39;00m \u001b[38;5;241m=\u001b[39m \u001b[38;5;28;01mNone\u001b[39;00m,\n\u001b[0;32m    619\u001b[0m ) \u001b[38;5;241m-\u001b[39m\u001b[38;5;241m>\u001b[39m \u001b[38;5;28mfloat\u001b[39m:\n\u001b[0;32m    620\u001b[0m \u001b[38;5;250m    \u001b[39m\u001b[38;5;124;03m\"\"\"\u001b[39;00m\n\u001b[0;32m    621\u001b[0m \u001b[38;5;124;03m    Sum the elements along an axis ignoring NaNs\u001b[39;00m\n\u001b[0;32m    622\u001b[0m \n\u001b[1;32m   (...)\u001b[0m\n\u001b[0;32m    641\u001b[0m \u001b[38;5;124;03m    3.0\u001b[39;00m\n\u001b[0;32m    642\u001b[0m \u001b[38;5;124;03m    \"\"\"\u001b[39;00m\n\u001b[1;32m--> 643\u001b[0m     values, mask, dtype, dtype_max, _ \u001b[38;5;241m=\u001b[39m \u001b[43m_get_values\u001b[49m\u001b[43m(\u001b[49m\n\u001b[0;32m    644\u001b[0m \u001b[43m        \u001b[49m\u001b[43mvalues\u001b[49m\u001b[43m,\u001b[49m\u001b[43m \u001b[49m\u001b[43mskipna\u001b[49m\u001b[43m,\u001b[49m\u001b[43m \u001b[49m\u001b[43mfill_value\u001b[49m\u001b[38;5;241;43m=\u001b[39;49m\u001b[38;5;241;43m0\u001b[39;49m\u001b[43m,\u001b[49m\u001b[43m \u001b[49m\u001b[43mmask\u001b[49m\u001b[38;5;241;43m=\u001b[39;49m\u001b[43mmask\u001b[49m\n\u001b[0;32m    645\u001b[0m \u001b[43m    \u001b[49m\u001b[43m)\u001b[49m\n\u001b[0;32m    646\u001b[0m     dtype_sum \u001b[38;5;241m=\u001b[39m dtype_max\n\u001b[0;32m    647\u001b[0m     \u001b[38;5;28;01mif\u001b[39;00m is_float_dtype(dtype):\n",
      "File \u001b[1;32mc:\\Users\\Admin\\AppData\\Local\\Programs\\Python\\Python311\\Lib\\site-packages\\pandas\\core\\nanops.py:335\u001b[0m, in \u001b[0;36m_get_values\u001b[1;34m(values, skipna, fill_value, fill_value_typ, mask)\u001b[0m\n\u001b[0;32m    330\u001b[0m fill_value \u001b[38;5;241m=\u001b[39m _get_fill_value(\n\u001b[0;32m    331\u001b[0m     dtype, fill_value\u001b[38;5;241m=\u001b[39mfill_value, fill_value_typ\u001b[38;5;241m=\u001b[39mfill_value_typ\n\u001b[0;32m    332\u001b[0m )\n\u001b[0;32m    334\u001b[0m \u001b[38;5;28;01mif\u001b[39;00m skipna \u001b[38;5;129;01mand\u001b[39;00m (mask \u001b[38;5;129;01mis\u001b[39;00m \u001b[38;5;129;01mnot\u001b[39;00m \u001b[38;5;28;01mNone\u001b[39;00m) \u001b[38;5;129;01mand\u001b[39;00m (fill_value \u001b[38;5;129;01mis\u001b[39;00m \u001b[38;5;129;01mnot\u001b[39;00m \u001b[38;5;28;01mNone\u001b[39;00m):\n\u001b[1;32m--> 335\u001b[0m     \u001b[38;5;28;01mif\u001b[39;00m \u001b[43mmask\u001b[49m\u001b[38;5;241;43m.\u001b[39;49m\u001b[43many\u001b[49m\u001b[43m(\u001b[49m\u001b[43m)\u001b[49m:\n\u001b[0;32m    336\u001b[0m         \u001b[38;5;28;01mif\u001b[39;00m dtype_ok \u001b[38;5;129;01mor\u001b[39;00m datetimelike:\n\u001b[0;32m    337\u001b[0m             values \u001b[38;5;241m=\u001b[39m values\u001b[38;5;241m.\u001b[39mcopy()\n",
      "File \u001b[1;32mc:\\Users\\Admin\\AppData\\Local\\Programs\\Python\\Python311\\Lib\\site-packages\\numpy\\core\\_methods.py:58\u001b[0m, in \u001b[0;36m_any\u001b[1;34m(a, axis, dtype, out, keepdims, where)\u001b[0m\n\u001b[0;32m     55\u001b[0m \u001b[38;5;28;01mdef\u001b[39;00m \u001b[38;5;21m_any\u001b[39m(a, axis\u001b[38;5;241m=\u001b[39m\u001b[38;5;28;01mNone\u001b[39;00m, dtype\u001b[38;5;241m=\u001b[39m\u001b[38;5;28;01mNone\u001b[39;00m, out\u001b[38;5;241m=\u001b[39m\u001b[38;5;28;01mNone\u001b[39;00m, keepdims\u001b[38;5;241m=\u001b[39m\u001b[38;5;28;01mFalse\u001b[39;00m, \u001b[38;5;241m*\u001b[39m, where\u001b[38;5;241m=\u001b[39m\u001b[38;5;28;01mTrue\u001b[39;00m):\n\u001b[0;32m     56\u001b[0m     \u001b[38;5;66;03m# Parsing keyword arguments is currently fairly slow, so avoid it for now\u001b[39;00m\n\u001b[0;32m     57\u001b[0m     \u001b[38;5;28;01mif\u001b[39;00m where \u001b[38;5;129;01mis\u001b[39;00m \u001b[38;5;28;01mTrue\u001b[39;00m:\n\u001b[1;32m---> 58\u001b[0m         \u001b[38;5;28;01mreturn\u001b[39;00m umr_any(a, axis, dtype, out, keepdims)\n\u001b[0;32m     59\u001b[0m     \u001b[38;5;28;01mreturn\u001b[39;00m umr_any(a, axis, dtype, out, keepdims, where\u001b[38;5;241m=\u001b[39mwhere)\n",
      "\u001b[1;31mKeyboardInterrupt\u001b[0m: "
     ]
    }
   ],
   "source": [
    "beta_0_vals = np.linspace(-200,200,1000)\n",
    "beta_1_vals = np.linspace(-200,200,1000)\n",
    "grid = np.array([(beta_0, beta_1) for beta_0 in beta_0_vals for beta_1 in beta_1_vals])\n",
    "grid = pd.DataFrame(grid)\n",
    "grid = grid.rename(columns={0: \"beta_0\", 1: \"beta_1\"})\n",
    "sse = []\n",
    "for i in range(grid.shape[0]):\n",
    "    pars = [grid['beta_0'][i],grid['beta_1'][i]]\n",
    "    sse.append(lg_sse(pars))\n",
    "grid['sse'] = sse\n",
    "grid.sort_values('sse', ascending=True, inplace=True)\n",
    "grid.head()"
   ]
  },
  {
   "cell_type": "markdown",
   "id": "248ba7de",
   "metadata": {},
   "source": [
    "Check with `statsmodels`:"
   ]
  },
  {
   "cell_type": "code",
   "execution_count": null,
   "id": "190415d6",
   "metadata": {},
   "outputs": [
    {
     "data": {
      "text/plain": [
       "Intercept   -144.385971\n",
       "Height        60.496351\n",
       "dtype: float64"
      ]
     },
     "execution_count": 22,
     "metadata": {},
     "output_type": "execute_result"
    }
   ],
   "source": [
    "linear_model.params"
   ]
  },
  {
   "cell_type": "markdown",
   "id": "39126c9b",
   "metadata": {},
   "source": [
    "Method C. Optimization (the real thing)\n",
    "\n",
    "The Method of Least Squares"
   ]
  },
  {
   "attachments": {},
   "cell_type": "markdown",
   "id": "62147dce",
   "metadata": {},
   "source": [
    "Here is the real thing. \n",
    "\n",
    "- **Question.** What do we really need to do to find the optimal $\\beta_0$, $\\beta_1$ parameters of the Simple Linear Regression Model?\n",
    "- **Answer.** Of course, we need to find $\\beta_0$, $\\beta_1$ **at the minimum of the $SSE$ - the error - function.**\n",
    "\n",
    "And how do we do that?\n",
    "\n",
    "Well, in a particular case of a (Simple or Multiple) Linear Regression Model, it turns out that is possible to provide an analytical solution for all model parameteres that minimize the model $SSE$ (error) function. It takes some time work through the partial derivates of $SSE$ in respect to each model parameter, but it works in the end.\n",
    "\n",
    "*But finding analytical solutuion will not work for just any statistical model.*\n",
    "\n",
    "Now, imagine that we have an algorithm - call it an **optimization algorithm ** - that can find the parameters that minimize a respective function. Indeed we have such an algorithm. Indeed we have many different such algorithms, developed by experts in the very, very alive and complicated branch of mathematics called Optimization Theory. We will put one such algorithm - the famed Nelder-Mead Simplex Method - to work in order to minimize $SSE$ in respect to $\\beta_0$, $\\beta_1$."
   ]
  },
  {
   "cell_type": "code",
   "execution_count": null,
   "id": "c8f74e07",
   "metadata": {},
   "outputs": [
    {
     "ename": "NameError",
     "evalue": "name 'fish_data' is not defined",
     "output_type": "error",
     "traceback": [
      "\u001b[1;31m---------------------------------------------------------------------------\u001b[0m",
      "\u001b[1;31mNameError\u001b[0m                                 Traceback (most recent call last)",
      "Cell \u001b[1;32mIn[4], line 28\u001b[0m\n\u001b[0;32m     22\u001b[0m init_pars \u001b[38;5;241m=\u001b[39m [init_beta_0, init_beta_1]\n\u001b[0;32m     24\u001b[0m \u001b[38;5;66;03m# - optimize w. Nelder-Mead\u001b[39;00m\n\u001b[0;32m     25\u001b[0m optimal_model \u001b[38;5;241m=\u001b[39m sp\u001b[38;5;241m.\u001b[39moptimize\u001b[38;5;241m.\u001b[39mminimize(\n\u001b[0;32m     26\u001b[0m     \u001b[38;5;66;03m# - fun(parameters, args)\u001b[39;00m\n\u001b[0;32m     27\u001b[0m     fun\u001b[38;5;241m=\u001b[39mlg_sse,\n\u001b[1;32m---> 28\u001b[0m     args \u001b[38;5;241m=\u001b[39m (\u001b[43mfish_data\u001b[49m), \n\u001b[0;32m     29\u001b[0m     x0 \u001b[38;5;241m=\u001b[39m init_pars, \n\u001b[0;32m     30\u001b[0m     method\u001b[38;5;241m=\u001b[39m\u001b[38;5;124m'\u001b[39m\u001b[38;5;124mNelder-Mead\u001b[39m\u001b[38;5;124m'\u001b[39m)\n\u001b[0;32m     32\u001b[0m \u001b[38;5;66;03m# - optimal parameters\u001b[39;00m\n\u001b[0;32m     33\u001b[0m optimal_model\u001b[38;5;241m.\u001b[39mx\n",
      "\u001b[1;31mNameError\u001b[0m: name 'fish_data' is not defined"
     ]
    }
   ],
   "source": [
    "import scipy as sp\n",
    "\n",
    "# - sse function\n",
    "def lg_sse(pars, data):\n",
    "    # - pick up the parameters\n",
    "    beta_0 = pars[0]\n",
    "    beta_1 = pars[1]\n",
    "    # - predict from parameters\n",
    "    preds = beta_0+beta_1*fish_data['Height']\n",
    "    # - compute residuals\n",
    "    residuals = fish_data['Weight']-preds\n",
    "    # - square the residuals\n",
    "    residuals = residuals**2\n",
    "    # - sum of squares\n",
    "    residuals = residuals.sum()\n",
    "    # - out:\n",
    "    return residuals\n",
    "\n",
    "# - initial (random) parameter values\n",
    "init_beta_0 = np.random.uniform(low=-15, high=15, size=1)\n",
    "init_beta_1 = np.random.uniform(low=-15, high=15, size=1)\n",
    "init_pars = [init_beta_0, init_beta_1]\n",
    "\n",
    "# - optimize w. Nelder-Mead\n",
    "optimal_model = sp.optimize.minimize(\n",
    "    # - fun(parameters, args)\n",
    "    fun=lg_sse,\n",
    "    args = (fish_data), \n",
    "    x0 = init_pars, \n",
    "    method='Nelder-Mead')\n",
    "\n",
    "# - optimal parameters\n",
    "optimal_model.x"
   ]
  },
  {
   "cell_type": "markdown",
   "id": "d3558c70",
   "metadata": {},
   "source": [
    "Check against `statsmodels`"
   ]
  },
  {
   "cell_type": "code",
   "execution_count": null,
   "id": "8ef0e14a",
   "metadata": {},
   "outputs": [
    {
     "ename": "NameError",
     "evalue": "name 'linear_model' is not defined",
     "output_type": "error",
     "traceback": [
      "\u001b[1;31m---------------------------------------------------------------------------\u001b[0m",
      "\u001b[1;31mNameError\u001b[0m                                 Traceback (most recent call last)",
      "Cell \u001b[1;32mIn[5], line 1\u001b[0m\n\u001b[1;32m----> 1\u001b[0m \u001b[43mlinear_model\u001b[49m\u001b[38;5;241m.\u001b[39mparams\n",
      "\u001b[1;31mNameError\u001b[0m: name 'linear_model' is not defined"
     ]
    }
   ],
   "source": [
    "linear_model.params"
   ]
  },
  {
   "cell_type": "markdown",
   "id": "0151f5e7",
   "metadata": {},
   "source": [
    "Final value of the objective function (the model SSE, indeed):"
   ]
  },
  {
   "cell_type": "code",
   "execution_count": null,
   "id": "d951f5ee",
   "metadata": {},
   "outputs": [
    {
     "data": {
      "text/plain": [
       "9624100.07729553"
      ]
     },
     "execution_count": 28,
     "metadata": {},
     "output_type": "execute_result"
    }
   ],
   "source": [
    "lg_sse(pars=optimal_model.x, data=fish_data)"
   ]
  },
  {
   "cell_type": "markdown",
   "id": "4c301f84",
   "metadata": {},
   "source": [
    "Check against `statsmodels`"
   ]
  },
  {
   "cell_type": "code",
   "execution_count": null,
   "id": "68a500dc",
   "metadata": {},
   "outputs": [
    {
     "data": {
      "text/plain": [
       "9624100.07729549"
      ]
     },
     "execution_count": 29,
     "metadata": {},
     "output_type": "execute_result"
    }
   ],
   "source": [
    "linear_model.ssr"
   ]
  },
  {
   "attachments": {},
   "cell_type": "markdown",
   "id": "0c8f9cfd",
   "metadata": {},
   "source": [
    "Error Surface Plot: The Objective Function"
   ]
  },
  {
   "cell_type": "code",
   "execution_count": null,
   "id": "e12a0baa",
   "metadata": {},
   "outputs": [
    {
     "data": {
      "text/html": [
       "<div>\n",
       "<style scoped>\n",
       "    .dataframe tbody tr th:only-of-type {\n",
       "        vertical-align: middle;\n",
       "    }\n",
       "\n",
       "    .dataframe tbody tr th {\n",
       "        vertical-align: top;\n",
       "    }\n",
       "\n",
       "    .dataframe thead th {\n",
       "        text-align: right;\n",
       "    }\n",
       "</style>\n",
       "<table border=\"1\" class=\"dataframe\">\n",
       "  <thead>\n",
       "    <tr style=\"text-align: right;\">\n",
       "      <th></th>\n",
       "      <th>beta_0</th>\n",
       "      <th>beta_1</th>\n",
       "      <th>sse</th>\n",
       "    </tr>\n",
       "  </thead>\n",
       "  <tbody>\n",
       "    <tr>\n",
       "      <th>15502</th>\n",
       "      <td>-144.522613</td>\n",
       "      <td>60.502513</td>\n",
       "      <td>9.624101e+06</td>\n",
       "    </tr>\n",
       "    <tr>\n",
       "      <th>15702</th>\n",
       "      <td>-144.321608</td>\n",
       "      <td>60.502513</td>\n",
       "      <td>9.624102e+06</td>\n",
       "    </tr>\n",
       "    <tr>\n",
       "      <th>15302</th>\n",
       "      <td>-144.723618</td>\n",
       "      <td>60.502513</td>\n",
       "      <td>9.624113e+06</td>\n",
       "    </tr>\n",
       "    <tr>\n",
       "      <th>15902</th>\n",
       "      <td>-144.120603</td>\n",
       "      <td>60.502513</td>\n",
       "      <td>9.624117e+06</td>\n",
       "    </tr>\n",
       "    <tr>\n",
       "      <th>15102</th>\n",
       "      <td>-144.924623</td>\n",
       "      <td>60.502513</td>\n",
       "      <td>9.624137e+06</td>\n",
       "    </tr>\n",
       "  </tbody>\n",
       "</table>\n",
       "</div>"
      ],
      "text/plain": [
       "           beta_0     beta_1           sse\n",
       "15502 -144.522613  60.502513  9.624101e+06\n",
       "15702 -144.321608  60.502513  9.624102e+06\n",
       "15302 -144.723618  60.502513  9.624113e+06\n",
       "15902 -144.120603  60.502513  9.624117e+06\n",
       "15102 -144.924623  60.502513  9.624137e+06"
      ]
     },
     "execution_count": 30,
     "metadata": {},
     "output_type": "execute_result"
    }
   ],
   "source": [
    "beta_0_vals = np.linspace(-160,-120,200)\n",
    "beta_1_vals = np.linspace(40,80,200)\n",
    "grid = np.array([(beta_0, beta_1) for beta_0 in beta_0_vals for beta_1 in beta_1_vals])\n",
    "grid = pd.DataFrame(grid)\n",
    "grid = grid.rename(columns={0: \"beta_0\", 1: \"beta_1\"})\n",
    "sse = []\n",
    "for i in range(grid.shape[0]):\n",
    "    pars = [grid['beta_0'][i],grid['beta_1'][i]]\n",
    "    sse.append(lg_sse(pars, fish_data))\n",
    "grid['sse'] = sse\n",
    "grid.sort_values('sse', ascending=True, inplace=True)\n",
    "grid.head()"
   ]
  },
  {
   "attachments": {},
   "cell_type": "markdown",
   "id": "5576e2bf",
   "metadata": {},
   "source": [
    "This the function that we have minimized:"
   ]
  },
  {
   "cell_type": "code",
   "execution_count": null,
   "id": "7c7d0dbc",
   "metadata": {},
   "outputs": [
    {
     "ename": "NameError",
     "evalue": "name 'grid' is not defined",
     "output_type": "error",
     "traceback": [
      "\u001b[1;31m---------------------------------------------------------------------------\u001b[0m",
      "\u001b[1;31mNameError\u001b[0m                                 Traceback (most recent call last)",
      "Cell \u001b[1;32mIn[1], line 8\u001b[0m\n\u001b[0;32m      4\u001b[0m pio\u001b[38;5;241m.\u001b[39mrenderers\u001b[38;5;241m.\u001b[39mdefault \u001b[38;5;241m=\u001b[39m \u001b[38;5;124m\"\u001b[39m\u001b[38;5;124mplotly_mimetype+notebook\u001b[39m\u001b[38;5;124m\"\u001b[39m\n\u001b[0;32m      6\u001b[0m \u001b[38;5;66;03m# - Mesh3d: Objective Function\u001b[39;00m\n\u001b[0;32m      7\u001b[0m fig \u001b[38;5;241m=\u001b[39m go\u001b[38;5;241m.\u001b[39mFigure(data\u001b[38;5;241m=\u001b[39m[go\u001b[38;5;241m.\u001b[39mMesh3d(\n\u001b[1;32m----> 8\u001b[0m     x\u001b[38;5;241m=\u001b[39m\u001b[43mgrid\u001b[49m[\u001b[38;5;124m'\u001b[39m\u001b[38;5;124mbeta_0\u001b[39m\u001b[38;5;124m'\u001b[39m], \n\u001b[0;32m      9\u001b[0m     y\u001b[38;5;241m=\u001b[39mgrid[\u001b[38;5;124m'\u001b[39m\u001b[38;5;124mbeta_1\u001b[39m\u001b[38;5;124m'\u001b[39m], \n\u001b[0;32m     10\u001b[0m     z\u001b[38;5;241m=\u001b[39mgrid[\u001b[38;5;124m'\u001b[39m\u001b[38;5;124msse\u001b[39m\u001b[38;5;124m'\u001b[39m], \n\u001b[0;32m     11\u001b[0m     color\u001b[38;5;241m=\u001b[39m\u001b[38;5;124m'\u001b[39m\u001b[38;5;124mlightblue\u001b[39m\u001b[38;5;124m'\u001b[39m, \n\u001b[0;32m     12\u001b[0m     opacity\u001b[38;5;241m=\u001b[39m\u001b[38;5;241m0.50\u001b[39m)])\n\u001b[0;32m     13\u001b[0m fig\u001b[38;5;241m.\u001b[39mupdate_layout(scene \u001b[38;5;241m=\u001b[39m \u001b[38;5;28mdict\u001b[39m(\n\u001b[0;32m     14\u001b[0m                     xaxis_title\u001b[38;5;241m=\u001b[39m\u001b[38;5;124m'\u001b[39m\u001b[38;5;124mBeta_0\u001b[39m\u001b[38;5;124m'\u001b[39m,\n\u001b[0;32m     15\u001b[0m                     yaxis_title\u001b[38;5;241m=\u001b[39m\u001b[38;5;124m'\u001b[39m\u001b[38;5;124mBeta_1\u001b[39m\u001b[38;5;124m'\u001b[39m,\n\u001b[0;32m     16\u001b[0m                     zaxis_title\u001b[38;5;241m=\u001b[39m\u001b[38;5;124m'\u001b[39m\u001b[38;5;124mSSE\u001b[39m\u001b[38;5;124m'\u001b[39m),\n\u001b[0;32m     17\u001b[0m                     width\u001b[38;5;241m=\u001b[39m\u001b[38;5;241m700\u001b[39m,\n\u001b[0;32m     18\u001b[0m                     margin\u001b[38;5;241m=\u001b[39m\u001b[38;5;28mdict\u001b[39m(r\u001b[38;5;241m=\u001b[39m\u001b[38;5;241m20\u001b[39m, b\u001b[38;5;241m=\u001b[39m\u001b[38;5;241m10\u001b[39m, l\u001b[38;5;241m=\u001b[39m\u001b[38;5;241m10\u001b[39m, t\u001b[38;5;241m=\u001b[39m\u001b[38;5;241m10\u001b[39m))\n\u001b[0;32m     19\u001b[0m fig\u001b[38;5;241m.\u001b[39mshow()\n",
      "\u001b[1;31mNameError\u001b[0m: name 'grid' is not defined"
     ]
    }
   ],
   "source": [
    "# - import plotly\n",
    "import plotly.graph_objects as go\n",
    "import plotly.io as pio\n",
    "pio.renderers.default = \"plotly_mimetype+notebook\"\n",
    "\n",
    "# - Mesh3d: Objective Function\n",
    "fig = go.Figure(data=[go.Mesh3d(\n",
    "    x=grid['beta_0'], \n",
    "    y=grid['beta_1'], \n",
    "    z=grid['sse'], \n",
    "    color='lightblue', \n",
    "    opacity=0.50)])\n",
    "fig.update_layout(scene = dict(\n",
    "                    xaxis_title='Beta_0',\n",
    "                    yaxis_title='Beta_1',\n",
    "                    zaxis_title='SSE'),\n",
    "                    width=700,\n",
    "                    margin=dict(r=20, b=10, l=10, t=10))\n",
    "fig.show()"
   ]
  },
  {
   "attachments": {},
   "cell_type": "markdown",
   "id": "501983d0",
   "metadata": {},
   "source": [
    "Back to statsmodels"
   ]
  },
  {
   "cell_type": "code",
   "execution_count": null,
   "id": "fd46227c",
   "metadata": {},
   "outputs": [
    {
     "name": "stdout",
     "output_type": "stream",
     "text": [
      "Pearson's correlation (R-value): 0.7243\n",
      "Coefficient of determination (R^2): 0.5247\n"
     ]
    }
   ],
   "source": [
    "# - Pearson's correlation (R-value) coefficient and R^2\n",
    "print(f\"Pearson's correlation (R-value): {round(np.sqrt(linear_model.rsquared), 4)}\")\n",
    "print(f\"Coefficient of determination (R^2): {round(linear_model.rsquared, 4)}\")"
   ]
  },
  {
   "cell_type": "code",
   "execution_count": null,
   "id": "9f1fd40e",
   "metadata": {},
   "outputs": [
    {
     "name": "stdout",
     "output_type": "stream",
     "text": [
      "p-values: \n",
      "Intercept    1.881076e-03\n",
      "Height       3.842342e-27\n",
      "dtype: float64\n"
     ]
    }
   ],
   "source": [
    "# - p-values of the model's parameters\n",
    "print(f\"p-values: \\n{linear_model.pvalues}\")"
   ]
  },
  {
   "cell_type": "code",
   "execution_count": null,
   "id": "f854fc77",
   "metadata": {},
   "outputs": [
    {
     "name": "stdout",
     "output_type": "stream",
     "text": [
      "       Height      Weight\n",
      "0    8.484527  368.896952\n",
      "1    8.725205  383.457092\n",
      "2   13.546180  675.108481\n",
      "3   13.488963  671.647064\n",
      "4    7.094777  284.822166\n",
      "..        ...         ...\n",
      "95   1.687698  -42.286421\n",
      "96   6.775176  265.487455\n",
      "97  12.524558  613.304086\n",
      "98  17.830019  934.265111\n",
      "99   5.936481  214.749475\n",
      "\n",
      "[100 rows x 2 columns]\n"
     ]
    }
   ],
   "source": [
    "# --- Predicting new data\n",
    "\n",
    "predictions = pd.DataFrame(columns=['Height', 'Weight'])\n",
    "\n",
    "# - sampling the new data from the normal distribution with the mean and std parameters taken from the original data\n",
    "new_fish_height = rng.normal(loc=model_frame['Height'].mean(), scale=model_frame['Height'].std(), size=100)\n",
    "# - clipping the negative values \n",
    "new_fish_height = np.clip(new_fish_height, a_min=0, a_max=np.infty)\n",
    "predictions['Height'] = new_fish_height\n",
    "\n",
    "# - predicting the heights on the new data using the linear model\n",
    "new_fish_weight = linear_model.predict(predictions['Height'])\n",
    "\n",
    "# - displaying the new data and the corresponding predictions\n",
    "predictions['Weight'] = new_fish_weight\n",
    "print(predictions)"
   ]
  },
  {
   "cell_type": "code",
   "execution_count": null,
   "id": "215f41b5",
   "metadata": {},
   "outputs": [
    {
     "data": {
      "image/png": "[encoded data removed]",
      "text/plain": [
       "<Figure size 800x600 with 1 Axes>"
      ]
     },
     "metadata": {},
     "output_type": "display_data"
    }
   ],
   "source": [
    "# - plotting the predictions\n",
    "sns.lineplot(data=predictions, x='Height', y='Weight', color='red')\n",
    "sns.scatterplot(data=predictions, x='Height', y='Weight', color='red', s=50)\n",
    "sns.despine(offset=10, trim=True)\n",
    "plt.title('Predictions', fontsize=14);"
   ]
  },
  {
   "cell_type": "code",
   "execution_count": null,
   "id": "e4bbceab",
   "metadata": {},
   "outputs": [
    {
     "name": "stdout",
     "output_type": "stream",
     "text": [
      "True\n"
     ]
    }
   ],
   "source": [
    "# R^2 upacked - calculating R^2 using the corresponding formulas\n",
    "total_sse = np.sum((model_frame['Weight'] - model_frame['Weight'].mean())**2)\n",
    "model_sse = np.sum((model_frame['Predicted Values'] - model_frame['Weight'].mean())**2)\n",
    "residual_sse = np.sum(model_frame['Residuals']**2)\n",
    "\n",
    "print(np.isclose(total_sse, model_sse + residual_sse))"
   ]
  },
  {
   "cell_type": "code",
   "execution_count": null,
   "id": "0b64a716",
   "metadata": {},
   "outputs": [
    {
     "name": "stdout",
     "output_type": "stream",
     "text": [
      "r2 = 0.5246761559328881\n",
      "\n",
      "[[1.         0.52467616]\n",
      " [0.52467616 1.        ]] \n",
      "\n",
      "r2 = 0.5246761559328881\n"
     ]
    }
   ],
   "source": [
    "# - calculating R^2 from the correlation \n",
    "r2 = model_frame['Height'].corr(model_frame['Weight'])**2\n",
    "print(f\"r2 = {r2}\\n\")\n",
    "\n",
    "# - or \n",
    "corr_matrix = np.corrcoef(model_frame['Height'], model_frame['Weight'])**2\n",
    "print(corr_matrix, '\\n')\n",
    "r2 = corr_matrix[0, 1]\n",
    "print(f\"r2 = {r2}\")"
   ]
  },
  {
   "cell_type": "code",
   "execution_count": null,
   "id": "ace61e77",
   "metadata": {},
   "outputs": [
    {
     "data": {
      "text/plain": [
       "0.5246761559328881"
      ]
     },
     "execution_count": 38,
     "metadata": {},
     "output_type": "execute_result"
    }
   ],
   "source": [
    "# - yet another way to calculate R^2\n",
    "model_sse/total_sse"
   ]
  },
  {
   "cell_type": "code",
   "execution_count": null,
   "id": "09fd4268",
   "metadata": {},
   "outputs": [
    {
     "name": "stdout",
     "output_type": "stream",
     "text": [
      "cov.:  0.7243453291993318\n",
      "R^2 = cov.^2:  0.5246761559328884\n"
     ]
    }
   ],
   "source": [
    "# - correlation is the covariance of the scaled variables!\n",
    "\n",
    "# - scaling the variables\n",
    "x = (model_frame['Height'] - model_frame['Height'].mean())/model_frame['Height'].std()\n",
    "y = (model_frame['Weight'] - model_frame['Weight'].mean())/model_frame['Weight'].std()\n",
    "\n",
    "# - calculating the covariance\n",
    "cov_matrix = np.cov(x, y)\n",
    "cov = cov_matrix[0, 1]\n",
    "print('cov.: ', cov)\n",
    "print('R^2 = cov.^2: ', cov**2)"
   ]
  },
  {
   "cell_type": "code",
   "execution_count": null,
   "id": "d0ca1be1",
   "metadata": {},
   "outputs": [
    {
     "data": {
      "image/png": "[encoded data removed]",
      "text/plain": [
       "<Figure size 800x600 with 1 Axes>"
      ]
     },
     "metadata": {},
     "output_type": "display_data"
    }
   ],
   "source": [
    "# - plotting the distribution of the residuals\n",
    "plt.figure(figsize=(8, 6))\n",
    "sns.histplot(data=model_frame, x='Residuals', binwidth=10, color='tab:orange')\n",
    "sns.despine(offset=10, trim=True)\n",
    "plt.title('Model Residuals', fontsize=14);"
   ]
  },
  {
   "cell_type": "code",
   "execution_count": null,
   "id": "945aa0a1",
   "metadata": {},
   "outputs": [
    {
     "data": {
      "image/png": "[encoded data removed]",
      "text/plain": [
       "<Figure size 800x600 with 1 Axes>"
      ]
     },
     "metadata": {},
     "output_type": "display_data"
    }
   ],
   "source": [
    "# - plotting the qqplot\n",
    "sm.qqplot(model_frame['Residuals'].values, line='q')\n",
    "sns.despine(offset=10, trim=True)\n",
    "plt.title('Q-Q Plot of Model Results', fontsize=14);"
   ]
  },
  {
   "cell_type": "code",
   "execution_count": null,
   "id": "51a7ce57",
   "metadata": {},
   "outputs": [
    {
     "data": {
      "image/png": "[encoded data removed]",
      "text/plain": [
       "<Figure size 800x600 with 1 Axes>"
      ]
     },
     "metadata": {},
     "output_type": "display_data"
    }
   ],
   "source": [
    "### --- Heteroskedacity\n",
    "\n",
    "# - plotting the predicted values vs the residuals\n",
    "plt.figure(figsize=(8, 6))\n",
    "sns.scatterplot(data=model_frame, x='Predicted Values', y='Residuals')\n",
    "sns.despine(offset=10, trim=True)\n",
    "plt.axhline(y=0, color='red')\n",
    "plt.title('Predicted vs Residual', fontsize=14);"
   ]
  },
  {
   "cell_type": "code",
   "execution_count": null,
   "id": "7cc43cd6",
   "metadata": {},
   "outputs": [
    {
     "data": {
      "text/html": [
       "<div>\n",
       "<style scoped>\n",
       "    .dataframe tbody tr th:only-of-type {\n",
       "        vertical-align: middle;\n",
       "    }\n",
       "\n",
       "    .dataframe tbody tr th {\n",
       "        vertical-align: top;\n",
       "    }\n",
       "\n",
       "    .dataframe thead th {\n",
       "        text-align: right;\n",
       "    }\n",
       "</style>\n",
       "<table border=\"1\" class=\"dataframe\">\n",
       "  <thead>\n",
       "    <tr style=\"text-align: right;\">\n",
       "      <th></th>\n",
       "      <th>dfb_Intercept</th>\n",
       "      <th>dfb_Height</th>\n",
       "      <th>cooks_d</th>\n",
       "      <th>standard_resid</th>\n",
       "      <th>hat_diag</th>\n",
       "      <th>dffits_internal</th>\n",
       "      <th>student_resid</th>\n",
       "      <th>dffits</th>\n",
       "    </tr>\n",
       "  </thead>\n",
       "  <tbody>\n",
       "    <tr>\n",
       "      <th>0</th>\n",
       "      <td>0.010916</td>\n",
       "      <td>-0.059963</td>\n",
       "      <td>0.006823</td>\n",
       "      <td>-1.259609</td>\n",
       "      <td>0.008528</td>\n",
       "      <td>-0.116819</td>\n",
       "      <td>-1.261984</td>\n",
       "      <td>-0.117039</td>\n",
       "    </tr>\n",
       "    <tr>\n",
       "      <th>1</th>\n",
       "      <td>0.032398</td>\n",
       "      <td>-0.085427</td>\n",
       "      <td>0.009019</td>\n",
       "      <td>-1.301798</td>\n",
       "      <td>0.010531</td>\n",
       "      <td>-0.134302</td>\n",
       "      <td>-1.304707</td>\n",
       "      <td>-0.134602</td>\n",
       "    </tr>\n",
       "    <tr>\n",
       "      <th>2</th>\n",
       "      <td>0.024818</td>\n",
       "      <td>-0.068269</td>\n",
       "      <td>0.005990</td>\n",
       "      <td>-1.073542</td>\n",
       "      <td>0.010288</td>\n",
       "      <td>-0.109452</td>\n",
       "      <td>-1.074067</td>\n",
       "      <td>-0.109506</td>\n",
       "    </tr>\n",
       "    <tr>\n",
       "      <th>3</th>\n",
       "      <td>0.031016</td>\n",
       "      <td>-0.074907</td>\n",
       "      <td>0.006424</td>\n",
       "      <td>-1.067137</td>\n",
       "      <td>0.011157</td>\n",
       "      <td>-0.113353</td>\n",
       "      <td>-1.067612</td>\n",
       "      <td>-0.113404</td>\n",
       "    </tr>\n",
       "    <tr>\n",
       "      <th>4</th>\n",
       "      <td>0.017523</td>\n",
       "      <td>-0.046875</td>\n",
       "      <td>0.002770</td>\n",
       "      <td>-0.724468</td>\n",
       "      <td>0.010445</td>\n",
       "      <td>-0.074430</td>\n",
       "      <td>-0.723367</td>\n",
       "      <td>-0.074317</td>\n",
       "    </tr>\n",
       "    <tr>\n",
       "      <th>...</th>\n",
       "      <td>...</td>\n",
       "      <td>...</td>\n",
       "      <td>...</td>\n",
       "      <td>...</td>\n",
       "      <td>...</td>\n",
       "      <td>...</td>\n",
       "      <td>...</td>\n",
       "      <td>...</td>\n",
       "    </tr>\n",
       "    <tr>\n",
       "      <th>154</th>\n",
       "      <td>0.018540</td>\n",
       "      <td>-0.015848</td>\n",
       "      <td>0.000175</td>\n",
       "      <td>0.123070</td>\n",
       "      <td>0.022599</td>\n",
       "      <td>0.018714</td>\n",
       "      <td>0.122683</td>\n",
       "      <td>0.018655</td>\n",
       "    </tr>\n",
       "    <tr>\n",
       "      <th>155</th>\n",
       "      <td>0.006371</td>\n",
       "      <td>-0.005382</td>\n",
       "      <td>0.000021</td>\n",
       "      <td>0.044004</td>\n",
       "      <td>0.021029</td>\n",
       "      <td>0.006449</td>\n",
       "      <td>0.043864</td>\n",
       "      <td>0.006429</td>\n",
       "    </tr>\n",
       "    <tr>\n",
       "      <th>156</th>\n",
       "      <td>0.011339</td>\n",
       "      <td>-0.009632</td>\n",
       "      <td>0.000066</td>\n",
       "      <td>0.076917</td>\n",
       "      <td>0.021726</td>\n",
       "      <td>0.011463</td>\n",
       "      <td>0.076673</td>\n",
       "      <td>0.011426</td>\n",
       "    </tr>\n",
       "    <tr>\n",
       "      <th>157</th>\n",
       "      <td>-0.005431</td>\n",
       "      <td>0.004510</td>\n",
       "      <td>0.000015</td>\n",
       "      <td>-0.039590</td>\n",
       "      <td>0.019101</td>\n",
       "      <td>-0.005525</td>\n",
       "      <td>-0.039464</td>\n",
       "      <td>-0.005507</td>\n",
       "    </tr>\n",
       "    <tr>\n",
       "      <th>158</th>\n",
       "      <td>-0.007274</td>\n",
       "      <td>0.006026</td>\n",
       "      <td>0.000027</td>\n",
       "      <td>-0.053422</td>\n",
       "      <td>0.018852</td>\n",
       "      <td>-0.007405</td>\n",
       "      <td>-0.053252</td>\n",
       "      <td>-0.007382</td>\n",
       "    </tr>\n",
       "  </tbody>\n",
       "</table>\n",
       "<p>159 rows × 8 columns</p>\n",
       "</div>"
      ],
      "text/plain": [
       "     dfb_Intercept  dfb_Height   cooks_d  standard_resid  hat_diag  \\\n",
       "0         0.010916   -0.059963  0.006823       -1.259609  0.008528   \n",
       "1         0.032398   -0.085427  0.009019       -1.301798  0.010531   \n",
       "2         0.024818   -0.068269  0.005990       -1.073542  0.010288   \n",
       "3         0.031016   -0.074907  0.006424       -1.067137  0.011157   \n",
       "4         0.017523   -0.046875  0.002770       -0.724468  0.010445   \n",
       "..             ...         ...       ...             ...       ...   \n",
       "154       0.018540   -0.015848  0.000175        0.123070  0.022599   \n",
       "155       0.006371   -0.005382  0.000021        0.044004  0.021029   \n",
       "156       0.011339   -0.009632  0.000066        0.076917  0.021726   \n",
       "157      -0.005431    0.004510  0.000015       -0.039590  0.019101   \n",
       "158      -0.007274    0.006026  0.000027       -0.053422  0.018852   \n",
       "\n",
       "     dffits_internal  student_resid    dffits  \n",
       "0          -0.116819      -1.261984 -0.117039  \n",
       "1          -0.134302      -1.304707 -0.134602  \n",
       "2          -0.109452      -1.074067 -0.109506  \n",
       "3          -0.113353      -1.067612 -0.113404  \n",
       "4          -0.074430      -0.723367 -0.074317  \n",
       "..               ...            ...       ...  \n",
       "154         0.018714       0.122683  0.018655  \n",
       "155         0.006449       0.043864  0.006429  \n",
       "156         0.011463       0.076673  0.011426  \n",
       "157        -0.005525      -0.039464 -0.005507  \n",
       "158        -0.007405      -0.053252 -0.007382  \n",
       "\n",
       "[159 rows x 8 columns]"
      ]
     },
     "execution_count": 43,
     "metadata": {},
     "output_type": "execute_result"
    }
   ],
   "source": [
    "# - identifying the influental cases\n",
    "model_inf = linear_model.get_influence()\n",
    "inf_frame = model_inf.summary_frame()\n",
    "inf_frame"
   ]
  },
  {
   "cell_type": "code",
   "execution_count": null,
   "id": "64c15a72",
   "metadata": {},
   "outputs": [
    {
     "data": {
      "text/plain": [
       "array([], shape=(0, 1), dtype=int64)"
      ]
     },
     "execution_count": 44,
     "metadata": {},
     "output_type": "execute_result"
    }
   ],
   "source": [
    "### --- Influence Measures\n",
    "\n",
    "# - calculating the Cook's distance /Cook and Weisberg (1982)/\n",
    "# - consider values with Cook's distance greater than 1 to be problematic\n",
    "\n",
    "w_cookD = np.argwhere(model_inf.cooks_distance[0] > 1)\n",
    "w_cookD"
   ]
  },
  {
   "cell_type": "code",
   "execution_count": null,
   "id": "19822f44",
   "metadata": {},
   "outputs": [
    {
     "data": {
      "text/plain": [
       "array([[27],\n",
       "       [28],\n",
       "       [29],\n",
       "       [30],\n",
       "       [31],\n",
       "       [32],\n",
       "       [33],\n",
       "       [34]])"
      ]
     },
     "execution_count": 45,
     "metadata": {},
     "output_type": "execute_result"
    }
   ],
   "source": [
    "# - Leverage: hat values\n",
    "# - Average Leverage = (k+1)/n\n",
    "# - k - num. of predictors\n",
    "# - n - num. observations\n",
    "# - Also termed: hat values, range: 0 - 1\n",
    "# - Various criteria (twice the average leverage, three times the average leverage...)\n",
    "\n",
    "k = 1\n",
    "n = len(model_frame)\n",
    "w_leverage = np.argwhere(model_inf.hat_matrix_diag > 2*(k+1)/n)\n",
    "w_leverage"
   ]
  },
  {
   "cell_type": "code",
   "execution_count": null,
   "id": "a0d80481",
   "metadata": {},
   "outputs": [
    {
     "data": {
      "text/html": [
       "<div>\n",
       "<style scoped>\n",
       "    .dataframe tbody tr th:only-of-type {\n",
       "        vertical-align: middle;\n",
       "    }\n",
       "\n",
       "    .dataframe tbody tr th {\n",
       "        vertical-align: top;\n",
       "    }\n",
       "\n",
       "    .dataframe thead th {\n",
       "        text-align: right;\n",
       "    }\n",
       "</style>\n",
       "<table border=\"1\" class=\"dataframe\">\n",
       "  <thead>\n",
       "    <tr style=\"text-align: right;\">\n",
       "      <th></th>\n",
       "      <th>Residuals</th>\n",
       "      <th>Leverage</th>\n",
       "      <th>Cook Dist.</th>\n",
       "    </tr>\n",
       "  </thead>\n",
       "  <tbody>\n",
       "    <tr>\n",
       "      <th>0</th>\n",
       "      <td>-310.531995</td>\n",
       "      <td>0.008528</td>\n",
       "      <td>0.006823</td>\n",
       "    </tr>\n",
       "    <tr>\n",
       "      <th>1</th>\n",
       "      <td>-320.608492</td>\n",
       "      <td>0.010531</td>\n",
       "      <td>0.009019</td>\n",
       "    </tr>\n",
       "    <tr>\n",
       "      <th>2</th>\n",
       "      <td>-264.425765</td>\n",
       "      <td>0.010288</td>\n",
       "      <td>0.005990</td>\n",
       "    </tr>\n",
       "    <tr>\n",
       "      <th>3</th>\n",
       "      <td>-262.732580</td>\n",
       "      <td>0.011157</td>\n",
       "      <td>0.006424</td>\n",
       "    </tr>\n",
       "    <tr>\n",
       "      <th>4</th>\n",
       "      <td>-178.430623</td>\n",
       "      <td>0.010445</td>\n",
       "      <td>0.002770</td>\n",
       "    </tr>\n",
       "    <tr>\n",
       "      <th>...</th>\n",
       "      <td>...</td>\n",
       "      <td>...</td>\n",
       "      <td>...</td>\n",
       "    </tr>\n",
       "    <tr>\n",
       "      <th>154</th>\n",
       "      <td>30.124399</td>\n",
       "      <td>0.022599</td>\n",
       "      <td>0.000175</td>\n",
       "    </tr>\n",
       "    <tr>\n",
       "      <th>155</th>\n",
       "      <td>10.779838</td>\n",
       "      <td>0.021029</td>\n",
       "      <td>0.000021</td>\n",
       "    </tr>\n",
       "    <tr>\n",
       "      <th>156</th>\n",
       "      <td>18.835779</td>\n",
       "      <td>0.021726</td>\n",
       "      <td>0.000066</td>\n",
       "    </tr>\n",
       "    <tr>\n",
       "      <th>157</th>\n",
       "      <td>-9.707947</td>\n",
       "      <td>0.019101</td>\n",
       "      <td>0.000015</td>\n",
       "    </tr>\n",
       "    <tr>\n",
       "      <th>158</th>\n",
       "      <td>-13.101430</td>\n",
       "      <td>0.018852</td>\n",
       "      <td>0.000027</td>\n",
       "    </tr>\n",
       "  </tbody>\n",
       "</table>\n",
       "<p>159 rows × 3 columns</p>\n",
       "</div>"
      ],
      "text/plain": [
       "      Residuals  Leverage  Cook Dist.\n",
       "0   -310.531995  0.008528    0.006823\n",
       "1   -320.608492  0.010531    0.009019\n",
       "2   -264.425765  0.010288    0.005990\n",
       "3   -262.732580  0.011157    0.006424\n",
       "4   -178.430623  0.010445    0.002770\n",
       "..          ...       ...         ...\n",
       "154   30.124399  0.022599    0.000175\n",
       "155   10.779838  0.021029    0.000021\n",
       "156   18.835779  0.021726    0.000066\n",
       "157   -9.707947  0.019101    0.000015\n",
       "158  -13.101430  0.018852    0.000027\n",
       "\n",
       "[159 rows x 3 columns]"
      ]
     },
     "execution_count": 46,
     "metadata": {},
     "output_type": "execute_result"
    }
   ],
   "source": [
    "# - influence plot\n",
    "inf_plot_frame = pd.DataFrame(columns=['Residuals', 'Leverage', 'Cook Dist.'])\n",
    "\n",
    "inf_plot_frame['Residuals'] = model_frame['Residuals']\n",
    "inf_plot_frame['Leverage'] = model_inf.hat_matrix_diag\n",
    "inf_plot_frame['Cook Dist.'] = model_inf.cooks_distance[0]\n",
    "\n",
    "inf_plot_frame"
   ]
  },
  {
   "cell_type": "code",
   "execution_count": null,
   "id": "18169563",
   "metadata": {},
   "outputs": [
    {
     "data": {
      "image/png": "[encoded data removed]",
      "text/plain": [
       "<Figure size 800x600 with 1 Axes>"
      ]
     },
     "metadata": {},
     "output_type": "display_data"
    }
   ],
   "source": [
    "# - plotting the influence plot\n",
    "plt.figure(figsize=(8, 6))\n",
    "sns.scatterplot(data=inf_plot_frame, x='Leverage', y='Residuals', size='Cook Dist.', legend=None)\n",
    "sns.despine(offset=10, trim=True)\n",
    "plt.title(\"Influence Plot\\n Size of the blob corresponds to Cook's distance\", fontsize=14);"
   ]
  },
  {
   "cell_type": "markdown",
   "id": "f9f723dc",
   "metadata": {},
   "source": [
    "## Linear Regression using scikit-learn"
   ]
  },
  {
   "cell_type": "code",
   "execution_count": null,
   "id": "64332b35",
   "metadata": {},
   "outputs": [],
   "source": [
    "# - import scikit-learn\n",
    "from sklearn.linear_model import LinearRegression"
   ]
  },
  {
   "cell_type": "code",
   "execution_count": null,
   "id": "b418f733",
   "metadata": {},
   "outputs": [
    {
     "data": {
      "text/html": [
       "<style>#sk-container-id-1 {color: black;background-color: white;}#sk-container-id-1 pre{padding: 0;}#sk-container-id-1 div.sk-toggleable {background-color: white;}#sk-container-id-1 label.sk-toggleable__label {cursor: pointer;display: block;width: 100%;margin-bottom: 0;padding: 0.3em;box-sizing: border-box;text-align: center;}#sk-container-id-1 label.sk-toggleable__label-arrow:before {content: \"▸\";float: left;margin-right: 0.25em;color: #696969;}#sk-container-id-1 label.sk-toggleable__label-arrow:hover:before {color: black;}#sk-container-id-1 div.sk-estimator:hover label.sk-toggleable__label-arrow:before {color: black;}#sk-container-id-1 div.sk-toggleable__content {max-height: 0;max-width: 0;overflow: hidden;text-align: left;background-color: #f0f8ff;}#sk-container-id-1 div.sk-toggleable__content pre {margin: 0.2em;color: black;border-radius: 0.25em;background-color: #f0f8ff;}#sk-container-id-1 input.sk-toggleable__control:checked~div.sk-toggleable__content {max-height: 200px;max-width: 100%;overflow: auto;}#sk-container-id-1 input.sk-toggleable__control:checked~label.sk-toggleable__label-arrow:before {content: \"▾\";}#sk-container-id-1 div.sk-estimator input.sk-toggleable__control:checked~label.sk-toggleable__label {background-color: #d4ebff;}#sk-container-id-1 div.sk-label input.sk-toggleable__control:checked~label.sk-toggleable__label {background-color: #d4ebff;}#sk-container-id-1 input.sk-hidden--visually {border: 0;clip: rect(1px 1px 1px 1px);clip: rect(1px, 1px, 1px, 1px);height: 1px;margin: -1px;overflow: hidden;padding: 0;position: absolute;width: 1px;}#sk-container-id-1 div.sk-estimator {font-family: monospace;background-color: #f0f8ff;border: 1px dotted black;border-radius: 0.25em;box-sizing: border-box;margin-bottom: 0.5em;}#sk-container-id-1 div.sk-estimator:hover {background-color: #d4ebff;}#sk-container-id-1 div.sk-parallel-item::after {content: \"\";width: 100%;border-bottom: 1px solid gray;flex-grow: 1;}#sk-container-id-1 div.sk-label:hover label.sk-toggleable__label {background-color: #d4ebff;}#sk-container-id-1 div.sk-serial::before {content: \"\";position: absolute;border-left: 1px solid gray;box-sizing: border-box;top: 0;bottom: 0;left: 50%;z-index: 0;}#sk-container-id-1 div.sk-serial {display: flex;flex-direction: column;align-items: center;background-color: white;padding-right: 0.2em;padding-left: 0.2em;position: relative;}#sk-container-id-1 div.sk-item {position: relative;z-index: 1;}#sk-container-id-1 div.sk-parallel {display: flex;align-items: stretch;justify-content: center;background-color: white;position: relative;}#sk-container-id-1 div.sk-item::before, #sk-container-id-1 div.sk-parallel-item::before {content: \"\";position: absolute;border-left: 1px solid gray;box-sizing: border-box;top: 0;bottom: 0;left: 50%;z-index: -1;}#sk-container-id-1 div.sk-parallel-item {display: flex;flex-direction: column;z-index: 1;position: relative;background-color: white;}#sk-container-id-1 div.sk-parallel-item:first-child::after {align-self: flex-end;width: 50%;}#sk-container-id-1 div.sk-parallel-item:last-child::after {align-self: flex-start;width: 50%;}#sk-container-id-1 div.sk-parallel-item:only-child::after {width: 0;}#sk-container-id-1 div.sk-dashed-wrapped {border: 1px dashed gray;margin: 0 0.4em 0.5em 0.4em;box-sizing: border-box;padding-bottom: 0.4em;background-color: white;}#sk-container-id-1 div.sk-label label {font-family: monospace;font-weight: bold;display: inline-block;line-height: 1.2em;}#sk-container-id-1 div.sk-label-container {text-align: center;}#sk-container-id-1 div.sk-container {/* jupyter's `normalize.less` sets `[hidden] { display: none; }` but bootstrap.min.css set `[hidden] { display: none !important; }` so we also need the `!important` here to be able to override the default hidden behavior on the sphinx rendered scikit-learn.org. See: https://github.com/scikit-learn/scikit-learn/issues/21755 */display: inline-block !important;position: relative;}#sk-container-id-1 div.sk-text-repr-fallback {display: none;}</style><div id=\"sk-container-id-1\" class=\"sk-top-container\"><div class=\"sk-text-repr-fallback\"><pre>LinearRegression()</pre><b>In a Jupyter environment, please rerun this cell to show the HTML representation or trust the notebook. <br />On GitHub, the HTML representation is unable to render, please try loading this page with nbviewer.org.</b></div><div class=\"sk-container\" hidden><div class=\"sk-item\"><div class=\"sk-estimator sk-toggleable\"><input class=\"sk-toggleable__control sk-hidden--visually\" id=\"sk-estimator-id-1\" type=\"checkbox\" checked><label for=\"sk-estimator-id-1\" class=\"sk-toggleable__label sk-toggleable__label-arrow\">LinearRegression</label><div class=\"sk-toggleable__content\"><pre>LinearRegression()</pre></div></div></div></div></div>"
      ],
      "text/plain": [
       "LinearRegression()"
      ]
     },
     "execution_count": 49,
     "metadata": {},
     "output_type": "execute_result"
    }
   ],
   "source": [
    "# - fitting the linear model to the data\n",
    "X = model_frame['Height'].values.reshape(-1, 1)\n",
    "y = model_frame['Weight'].values.reshape(-1, 1)\n",
    "lin_reg = LinearRegression()\n",
    "lin_reg.fit(X, y)"
   ]
  },
  {
   "cell_type": "code",
   "execution_count": null,
   "id": "454035d6",
   "metadata": {},
   "outputs": [
    {
     "data": {
      "text/plain": [
       "(array([[60.49635121]]), array([-144.38597115]))"
      ]
     },
     "execution_count": 50,
     "metadata": {},
     "output_type": "execute_result"
    }
   ],
   "source": [
    "# - coefficents of the model\n",
    "lin_reg.coef_, lin_reg.intercept_"
   ]
  },
  {
   "cell_type": "code",
   "execution_count": null,
   "id": "b3ae4a50",
   "metadata": {},
   "outputs": [
    {
     "data": {
      "text/plain": [
       "0.5246761559328882"
      ]
     },
     "execution_count": 51,
     "metadata": {},
     "output_type": "execute_result"
    }
   ],
   "source": [
    "# - calculating R^2 \n",
    "lin_reg.score(X, y)"
   ]
  },
  {
   "cell_type": "code",
   "execution_count": null,
   "id": "5d7f6886",
   "metadata": {},
   "outputs": [
    {
     "data": {
      "text/plain": [
       "array([[368.89695206],\n",
       "       [383.45709212],\n",
       "       [675.1084809 ],\n",
       "       [671.64706435],\n",
       "       [284.82216593],\n",
       "       [745.83703025],\n",
       "       [518.50581109],\n",
       "       [676.12659725],\n",
       "       [737.07665961],\n",
       "       [243.70903387]])"
      ]
     },
     "execution_count": 52,
     "metadata": {},
     "output_type": "execute_result"
    }
   ],
   "source": [
    "# - predicting the weight using the model\n",
    "X_pred = predictions['Height'].values.reshape(-1, 1)\n",
    "y_pred = lin_reg.predict(X_pred)\n",
    "y_pred[:10]"
   ]
  },
  {
   "cell_type": "code",
   "execution_count": null,
   "id": "63f2317a",
   "metadata": {},
   "outputs": [
    {
     "data": {
      "text/plain": [
       "0     368.896952\n",
       "1     383.457092\n",
       "2     675.108481\n",
       "3     671.647064\n",
       "4     284.822166\n",
       "         ...    \n",
       "95    -42.286421\n",
       "96    265.487455\n",
       "97    613.304086\n",
       "98    934.265111\n",
       "99    214.749475\n",
       "Name: Weight, Length: 100, dtype: float64"
      ]
     },
     "execution_count": 53,
     "metadata": {},
     "output_type": "execute_result"
    }
   ],
   "source": [
    "# - comparing with the predictions from scipy's model\n",
    "predictions['Weight']"
   ]
  },
  {
   "cell_type": "markdown",
   "id": "8df5645d",
   "metadata": {},
   "source": [
    "## 2. Parametric Bootstrap"
   ]
  },
  {
   "cell_type": "markdown",
   "id": "b4880785",
   "metadata": {},
   "source": [
    "### Bias and Variance via the Bootstrap"
   ]
  },
  {
   "attachments": {},
   "cell_type": "markdown",
   "id": "bab5980e",
   "metadata": {},
   "source": [
    "We will now begin working with **resampling methods** in statistics. \n",
    "\n",
    "The first resampling method that we will consider is the **Parametric Bootstrap**. It is *magic*, belive me.\n",
    "\n",
    "Do you remember from our previous discussions of Estimation Theory what a *Bias and Variance* of a statistical estimator are?\n",
    "\n",
    "Is there a method to estimate the Bias of a statistical estimator, at all? For example: what are the biases of $\\beta_0$, $\\beta_1$ in our Simple Linear Regression model?"
   ]
  },
  {
   "attachments": {},
   "cell_type": "markdown",
   "id": "14aac299",
   "metadata": {},
   "source": [
    "First: the model parameters and their standard errors"
   ]
  },
  {
   "cell_type": "code",
   "execution_count": null,
   "id": "1441470e",
   "metadata": {},
   "outputs": [
    {
     "name": "stdout",
     "output_type": "stream",
     "text": [
      "Beta 0: -144.38597115478754 (SE = 45.66290399900891)\n",
      "Beta 1: 60.49635121272138 (SE = 4.595454722325197)\n"
     ]
    }
   ],
   "source": [
    "# Get the estimated parameters and standard errors of the model\n",
    "params = linear_model.params.values\n",
    "stderr = linear_model.bse.values\n",
    "\n",
    "# Print the results\n",
    "print(f\"Beta 0: {params[0]} (SE = {stderr[0]})\")\n",
    "print(f\"Beta 1: {params[1]} (SE = {stderr[1]})\")"
   ]
  },
  {
   "attachments": {},
   "cell_type": "markdown",
   "id": "91ec8449",
   "metadata": {},
   "source": [
    "Second: the standard deviation of model residuals"
   ]
  },
  {
   "cell_type": "code",
   "execution_count": null,
   "id": "b7720065",
   "metadata": {},
   "outputs": [
    {
     "data": {
      "text/plain": [
       "246.80361789420277"
      ]
     },
     "execution_count": 56,
     "metadata": {},
     "output_type": "execute_result"
    }
   ],
   "source": [
    "error_residual = np.std(linear_model.resid, ddof=1)\n",
    "error_residual"
   ]
  },
  {
   "attachments": {},
   "cell_type": "markdown",
   "id": "6b5e422d",
   "metadata": {},
   "source": [
    "Third: the Sim-Fit Loop, Parametric Bootstrap"
   ]
  },
  {
   "cell_type": "code",
   "execution_count": null,
   "id": "1efc4fba",
   "metadata": {},
   "outputs": [
    {
     "name": "stdout",
     "output_type": "stream",
     "text": [
      "Beta 0: bias = -0.22439385917476784, variance = 2082.998577709944\n",
      "Beta 1: bias = 0.018004275971428285, variance = 20.98680643793236\n"
     ]
    }
   ],
   "source": [
    "# import normal distribution from scipy\n",
    "from scipy.stats import norm\n",
    "\n",
    "# Predicted values\n",
    "model_predictions = linear_model.predict()\n",
    "\n",
    "# Define the number of bootstrap samples\n",
    "n_samples = 100000\n",
    "\n",
    "# Initialize empty arrays to store bootstrap estimates of coefficients\n",
    "beta_0_samples = np.zeros(n_samples)\n",
    "beta_1_samples = np.zeros(n_samples)\n",
    "\n",
    "# Loop over the number of samples\n",
    "for i in range(n_samples):\n",
    "\n",
    "    # Use our already established model to produce new data sampless:\n",
    "    # enter error_residual to model predictions \n",
    "    boostrap_predictions = model_predictions + norm.rvs(loc = 0, \n",
    "                                                        scale= error_residual, \n",
    "                                                        size = model_predictions.size)\n",
    "    resampled_data = pd.DataFrame({'Height': fish_data['Height'],\n",
    "                                   'Weight': boostrap_predictions})\n",
    "    \n",
    "    # Fit the model to the boostrap_predictions\n",
    "    model_resampled = smf.ols(formula='Weight ~ Height', data=resampled_data).fit()\n",
    "    \n",
    "    # Store the coefficients from the resampled data\n",
    "    beta_0_samples[i] = model_resampled.params.Intercept\n",
    "    beta_1_samples[i] = model_resampled.params.Height\n",
    "\n",
    "# Calculate the bias and variance of the coefficients\n",
    "beta_0_bias = np.mean(beta_0_samples) - linear_model.params.Intercept\n",
    "beta_1_bias = np.mean(beta_1_samples) - linear_model.params.Height\n",
    "beta_0_var = np.var(beta_0_samples)\n",
    "beta_1_var = np.var(beta_1_samples)\n",
    "\n",
    "# Print the results\n",
    "print(f\"Beta 0: bias = {beta_0_bias}, variance = {beta_0_var}\")\n",
    "print(f\"Beta 1: bias = {beta_1_bias}, variance = {beta_1_var}\")"
   ]
  },
  {
   "attachments": {},
   "cell_type": "markdown",
   "id": "8584464e",
   "metadata": {},
   "source": [
    "Compare with model parameter variances as estimated from the original Linear Regression"
   ]
  },
  {
   "cell_type": "code",
   "execution_count": null,
   "id": "b56e4d64",
   "metadata": {},
   "outputs": [
    {
     "name": "stdout",
     "output_type": "stream",
     "text": [
      "Beta 0: variance = 2085.100801622704\n",
      "Beta 1: variance = 21.118204104940954\n"
     ]
    }
   ],
   "source": [
    "# Print the results\n",
    "print(f\"Beta 0: variance = {stderr[0]**2}\")\n",
    "print(f\"Beta 1: variance = {stderr[1]**2}\")"
   ]
  },
  {
   "attachments": {},
   "cell_type": "markdown",
   "id": "4edd5f89",
   "metadata": {},
   "source": [
    "$$\\hat{Bias}_{boot} = \\frac{1}{B} \\sum_{r=1}^B \\hat{\\theta}^{*(r)} - \\hat{\\theta},$$\n",
    "\n",
    "where $\\hat{\\theta}$ is the original estimator, $\\hat{\\theta}^{*(r)}$ is the estimate of $\\hat{\\theta}$ based on the $r$ bootstrap sample, and $B$ is the number of bootstrap samples.\n",
    "\n",
    "Or, in a purely theoretical way, assuming that the full distribution of all possible bootstramp samples could ever be known:\n",
    "\n",
    "$$Bias_{boot} = E_{\\mathcal{F}^*}[\\hat{\\theta}^{*}] - \\hat{\\theta},$$\n",
    "\n",
    "where $\\hat{\\theta}$ is the original estimator, $\\hat{\\theta}^{*}$ is the estimate of $\\hat{\\theta}$ based on a single bootstrap sample, and $E_{\\mathcal{F}^*}$ denotes the expected value with respect to the distribution of bootstrap samples $\\mathcal{F}^*$.\n",
    "\n",
    "In this formula, the absence of a hat symbol above $Bias_{boot}$ indicates that this is the true bias, rather than an estimate of the bias."
   ]
  },
  {
   "cell_type": "markdown",
   "id": "062ca206",
   "metadata": {},
   "source": [
    "### Further Reading"
   ]
  },
  {
   "attachments": {},
   "cell_type": "markdown",
   "id": "0ffc92c4",
   "metadata": {},
   "source": [
    "- [Real Python: Linear Regression in Python](https://realpython.com/linear-regression-in-python/)\n",
    "- [Khan Academy: Exploring bivariate numerical data](https://www.khanacademy.org/math/statistics-probability/describing-relationships-quantitative-data)\n",
    "- [Khan Academy: Advanced regression (inference and transforming)](https://www.khanacademy.org/math/statistics-probability/advanced-regression-inference-transforming)\n",
    "- [Khan Academy: Statistical Inference](https://www.youtube.com/playlist?list=PLgJhDSE2ZLxaaM1W45NB8dFSQ-frJJoBq)"
   ]
  },
  {
   "cell_type": "markdown",
   "id": "fc0fa4aa",
   "metadata": {},
   "source": [
    "***"
   ]
  },
  {
   "cell_type": "markdown",
   "id": "755cb396",
   "metadata": {},
   "source": [
    "DataKolektiv, 2022/23.\n",
    "\n",
    "[hello@datakolektiv.com](mailto:goran.milovanovic@datakolektiv.com)\n",
    "\n",
    "![](../img/DK_Logo_100.png)"
   ]
  },
  {
   "cell_type": "markdown",
   "id": "fe0a2a8f",
   "metadata": {},
   "source": [
    "<font size=1>License: [GPLv3](https://www.gnu.org/licenses/gpl-3.0.txt) This Notebook is free software: you can redistribute it and/or modify it under the terms of the GNU General Public License as published by the Free Software Foundation, either version 3 of the License, or (at your option) any later version. This Notebook is distributed in the hope that it will be useful, but WITHOUT ANY WARRANTY; without even the implied warranty of MERCHANTABILITY or FITNESS FOR A PARTICULAR PURPOSE. See the GNU General Public License for more details. You should have received a copy of the GNU General Public License along with this Notebook. If not, see http://www.gnu.org/licenses/.</font>"
   ]
  }
 ],
 "metadata": {
  "kernelspec": {
   "display_name": "Python 3",
   "language": "python",
   "name": "python3"
  },
  "language_info": {
   "codemirror_mode": {
    "name": "ipython",
    "version": 3
   },
   "file_extension": ".py",
   "mimetype": "text/x-python",
   "name": "python",
   "nbconvert_exporter": "python",
   "pygments_lexer": "ipython3",
   "version": "3.11.4"
  }
 },
 "nbformat": 4,
 "nbformat_minor": 5
}
