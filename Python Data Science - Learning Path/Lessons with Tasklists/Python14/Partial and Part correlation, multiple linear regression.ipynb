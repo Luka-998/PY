{
 "cells": [
  {
   "cell_type": "markdown",
   "metadata": {},
   "source": [
    "# DATA SCIENCE SESSIONS VOL. 3\n",
    "### A Foundational Python Data Science Course\n",
    "## Session 14: Partial and Part Correlation. Multiple Linear Regression. One-Hot Encoding.\n",
    "\n",
    "[&larr; Back to course webpage](https://datakolektiv.com/)\n",
    "\n",
    "Feedback should be send to [goran.milovanovic@datakolektiv.com](mailto:goran.milovanovic@datakolektiv.com). \n",
    "\n",
    "These notebooks accompany the DATA SCIENCE SESSIONS VOL. 3 :: A Foundational Python Data Science Course."
   ]
  },
  {
   "cell_type": "markdown",
   "metadata": {},
   "source": [
    "### Lecturers\n",
    "\n",
    "[Goran S. Milovanović, PhD, DataKolektiv, Chief Scientist & Owner](https://www.linkedin.com/in/gmilovanovic/)\n",
    "\n",
    "[Aleksandar Cvetković, PhD, DataKolektiv, Consultant](https://www.linkedin.com/in/alegzndr/)\n",
    "\n",
    "[Ilija Lazarević, MA, DataKolektiv, Consultant](https://www.linkedin.com/in/ilijalazarevic/)"
   ]
  },
  {
   "cell_type": "markdown",
   "metadata": {},
   "source": [
    "***"
   ]
  },
  {
   "cell_type": "markdown",
   "metadata": {},
   "source": [
    "## 1. Partial and Part Correlation"
   ]
  },
  {
   "cell_type": "markdown",
   "metadata": {},
   "source": [
    "### Partial Correlation"
   ]
  },
  {
   "cell_type": "markdown",
   "metadata": {},
   "source": [
    "Partial correlation is a statistical technique used to measure the association between two variables, while controlling for the effect of one or more other variables. In other words, it is a way to determine the relationship between two variables while accounting for the influence of other variables that may also affect the relationship.\n",
    "\n",
    "To understand partial correlation, consider a simple example of three variables: $A$, $B$, and $C$. The correlation between $A$ and $B$ measures the strength of the relationship between $A$ and $B$, while ignoring the effect of $C$. However, if $C$ is also related to both $A$ and $B$, then the observed correlation between $A$ and $B$ may be influenced by the presence of $C$. In such cases, partial correlation can be used to measure the relationship between $A$ and $B$ while controlling for the effect of $C$.\n",
    "\n",
    "Partial correlation is typically expressed as a correlation coefficient, just like the simple correlation between two variables. However, the partial correlation coefficient measures the relationship between two variables while controlling for the effect of one or more other variables. The partial correlation coefficient between variables $A$ and $B$, controlling for the effect of variable $C$, is denoted as $r_{AB.C}$.\n",
    "\n",
    "The formula for partial correlation coefficient $r_{AB.C}$ can be derived from the formula for the simple correlation coefficient $r_{AB}$, as follows:\n",
    "\n",
    "$$r_{AB.C} = \\frac{r_{AB} - r_{AC} * r_{BC}}{\\sqrt{(1 - r_{AC}^2) * (1 - r_{BC}^2)}}$$\n",
    "\n",
    "where $r_{AB}$ is the simple correlation coefficient between $A$ and $B$, $r_{AC}$ is the correlation coefficient between $A$ and $C$, and $r_{BC}$ is the correlation coefficient between $B$ and $C$.\n",
    "\n",
    "The partial correlation coefficient can be interpreted as the correlation between $A$ and $B$, after controlling for the effect of variable $C$. It represents the degree to which the relationship between $A$ and $B$ is independent of the influence of variable $C$.\n",
    "\n",
    "Partial correlation can be used in a variety of applications, such as in regression analysis to identify the independent effect of each variable on the dependent variable, or in network analysis to identify the direct connections between variables in a network while controlling for indirect effects."
   ]
  }
 ],
 "metadata": {
  "language_info": {
   "name": "python"
  }
 },
 "nbformat": 4,
 "nbformat_minor": 2
}
