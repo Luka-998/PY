{
 "cells": [
  {
   "cell_type": "markdown",
   "metadata": {},
   "source": [
    "### Our goal in **Session03**\n",
    "\n",
    "- about the basics of Control Flow in Python (e.g. how do we tell the computer what to do with data in this language);\n",
    "- a bit more about functions in Python;\n",
    "- a bit about defensive programming in Python;\n",
    "- several new things that can be done with `pd.DataFrame`, such as\n",
    "   - Pandas I/O operations\n",
    "   - `apply` a function to a `pd.DataFrame` column\n",
    "   - use `filter`, `groupy`, and `agg` to filter out and produce data aggregates from `pd.DataFrame`"
   ]
  },
  {
   "cell_type": "code",
   "execution_count": null,
   "metadata": {},
   "outputs": [],
   "source": [
    "import os \n",
    "work_dir = os.getcwd()\n",
    "print(work_dir) # Fine, where I should be\n",
    "data_dir =os.path.join('_data',work_dir)\n",
    "data_dir = os.path.join(work_dir, \"_data\")\n",
    "display(data_dir)"
   ]
  },
  {
   "cell_type": "markdown",
   "metadata": {},
   "source": [
    "### 2. Data: The Boston Housing Data Set"
   ]
  },
  {
   "cell_type": "code",
   "execution_count": null,
   "metadata": {},
   "outputs": [],
   "source": [
    "import pandas as pd\n",
    "\n",
    "filename='BostonHousingData.csv'\n",
    "data_set = pd.read_csv(os.path.join(data_dir,filename)) #the most correct tehnical way\n",
    "display(data_set)\n",
    "\n",
    "###### but can be done as a function\n",
    "\n",
    "#data_set =pd.read_csv('_data\\'BostonHousingData.csv')"
   ]
  },
  {
   "cell_type": "code",
   "execution_count": null,
   "metadata": {},
   "outputs": [],
   "source": [
    "display(data_set.head(5))"
   ]
  },
  {
   "cell_type": "markdown",
   "metadata": {},
   "source": [
    "List column data types on data_set. This is how Pandas parses our data. Pay attention, this may not always give the best result in regard to recognized data types."
   ]
  },
  {
   "cell_type": "code",
   "execution_count": null,
   "metadata": {},
   "outputs": [],
   "source": [
    "data_set.dtypes"
   ]
  },
  {
   "cell_type": "markdown",
   "metadata": {},
   "source": [
    "Let's get more comprehensive information about our data set: .info()\n",
    "<class 'pandas.core.frame.DataFrame'>\n",
    "RangeIndex: 506 entries, 0 to 505\n",
    "Data columns (total 14 columns):\n",
    " #   Column   Non-Null Count  Dtype  \n",
    "---  ------   --------------  -----  \n",
    " 0   crim     506 non-null    float64\n",
    " 1   zn       506 non-null    float64\n",
    " 2   indus    506 non-null    float64\n",
    " 3   chas     506 non-null    int64  \n",
    " 4   nox      506 non-null    float64\n",
    " 5   rm       506 non-null    float64\n",
    " 6   age      506 non-null    float64\n",
    " 7   dis      506 non-null    float64\n",
    " 8   rad      506 non-null    int64  \n",
    " 9   tax      506 non-null    int64  \n",
    " 10  ptratio  506 non-null    float64\n",
    " 11  b        506 non-null    float64\n",
    " 12  lstat    506 non-null    float64\n",
    " 13  medv     506 non-null    float64\n",
    "dtypes: float64(11), int64(3)\n",
    "memory usage: 55.5 KB"
   ]
  },
  {
   "cell_type": "code",
   "execution_count": null,
   "metadata": {},
   "outputs": [],
   "source": [
    "data_set.info()"
   ]
  },
  {
   "cell_type": "markdown",
   "metadata": {},
   "source": [
    "Let's now invest some effort to **understand** the data set at hand before we proceed with the `pd.DataFrame` class:\n",
    "\n",
    "- **crim**: per capita crime rate by town.\n",
    "\n",
    "- **zn**: proportion of residential land zoned for lots over 25,000 sq.ft.\n",
    "\n",
    "- **indus**: proportion of non-retail business acres per town.\n",
    "\n",
    "- **chas**: Charles River dummy variable (= 1 if tract bounds river; 0 otherwise).\n",
    "\n",
    "- **nox**: nitrogen oxides concentration (parts per 10 million).\n",
    "\n",
    "- **rm**: average number of rooms per dwelling.\n",
    "\n",
    "- **age**: proportion of owner-occupied units built prior to 1940.\n",
    "\n",
    "- **dis**: weighted mean of distances to five Boston employment centres.\n",
    "\n",
    "- **rad**: index of accessibility to radial highways.\n",
    "\n",
    "- **tax**: full-value property-tax rate per \\$10,000.\n",
    "\n",
    "- **ptratio**: pupil-teacher ratio by town.\n",
    "\n",
    "- **black**: 1000(Bk - 0.63)^2 where Bk is the proportion of blacks by town.\n",
    "\n",
    "- **lstat**: lower status of the population (percent).\n",
    "\n",
    "- **medv**: median value of owner-occupied homes in \\$1000s."
   ]
  },
  {
   "cell_type": "markdown",
   "metadata": {},
   "source": [
    "### 3. Control Flow A: Iterating in Python\n",
    "Iteration refers to the process of repeatedly executing a block of code to traverse through elements of a collection (like lists, tuples, strings, etc.) or to perform repetitive tasks. Python supports iteration using constructs like loops (for and while) or comprehensions.\n",
    "Iterable Objects\n",
    "\n",
    "An iterable is an object capable of returning its members one at a time. Examples of iterable objects include:\n",
    "\n",
    "    Lists: [1, 2, 3]\n",
    "    Tuples: (4, 5, 6)\n",
    "    Strings: \"abc\"\n",
    "    Dictionaries: {'a': 1, 'b': 2}\n",
    "    Sets: {7, 8, 9}\n",
    "    Range objects: range(5)\n",
    "\n",
    "All iterable objects implement the __iter__() method, which returns an iterator. An iterator is an object that keeps track of where it is during iteration and provides the __next__() method to get the next element.\n",
    "##############################################################################\n",
    "1. We will first grab some values from `data_set` and turn them into a list."
   ]
  },
  {
   "cell_type": "code",
   "execution_count": null,
   "metadata": {},
   "outputs": [],
   "source": [
    "my_data = data_set['medv'][0:20]\n",
    "print(list(my_data))"
   ]
  },
  {
   "cell_type": "markdown",
   "metadata": {},
   "source": [
    "Task: check if the rounded values in `my_data` are even or not; print the result for each member of `my_data`."
   ]
  },
  {
   "cell_type": "code",
   "execution_count": null,
   "metadata": {},
   "outputs": [],
   "source": [
    "for number in my_data:\n",
    "    if round(number) % 2 ==0:\n",
    "        print(\"Rounded\" +str(number) + \"is even\")\n",
    "    else:\n",
    "        print(\"Rounded\" + str(number) + \"is odd\")"
   ]
  },
  {
   "cell_type": "code",
   "execution_count": null,
   "metadata": {},
   "outputs": [],
   "source": [
    "***Sequences** in Python are iterables: **lists**, **strings**, and **tuples**."
   ]
  },
  {
   "cell_type": "code",
   "execution_count": null,
   "metadata": {},
   "outputs": [],
   "source": [
    "my_data = (1, 2, '3', 4, 5, '7', 8, 9, '10')\n",
    "for d in my_data:\n",
    "    print(type(d))\n",
    "\n",
    "my_data = \"Belgrader\"\n",
    "for letter in my_data:\n",
    "    print(letter) \n"
   ]
  },
  {
   "cell_type": "markdown",
   "metadata": {},
   "source": [
    "**Dictionaries** are **iterables** but **not sequences**."
   ]
  },
  {
   "cell_type": "code",
   "execution_count": null,
   "metadata": {},
   "outputs": [],
   "source": [
    "my_data = {'a':1,\n",
    "           'b':2,\n",
    "           'c':3,\n",
    "           'd':4,\n",
    "           'e':5,\n",
    "           'f':6}\n",
    "for item in my_data:\n",
    "    print(item)\n",
    "\n",
    "# Only keys, what about:\n",
    "for item in my_data.values():\n",
    "    print(item)\n",
    "\n",
    "#now keys+ sequence, Because:\n",
    "my_data.values()\n",
    "\n",
    "for key in my_data:\n",
    "    print('When ' + key + ' then ' + str(my_data[key]))"
   ]
  },
  {
   "cell_type": "markdown",
   "metadata": {},
   "source": [
    "Also, unpacking `my_data.items()` before entering the loop:"
   ]
  },
  {
   "cell_type": "code",
   "execution_count": null,
   "metadata": {},
   "outputs": [],
   "source": [
    "for key,value in my_data.items():\n",
    "     print('When ' + key + ' then ' + str(value))"
   ]
  },
  {
   "cell_type": "markdown",
   "metadata": {},
   "source": [
    "Let's apply a 20% discount to all prices in `data_set['medv']`!"
   ]
  },
  {
   "cell_type": "code",
   "execution_count": null,
   "metadata": {},
   "outputs": [],
   "source": [
    "print(\"Original prices: \")\n",
    "print(list(data_set['medv'][0:20]))\n",
    "medv_discount = list(data_set['medv'])\n",
    "\n",
    "for price in range(len(medv_discount)):\n",
    "    medv_discount[price] = round(medv_discount[price] - round(medv_discount[price])*0.2)\n",
    "\n",
    "print('Discount prices: ')\n",
    "print(medv_discount[0:20])"
   ]
  },
  {
   "cell_type": "markdown",
   "metadata": {},
   "source": [
    "What is this: `range(len(medv_discount))`?"
   ]
  },
  {
   "cell_type": "code",
   "execution_count": null,
   "metadata": {},
   "outputs": [],
   "source": [
    "len(medv_discount[0:20])\n",
    "list(range(5,15))\n",
    "\n",
    "print(list(range(len(medv_discount))))"
   ]
  },
  {
   "cell_type": "markdown",
   "metadata": {},
   "source": [
    "### 3. Control Flow B: list comprehension\n",
    "-> Now, **this is interestening:**\n",
    "\n",
    "What is List Comprehension?\n",
    "\n",
    "* List comprehension is a concise way to create a new list by applying an expression to each item in an existing iterable (like a list). It replaces longer loops with a single line of code, improving readability and compactness.\n",
    "\n",
    "[expression for item in iterable]"
   ]
  },
  {
   "cell_type": "code",
   "execution_count": null,
   "metadata": {},
   "outputs": [],
   "source": [
    "medv = list(data_set['medv'])\n",
    "display(medv)\n",
    "\n",
    "# - list comprehension:\n",
    "medv_discount = [round(x - .2*x,2)for x in medv]\n",
    "print(\"Original prices: \")\n",
    "print(list(data_set['medv'][0:20]))\n",
    "print(\"Discount prices: \")\n",
    "print(medv_discount[0:20])"
   ]
  },
  {
   "cell_type": "markdown",
   "metadata": {},
   "source": [
    "Iterates over each price x in the medv list.\n",
    "Calculates the discounted price (20% off).\n",
    "Rounds the discounted price to 2 decimal places.\n",
    "Stores all discounted prices in a new list medv_discount."
   ]
  },
  {
   "cell_type": "code",
   "execution_count": null,
   "metadata": {},
   "outputs": [],
   "source": [
    "my_list = ['Belgrade', 'New York', 'Moscow', 'London', 'New Delhi', 'Tokyo']\n",
    "[x[0] for x in my_list]\n",
    "\n",
    "my_list = [1, 2, 3, 4, 5, 6, 7, 8, 9 , 10]\n",
    "[x**2 for x in my_list]\n",
    "\n",
    "l_1 = ['A', 'B', 'C']\n",
    "l_2 = ['X', 'Y', 'Z']\n",
    "[element1 + ':' + element2 for element1 in l_1 for element2 in l_2]\n",
    "#or can do like this , classic nested loop:\n",
    "for element1 in l_1:\n",
    "    for element2 in l_2:\n",
    "        result = (element1 + ':' + element2)\n",
    "        print(result)\n",
    "\n",
    "    "
   ]
  },
  {
   "cell_type": "markdown",
   "metadata": {},
   "source": [
    "Create a list of tuples from list comprehension:\n"
   ]
  },
  {
   "cell_type": "code",
   "execution_count": null,
   "metadata": {},
   "outputs": [],
   "source": [
    "l_1 = ['A', 'B', 'C']\n",
    "l_2 = ['X', 'Y', 'Z']\n",
    "[(el1,el2) for el1 in l_1 for el2 in l_2]"
   ]
  },
  {
   "cell_type": "markdown",
   "metadata": {},
   "source": [
    "And now for a bit more complicated expression..."
   ]
  },
  {
   "cell_type": "code",
   "execution_count": null,
   "metadata": {},
   "outputs": [],
   "source": [
    "l_1 = [1, 2, 3, 4, 5, 6, 7, 8, 9, 10]\n",
    "[str(x) + ' is even' if x % 2 ==0 else str(x) + ' is odd' for x in l_1]"
   ]
  },
  {
   "cell_type": "markdown",
   "metadata": {},
   "source": [
    "### 3. Control Flow C: `while`, `continue`, and `break`"
   ]
  },
  {
   "cell_type": "code",
   "execution_count": null,
   "metadata": {},
   "outputs": [],
   "source": [
    "l = list()\n",
    "x = 0\n",
    "while x < 100:\n",
    "    if x % 2 == 0:\n",
    "        l.append(x)\n",
    "    x+=1\n",
    "    print(l)"
   ]
  },
  {
   "cell_type": "markdown",
   "metadata": {},
   "source": [
    "`break` and `continue` in Python loops:\n",
    "1) ## break\n",
    "\n",
    "    # Purpose: Immediately exits the loop, skipping the rest of its iteration and any subsequent iterations.\n",
    "    Use Case: When a condition is met and you want to stop the loop entirely.\n",
    "\n",
    "    for num in range(1, 10):\n",
    "    if num == 5:\n",
    "        break  # Exits the loop when num is 5\n",
    "    print(num)\n",
    "     Output: 1, 2, 3, 4\n",
    "\n",
    "2) ## continue\n",
    "\n",
    "    # Purpose: Skips the current iteration of the loop and moves to the next one.\n",
    "    Use Case: When a condition is met, but you want the loop to continue running for other iterations.\n",
    "\n",
    "    for num in range(1, 10):\n",
    "    if num == 5:\n",
    "        continue  # Skips the iteration when num is 5\n",
    "    print(num)\n",
    " Output: 1, 2, 3, 4, 6, 7, 8, 9"
   ]
  },
  {
   "cell_type": "code",
   "execution_count": null,
   "metadata": {},
   "outputs": [],
   "source": [
    "\n",
    "# Break the loop when iterator is at str value in the list\n",
    "\n",
    "#l_1 = [1, 2, 3, 4, 5, '6', 7, 8, 9]\n",
    "for i in range(len(l_1)):\n",
    "     if isinstance(l_1[i], str):  #Check if the element is of type str\n",
    "        break\n",
    "     else:\n",
    "        print(l_1[i])\n",
    "isinstance(10, int) #True\n",
    "isinstance(10, float) #False\n",
    "\n",
    "l_1 = [1, 2, 3, 4, 5, '6', 7, 8, 9]\n",
    "i = 0\n",
    "for i in l_1:\n",
    "    if isinstance(l_1[i], str):\n",
    "        print(l_1)\n",
    "        break\n",
    "    i+=1\n",
    "\n"
   ]
  },
  {
   "cell_type": "code",
   "execution_count": null,
   "metadata": {},
   "outputs": [],
   "source": [
    "l_1 = [1, 2, 3, 4, 5, '6' , 7, 8, 9]\n",
    "i = 0\n",
    "while i < len(l_1):\n",
    "    if isinstance(l_1[i], str):\n",
    "        break\n",
    "    else:\n",
    "        print(l_1[i])\n",
    "        i +=1\n"
   ]
  },
  {
   "cell_type": "code",
   "execution_count": null,
   "metadata": {},
   "outputs": [],
   "source": [
    "l_1 = [1, 2, 3, 4, 5, '6', 7, 8, 9]\n",
    "for i in range(len(l_1)):\n",
    "    if isinstance(l_1[i],str):\n",
    "        break\n",
    "    else:\n",
    "        print(l_1[i])\n",
    "       "
   ]
  },
  {
   "cell_type": "markdown",
   "metadata": {},
   "source": [
    "`continue` skips an iteration:\n",
    "When a condition is met, but you want the loop to continue running for other iterations."
   ]
  },
  {
   "cell_type": "code",
   "execution_count": null,
   "metadata": {},
   "outputs": [],
   "source": [
    "l_1 = [1, 2, '3', 4, 5, '6', 7, 8, '9']\n",
    "i = 0\n",
    "while i < len(l_1):\n",
    "    if isinstance(l_1[i],str):\n",
    "        i+=1 \n",
    "        continue\n",
    "    print(l_1[i])\n",
    "    i+=1 \n",
    "    \n"
   ]
  },
  {
   "cell_type": "code",
   "execution_count": null,
   "metadata": {},
   "outputs": [],
   "source": [
    "l_1 = [1, 2, '3', 4, 5, '6', 7, 8, '9']\n",
    "i = 0\n",
    "for i in range(len(l_1)):\n",
    "    if isinstance(l_1[i],str):\n",
    "        i+=1 \n",
    "        continue\n",
    "    print(l_1[i])"
   ]
  },
  {
   "cell_type": "markdown",
   "metadata": {},
   "source": [
    "### 3. Control Flow D: dictionary comprehension"
   ]
  },
  {
   "cell_type": "code",
   "execution_count": null,
   "metadata": {},
   "outputs": [],
   "source": [
    "squares = {num: num*num for num in range (1,11)}\n",
    "print(squares)\n",
    "squares[5] #key 5 in this case {1: 1, 2: 4, 3: 9, 4: 16, 5: 25, 6: 36, 7: 49, 8: 64, 9: 81, 10: 100} Is '5:25' \n",
    "\n"
   ]
  },
  {
   "cell_type": "markdown",
   "metadata": {},
   "source": [
    "Apply a 20% discount to first 20 elements in `data_set['medv']` represented by a dictionary.\n",
    "\n",
    "Step 1. Represent `data_set['medv'][0:20]` by a dictionary, introducing property names:"
   ]
  },
  {
   "cell_type": "code",
   "execution_count": null,
   "metadata": {},
   "outputs": [],
   "source": [
    "medv = data_set['medv'][0:20]\n",
    "properties = ['p_' + str(i) for i in range(0, 20)]\n",
    "medv_dict = dict(zip(properties,medv))\n",
    "medv_dict\n"
   ]
  },
  {
   "cell_type": "markdown",
   "metadata": {},
   "source": [
    "###To refresh learned matter \"zip()\":\n",
    "\n",
    "*The # zip () function is used to combine two or more iterables (e.g., lists, tuples) into pairs. When passed to dict(), it creates a dictionary where the first iterable provides the keys and the second iterable provides the values.\n",
    "\n",
    "* dict(zip(keys_iterable, values_iterable))\n",
    "\n",
    "keys = ['a', 'b', 'c']\n",
    "values = [1, 2, 3]\n",
    "result = dict(zip(keys, values))  # {'a': 1, 'b': 2, 'c': 3}"
   ]
  },
  {
   "cell_type": "code",
   "execution_count": null,
   "metadata": {},
   "outputs": [],
   "source": [
    "keys = ['a', 'b', 'c']\n",
    "values = [1, 2, 3]\n",
    "result = dict(zip(keys, values))  \n",
    "display(result) # {'a': 1, 'b': 2, 'c': 3}"
   ]
  },
  {
   "cell_type": "markdown",
   "metadata": {},
   "source": [
    "Step 2. Dictionary comprehension:\n"
   ]
  },
  {
   "cell_type": "code",
   "execution_count": null,
   "metadata": {},
   "outputs": [],
   "source": [
    "medv_dict_discount = {key: round(value - .2*value, 2) for (key, value) in medv_dict.items()}\n",
    "medv_dict_discount\n",
    "\n",
    "medv_dict_discount = {key + '_changed': value for (key, value) in medv_dict.items()}\n",
    "medv_dict_discount"
   ]
  },
  {
   "cell_type": "markdown",
   "metadata": {},
   "source": [
    "### 3. Control Flow E: Decisions in Python"
   ]
  },
  {
   "cell_type": "markdown",
   "metadata": {},
   "source": [
    "we are using `if` and `else` again without telling you about them. It is really simple:"
   ]
  },
  {
   "cell_type": "code",
   "execution_count": null,
   "metadata": {},
   "outputs": [],
   "source": [
    "x = 10\n",
    "if x**2 == 100:\n",
    "    print(\"x is definitely 10.\")\n",
    "else:\n",
    "    print(\"It is  definitely not 10.\")"
   ]
  },
  {
   "cell_type": "code",
   "execution_count": null,
   "metadata": {},
   "outputs": [],
   "source": [
    "def is_something_ten(x):\n",
    "    if x**10 == 100:\n",
    "        return(True)\n",
    "    else:\n",
    "        return(False)\n",
    "l_1 = [1, 10, 20, 4, 10]\n",
    "[is_something_ten(x) for x in l_1]"
   ]
  },
  {
   "cell_type": "code",
   "execution_count": null,
   "metadata": {},
   "outputs": [],
   "source": [
    "def is_something_ten(x):\n",
    "    if x**2 == 100:\n",
    "        return(True)\n",
    "    else:\n",
    "        return(False)\n",
    "l_1 = [1, 10, 20, 4, 10]\n",
    "[str(x) + ' is 10!' if is_something_ten(x) else str(x) + ' is  not 10!' for x in l_1]"
   ]
  },
  {
   "cell_type": "markdown",
   "metadata": {},
   "source": [
    "We can also branch our `if` statements with `elif`:"
   ]
  },
  {
   "cell_type": "code",
   "execution_count": null,
   "metadata": {},
   "outputs": [],
   "source": [
    "x = 50\n",
    "if x < 20:\n",
    "    print('Ok it is less than 20, now... ')\n",
    "elif x > 30:\n",
    "    print('Ok it is not larger than 30.')\n",
    "else:\n",
    "    print('This is strange!')"
   ]
  },
  {
   "cell_type": "markdown",
   "metadata": {},
   "source": [
    "`if` statements can be nested of course:"
   ]
  },
  {
   "cell_type": "code",
   "execution_count": null,
   "metadata": {},
   "outputs": [],
   "source": [
    "x = 19\n",
    "if x < 20:\n",
    "    print('Ok it is less than 20, now... ')\n",
    "    if x < 18:\n",
    "        print('And it is less than 18 too... ')\n",
    "    else:\n",
    "        print('But not less than 18... ')\n",
    "elif x > 30:\n",
    "    print('Ok it is not larger than 30.')\n",
    "else:\n",
    "    print('It\\'s between 20 and 30!')"
   ]
  },
  {
   "cell_type": "markdown",
   "metadata": {},
   "source": [
    "### 4. Pandas I/O operations"
   ]
  },
  {
   "cell_type": "code",
   "execution_count": null,
   "metadata": {},
   "outputs": [],
   "source": [
    "import os\n",
    "work_dir = os.getcwd()\n",
    "print(work_dir)\n",
    "filename = os.path.join(work_dir, 'world_indicators.csv')\n",
    "\n",
    "data_set = pd.read_csv('_data\\world_indicators.csv')\n",
    "display(data_set.head(10).isna)\n"
   ]
  },
  {
   "cell_type": "code",
   "execution_count": null,
   "metadata": {},
   "outputs": [],
   "source": [
    "data_set.isna().sum()\n",
    "display(data_set.head(5))"
   ]
  },
  {
   "cell_type": "markdown",
   "metadata": {},
   "source": [
    "`NaN` is, by a convention, the way to represent missing data in `pd.DataFrame`. "
   ]
  },
  {
   "cell_type": "markdown",
   "metadata": {},
   "source": [
    "Change row index:"
   ]
  },
  {
   "cell_type": "code",
   "execution_count": null,
   "metadata": {},
   "outputs": [],
   "source": [
    "data_set = pd.read_csv('_data\\world_indicators.csv', index_col = 0)\n",
    "data_set.head(20)"
   ]
  },
  {
   "cell_type": "code",
   "execution_count": null,
   "metadata": {},
   "outputs": [],
   "source": [
    "data_set.loc['Afghanistan', 'hospital_beds_per_1000']"
   ]
  },
  {
   "cell_type": "code",
   "execution_count": null,
   "metadata": {},
   "outputs": [],
   "source": [
    "data_set.iloc[0:25, 3]"
   ]
  },
  {
   "cell_type": "code",
   "execution_count": null,
   "metadata": {},
   "outputs": [],
   "source": [
    "my_data = {'a':[1, 2, 3], \n",
    "           'b':[4, 5, 6],\n",
    "           'c':[7, 8 , 9]}\n",
    "my_data = pd.DataFrame(my_data)\n",
    "display(my_data)"
   ]
  },
  {
   "cell_type": "markdown",
   "metadata": {},
   "source": [
    "Write `my_data` as a `.csv` file to `data_dir`"
   ]
  },
  {
   "cell_type": "code",
   "execution_count": null,
   "metadata": {},
   "outputs": [],
   "source": [
    "filename = os.path.join(work_dir, 'my_data.csv')\n",
    "my_data.to_csv(filename)\n",
    "os.listdir(work_dir)"
   ]
  },
  {
   "cell_type": "code",
   "execution_count": null,
   "metadata": {},
   "outputs": [],
   "source": []
  },
  {
   "cell_type": "code",
   "execution_count": null,
   "metadata": {},
   "outputs": [],
   "source": [
    "filename = os.path.join(work_dir, 'my_data.csv')\n",
    "my_data.to_csv(filename)\n",
    "display(pd.read_csv(filename, index_col=0))\n",
    "print(filename)\n",
    "os.remove(filename)\n",
    "os.listdir(work_dir)\n",
    "                        "
   ]
  },
  {
   "cell_type": "markdown",
   "metadata": {},
   "source": [
    "### 5. Pandas transformations and aggregations: `apply`, `filter`, `groupby`, `agg`"
   ]
  },
  {
   "cell_type": "code",
   "execution_count": null,
   "metadata": {},
   "outputs": [],
   "source": [
    "my_data = {'a':[1, 2, 3, 6, 2], \n",
    "           'b':[4, 5, 6, 2, 3],\n",
    "           'c':[7, 8 , 9, 1, 1],\n",
    "           'd':[3, 4, 1, 4, 2]}\n",
    "my_data = pd.DataFrame(my_data)\n",
    "display(my_data)"
   ]
  },
  {
   "cell_type": "markdown",
   "metadata": {},
   "source": [
    "You remember how we defined the function for testing if number is equal to 10 or not? Let's define another method but test if number is even instead!"
   ]
  },
  {
   "cell_type": "code",
   "execution_count": null,
   "metadata": {},
   "outputs": [],
   "source": [
    "def is_even(x):\n",
    "    if x % 2 ==0:\n",
    "        return(True)\n",
    "    else:\n",
    "        return(False)\n",
    "\n",
    "def is_even_list(lst):\n",
    "    return[is_even(x) for x in lst]"
   ]
  },
  {
   "cell_type": "markdown",
   "metadata": {},
   "source": [
    "Pandas DataFrame gives us method `apply` that is able to perform method along the axes. Remember `axis=0` are rows, `axis=1` are columns. Here is how we do it:"
   ]
  },
  {
   "cell_type": "code",
   "execution_count": null,
   "metadata": {},
   "outputs": [],
   "source": [
    "my_data.apply(is_even_list, axis=0)"
   ]
  },
  {
   "cell_type": "markdown",
   "metadata": {},
   "source": [
    "Now, here, it doesn't make much difference if we call it on rows or columns, since our method takes each cell's value separately, disregarding all of the row's or colum's values."
   ]
  },
  {
   "cell_type": "markdown",
   "metadata": {},
   "source": [
    "But what can make difference between calling method on rows and columns? Let's define method that includes all of the rows or columns values in calculation:"
   ]
  },
  {
   "cell_type": "code",
   "execution_count": null,
   "metadata": {},
   "outputs": [],
   "source": [
    "def distance_from_the_sum(lst):\n",
    "    s = sum(lst)\n",
    "    return [x-s for x in lst]\n",
    "my_data.apply(distance_from_the_sum , axis=0)"
   ]
  },
  {
   "cell_type": "markdown",
   "metadata": {},
   "source": [
    "# distance_from_the_sum Function:\n",
    "\n",
    "    This function takes a list lst, calculates its sum, and returns a new list where each element is the original value minus the sum of the list.\n",
    "    For example, if lst = [1, 2, 3], the sum s = 6, and the returned list will be [-5, -4, -3] because [1-6, 2-6, 3-6].\n",
    "\n",
    "    Using distance_from_the_sum with apply:\n",
    "\n",
    "    When you call my_data.apply(distance_from_the_sum, axis=0), Pandas applies the distance_from_the_sum function to each column of my_data because axis=0 means \"apply the function to columns.\"\n",
    "    If the DataFrame has multiple columns, each column is treated as a list (lst in the function)."
   ]
  },
  {
   "cell_type": "markdown",
   "metadata": {},
   "source": [
    "`filter` method. It is used for selecting columns or rows based on their labels."
   ]
  },
  {
   "cell_type": "code",
   "execution_count": null,
   "metadata": {},
   "outputs": [],
   "source": [
    "my_data.filter(['a', 'b'])\n",
    "my_data.filter(['a', 'b'], axis=1)\n",
    "my_data.filter(['a', 'b'], axis=0)"
   ]
  },
  {
   "cell_type": "markdown",
   "metadata": {},
   "source": [
    "When we filter by rows we are essentially filtering by index values. Look at the data frame now. Index values are numbers. Let's do it correctly now:"
   ]
  },
  {
   "cell_type": "code",
   "execution_count": null,
   "metadata": {},
   "outputs": [],
   "source": [
    "my_data.filter([0, 2], axis=0)"
   ]
  },
  {
   "cell_type": "markdown",
   "metadata": {},
   "source": [
    "Let's for the sake of our next example redefine the data set."
   ]
  },
  {
   "cell_type": "code",
   "execution_count": null,
   "metadata": {},
   "outputs": [],
   "source": [
    "my_data = {'age':[20, 34, 30, 25, 20, 34], \n",
    "           'town':['Chicago', 'LA', 'SF', 'Chicago', 'SF', 'WA'],\n",
    "           'name':['Jake', 'Fin', 'Maria', 'Timmy', 'Eric', 'Sarah'],\n",
    "           'income_in_k':[100, 150, 300, 50, 60, 300]}\n",
    "my_data = pd.DataFrame(my_data)\n",
    "display(my_data)"
   ]
  },
  {
   "cell_type": "markdown",
   "metadata": {},
   "source": [
    "This is all good, but we want to have sum of incomes. There are always more than one option to do it. Something like this:"
   ]
  },
  {
   "cell_type": "code",
   "execution_count": null,
   "metadata": {},
   "outputs": [],
   "source": [
    "my_data['income_in_k'].sum()\n",
    "# But what about the mean income?\n"
   ]
  },
  {
   "cell_type": "code",
   "execution_count": null,
   "metadata": {},
   "outputs": [],
   "source": [
    "my_data['income_in_k'].mean()"
   ]
  },
  {
   "cell_type": "markdown",
   "metadata": {},
   "source": [
    "You must be wondering if there is a method to get both results at the same time? Well, pay close attention to the next `agg` method:"
   ]
  },
  {
   "cell_type": "code",
   "execution_count": null,
   "metadata": {},
   "outputs": [],
   "source": [
    "my_data['income_in_k'].agg(['mean', 'sum'])"
   ]
  },
  {
   "cell_type": "markdown",
   "metadata": {},
   "source": [
    "Now , all in one place, try it out.\n",
    "Let's try approaching our data set with different example. Say we need the sum of incomes per age. How can we do it?"
   ]
  },
  {
   "cell_type": "code",
   "execution_count": null,
   "metadata": {},
   "outputs": [],
   "source": [
    "my_data.loc[my_data['age']==20, 'income_in_k'].sum()"
   ]
  },
  {
   "cell_type": "markdown",
   "metadata": {},
   "source": [
    "But this is just for one value of age. Should we go and do it for all ages? NO! There is a much better and faster way. It is by using `groupby` data frame method."
   ]
  },
  {
   "cell_type": "code",
   "execution_count": null,
   "metadata": {},
   "outputs": [],
   "source": [
    "my_data.groupby('age')['income_in_k'].agg(['mean','sum'])"
   ]
  },
  {
   "cell_type": "markdown",
   "metadata": {},
   "source": [
    "### Why use groupby?\n",
    "\n",
    "It is used for grouping data and performing aggregate computations, such as calculating sums, means, counts, or custom functions on grouped data."
   ]
  },
  {
   "cell_type": "markdown",
   "metadata": {},
   "source": [
    "We can have all sorts of aggregations, some of which are builtin:"
   ]
  },
  {
   "cell_type": "markdown",
   "metadata": {},
   "source": [
    "## Why is 'age' in parentheses, not brackets?\n",
    "\n",
    "    In the syntax my_data.groupby('age'), parentheses are used because you're passing a string ('age') as an argument to the groupby() method.\n",
    "    Parentheses are used to enclose arguments in function calls.\n",
    "\n",
    "If 'age' were in square brackets (['age']), it would represent a list of column names, typically used for selecting multiple columns."
   ]
  },
  {
   "cell_type": "code",
   "execution_count": null,
   "metadata": {},
   "outputs": [],
   "source": [
    "my_data.groupby('age')['income_in_k'].agg(['mean','sum', 'min', 'max'])"
   ]
  },
  {
   "cell_type": "code",
   "execution_count": null,
   "metadata": {},
   "outputs": [],
   "source": [
    "list = [12,15,22,44,51]\n",
    "\n",
    "def fact_check(numbers):\n",
    "    return[num*(num-1)for num in numbers]\n",
    "    \n",
    "result = fact_check(list)\n",
    "print(result)"
   ]
  },
  {
   "cell_type": "markdown",
   "metadata": {},
   "source": []
  },
  {
   "cell_type": "code",
   "execution_count": null,
   "metadata": {},
   "outputs": [],
   "source": [
    "### Filtering Even Numbers: Write a function filter_even(lst) that takes a list of integers and returns a new list containing only the even numbers.\n",
    "number_list = [12, 124, 19, 285, 222, 224]\n",
    "\n",
    "# Function to check if a single number is even\n",
    "def if_even(x):\n",
    "    return x % 2 == 0  # Return True if the number is even\n",
    "\n",
    "# Function to filter even numbers from a list\n",
    "def if_even_list(lst):\n",
    "    return [x for x in lst if if_even(x)]  # Use list comprehension to filter even numbers\n",
    "\n",
    "# Call the function and store the result\n",
    "result = if_even_list(number_list)\n",
    "\n",
    "# Print the result\n",
    "print(result)\n"
   ]
  }
 ],
 "metadata": {
  "kernelspec": {
   "display_name": "Python 3",
   "language": "python",
   "name": "python3"
  },
  "language_info": {
   "codemirror_mode": {
    "name": "ipython",
    "version": 3
   },
   "file_extension": ".py",
   "mimetype": "text/x-python",
   "name": "python",
   "nbconvert_exporter": "python",
   "pygments_lexer": "ipython3",
   "version": "3.11.4"
  }
 },
 "nbformat": 4,
 "nbformat_minor": 2
}
