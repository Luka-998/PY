{
 "cells": [
  {
   "cell_type": "markdown",
   "metadata": {},
   "source": [
    "### A Foundational Python Data Science Course\n",
    "## Session 04: Numpy: basic vector arithmetic, linear algebra, and broadcasting."
   ]
  },
  {
   "cell_type": "markdown",
   "metadata": {},
   "source": [
    "***"
   ]
  },
  {
   "cell_type": "markdown",
   "metadata": {},
   "source": [
    "### 0. What do we want to do today?\n",
    "\n",
    "Our goal in Session 04 is to learn the basics of **Numpy**, a powerful number-crunching machinery that turn Python into a **vector programming language** - a kind of language ideally suited for mathematical statistics and Data Science.  \n",
    "\n",
    "Along the way we will begin to understand how Numpy runs under Pandas and what is the relationship between them. And the basics of vector arithmetic in Numpy, of course. And how to vectorize a function with Numpy. And plenty of other things as well! "
   ]
  },
  {
   "cell_type": "markdown",
   "metadata": {},
   "source": [
    "### 1. Where am I?"
   ]
  },
  {
   "cell_type": "code",
   "execution_count": null,
   "metadata": {},
   "outputs": [],
   "source": [
    "import os\n",
    "work_dir = os.getcwd()\n",
    "print(work_dir)\n",
    "data_dir = os.path.join(work_dir,\"_data\")\n",
    "print(data_dir)\n"
   ]
  },
  {
   "cell_type": "markdown",
   "metadata": {},
   "source": [
    "### 2. Numpy, alright. A gentle introduction."
   ]
  },
  {
   "cell_type": "code",
   "execution_count": 3,
   "metadata": {},
   "outputs": [],
   "source": [
    "import numpy as np\n",
    "# set RGN seed\n",
    "np.random.seed(777)"
   ]
  },
  {
   "cell_type": "markdown",
   "metadata": {},
   "source": [
    "**N.B.** The `np.random.seed(777)` thing will be explained in the session."
   ]
  },
  {
   "cell_type": "markdown",
   "metadata": {},
   "source": [
    "Lists seem like an ideal Python structure to hold numerical data. But there are things lists can and cannot do:"
   ]
  },
  {
   "cell_type": "code",
   "execution_count": null,
   "metadata": {},
   "outputs": [],
   "source": [
    "import math\n",
    "l_1 = [10, 20, 30, 40, 50, 60, 70, 80, 90, 100]\n",
    "math.sqrt(l_1[-1])"
   ]
  },
  {
   "cell_type": "markdown",
   "metadata": {},
   "source": [
    "What if we need to take the square rooth of **all** elements in `l_1`?"
   ]
  },
  {
   "cell_type": "code",
   "execution_count": null,
   "metadata": {},
   "outputs": [],
   "source": [
    "import math\n",
    "l_1 = [10, 20, 30, 40, 50, 60, 70, 80, 90, 100]\n",
    "sqrt_l_1 = [math.sqrt(x) for x in l_1]\n",
    "print(sqrt_l_1)"
   ]
  },
  {
   "cell_type": "markdown",
   "metadata": {},
   "source": [
    "That would do. But this:"
   ]
  },
  {
   "cell_type": "code",
   "execution_count": null,
   "metadata": {},
   "outputs": [],
   "source": [
    "math.sqrt(l_1)"
   ]
  },
  {
   "cell_type": "markdown",
   "metadata": {},
   "source": [
    "**does not work.** Now,"
   ]
  },
  {
   "cell_type": "code",
   "execution_count": null,
   "metadata": {},
   "outputs": [],
   "source": [
    "v1_array = np.array(l_1)\n",
    "print(v1_array)\n",
    "print(type(v1_array))\n",
    "np.sqrt(v1_array)"
   ]
  },
  {
   "cell_type": "markdown",
   "metadata": {},
   "source": [
    "## The key difference between a Python list and a NumPy array when applying math.sqrt is:\n",
    "\n",
    "### Python List []: math.sqrt cannot be directly applied to a list. You need to iterate through each element and compute the square root individually. Example: [math.sqrt(x) for x in my_list].\n",
    "\n",
    "### NumPy Array([]): Supports element-wise operations. You can directly apply np.sqrt() to the entire array, and it will compute the square root of each element efficiently. Example: np.sqrt(my_array).\n",
    "\n",
    "NumPy arrays are optimized for mathematical operations, whereas lists are general-purpose collections."
   ]
  },
  {
   "cell_type": "markdown",
   "metadata": {},
   "source": [
    "More fun:"
   ]
  },
  {
   "cell_type": "code",
   "execution_count": null,
   "metadata": {},
   "outputs": [],
   "source": [
    "l_1 + 1"
   ]
  },
  {
   "cell_type": "markdown",
   "metadata": {},
   "source": [
    "---------------------------------------------------------------------------\n",
    "TypeError                                 Traceback (most recent call last)\n",
    "Cell In[19], line 1\n",
    "----> 1 l_1 + 1\n",
    "\n",
    "TypeError: can only concatenate list (not \"int\") to list"
   ]
  },
  {
   "cell_type": "code",
   "execution_count": null,
   "metadata": {},
   "outputs": [],
   "source": [
    "[x+1 for x in l_1]"
   ]
  },
  {
   "cell_type": "markdown",
   "metadata": {},
   "source": [
    "However, w. Numpy:"
   ]
  },
  {
   "cell_type": "code",
   "execution_count": null,
   "metadata": {},
   "outputs": [],
   "source": [
    "v1_array + 1"
   ]
  },
  {
   "cell_type": "markdown",
   "metadata": {},
   "source": [
    "Operations, like `+`, `-`, `*`, `**` and similar - as well as Numpy, *vectorized* functions, are applied to all elements of a Numpy vector simultaneously - unlike in lists that we need to iterate in order to achieve the same effect."
   ]
  },
  {
   "cell_type": "code",
   "execution_count": null,
   "metadata": {},
   "outputs": [],
   "source": [
    "v1_array *2\n",
    "v1_array ** 2\n"
   ]
  },
  {
   "cell_type": "markdown",
   "metadata": {},
   "source": [
    "# Scalars and Vectors\n",
    "\n",
    "**Scalar: A scalar is a single number, representing one value. For example, 5, 3.14, or -2 are scalar values. Scalars have zero dimensions (0D).**\n",
    "\n",
    "    > Example in Python: scalar = 5\n",
    "\n",
    "**Vector: A vector is a one-dimensional array of numbers, representing multiple values. It is essentially a collection of scalars arranged in a specific order. Vectors have one dimension (1D).**\n",
    "\n",
    "    > Example: [1, 2, 3] or a NumPy array np.array([1, 2, 3])"
   ]
  },
  {
   "cell_type": "markdown",
   "metadata": {},
   "source": [
    "A NumPy vector is simply a one-dimensional NumPy array, like np.array([1, 2, 3]). It allows for efficient mathematical operations and is optimized for numerical computation.\n",
    "\n",
    "A __vectorized function__ is a function that performs an operation on entire arrays (or vectors) element-wise __without__ the need for explicit loops. These functions take advantage of NumPy's internal implementation in C, making them highly optimized and faster than looping in Python.\n",
    "\n",
    "__Key characteristics:__\n",
    " -  Operates on entire arrays instead of individual elements.\n",
    " -  Eliminates the need for for loops.\n",
    " -  Provides concise and readable code."
   ]
  },
  {
   "cell_type": "markdown",
   "metadata": {},
   "source": []
  },
  {
   "cell_type": "code",
   "execution_count": null,
   "metadata": {},
   "outputs": [],
   "source": [
    "# scalar - without using numpy array and using for loop\n",
    "# make number ^2 in list\n",
    "l1 = [1,2,3,4]\n",
    "[x**2 for x in l1]\n",
    "\n",
    "# Now , using the vectorized functions\n",
    "import numpy as np\n",
    "l1_array = np.array([l1])\n",
    "l1_array**2\n"
   ]
  },
  {
   "cell_type": "markdown",
   "metadata": {},
   "source": [
    "### Why Use Vectorized Functions?\n",
    "\n",
    "-  __Speed__: NumPy's vectorized operations are implemented in C and are much faster than Python loops.\n",
    "-  __Simplicity__: Code is easier to read and write.\n",
    "-  __Efficiency__: Minimizes overhead and reduces Python's looping overhead."
   ]
  },
  {
   "cell_type": "markdown",
   "metadata": {},
   "source": [
    "#### Vectorizing functions with Numpy"
   ]
  },
  {
   "cell_type": "code",
   "execution_count": null,
   "metadata": {},
   "outputs": [],
   "source": [
    "def plus_one(x):\n",
    "    return(x+1)\n",
    "plus_one(5)"
   ]
  },
  {
   "cell_type": "code",
   "execution_count": null,
   "metadata": {},
   "outputs": [],
   "source": [
    "plus_one(l_1[0])"
   ]
  },
  {
   "cell_type": "code",
   "execution_count": null,
   "metadata": {},
   "outputs": [],
   "source": [
    "plus_one(l_1)"
   ]
  },
  {
   "cell_type": "code",
   "execution_count": null,
   "metadata": {},
   "outputs": [],
   "source": [
    "plus_one_vectorize = np.vectorize(plus_one)\n",
    "plus_one_vectorize(l1)\n"
   ]
  },
  {
   "cell_type": "markdown",
   "metadata": {},
   "source": [
    "**N.B.** My call to `plus_one_v()`, i.e. `plus_one_v(l_1)` has automatically turned the `l_1` list into a Numpy vector before execution. Now `plus_one_v()` is a *vectorized* version of `plus_one()`."
   ]
  },
  {
   "cell_type": "markdown",
   "metadata": {},
   "source": [
    "## Important\n",
    "\n",
    "### Vectorization:\n",
    "-  It's the process of applying a function to an entire array (or list) at once, without using explicit loops.\n",
    "-  It makes your code shorter, cleaner, and faster, as NumPy's operations are optimized in C.\n",
    "\n",
    "### Automatic Conversion:\n",
    "\n",
    "-  When you pass a list like l_1 to the vectorized function, NumPy automatically treats it like a NumPy array internally. This allows for efficient element-wise operations.\n",
    "\n",
    "### Why Use Vectorization?\n",
    "\n",
    "-  Normal Python loop for applying plus_one to a list:"
   ]
  },
  {
   "cell_type": "code",
   "execution_count": null,
   "metadata": {},
   "outputs": [],
   "source": [
    "result = [plus_one(x) for x in l_1]\n",
    "#This is explicit and works fine but can be slower for large datasets."
   ]
  },
  {
   "cell_type": "markdown",
   "metadata": {},
   "source": [
    "-  Vectorized version:"
   ]
  },
  {
   "cell_type": "code",
   "execution_count": null,
   "metadata": {},
   "outputs": [],
   "source": [
    "result = plus_one_v(l_1)\n",
    "\n",
    "# NumPy handles the iteration internally, which is optimized for performance."
   ]
  },
  {
   "cell_type": "markdown",
   "metadata": {},
   "source": [
    "Without Vectorization:"
   ]
  },
  {
   "cell_type": "code",
   "execution_count": null,
   "metadata": {},
   "outputs": [],
   "source": [
    "l_1 = [1,2,3,4]\n",
    "result = [plus_one(x) for x in l_1]\n",
    "print(result)"
   ]
  },
  {
   "cell_type": "markdown",
   "metadata": {},
   "source": [
    "With __Vectorization__ (numpy):"
   ]
  },
  {
   "cell_type": "code",
   "execution_count": null,
   "metadata": {},
   "outputs": [],
   "source": [
    "import numpy as np\n",
    "l_1 = [1, 2, 3, 4]\n",
    "plus_one_v = np.vectorize(plus_one)\n",
    "result = plus_one_v(l_1)\n",
    "print(result)  # Output: [2, 3, 4, 5]\n"
   ]
  },
  {
   "cell_type": "markdown",
   "metadata": {},
   "source": [
    "np.vectorize Purpose: \n",
    "\n",
    "-  It is specifically used to transform functions that operate on a single value at a time into vectorized functions that can operate on entire lists, arrays, or iterables element-wise.\n",
    "\n",
    "After Vectorizing:\n",
    "\n",
    "-  Once a function is vectorized using np.vectorize, you can pass a list, NumPy array, or other iterables to it, and NumPy will handle applying the function to each element for you.\n",
    "\n",
    "***"
   ]
  },
  {
   "cell_type": "markdown",
   "metadata": {},
   "source": [
    "Let's vectorize something else, w/o help from `np.vectorize()`. In Decision Theory, specifically in Choice under Risk, there is the concept of the Expected Utility of a set of risky options (called a *lottery* when put together), e.g.:\n",
    "\n",
    "- **Option A**: Stay home, watch a movie. (costs \\$5 to rent a movie via online services)\n",
    "- **Option B**: Go to cinema, watch a movie. (costs \\$10 to buy a ticket)\n",
    "\n",
    "\n",
    "\n",
    "- **Option A1**: Stay home, play a board game. (costs \\$10 to buy a board game)\n",
    "- **Option B1:** Go to the board game club, play a board game. (costs \\$3.5 to enter the club)\n",
    "\n",
    "Let's assume that a decision maker has a Utility Function $u(x)$ for money that maps monetary value to utiliy, and that $u(x)$ takes a form of a power-utility function, i.e. $u(x) = x^{\\rho}$ with some exponent $\\rho$ controlling the function. "
   ]
  },
  {
   "cell_type": "markdown",
   "metadata": {},
   "source": [
    "Before we proceed, here is the bried explanation of the concepts above:\n",
    "\n",
    "__Decision Theory__ is a concept rooted in statistics, mathematics, and economics, focusing on making optimal choices under conditions of uncertainty or risk. It combines statistical reasoning with human decision-making processes.\n",
    "\n",
    "-  Key Components of Decision Theory:\n",
    "\n",
    "> Decision Maker\n",
    "\n",
    "> Alternatives (The set of possible actions or choices (e.g., invest in A or B?)).\n",
    "\n",
    "> Outcomes\n",
    "\n",
    "> States of Nature (Possible scenarios or conditions beyond the control of the decision-maker (e.g., weather conditions, market changes).)\n",
    "\n",
    "> Payoff (The result or \"reward\" associated with each choice and scenario, often measured in terms of profit, utility, or benefit.)\n",
    "\n",
    "> Probability (The likelihood of each state of nature or outcome.)"
   ]
  },
  {
   "cell_type": "markdown",
   "metadata": {},
   "source": [
    "### A utility function like u(x)=xpu(x)=xp is a way to quantify the satisfaction (utility) a decision-maker derives from a certain amount of money xx. This specific form is known as a power-utility function, and the exponent pp controls the behavior of the function."
   ]
  },
  {
   "cell_type": "markdown",
   "metadata": {},
   "source": [
    "Utility Function u(x):\n",
    "-  It represents how much \"value\" or \"satisfaction\" someone gets from money.\n",
    "-  The utility function is often non-linear because the value of money doesn't grow equally for everyone. For example, $10 might be more valuable to someone with only $100 than to someone with $10,000."
   ]
  },
  {
   "cell_type": "markdown",
   "metadata": {},
   "source": [
    "Power-Utility Function $u(x) = x^{\\rho}$\n",
    "\n",
    "-  The function raises xx (money) to the power of pp, where pp controls the curvature of the function.\n",
    "\n",
    "-  p>0: The function is increasing, meaning more money provides more utility.\n",
    "\n",
    "-  The shape of the function depends on the value of p."
   ]
  },
  {
   "cell_type": "markdown",
   "metadata": {},
   "source": [
    "Let's assume that a decision maker has a Utility Function $u(x)$ for money that maps monetary value to utiliy, and that $u(x)$ takes a form of a power-utility function, i.e. $u(x) = x^{\\rho}$ with some exponent $\\rho$ controlling the function.  (From above)"
   ]
  },
  {
   "cell_type": "code",
   "execution_count": null,
   "metadata": {},
   "outputs": [],
   "source": [
    "import pandas as pd\n",
    "import numpy as np\n",
    "rho = .67\n",
    "x = np.linspace(0,10,100)\n",
    "ux = x**rho\n",
    "display_data = pd.DataFrame({'money':x,'utility':ux})\n",
    "display_data.plot.line(x ='money', y='utility')\n"
   ]
  },
  {
   "cell_type": "markdown",
   "metadata": {},
   "source": [
    "What is `np.linspace()`?"
   ]
  },
  {
   "cell_type": "code",
   "execution_count": null,
   "metadata": {},
   "outputs": [],
   "source": [
    "np.linspace(0,10,100)"
   ]
  },
  {
   "cell_type": "markdown",
   "metadata": {},
   "source": [
    "__np.linspace()__ is a NumPy function used to generate an array of evenly spaced numbers over a specified range. It's particularly useful when you want to divide a range into a certain number of intervals.\n",
    "\n",
    "-  Visualization: Often used to generate data points for plotting functions (e.g., graphs in matplotlib).\n",
    "\n",
    "-  Sampling: Divide a continuous range into discrete intervals for numerical analysis."
   ]
  },
  {
   "cell_type": "code",
   "execution_count": null,
   "metadata": {},
   "outputs": [],
   "source": [
    "# Examples: (start, end, step)\n",
    "\n",
    "import numpy as np\n",
    "arr = np.linspace(0,10,5)\n",
    "print(arr)\n",
    "# output [ 0.   2.5  5.   7.5 10. ]"
   ]
  },
  {
   "cell_type": "markdown",
   "metadata": {},
   "source": [
    "-  The range from 0 to 10 is divided into 5 evenly spaced numbers."
   ]
  },
  {
   "cell_type": "code",
   "execution_count": null,
   "metadata": {},
   "outputs": [],
   "source": [
    "import numpy as np\n",
    "arr = np.linspace(0,10, endpoint=False)\n",
    "print(arr)\n",
    "# output [0.  0.2 0.4 0.6 0.8 1.  1.2 1.4 1.6 1.8 2.  2.2 2.4 2.6 2.8 3.  3.2 3.4 3.6 3.8 4.  4.2 4.4 4.6 4.8 5.  5.2 5.4 5.6 5.8 6.  6.2 6.4 6.6 6.8 7.7.2 7.4 7.6 7.8 8.  8.2 8.4 8.6 8.8 9.  9.2 9.4 9.6 9.8]"
   ]
  },
  {
   "cell_type": "markdown",
   "metadata": {},
   "source": [
    "Now, let's assume that the probabilities of options `A`, `B`, `A1`, and `B1` are known to the decision maker, and that we have, of course, $P(A)+P(B)=1$ and $P(A1)+P(B1)=1$:\n",
    "\n",
    "- **P(A) = .55**: Stay home, watch a movie. (costs \\$5 to rent a movie via online services)\n",
    "- **P(B) = .45**: Go to cinema, watch a movie. (costs \\$10 to buy a ticket)\n",
    "\n",
    "\n",
    "- **P(A1) = .75**: Stay home, play a board game. (costs \\$10 to buy a board game)\n",
    "- **P(B1) = .25**: Go to the board game club, play a board game. (costs \\$3.5 to enter the club)"
   ]
  },
  {
   "cell_type": "code",
   "execution_count": null,
   "metadata": {},
   "outputs": [],
   "source": [
    "import numpy as np\n",
    "import pandas as pd\n",
    "\n",
    "#power of utility function exponent\n",
    "\n",
    "rho = 0.67\n",
    "\n",
    "# lottery (A,B)\n",
    "pa = 0.55\n",
    "pb = 0.45\n",
    "ca = 5 # cost of option A\n",
    "cb = 10 # cost of option B\n",
    "eu_ab = pa*ca**rho + pb*cb**rho # Expected utility for the lottery (A,B)(A,B), calculated as: # EU(A,B)=P(A)⋅u(cA​)+P(B)⋅u(cB​)\n",
    "print('EU(A,B) = '+ str(eu_ab))\n",
    "\n",
    "pa1 = 0.75\n",
    "pb1 = 0.25\n",
    "ca1 = 10\n",
    "cb1 =3.5\n",
    "eu_a1b1 = pa1*ca1**rho + pb1*cb1**rho\n",
    "print('EU_A1B1 = '+ str(eu_a1b1))\n"
   ]
  },
  {
   "cell_type": "markdown",
   "metadata": {},
   "source": [
    "-  u(cA​)=cAρ​ is the utility of spending $5.\n",
    "-  u(cB)=cBρu(cB​)=cBρ​ is the utility of spending $10.\n",
    "\n",
    "### Why u(cA)=cAρu(cA​)=cAρ​ for cA=5cA​=5?\n",
    "\n",
    "-  cA​ represents the cost of staying home to watch a movie, which is $5.\n",
    "-  The utility function maps this monetary cost (cAcA​) into a subjective level of satisfaction. The function cAρcAρ​ takes into account the diminishing returns to utility from money  if   \n",
    "ρ<1ρ<1.\n",
    "-  For ρ=0.67ρ=0.67, spending $5 yields a utility of 50.6750.67, which reflects how much \"value\" the decision maker derives from that $5 based on their preferences."
   ]
  },
  {
   "cell_type": "markdown",
   "metadata": {},
   "source": [
    "And since monetary values constitue costs in this example, the decision maker - if cares only about the utility of money - should choose $(A,B)$ over $(A1,B1)$ according to the principle of Maximum Expected Utility.\n",
    "\n",
    "-   A higher expected utility reflects a better combination of satisfaction (utility) and likelihood of outcomes. In this case, the decision maker perceives more overall value in the A1B1 options despite the costs involved. ​​"
   ]
  },
  {
   "cell_type": "markdown",
   "metadata": {},
   "source": [
    "A Python function to compute the expected utility of a lottery:"
   ]
  },
  {
   "cell_type": "code",
   "execution_count": null,
   "metadata": {},
   "outputs": [],
   "source": [
    "def eu(p1, p2, v1, v2, rho):\n",
    "    leu= p1*v1**rho + p2*v2**rho\n",
    "    return(leu)\n",
    "#test eu\n",
    "eu(p1=0.75,v1=10,p2=0.25,v2=3.5,rho=0.67)"
   ]
  },
  {
   "cell_type": "markdown",
   "metadata": {},
   "source": [
    "Ok, now that works. However: what if we need to evaluate many lotteries at once?"
   ]
  },
  {
   "cell_type": "code",
   "execution_count": null,
   "metadata": {},
   "outputs": [],
   "source": [
    "pA = [.15, .33, .84]\n",
    "vA = [10, 20, 30]\n",
    "pB = [.85, .77, .16]\n",
    "vB = [8, 17, 45]\n",
    "\n",
    "lots = pd.DataFrame({'pA':pA, 'vA':vA,'pB':pB,'vB':vB})\n",
    "lots"
   ]
  },
  {
   "cell_type": "markdown",
   "metadata": {},
   "source": [
    "Vectorized `eu()` via Numpy:"
   ]
  },
  {
   "cell_type": "code",
   "execution_count": null,
   "metadata": {},
   "outputs": [],
   "source": [
    "def eu_v(lotteries, rho):\n",
    "    uA=np.power(lotteries['vA'],rho)\n",
    "    uB=np.power(lotteries['vB'],rho)\n",
    "    leu=pA*uA+pB*uB\n",
    "    return leu\n",
    "eu_v(lots,rho)"
   ]
  },
  {
   "cell_type": "markdown",
   "metadata": {},
   "source": [
    "**Yes:** you can perform vectorized operations and use vectorized functions on `pd.DataFrame` columns.\n",
    "\n",
    "**Remember:** a `pd.Series` object is, essentialy, a `np.array` with an index attached."
   ]
  },
  {
   "cell_type": "markdown",
   "metadata": {},
   "source": [
    "Check (first lottery only):"
   ]
  },
  {
   "cell_type": "code",
   "execution_count": null,
   "metadata": {},
   "outputs": [],
   "source": [
    "eu1 = pA[0]*vA[0]**rho + pB[0]*vB[0]**rho \n",
    "print(eu1)"
   ]
  },
  {
   "cell_type": "markdown",
   "metadata": {},
   "source": [
    "Check (second lottery only):"
   ]
  },
  {
   "cell_type": "code",
   "execution_count": null,
   "metadata": {},
   "outputs": [],
   "source": [
    "eu2 = pA[1]*vA[1]**rho + pB[1]*vB[1]**rho\n",
    "print(eu2)"
   ]
  },
  {
   "cell_type": "markdown",
   "metadata": {},
   "source": [
    "**N.B.** `np.vectorize` is not really recommended. As the Numpy documentation states:\n",
    "> The vectorize function is provided primarily for convenience, not for performance. The implementation is essentially a for loop.\n",
    "[numpy.vectorize](https://numpy.org/doc/stable/reference/generated/numpy.vectorize.html)\n",
    "\n",
    "You should always write your own vectorized functions with Numpy."
   ]
  },
  {
   "cell_type": "markdown",
   "metadata": {},
   "source": [
    "### 3.  __Numpy__ step by step:"
   ]
  },
  {
   "cell_type": "code",
   "execution_count": null,
   "metadata": {},
   "outputs": [],
   "source": [
    "a = [1,2,3]\n",
    "b = [2,2,2]\n",
    "\n",
    "result1 = a*b\n",
    "\n",
    "# - a*b rises an error\n",
    "# - TypeError: can't multiply sequence by non-int of type 'list'\n",
    "\n",
    "#but if we multiply it as an array:\n",
    "import numpy as np\n",
    "a = np.array([1,2,3])\n",
    "b = np.array([2,2,2])\n",
    "result2 = a*b\n",
    "print(result2)\n",
    "# [2,4,6]"
   ]
  },
  {
   "cell_type": "markdown",
   "metadata": {},
   "source": [
    "#### Element-wise operations"
   ]
  },
  {
   "cell_type": "code",
   "execution_count": null,
   "metadata": {},
   "outputs": [],
   "source": [
    "a = np.array([1,2,3])\n",
    "b = np.array([4,5,6])\n",
    "a+b\n",
    "\n",
    "# array([5, 7, 9])"
   ]
  },
  {
   "cell_type": "code",
   "execution_count": null,
   "metadata": {},
   "outputs": [],
   "source": [
    "a = np.array([10,10,10])\n",
    "b = np.array([2,3,4])\n",
    "\n",
    "a**b\n",
    "\n",
    "# array([  100,  1000, 10000])"
   ]
  },
  {
   "cell_type": "code",
   "execution_count": null,
   "metadata": {},
   "outputs": [],
   "source": [
    "a = np.repeat(10, repeats=3)\n",
    "print(a)\n",
    "\n",
    "# [10 10 10]\n",
    "\n",
    "b = np.array([2,3,4])\n",
    "a**b\n",
    "\n",
    "# array([  100,  1000, 10000])"
   ]
  },
  {
   "cell_type": "code",
   "execution_count": null,
   "metadata": {},
   "outputs": [],
   "source": [
    "np.repeat(10, repeats=3)\n",
    "\n",
    "# array([10, 10, 10])"
   ]
  },
  {
   "cell_type": "code",
   "execution_count": null,
   "metadata": {},
   "outputs": [],
   "source": [
    "a = np.repeat(10, repeats=3)\n",
    "print(type(a))\n",
    "# <class 'numpy.ndarray'>\n",
    "b = a.tolist()\n",
    "print(type(b))\n",
    "# <class 'list'>\n",
    "\n",
    "# .tolist() method is used to convert type to a list."
   ]
  },
  {
   "cell_type": "code",
   "execution_count": null,
   "metadata": {},
   "outputs": [],
   "source": [
    "a = np.repeat(10, repeats = 3)\n",
    "list(a)\n",
    "\n",
    "# [10, 10, 10]"
   ]
  },
  {
   "cell_type": "markdown",
   "metadata": {},
   "source": [
    "#### Matrices"
   ]
  },
  {
   "cell_type": "markdown",
   "metadata": {},
   "source": [
    "### A matrix is a two-dimensional array (rows × columns) used to represent data in rows and columns.\n",
    "#### Matrices could be created with numpy array- __np.array__ or numpy matrix __np.matrix__ :"
   ]
  },
  {
   "cell_type": "code",
   "execution_count": null,
   "metadata": {},
   "outputs": [],
   "source": [
    "matrix_array = np.array([[1, 2, 3], [4, 5, 6]])\n",
    "display(matrix_array)\n",
    "\n",
    "# array([[1, 2, 3],\n",
    "#          [4, 5, 6]])"
   ]
  },
  {
   "cell_type": "markdown",
   "metadata": {},
   "source": [
    "### Using np.array: General-purpose, supports multi-dimensional data.\n",
    "\n",
    "## Using np.matrix: Specialized for 2D data (less flexible, not recommended)."
   ]
  },
  {
   "cell_type": "code",
   "execution_count": null,
   "metadata": {},
   "outputs": [],
   "source": [
    "matrix = np.matrix([[1, 2, 3], [4, 5, 6]])\n",
    "display(matrix)\n",
    "\n",
    "# matrix([[1, 2, 3],\n",
    "#        [4, 5, 6]])"
   ]
  },
  {
   "cell_type": "code",
   "execution_count": null,
   "metadata": {},
   "outputs": [],
   "source": [
    "mat = np.array([[1,2,3],\n",
    "             [4,5,6],\n",
    "             [7,8,9]])\n",
    "\n",
    "display(mat)\n"
   ]
  },
  {
   "cell_type": "code",
   "execution_count": null,
   "metadata": {},
   "outputs": [],
   "source": [
    "np.shape(mat)\n",
    "# expected shape 3 rows 3 columns\n",
    "# output (3, 3)"
   ]
  },
  {
   "cell_type": "markdown",
   "metadata": {},
   "source": [
    "#### Subsetting vectors, matrices, and multidimensional arrays"
   ]
  },
  {
   "cell_type": "code",
   "execution_count": null,
   "metadata": {},
   "outputs": [],
   "source": [
    "print(mat)\n",
    "mat[0,0]\n",
    "#output 1\n"
   ]
  },
  {
   "cell_type": "code",
   "execution_count": null,
   "metadata": {},
   "outputs": [],
   "source": [
    "print(mat)\n",
    "mat[0,1]\n",
    "\n",
    "#output 2\n",
    "\n",
    "# Slicing the mat [ROWS,COLUMNS]"
   ]
  },
  {
   "cell_type": "code",
   "execution_count": null,
   "metadata": {},
   "outputs": [],
   "source": [
    "print(mat)\n",
    "mat[:,0]\n",
    "\n",
    "# expected output is 1,4,7"
   ]
  },
  {
   "cell_type": "code",
   "execution_count": null,
   "metadata": {},
   "outputs": [],
   "source": [
    "print(mat)\n",
    "mat[:,2]\n",
    "\n",
    "#expected output 3,6,9"
   ]
  },
  {
   "cell_type": "markdown",
   "metadata": {},
   "source": [
    "Use a list to subset a NumPy array"
   ]
  },
  {
   "cell_type": "code",
   "execution_count": null,
   "metadata": {},
   "outputs": [],
   "source": [
    "v = np.linspace(1, 10, 10, dtype=int)\n",
    "print(v)"
   ]
  },
  {
   "cell_type": "code",
   "execution_count": null,
   "metadata": {},
   "outputs": [],
   "source": [
    "v[[0,2,4]] #[[]] NumPy fancy indexing:"
   ]
  },
  {
   "cell_type": "markdown",
   "metadata": {},
   "source": [
    "### Numpy __Fancy Indexing__ :\n",
    "\n",
    "-   Fancy indexing requires passing a list or array explicitly inside double square brackets.\n",
    "\n",
    "-   Fancy indexing returns a new array and does not alter the original one.\n",
    "\n",
    "-   Fancy indexing is a powerful way to select specific elements from a NumPy array using an array (or list) of indices. It allows for flexible selection of multiple non-consecutive elements."
   ]
  },
  {
   "cell_type": "code",
   "execution_count": null,
   "metadata": {},
   "outputs": [],
   "source": [
    "a = np.array([1,2,3])\n",
    "a.shape\n",
    "#expected [3,]\n",
    "a.ndim\n",
    "#expected 1\n",
    "mat.ndim\n",
    "#expected 2"
   ]
  },
  {
   "cell_type": "code",
   "execution_count": null,
   "metadata": {},
   "outputs": [],
   "source": [
    "multiarray = np.array([[[1, 2, 3], [4, 5, 6], [7, 8, 9]], \n",
    "                        [[10, 11, 12], [13, 14, 15], [16, 17, 18]],\n",
    "                        [[19, 20, 21], [22, 23, 24], [25, 26, 27]]])\n",
    "print(multiarray)\n",
    "multiarray.ndim"
   ]
  },
  {
   "cell_type": "code",
   "execution_count": null,
   "metadata": {},
   "outputs": [],
   "source": [
    "multiarray = np.linspace(1,27,27, dtype=int)\n",
    "print(multiarray)\n",
    "multiarray = np.reshape(multiarray, newshape=(3,3,3))\n",
    "print(multiarray)"
   ]
  },
  {
   "cell_type": "code",
   "execution_count": null,
   "metadata": {},
   "outputs": [],
   "source": [
    "np.linspace(-10,10,100)"
   ]
  },
  {
   "cell_type": "code",
   "execution_count": null,
   "metadata": {},
   "outputs": [],
   "source": [
    "np.arange(2,2)"
   ]
  },
  {
   "cell_type": "markdown",
   "metadata": {},
   "source": [
    "## np.arange()\n",
    "\n",
    "-   np.arange() is a function in NumPy used to generate a sequence of numbers. It is similar to Python's built-in range() function but more powerful because it can handle non-integer steps and create NumPy arrays directly.\n",
    "\n",
    "-                               np.arange([start, ] stop[, step], dtype=None)                               -\n",
    "-   np.arange(1, 10, 2) 1 -> start | 10 -> stop | 2 -> stepsize\n"
   ]
  },
  {
   "cell_type": "code",
   "execution_count": null,
   "metadata": {},
   "outputs": [],
   "source": [
    "np.arange(1,10) # end value not included\n",
    "np.arange(1,11) # end value not included"
   ]
  },
  {
   "cell_type": "markdown",
   "metadata": {},
   "source": [
    "Subsetting: work outside in"
   ]
  },
  {
   "cell_type": "markdown",
   "metadata": {},
   "source": [
    "First layer od a 3D structure:"
   ]
  },
  {
   "cell_type": "code",
   "execution_count": 1,
   "metadata": {},
   "outputs": [
    {
     "ename": "NameError",
     "evalue": "name 'multiarray' is not defined",
     "output_type": "error",
     "traceback": [
      "\u001b[1;31m---------------------------------------------------------------------------\u001b[0m",
      "\u001b[1;31mNameError\u001b[0m                                 Traceback (most recent call last)",
      "Cell \u001b[1;32mIn[1], line 1\u001b[0m\n\u001b[1;32m----> 1\u001b[0m \u001b[43mmultiarray\u001b[49m[\u001b[38;5;241m2\u001b[39m,:,]\n",
      "\u001b[1;31mNameError\u001b[0m: name 'multiarray' is not defined"
     ]
    }
   ],
   "source": [
    "multiarray[2,:,]"
   ]
  },
  {
   "cell_type": "markdown",
   "metadata": {},
   "source": [
    "Second layer of a 3D strucutre:"
   ]
  },
  {
   "cell_type": "code",
   "execution_count": null,
   "metadata": {},
   "outputs": [],
   "source": [
    "multiarray[2,:,]"
   ]
  },
  {
   "cell_type": "markdown",
   "metadata": {},
   "source": [
    "The comma , inside the square brackets in multiarray[0, :, :] is part of NumPy's multi-dimensional indexing syntax. It allows you to access specific layers, rows, and columns in a multi-dimensional array in an intuitive way."
   ]
  },
  {
   "cell_type": "markdown",
   "metadata": {},
   "source": [
    "Explanation of multiarray [0 , : , : ]:"
   ]
  },
  {
   "cell_type": "markdown",
   "metadata": {},
   "source": [
    "> 0: Refers to the first layer of the 3D array.\n",
    "\n",
    "> : (row selector): Means \"select all rows\" from this layer.\n",
    "\n",
    "> : (column selector): Means \"select all columns\" for each row in this layer.\n",
    "\n",
    "***"
   ]
  },
  {
   "cell_type": "markdown",
   "metadata": {},
   "source": [
    "NumPy uses explicit dimensional indexing:\n",
    "\n",
    "> The comma separates dimensions in the array.\n",
    "\n",
    "-   multiarray[0] → Accesses the first layer (0th index) but implicitly selects the entire 2D slice, equivalent to multiarray[0, :, :].\n",
    "\n",
    "-   multiarray[0, :] → Accesses all rows from the first layer (2D array).\n"
   ]
  },
  {
   "cell_type": "code",
   "execution_count": null,
   "metadata": {},
   "outputs": [],
   "source": [
    "#Stepsize\n",
    "\n",
    "a = [1,2,3,4,5,6,7,8,9]\n",
    "\n",
    "a[0:10:2]"
   ]
  },
  {
   "cell_type": "markdown",
   "metadata": {},
   "source": [
    "Set the value of an element"
   ]
  },
  {
   "cell_type": "code",
   "execution_count": null,
   "metadata": {},
   "outputs": [],
   "source": [
    "print(mat)\n",
    "mat[0,1] = 17\n",
    "\n",
    "\n",
    "#expected num 17 instead of 2 in the first row (2nd columns)"
   ]
  },
  {
   "cell_type": "markdown",
   "metadata": {},
   "source": []
  },
  {
   "cell_type": "markdown",
   "metadata": {},
   "source": [
    "Change whole row"
   ]
  },
  {
   "cell_type": "code",
   "execution_count": null,
   "metadata": {},
   "outputs": [],
   "source": [
    "mat[0, :] = [8,9,11]\n",
    "print(mat)"
   ]
  },
  {
   "cell_type": "markdown",
   "metadata": {},
   "source": [
    "Change mat back to original."
   ]
  },
  {
   "cell_type": "code",
   "execution_count": null,
   "metadata": {},
   "outputs": [],
   "source": [
    "mat[:,:] = [[1,2,3],[4,5,6],[7,8,9]]\n",
    "print(mat)\n",
    "\n",
    "#Now , try again to change the whole row #0\n",
    "\n",
    "mat[0,:] = [3,2,1]\n",
    "print(mat)\n",
    "\n",
    "# Great, you finally understood this. [0,:] - > 0 Represents 0 row (1,2,3), and : represents all columns in\n",
    "\n",
    "# Now , try to change only 2nd and 3rd column in the first row!\n",
    "\n",
    "mat[0,1:3] = [2,3]\n",
    "print(mat)\n",
    "\n",
    "# Great!"
   ]
  },
  {
   "cell_type": "markdown",
   "metadata": {},
   "source": [
    "Stacking arrays\n",
    "\n",
    "> np.vstack - Stacks arrays vertically (row-wise), one on top of the other."
   ]
  },
  {
   "cell_type": "code",
   "execution_count": null,
   "metadata": {},
   "outputs": [],
   "source": [
    "v1 = np.array([1,1,1,1])\n",
    "v2 = np.array([2,2,2,2])\n",
    "vstacked = np.vstack([v1,v2])\n",
    "print(vstacked)"
   ]
  },
  {
   "cell_type": "markdown",
   "metadata": {},
   "source": [
    "> np.hstack - Stacks arrays horizontally (column-wise), side by side."
   ]
  },
  {
   "cell_type": "code",
   "execution_count": null,
   "metadata": {},
   "outputs": [],
   "source": [
    "v1 = np.array([1,1,1,1])\n",
    "v2 = np.array([2,2,2,2])\n",
    "hstacked = np.hstack([v1,v2])\n",
    "print(hstacked)"
   ]
  },
  {
   "cell_type": "markdown",
   "metadata": {},
   "source": [
    "### Some algebraic operations"
   ]
  },
  {
   "cell_type": "markdown",
   "metadata": {},
   "source": [
    "__Transpose__"
   ]
  },
  {
   "cell_type": "code",
   "execution_count": null,
   "metadata": {},
   "outputs": [],
   "source": [
    "mat"
   ]
  },
  {
   "cell_type": "code",
   "execution_count": null,
   "metadata": {},
   "outputs": [],
   "source": [
    "mat.T"
   ]
  },
  {
   "cell_type": "code",
   "execution_count": null,
   "metadata": {},
   "outputs": [],
   "source": [
    "np.transpose(mat)"
   ]
  },
  {
   "cell_type": "code",
   "execution_count": null,
   "metadata": {},
   "outputs": [],
   "source": [
    "print(lots)\n",
    "lots[['vA','vB']].T"
   ]
  },
  {
   "cell_type": "markdown",
   "metadata": {},
   "source": [
    "Multiply matrix by a scalar constant, elementwise"
   ]
  },
  {
   "cell_type": "code",
   "execution_count": null,
   "metadata": {},
   "outputs": [],
   "source": [
    "C = 3\n",
    "print(mat)\n",
    "mat * C"
   ]
  },
  {
   "cell_type": "markdown",
   "metadata": {},
   "source": [
    "Matrix times matrix, **elementwise**"
   ]
  },
  {
   "cell_type": "code",
   "execution_count": null,
   "metadata": {},
   "outputs": [],
   "source": [
    "mat1 = np.array(([1, 1, 1], [2, 2, 2], [3, 3, 3]))\n",
    "print(mat1)\n",
    "print(mat)\n",
    "print(\"Element-wise product is: \")\n",
    "mat*mat1"
   ]
  },
  {
   "cell_type": "markdown",
   "metadata": {},
   "source": [
    "the same as:"
   ]
  },
  {
   "cell_type": "code",
   "execution_count": null,
   "metadata": {},
   "outputs": [],
   "source": [
    "np.multiply(mat,mat1)"
   ]
  },
  {
   "cell_type": "markdown",
   "metadata": {},
   "source": [
    "Vector by vector, **elementwise**:"
   ]
  },
  {
   "cell_type": "code",
   "execution_count": null,
   "metadata": {},
   "outputs": [],
   "source": [
    "x = mat[0,:]\n",
    "y = mat[1,:]\n",
    "x*y\n"
   ]
  },
  {
   "cell_type": "markdown",
   "metadata": {},
   "source": [
    "Algebraic operations: **the dot product**\n",
    "\n",
    "-    The dot product, also known as the scalar product, is a fundamental operation in linear algebra that combines two vectors to produce a single scalar value."
   ]
  },
  {
   "cell_type": "code",
   "execution_count": null,
   "metadata": {},
   "outputs": [],
   "source": [
    "v1 = np.array([1, 2, 3])\n",
    "v2 = np.array([5, 6, 7])\n",
    "print(v1)\n",
    "print(v2)\n"
   ]
  },
  {
   "cell_type": "code",
   "execution_count": null,
   "metadata": {},
   "outputs": [],
   "source": [
    "np.dot(v2,v1)"
   ]
  },
  {
   "cell_type": "markdown",
   "metadata": {},
   "source": [
    "Also, w. `@`:"
   ]
  },
  {
   "cell_type": "code",
   "execution_count": null,
   "metadata": {},
   "outputs": [],
   "source": [
    "v1 @ v2 # Dot\n",
    "v2 @ v1 "
   ]
  },
  {
   "cell_type": "markdown",
   "metadata": {},
   "source": [
    "Do not forget that this product **is not commutative for matrices**:"
   ]
  },
  {
   "cell_type": "code",
   "execution_count": null,
   "metadata": {},
   "outputs": [],
   "source": [
    "print(mat1)\n",
    "print(mat)\n",
    "print(\"Dot product: np.dot(mat, mat1)\")\n",
    "np.dot(mat, mat1)"
   ]
  },
  {
   "cell_type": "markdown",
   "metadata": {},
   "source": [
    "Dot product: vector times matrix"
   ]
  },
  {
   "cell_type": "code",
   "execution_count": null,
   "metadata": {},
   "outputs": [],
   "source": [
    "a = np.array([1,2,3])\n",
    "print(a)\n",
    "print(mat)\n",
    "np.dot(mat,a.T)"
   ]
  },
  {
   "cell_type": "markdown",
   "metadata": {},
   "source": [
    "Type"
   ]
  },
  {
   "cell_type": "code",
   "execution_count": null,
   "metadata": {},
   "outputs": [],
   "source": [
    "a.dtype"
   ]
  },
  {
   "cell_type": "code",
   "execution_count": null,
   "metadata": {},
   "outputs": [],
   "source": [
    "a.size"
   ]
  },
  {
   "cell_type": "code",
   "execution_count": null,
   "metadata": {},
   "outputs": [],
   "source": [
    "a = np.array([[1.1, 2, 3.14], [2, 2.22, 1.41]])\n",
    "a.dtype"
   ]
  },
  {
   "cell_type": "markdown",
   "metadata": {},
   "source": [
    "__np.outer()__\n",
    "\n",
    "-   The outer product of two vectors results in a matrix where each element is the product of elements from the two vectors. In NumPy, you can compute this using the np.outer() function.\n",
    "\n",
    "-   The resulting matrix is formed by multiplying each element of v1 (rows) with each element of v2 (columns):"
   ]
  },
  {
   "cell_type": "code",
   "execution_count": null,
   "metadata": {},
   "outputs": [],
   "source": [
    "print(v1)\n",
    "print(v2)\n",
    "np.outer(v1,v2)\n",
    "\n",
    "a1 = np.array([1,2,3])\n",
    "a2 = np.array([4,5,6])\n",
    "\n",
    "np.outer(a1,a2)"
   ]
  },
  {
   "cell_type": "markdown",
   "metadata": {},
   "source": [
    "### Broadcasting\n",
    "\n",
    "From the Numpy [Broadcasting](https://numpy.org/doc/stable/user/basics.broadcasting.html#) documentation:\n",
    "\n",
    "> The term broadcasting describes how NumPy treats arrays with different shapes during arithmetic operations. Subject to certain constraints, the smaller array is “broadcast” across the larger array so that they have compatible shapes. Broadcasting provides a means of vectorizing array operations so that looping occurs in C instead of Python. It does this without making needless copies of data and usually leads to efficient algorithm implementations. There are, however, cases where broadcasting is a bad idea because it leads to inefficient use of memory that slows computation."
   ]
  },
  {
   "cell_type": "code",
   "execution_count": null,
   "metadata": {},
   "outputs": [],
   "source": [
    "a = np.array([[[1,2,3],[4,5,6],[7,8,9]]])\n",
    "b = np.array([1,2,3])\n",
    "a+b\n",
    "a*b"
   ]
  },
  {
   "cell_type": "markdown",
   "metadata": {},
   "source": [
    "Example from NumPy [Broadcasting](https://numpy.org/doc/stable/user/basics.broadcasting.html) documentation: *A Practical Example: Vector Quantization*"
   ]
  },
  {
   "cell_type": "markdown",
   "metadata": {},
   "source": [
    "General Broadcasting Rules:\n",
    "\n",
    "> two dimension are compatible when:\n",
    "\n",
    "1. they are equal, or\n",
    "\n",
    "2. one of them is one\n",
    "\n",
    "3. Expand Dimensions: If a dimension is 1, it can be expanded to match the other dimension.(in addition to number 2. rule)\n",
    "\n",
    "\n",
    "-   If these conditions are not met, a __ValueError: operands could not be broadcast together__ exception is thrown, indicating that the arrays have incompatible shapes.\n",
    "\n",
    "-   Input arrays do not need to have the same number of dimensions. The resulting array will have the same number of dimensions as the input array with the greatest number of dimensions, where the size of each dimension is the largest size of the corresponding dimension among the input arrays. Note that missing dimensions are assumed to have size one.\n",
    "\n",
    "\n",
    "\n",
    "### Array a (shape: (5, 1)):\n",
    "\n",
    "> To match a target shape of (5, 6): \n",
    "\n",
    "> The first dimension (5) is already 5.\n",
    "\n",
    "-   The second dimension (1) can be expanded to 6.\n",
    "\n",
    "### Results: \n",
    "-   __a behaves like a (5, 6) array where each row [a[i, 0]] is broadcast across all columns.__"
   ]
  },
  {
   "cell_type": "code",
   "execution_count": null,
   "metadata": {},
   "outputs": [],
   "source": [
    "# - one data point\n",
    "observation = np.array([111.0, 188.0])\n",
    "# - several data points\n",
    "codes = np.array([[102.0, 203.0],\n",
    "    [132.0, 193.0],\n",
    "    [45.0, 155.0],\n",
    "    [57.0, 173.0]])\n",
    "\n",
    "# - the minimal distance between codes and observation:\n",
    "\n",
    "diff = codes - observation\n",
    "print(diff)\n",
    "\n",
    "# - Euclidean distances\n",
    "dist = np.sqrt(np.sum(diff**2,axis=1))\n",
    "print(dist)\n",
    "# - indice of the minimum\n",
    "w_min = np.argmin(dist)\n",
    "print(w_min)\n",
    "# - minimal distance\n",
    "print(dist[w_min])\n"
   ]
  },
  {
   "cell_type": "markdown",
   "metadata": {},
   "source": [
    "### More repeating of things"
   ]
  },
  {
   "cell_type": "code",
   "execution_count": null,
   "metadata": {},
   "outputs": [],
   "source": [
    "np.ones(10, dtype=int)\n",
    "np.ones((2, 5))"
   ]
  },
  {
   "cell_type": "code",
   "execution_count": null,
   "metadata": {},
   "outputs": [],
   "source": [
    "np.ones((2, 5))"
   ]
  },
  {
   "cell_type": "code",
   "execution_count": null,
   "metadata": {},
   "outputs": [],
   "source": [
    "np.zeros(4, dtype=int)"
   ]
  },
  {
   "cell_type": "code",
   "execution_count": null,
   "metadata": {},
   "outputs": [],
   "source": [
    "np.zeros((2,5))"
   ]
  },
  {
   "cell_type": "markdown",
   "metadata": {},
   "source": [
    "The np. full () function creates a new array of a specified shape and fills it with a constant value.\n",
    "\n",
    "> np.full(shape, fill_value, dtype=None)"
   ]
  },
  {
   "cell_type": "code",
   "execution_count": 2,
   "metadata": {},
   "outputs": [
    {
     "ename": "NameError",
     "evalue": "name 'np' is not defined",
     "output_type": "error",
     "traceback": [
      "\u001b[1;31m---------------------------------------------------------------------------\u001b[0m",
      "\u001b[1;31mNameError\u001b[0m                                 Traceback (most recent call last)",
      "Cell \u001b[1;32mIn[2], line 1\u001b[0m\n\u001b[1;32m----> 1\u001b[0m \u001b[43mnp\u001b[49m\u001b[38;5;241m.\u001b[39mfull((\u001b[38;5;241m2\u001b[39m,\u001b[38;5;241m2\u001b[39m),\u001b[38;5;241m10\u001b[39m)\n",
      "\u001b[1;31mNameError\u001b[0m: name 'np' is not defined"
     ]
    }
   ],
   "source": [
    "np.full((2,2),10)"
   ]
  },
  {
   "cell_type": "code",
   "execution_count": null,
   "metadata": {},
   "outputs": [],
   "source": [
    "np.random.random((3,4))"
   ]
  },
  {
   "cell_type": "markdown",
   "metadata": {},
   "source": [
    "-   np.random.randint(low, high=None, size=None, dtype=int)\n",
    "\n",
    "> low: Lowest (inclusive) integer to be drawn from the distribution.\n",
    "\n",
    "> high (optional): If provided, the largest (exclusive) integer to be drawn. If not provided, the range becomes [0, low).\n",
    "\n",
    "> size (optional): Output shape. For example, size=(m, n) creates an m x n array. If None, a single integer is returned."
   ]
  },
  {
   "cell_type": "code",
   "execution_count": null,
   "metadata": {},
   "outputs": [],
   "source": [
    "np.random.randint(10,15, size=(3,4))"
   ]
  },
  {
   "cell_type": "code",
   "execution_count": null,
   "metadata": {},
   "outputs": [],
   "source": [
    "v = np.array([1,3,5])\n",
    "print(v)\n",
    "np.repeat(10, repeats=3)"
   ]
  },
  {
   "cell_type": "code",
   "execution_count": null,
   "metadata": {},
   "outputs": [],
   "source": [
    "a = np.array([[1,2,3],[4,5,6]])\n",
    "print(a)"
   ]
  },
  {
   "cell_type": "code",
   "execution_count": null,
   "metadata": {},
   "outputs": [],
   "source": [
    "np.repeat(a, repeats=2, axis=0)"
   ]
  },
  {
   "cell_type": "markdown",
   "metadata": {},
   "source": [
    "When using __np.repeat(a, repeats=2, axis=0)__, you're instructing NumPy to repeat each row of the array a twice along the rows (since axis=0 refers to rows)"
   ]
  },
  {
   "cell_type": "code",
   "execution_count": null,
   "metadata": {},
   "outputs": [],
   "source": [
    "np.repeat(a, repeats=2, axis=1) #columns, horizontally"
   ]
  },
  {
   "cell_type": "code",
   "execution_count": 3,
   "metadata": {},
   "outputs": [
    {
     "ename": "NameError",
     "evalue": "name 'np' is not defined",
     "output_type": "error",
     "traceback": [
      "\u001b[1;31m---------------------------------------------------------------------------\u001b[0m",
      "\u001b[1;31mNameError\u001b[0m                                 Traceback (most recent call last)",
      "Cell \u001b[1;32mIn[3], line 1\u001b[0m\n\u001b[1;32m----> 1\u001b[0m a \u001b[38;5;241m=\u001b[39m \u001b[43mnp\u001b[49m\u001b[38;5;241m.\u001b[39marray([[\u001b[38;5;241m1\u001b[39m, \u001b[38;5;241m2\u001b[39m, \u001b[38;5;241m3\u001b[39m]])\n\u001b[0;32m      2\u001b[0m \u001b[38;5;28mprint\u001b[39m(a\u001b[38;5;241m.\u001b[39mndim)\n\u001b[0;32m      3\u001b[0m np\u001b[38;5;241m.\u001b[39mrepeat(a, repeats\u001b[38;5;241m=\u001b[39m\u001b[38;5;241m2\u001b[39m, axis\u001b[38;5;241m=\u001b[39m\u001b[38;5;241m1\u001b[39m)\n",
      "\u001b[1;31mNameError\u001b[0m: name 'np' is not defined"
     ]
    }
   ],
   "source": [
    "a = np.array([[1, 2, 3]])\n",
    "print(a.ndim)\n",
    "np.repeat(a, repeats=2, axis=1)"
   ]
  },
  {
   "cell_type": "markdown",
   "metadata": {},
   "source": [
    "### Find elements based on conditions"
   ]
  },
  {
   "cell_type": "code",
   "execution_count": 135,
   "metadata": {},
   "outputs": [],
   "source": [
    "v1 = np.linspace(1,100,100, dtype=int)"
   ]
  },
  {
   "cell_type": "code",
   "execution_count": null,
   "metadata": {},
   "outputs": [],
   "source": [
    "print(v1)"
   ]
  },
  {
   "cell_type": "code",
   "execution_count": null,
   "metadata": {},
   "outputs": [],
   "source": [
    "cond1 = v1 > 50\n",
    "print(cond1)"
   ]
  },
  {
   "cell_type": "code",
   "execution_count": null,
   "metadata": {},
   "outputs": [],
   "source": [
    "v1[cond1] # give True values"
   ]
  },
  {
   "cell_type": "code",
   "execution_count": null,
   "metadata": {},
   "outputs": [],
   "source": [
    "v1[v1<50]"
   ]
  },
  {
   "cell_type": "code",
   "execution_count": null,
   "metadata": {},
   "outputs": [],
   "source": [
    "v1[(v1<50)&(v1>50)]"
   ]
  },
  {
   "cell_type": "code",
   "execution_count": null,
   "metadata": {},
   "outputs": [],
   "source": [
    "print(mat)"
   ]
  },
  {
   "cell_type": "code",
   "execution_count": null,
   "metadata": {},
   "outputs": [],
   "source": [
    "print(mat>5)"
   ]
  },
  {
   "cell_type": "markdown",
   "metadata": {},
   "source": [
    "`np.any()`\n",
    "\n",
    "-   The np.any() function in NumPy tests whether any elements in an array evaluate to True. If at least one element is True, the function returns True; otherwise, it returns False. This function is particularly useful for evaluating conditions across arrays, especially when combined with comparison operations."
   ]
  },
  {
   "cell_type": "code",
   "execution_count": 6,
   "metadata": {},
   "outputs": [
    {
     "name": "stdout",
     "output_type": "stream",
     "text": [
      "[[1 2 3]\n",
      " [4 5 6]\n",
      " [7 8 9]]\n"
     ]
    }
   ],
   "source": [
    "import numpy as np\n",
    "my_matrix = np.array([\n",
    "            [1,2,3],\n",
    "            [4,5,6],\n",
    "            [7,8,9]\n",
    "])\n",
    "\n",
    "print(my_matrix)\n"
   ]
  },
  {
   "cell_type": "code",
   "execution_count": 7,
   "metadata": {},
   "outputs": [
    {
     "data": {
      "text/plain": [
       "True"
      ]
     },
     "execution_count": 7,
     "metadata": {},
     "output_type": "execute_result"
    }
   ],
   "source": [
    "np.any(my_matrix) #True"
   ]
  },
  {
   "cell_type": "code",
   "execution_count": 8,
   "metadata": {},
   "outputs": [
    {
     "data": {
      "text/plain": [
       "False"
      ]
     },
     "execution_count": 8,
     "metadata": {},
     "output_type": "execute_result"
    }
   ],
   "source": [
    "np.any(my_matrix>10)"
   ]
  },
  {
   "cell_type": "markdown",
   "metadata": {},
   "source": [
    "np.any() on columns:"
   ]
  },
  {
   "cell_type": "code",
   "execution_count": 9,
   "metadata": {},
   "outputs": [
    {
     "data": {
      "text/plain": [
       "array([False,  True,  True])"
      ]
     },
     "execution_count": 9,
     "metadata": {},
     "output_type": "execute_result"
    }
   ],
   "source": [
    "np.any(my_matrix>7,axis=0)"
   ]
  },
  {
   "cell_type": "markdown",
   "metadata": {},
   "source": [
    "np.any() on rows:"
   ]
  },
  {
   "cell_type": "code",
   "execution_count": null,
   "metadata": {},
   "outputs": [],
   "source": [
    "np.any(my_matrix>7, axis=1)"
   ]
  },
  {
   "cell_type": "markdown",
   "metadata": {},
   "source": [
    " Axes are defined for arrays with more than one dimension. A 2-dimensional array has two corresponding axes: the first running vertically downwards across rows (axis 0), and the second running horizontally across columns (axis 1).\n",
    "\n",
    " > Axis 0: Runs vertically down the rows. Operations along this axis are column-wise. \n",
    "\n",
    " > Axis 1: Runs horizontally across the columns. Operations along this axis are row-wise. "
   ]
  },
  {
   "cell_type": "code",
   "execution_count": null,
   "metadata": {},
   "outputs": [],
   "source": [
    "a = np.array([[1,2,3],\n",
    "              [4,5,6]])\n",
    "\n",
    "np.sum(a,axis=0) # Column wise \n",
    "\n",
    "# output - array([5, 7, 9])\n",
    "\n",
    "np.sum(a,axis=1)\n",
    "\n",
    "# output - array([ 6, 15])"
   ]
  },
  {
   "cell_type": "markdown",
   "metadata": {},
   "source": [
    "`np.all()`\n",
    "\n",
    "-   The np.all() function in NumPy checks if all elements in an array evaluate to True. If every element meets this condition, the function returns True; otherwise, it returns False. This function is particularly useful for validating that all elements in an array satisfy a specific condition. "
   ]
  },
  {
   "cell_type": "code",
   "execution_count": 10,
   "metadata": {},
   "outputs": [
    {
     "data": {
      "text/plain": [
       "True"
      ]
     },
     "execution_count": 10,
     "metadata": {},
     "output_type": "execute_result"
    }
   ],
   "source": [
    "np.all(my_matrix)"
   ]
  },
  {
   "cell_type": "code",
   "execution_count": 11,
   "metadata": {},
   "outputs": [
    {
     "data": {
      "text/plain": [
       "False"
      ]
     },
     "execution_count": 11,
     "metadata": {},
     "output_type": "execute_result"
    }
   ],
   "source": [
    "np.all(my_matrix > 7)"
   ]
  },
  {
   "cell_type": "code",
   "execution_count": 12,
   "metadata": {},
   "outputs": [
    {
     "data": {
      "text/plain": [
       "True"
      ]
     },
     "execution_count": 12,
     "metadata": {},
     "output_type": "execute_result"
    }
   ],
   "source": [
    "np.all(my_matrix > 0)\n",
    "#expected True"
   ]
  },
  {
   "cell_type": "markdown",
   "metadata": {},
   "source": [
    "### The treatment of missing values in NumPy"
   ]
  },
  {
   "cell_type": "code",
   "execution_count": null,
   "metadata": {},
   "outputs": [],
   "source": [
    "import numpy as np\n",
    "v = np.array([1, 2, 3, 4, np.nan, 6, 7, np.nan, 8, 9])\n",
    "print(v)\n",
    "\n",
    "print(np.isnan(v))\n",
    "print(np.logical_not(np.isnan(v)))\n"
   ]
  },
  {
   "cell_type": "markdown",
   "metadata": {},
   "source": [
    "np.isnan () is returning boolean values of the same shape as (), where each element is True if corresponding element in () is NaN , and False otherwise.\n",
    "np.logical_not () inverts the boolean array such that True becomes Fales and opposite.\n"
   ]
  },
  {
   "cell_type": "code",
   "execution_count": null,
   "metadata": {},
   "outputs": [],
   "source": [
    "v.mean()"
   ]
  },
  {
   "cell_type": "code",
   "execution_count": null,
   "metadata": {},
   "outputs": [],
   "source": [
    "s = v[np.logical_not(np.isnan(v))] #this filters the Nan's and create the new array of values that are not NaN!\n",
    "print(s)\n",
    "s = np.sum(v[np.logical_not(np.isnan(v))])\n",
    "print(f\"Sum of array is {s}\")\n",
    "n = v[np.logical_not(np.isnan(v))].size\n",
    "print(n)\n",
    "s/n\n"
   ]
  },
  {
   "cell_type": "markdown",
   "metadata": {},
   "source": [
    "Also you can do:\n",
    "\n",
    "> See working task02 to restore the knowledge. \n",
    "\n",
    "#13. Using the following logical operators you can combine several logiacl conditions to extract the data based on those conditions:   \n",
    "   - ~ NOT\n",
    "\n",
    "   - | OR\n",
    "   \n",
    "   - & AND"
   ]
  },
  {
   "cell_type": "markdown",
   "metadata": {},
   "source": []
  },
  {
   "cell_type": "code",
   "execution_count": null,
   "metadata": {},
   "outputs": [],
   "source": [
    "s = np.sum(v[~(np.isnan(v))])\n",
    "print(s)\n",
    "\n",
    "v = np.array([1,4,19,np.nan,18.2,np.nan,np.nan])\n",
    "v_mean = np.mean(v[~(np.isnan(v))])\n",
    "print(v_mean)\n",
    "v_mean = np.nanmean(v)\n",
    "print(v_mean)\n",
    "\n",
    "# Perfect built-in for this situation :D"
   ]
  },
  {
   "cell_type": "markdown",
   "metadata": {},
   "source": [
    "But you should definitelly use `numpy.nanmean()`:"
   ]
  },
  {
   "cell_type": "markdown",
   "metadata": {},
   "source": [
    "> np.nanmean() is ignoring NaN values in the passed array calculating the mean of the values without NaN. "
   ]
  },
  {
   "cell_type": "markdown",
   "metadata": {},
   "source": [
    "### 4. Apply a Linear Regression Model w. known coefficients in Numpy:\n",
    "\n",
    "(https://www.youtube.com/watch?v=zPG4NjIkCjc&list=LL&index=1) -> please check a brief explanation of introdcution to a linear regression analysis. Key concepts are expalained in this video and it's recommended to watch it first, <10 min ."
   ]
  },
  {
   "cell_type": "markdown",
   "metadata": {},
   "source": [
    "A group of ten students took tests A, B, and C. We are now interested in their performance on some test D taken in the end of their first year in college.\n",
    "\n",
    "To our best knowledge, and knowing what major programs they have enrolled, we judge the test A result to be the most important indicator of their future performance, test B to be a little less relevant, and test C a poor indicator.\n",
    "\n",
    "We hypothesize that \n",
    "\n",
    "- if we put some multiplicative weights on test results say, i.e.\n",
    "- we weight test A (weight: $\\beta_1$), test B (weight: $\\beta_2$), and test C (weight: $\\beta_3$)\n",
    "- and add some constant, say $\\beta_0$ to, $\\beta_1A + \\beta_2B + \\beta_3C$ (let's represent the constant by $\\beta_0$)\n",
    "- we could predict their 1st year performance in college by\n",
    "\n",
    "$$D = \\beta_0 + \\beta_1A + \\beta_2B + \\beta_3C$$\n",
    "\n",
    "Following a convention, we could say that we have a linear regression model of the following form \n",
    "\n",
    "$$Y = \\beta_0 + \\beta_1X_1 + \\beta_2X_2 + \\beta_3X_3$$\n",
    "\n",
    "where $Y$ represents their 1st year performance on test D, while $X_1$, $X_2$, and $X_3$ stand for our A, B, and C test scores. We call $X_1$, $X_2$, and $X_3$ **the predictors**.\n",
    "\n",
    "Let's assume that we already know the optimal values for $\\beta_0$, $\\beta_1$, $\\beta_2$ and $\\beta_3$, and that these values are:\n",
    "\n",
    "- $\\beta_0=7.96$,\n",
    "- $\\beta_1=5.71$,\n",
    "- $\\beta_2=2.23$, and\n",
    "- $\\beta_3=.65$.\n",
    "\n",
    "We will also say that $\\beta_0$, $\\beta_1$, $\\beta_2$, and $\\beta_3$ are our **regression coefficients**\n",
    "\n",
    "Given the following data, how could we make Numpy compute $Y$ - the model predictions - for us?"
   ]
  },
  {
   "cell_type": "code",
   "execution_count": null,
   "metadata": {},
   "outputs": [],
   "source": [
    "import pandas as pd\n",
    "import numpy as np\n",
    "\n",
    "test_scores = pd.DataFrame({'A':[10, 7, 6, 2, 8, 8, 9, 5, 10, 7],\n",
    "                            'B':[6, 3, 3, 7, 7, 1, 4, 2, 10, 9],\n",
    "                            'C':[4, 5, 8, 7, 8, 9, 10, 2, 9, 10]})\n",
    "display(test_scores)\n",
    "\n",
    "test_scores.shape"
   ]
  },
  {
   "cell_type": "markdown",
   "metadata": {},
   "source": [
    "Let's now define a vector of coefficients, $\\beta$:\n",
    "\n",
    "Why Define Coefficients as a Vector?\n",
    "\n",
    "-   Compact Representation\n",
    "Representing coefficients as a vector allows you to express the linear regression model in a concise mathematical form -- > -    Y=X⋅β    -\n",
    "X is the design matrix containing all the predictor variables (test scores _A,B,C_).\n",
    "\n",
    "-   $\\beta$ is the coefficient vector ( $\\beta1$  $\\beta2$  $\\beta3 $ ) \n",
    "\n",
    "-   ⋅ denotes a dot product.\n",
    "\n",
    "> With a coefficient vector, predictions can be computed for all data points at once using matrix operations, which are computationally efficient.\n",
    "\n",
    "> If you add more predictors (e.g., test D, E), the coefficient vector simply grows. The formula and computation remain consistent regardless of the number of predictors.\n",
    "\n",
    "> Numpy is optimized for vectorized operations. Using a vector of coefficients makes it easy to calculate predictions YY for all students simultaneously, rather than computing them one at a time."
   ]
  },
  {
   "cell_type": "code",
   "execution_count": null,
   "metadata": {},
   "outputs": [],
   "source": [
    "import numpy as np\n",
    "betas = np.array([7.96, 5.71, 2.23, .65]) \n",
    "betas\n"
   ]
  },
  {
   "cell_type": "markdown",
   "metadata": {},
   "source": [
    "How to Use the Coefficient Vector:\n",
    "\n",
    "- The Models formula: _Y =  $\\beta$(0) + $\\beta$(2) x X1 + $\\beta$(2) x X2 + $\\beta$(3) x X3_\n",
    "\n",
    "Can be rewritten in the matrix form as:\n",
    "\n",
    "-  __Y__ = __X__ ⋅ $\\beta$ \n",
    "\n",
    "- Where Y is the vector of prediciton (output, Y values for all students)\n",
    "- __X__ is the desing matrix. (first column is all ones to account for the intercept ( $\\beta$(0) )\n",
    "\n",
    "​\n",
    " ### 1. intercept ( $\\beta$ ) - > \n",
    " \n",
    "-   What is intercept? __The intercept, $\\beta$​, is the baseline prediction when all other predictors _(X1,X2,X3)_ are zero. It represents the starting value of Y and adjusts the model to better fit the data__. Imagine you're predicting student performance (YY) based only on test scores A,B,C. If A = 0, B = 0 and C = 0 (which could happen in the dataset),the equation:\n",
    "\n",
    "    __Y = $\\beta$(0)+ $\\beta$(1)*A + $\\beta$(2)*B + $\\beta$(3)*C__\n",
    "\n",
    "would simplfy to:\n",
    "\n",
    "   >Y=$\\beta$(0)\n",
    "\n",
    ">Thus, β0​ gives a meaningful prediction even in the absence of any input values (predictors). Without β0β0​, your model would be forced to go through the origin (0,0), which is often unrealistic.\n",
    "\n",
    "\n",
    "### 2.  Why np.ones? why not np.zeros for example?\n",
    "\n",
    "> When we add a column of ones to the design matrix, it ensures that the intercept (β0β0​) is included in the dot product during the calculation. Here’s why:\n",
    "\n",
    "    -   If you use np.zeros instead of np.ones, the contribution of β0β0​ to the model would always be zero because:\n",
    "\n",
    "\n",
    " 0 ⋅ $\\beta$ = 0 !!\n",
    "\n",
    "\n",
    " #### This would effectively eliminate the intercept, which means your model won’t account for the baseline prediction.\n",
    "\n",
    "### 3. Dot Product in Linear Regression\n",
    "\n",
    "-   What is a __Dot__ product?\n",
    "\n",
    "- The dot product is a fundamental operation in linear algebra. For two vectors:\n",
    "\n",
    "    a = [a1,a2,a3] and b = [b1,b2,b3]\n",
    "\n",
    "-   The dot product is defined as:\n",
    "\n",
    "    a ⋅ b = a1b1 + a2b2 + a3b3\n",
    "\n",
    "It effectively multiplies corresponding elements and sums the results.\n",
    "\n",
    "\n",
    "#### 4.1 How Dot Product is Used in Linear Regression?\n",
    "\n",
    "### In matrix form, the linear regression model is:\n",
    "\n",
    " ## __Y__ = X ⋅ $\\beta$\n",
    " \n",
    "- The dot product computes the linear combination of the predictors with their respective coefficients for all rows (students) in the dataset."
   ]
  },
  {
   "cell_type": "code",
   "execution_count": null,
   "metadata": {},
   "outputs": [],
   "source": [
    "def linear_predict(design_matrix,coeffs):\n",
    "    # add column of ones for the intercept:\n",
    "    features_with_intercept = np.hstack((np.ones((design_matrix.shape[0],1)), design_matrix))\n",
    "    # compute the predictions\n",
    "    predictions = features_with_intercept @ coeffs\n",
    "    return predictions\n",
    "predictions = linear_predict(test_scores,betas)\n",
    "print(predictions.shape)\n",
    "print(predictions)"
   ]
  },
  {
   "cell_type": "markdown",
   "metadata": {},
   "source": [
    "Let's analyse this ^^ step by step."
   ]
  },
  {
   "cell_type": "markdown",
   "metadata": {},
   "source": [
    "Add a column of 1s for $\\beta_0$ (the intercept):"
   ]
  },
  {
   "cell_type": "code",
   "execution_count": null,
   "metadata": {},
   "outputs": [],
   "source": [
    "np.ones((test_scores.shape[0], 1))"
   ]
  },
  {
   "cell_type": "markdown",
   "metadata": {},
   "source": [
    "design_matrix.shape[0] refers to the number of rows in the design matrix.\n",
    "\n",
    "It is used to ensure that the added column of ones matches the row count of the original matrix.\n",
    "\n",
    " [0] is used because rows are the first dimension in Numpy arrays, and the .shape tuple lists dimensions in the order (rows, columns).\n",
    "\n",
    "\n",
    "### Main points here:\n",
    "\n",
    "-   design_matrix.shape[0] ensures that the column of ones has the same number of rows as the design_matrix.\n",
    "\n",
    "-   The 1 in the shape (design_matrix.shape[0], 1) specifies that this column has exactly one column."
   ]
  },
  {
   "cell_type": "markdown",
   "metadata": {},
   "source": [
    "Augmented design matrix:"
   ]
  },
  {
   "cell_type": "code",
   "execution_count": null,
   "metadata": {},
   "outputs": [],
   "source": [
    "aug_features = np.hstack((np.ones((test_scores.shape[0], 1)), test_scores))\n",
    "print(aug_features)"
   ]
  },
  {
   "cell_type": "markdown",
   "metadata": {},
   "source": [
    "The regression coefficients:"
   ]
  },
  {
   "cell_type": "code",
   "execution_count": null,
   "metadata": {},
   "outputs": [],
   "source": [
    "betas"
   ]
  },
  {
   "cell_type": "markdown",
   "metadata": {},
   "source": [
    "Prediction of D for the first student (first row in `test_scores`):"
   ]
  },
  {
   "cell_type": "code",
   "execution_count": null,
   "metadata": {},
   "outputs": [],
   "source": [
    "7.96 + 5.71*10 + 2.23*6 + .65*4"
   ]
  },
  {
   "cell_type": "markdown",
   "metadata": {},
   "source": [
    "Key Part: Adding the Column of Ones:\n",
    "\n",
    "np.ones((design_matrix.shape[0], 1))\n",
    "\n",
    "is used to create a column of ones that corresponds to the intercept (β0​) in the linear regression model.\n",
    "\n",
    "-   design_matrix.shape returns the shape of the matrix as a tuple: (number of rows,number of columns)(number of rows,number of columns).\n",
    "\n",
    "-   design_matrix.shape[0] gives the number of rows in the matrix, i.e., the number of data points (students in your case).\n",
    "\n",
    "\n",
    "test_scores = pd.DataFrame({'A':[10, 7, 6, 2, 8, 8, 9, 5, 10, 7],\n",
    "                            'B':[6, 3, 3, 7, 7, 1, 4, 2, 10, 9],\n",
    "                            'C':[4, 5, 8, 7, 8, 9, 10, 2, 9, 10]})\n",
    "\n",
    "-   design_matrix.shape[0] will return 10 because there are 10 rows (students).\n",
    "\n",
    "-   np.ones((design_matrix.shape[0], 1)): \n",
    "\n",
    "> Creates a column of ones with the same number of rows as the design_matrix.\n",
    "\n",
    "> The shape of this column is (number of rows, 1). For your example, it creates:\n",
    "\n",
    "\n",
    "[[1.],\n",
    " [1.],\n",
    " [1.],\n",
    " [1.],\n",
    " [1.],\n",
    " [1.],\n",
    " [1.],\n",
    " [1.],\n",
    " [1.],\n",
    " [1.]]"
   ]
  },
  {
   "cell_type": "markdown",
   "metadata": {},
   "source": [
    "exercise:"
   ]
  },
  {
   "cell_type": "code",
   "execution_count": 37,
   "metadata": {},
   "outputs": [
    {
     "data": {
      "text/html": [
       "<div>\n",
       "<style scoped>\n",
       "    .dataframe tbody tr th:only-of-type {\n",
       "        vertical-align: middle;\n",
       "    }\n",
       "\n",
       "    .dataframe tbody tr th {\n",
       "        vertical-align: top;\n",
       "    }\n",
       "\n",
       "    .dataframe thead th {\n",
       "        text-align: right;\n",
       "    }\n",
       "</style>\n",
       "<table border=\"1\" class=\"dataframe\">\n",
       "  <thead>\n",
       "    <tr style=\"text-align: right;\">\n",
       "      <th></th>\n",
       "      <th>A</th>\n",
       "      <th>B</th>\n",
       "      <th>C</th>\n",
       "    </tr>\n",
       "  </thead>\n",
       "  <tbody>\n",
       "    <tr>\n",
       "      <th>0</th>\n",
       "      <td>10</td>\n",
       "      <td>6</td>\n",
       "      <td>4</td>\n",
       "    </tr>\n",
       "    <tr>\n",
       "      <th>1</th>\n",
       "      <td>7</td>\n",
       "      <td>3</td>\n",
       "      <td>5</td>\n",
       "    </tr>\n",
       "    <tr>\n",
       "      <th>2</th>\n",
       "      <td>6</td>\n",
       "      <td>3</td>\n",
       "      <td>8</td>\n",
       "    </tr>\n",
       "    <tr>\n",
       "      <th>3</th>\n",
       "      <td>2</td>\n",
       "      <td>7</td>\n",
       "      <td>7</td>\n",
       "    </tr>\n",
       "    <tr>\n",
       "      <th>4</th>\n",
       "      <td>8</td>\n",
       "      <td>7</td>\n",
       "      <td>8</td>\n",
       "    </tr>\n",
       "    <tr>\n",
       "      <th>5</th>\n",
       "      <td>8</td>\n",
       "      <td>1</td>\n",
       "      <td>9</td>\n",
       "    </tr>\n",
       "    <tr>\n",
       "      <th>6</th>\n",
       "      <td>9</td>\n",
       "      <td>4</td>\n",
       "      <td>10</td>\n",
       "    </tr>\n",
       "    <tr>\n",
       "      <th>7</th>\n",
       "      <td>5</td>\n",
       "      <td>2</td>\n",
       "      <td>2</td>\n",
       "    </tr>\n",
       "    <tr>\n",
       "      <th>8</th>\n",
       "      <td>10</td>\n",
       "      <td>10</td>\n",
       "      <td>9</td>\n",
       "    </tr>\n",
       "    <tr>\n",
       "      <th>9</th>\n",
       "      <td>7</td>\n",
       "      <td>9</td>\n",
       "      <td>10</td>\n",
       "    </tr>\n",
       "  </tbody>\n",
       "</table>\n",
       "</div>"
      ],
      "text/plain": [
       "    A   B   C\n",
       "0  10   6   4\n",
       "1   7   3   5\n",
       "2   6   3   8\n",
       "3   2   7   7\n",
       "4   8   7   8\n",
       "5   8   1   9\n",
       "6   9   4  10\n",
       "7   5   2   2\n",
       "8  10  10   9\n",
       "9   7   9  10"
      ]
     },
     "metadata": {},
     "output_type": "display_data"
    },
    {
     "data": {
      "text/plain": [
       "array([81.04, 57.87, 54.11, 39.54, 74.45, 61.72, 74.77, 42.27, 93.21,\n",
       "       74.5 ])"
      ]
     },
     "execution_count": 37,
     "metadata": {},
     "output_type": "execute_result"
    }
   ],
   "source": [
    "import pandas as pd\n",
    "import numpy as np\n",
    "\n",
    "test_scores = pd.DataFrame({'A':[10, 7, 6, 2, 8, 8, 9, 5, 10, 7],\n",
    "                            'B':[6, 3, 3, 7, 7, 1, 4, 2, 10, 9],\n",
    "                            'C':[4, 5, 8, 7, 8, 9, 10, 2, 9, 10]})\n",
    "display(test_scores)\n",
    "\n",
    "test_scores.shape\n",
    "\n",
    "def lin_pred(matrix_model,coeff):\n",
    "    matrix_model_plus_ones = np.hstack((np.ones((matrix_model.shape[0],1)), matrix_model))\n",
    "    linear_reg = matrix_model_plus_ones @ coeff\n",
    "    return linear_reg\n",
    "\n",
    "lin_pred(test_scores,betas)\n"
   ]
  },
  {
   "cell_type": "markdown",
   "metadata": {},
   "source": [
    "### 5. Numpy and Pandas"
   ]
  },
  {
   "cell_type": "code",
   "execution_count": 13,
   "metadata": {},
   "outputs": [
    {
     "data": {
      "text/html": [
       "<div>\n",
       "<style scoped>\n",
       "    .dataframe tbody tr th:only-of-type {\n",
       "        vertical-align: middle;\n",
       "    }\n",
       "\n",
       "    .dataframe tbody tr th {\n",
       "        vertical-align: top;\n",
       "    }\n",
       "\n",
       "    .dataframe thead th {\n",
       "        text-align: right;\n",
       "    }\n",
       "</style>\n",
       "<table border=\"1\" class=\"dataframe\">\n",
       "  <thead>\n",
       "    <tr style=\"text-align: right;\">\n",
       "      <th></th>\n",
       "      <th>FILM</th>\n",
       "      <th>RottenTomatoes</th>\n",
       "      <th>Metacritic</th>\n",
       "      <th>IMDB</th>\n",
       "      <th>Fandango_Stars</th>\n",
       "    </tr>\n",
       "  </thead>\n",
       "  <tbody>\n",
       "    <tr>\n",
       "      <th>0</th>\n",
       "      <td>Avengers: Age of Ultron (2015)</td>\n",
       "      <td>74</td>\n",
       "      <td>66</td>\n",
       "      <td>7.8</td>\n",
       "      <td>5.0</td>\n",
       "    </tr>\n",
       "    <tr>\n",
       "      <th>1</th>\n",
       "      <td>Cinderella (2015)</td>\n",
       "      <td>85</td>\n",
       "      <td>67</td>\n",
       "      <td>7.1</td>\n",
       "      <td>5.0</td>\n",
       "    </tr>\n",
       "    <tr>\n",
       "      <th>2</th>\n",
       "      <td>Ant-Man (2015)</td>\n",
       "      <td>80</td>\n",
       "      <td>64</td>\n",
       "      <td>7.8</td>\n",
       "      <td>5.0</td>\n",
       "    </tr>\n",
       "    <tr>\n",
       "      <th>3</th>\n",
       "      <td>Do You Believe? (2015)</td>\n",
       "      <td>18</td>\n",
       "      <td>22</td>\n",
       "      <td>5.4</td>\n",
       "      <td>5.0</td>\n",
       "    </tr>\n",
       "    <tr>\n",
       "      <th>4</th>\n",
       "      <td>Hot Tub Time Machine 2 (2015)</td>\n",
       "      <td>14</td>\n",
       "      <td>29</td>\n",
       "      <td>5.1</td>\n",
       "      <td>3.5</td>\n",
       "    </tr>\n",
       "  </tbody>\n",
       "</table>\n",
       "</div>"
      ],
      "text/plain": [
       "                             FILM  RottenTomatoes  Metacritic  IMDB  \\\n",
       "0  Avengers: Age of Ultron (2015)              74          66   7.8   \n",
       "1               Cinderella (2015)              85          67   7.1   \n",
       "2                  Ant-Man (2015)              80          64   7.8   \n",
       "3          Do You Believe? (2015)              18          22   5.4   \n",
       "4   Hot Tub Time Machine 2 (2015)              14          29   5.1   \n",
       "\n",
       "   Fandango_Stars  \n",
       "0             5.0  \n",
       "1             5.0  \n",
       "2             5.0  \n",
       "3             5.0  \n",
       "4             3.5  "
      ]
     },
     "execution_count": 13,
     "metadata": {},
     "output_type": "execute_result"
    }
   ],
   "source": [
    "import pandas as pd\n",
    "import numpy as np\n",
    "import os\n",
    "data_set= pd.read_csv(os.path.join(\"_data\\MovieRatings.csv\"), index_col=0)\n",
    "                      \n",
    "\n",
    "data_set.head()"
   ]
  },
  {
   "cell_type": "code",
   "execution_count": 21,
   "metadata": {},
   "outputs": [
    {
     "data": {
      "text/plain": [
       "0    74\n",
       "1    85\n",
       "2    80\n",
       "3    18\n",
       "4    14\n",
       "5    63\n",
       "6    42\n",
       "7    86\n",
       "8    99\n",
       "9    89\n",
       "Name: RottenTomatoes, dtype: int64"
      ]
     },
     "execution_count": 21,
     "metadata": {},
     "output_type": "execute_result"
    }
   ],
   "source": [
    "rt = data_set.iloc[:,1]\n",
    "rt.head(5)\n",
    "rt[0:10]"
   ]
  },
  {
   "cell_type": "code",
   "execution_count": 25,
   "metadata": {},
   "outputs": [
    {
     "data": {
      "text/plain": [
       "60.84931506849315"
      ]
     },
     "execution_count": 25,
     "metadata": {},
     "output_type": "execute_result"
    }
   ],
   "source": [
    "rt.mean()"
   ]
  },
  {
   "cell_type": "code",
   "execution_count": 26,
   "metadata": {},
   "outputs": [
    {
     "data": {
      "text/plain": [
       "63.5"
      ]
     },
     "execution_count": 26,
     "metadata": {},
     "output_type": "execute_result"
    }
   ],
   "source": [
    "rt.median()"
   ]
  },
  {
   "cell_type": "code",
   "execution_count": 27,
   "metadata": {},
   "outputs": [
    {
     "data": {
      "text/plain": [
       "910.1564478034954"
      ]
     },
     "execution_count": 27,
     "metadata": {},
     "output_type": "execute_result"
    }
   ],
   "source": [
    "rt.var()"
   ]
  },
  {
   "cell_type": "code",
   "execution_count": 28,
   "metadata": {},
   "outputs": [
    {
     "data": {
      "text/plain": [
       "30.168799243647324"
      ]
     },
     "execution_count": 28,
     "metadata": {},
     "output_type": "execute_result"
    }
   ],
   "source": [
    "rt.std()"
   ]
  },
  {
   "cell_type": "code",
   "execution_count": 35,
   "metadata": {},
   "outputs": [
    {
     "data": {
      "text/plain": [
       "0       75\n",
       "1       86\n",
       "2       81\n",
       "3       19\n",
       "4       15\n",
       "      ... \n",
       "141     88\n",
       "142     98\n",
       "143     98\n",
       "144    101\n",
       "145     88\n",
       "Name: RottenTomatoes, Length: 146, dtype: int64"
      ]
     },
     "execution_count": 35,
     "metadata": {},
     "output_type": "execute_result"
    }
   ],
   "source": [
    "rt + 1"
   ]
  },
  {
   "cell_type": "markdown",
   "metadata": {},
   "source": [
    "You can do that in the DataFrame directly:"
   ]
  },
  {
   "cell_type": "code",
   "execution_count": 36,
   "metadata": {},
   "outputs": [
    {
     "name": "stdout",
     "output_type": "stream",
     "text": [
      "                             FILM  RottenTomatoes  Metacritic  IMDB  \\\n",
      "0  Avengers: Age of Ultron (2015)              74          66   7.8   \n",
      "1               Cinderella (2015)              85          67   7.1   \n",
      "2                  Ant-Man (2015)              80          64   7.8   \n",
      "3          Do You Believe? (2015)              18          22   5.4   \n",
      "4   Hot Tub Time Machine 2 (2015)              14          29   5.1   \n",
      "\n",
      "   Fandango_Stars  \n",
      "0             5.0  \n",
      "1             5.0  \n",
      "2             5.0  \n",
      "3             5.0  \n",
      "4             3.5  \n",
      "                             FILM  RottenTomatoes  Metacritic  IMDB  \\\n",
      "0  Avengers: Age of Ultron (2015)              75          66   7.8   \n",
      "1               Cinderella (2015)              86          67   7.1   \n",
      "2                  Ant-Man (2015)              81          64   7.8   \n",
      "3          Do You Believe? (2015)              19          22   5.4   \n",
      "4   Hot Tub Time Machine 2 (2015)              15          29   5.1   \n",
      "\n",
      "   Fandango_Stars  \n",
      "0             5.0  \n",
      "1             5.0  \n",
      "2             5.0  \n",
      "3             5.0  \n",
      "4             3.5  \n"
     ]
    }
   ],
   "source": [
    "print(data_set.head(5))\n",
    "data_set['RottenTomatoes'] = data_set[\"RottenTomatoes\"] + 1\n",
    "print(data_set.head(5))\n"
   ]
  },
  {
   "cell_type": "code",
   "execution_count": 37,
   "metadata": {},
   "outputs": [
    {
     "data": {
      "text/plain": [
       "pandas.core.series.Series"
      ]
     },
     "execution_count": 37,
     "metadata": {},
     "output_type": "execute_result"
    }
   ],
   "source": [
    "type(rt)"
   ]
  }
 ],
 "metadata": {
  "kernelspec": {
   "display_name": "Python 3",
   "language": "python",
   "name": "python3"
  },
  "language_info": {
   "codemirror_mode": {
    "name": "ipython",
    "version": 3
   },
   "file_extension": ".py",
   "mimetype": "text/x-python",
   "name": "python",
   "nbconvert_exporter": "python",
   "pygments_lexer": "ipython3",
   "version": "3.11.4"
  }
 },
 "nbformat": 4,
 "nbformat_minor": 2
}
