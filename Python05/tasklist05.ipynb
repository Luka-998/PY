{
 "cells": [
  {
   "cell_type": "markdown",
   "metadata": {},
   "source": [
    "## Task List 05: Strings in Python\n"
   ]
  },
  {
   "cell_type": "markdown",
   "metadata": {},
   "source": [
    "**01.**"
   ]
  },
  {
   "cell_type": "code",
   "execution_count": null,
   "metadata": {},
   "outputs": [],
   "source": [
    "task_text_1 = \"Using adequate string method make a list of all the words in this string\"\n",
    "task_text_1.split()"
   ]
  },
  {
   "cell_type": "markdown",
   "metadata": {},
   "source": [
    "**02.**"
   ]
  },
  {
   "cell_type": "code",
   "execution_count": null,
   "metadata": {},
   "outputs": [],
   "source": [
    "task_text_list_2 = ['Using', 'a', 'proper', 'string', 'method', \n",
    "                    'join', 'elements', 'of', 'this', 'list', \n",
    "                    'into', 'a', 'single', 'sentence']\n",
    "\n",
    "' '.join(task_text_list_2)"
   ]
  },
  {
   "cell_type": "markdown",
   "metadata": {},
   "source": [
    "**03.**"
   ]
  },
  {
   "cell_type": "code",
   "execution_count": null,
   "metadata": {},
   "outputs": [],
   "source": [
    "task_text_3 = \"Make a list containing only the first letters of every word in this sentence\"\n",
    "\n",
    "[letter[0] for letter in task_text_3.split()]\n"
   ]
  },
  {
   "cell_type": "markdown",
   "metadata": {},
   "source": [
    "**04.** `[::-1]` is a neat trick to reverse the elements of an ordered iterable:"
   ]
  },
  {
   "cell_type": "code",
   "execution_count": null,
   "metadata": {},
   "outputs": [],
   "source": [
    "[1, 2, 3, 4, 5][::-1]"
   ]
  },
  {
   "cell_type": "markdown",
   "metadata": {},
   "source": [
    "It works for the strings as well!"
   ]
  },
  {
   "cell_type": "code",
   "execution_count": null,
   "metadata": {},
   "outputs": [],
   "source": [
    "task_text_4 = \"reverse every word of this sentence\"\n",
    "\n",
    "task_text_4[::-1]"
   ]
  },
  {
   "cell_type": "code",
   "execution_count": null,
   "metadata": {},
   "outputs": [],
   "source": [
    "[word[::-1] for word in task_text_4.split()]"
   ]
  },
  {
   "cell_type": "markdown",
   "metadata": {},
   "source": [
    "**05.** Write a function `tebrizator` which takes first two letters of a word and places them at the end of the word (i.e. translates it to *šatrovački*)\n",
    "\n",
    "`tebrizator('pazi') = 'zipa'`\n",
    "\n",
    "`tebrizator('zatvor') = 'tvorza'`"
   ]
  },
  {
   "cell_type": "code",
   "execution_count": null,
   "metadata": {},
   "outputs": [],
   "source": [
    "def take_two(string):\n",
    "    return string[:2]\n",
    "\n",
    "take_two('lu')\n",
    "\n",
    "# Above, I have a function that takes the first two letters from a string, \n",
    "# and it's a universal function that can take any two letters from any string.\n",
    "# Now, the second function needs to have instructions to take the two selected letters and place them at the end of the word\n",
    "\n",
    "def reverse(string):\n",
    "    first_two = take_two(string)\n",
    "    return string[2:] + first_two \n",
    "\n",
    "reverse('universe')\n",
    "\n",
    "# implementing first function inside the second one helps us store the first two letters [0:2] inside our variable 'first_two'\".\n",
    "# After that we simply append the original string without first 2 letters and first two letters at the end of the string\n"
   ]
  },
  {
   "cell_type": "markdown",
   "metadata": {},
   "source": [
    "But it could be done in less lines of code and __one__ function:"
   ]
  },
  {
   "cell_type": "code",
   "execution_count": null,
   "metadata": {},
   "outputs": [],
   "source": [
    "def reverseV2(string):\n",
    "    return  string[2:]+ string[:2]\n",
    "\n",
    "reverseV2(\"Amazing\")"
   ]
  },
  {
   "cell_type": "code",
   "execution_count": null,
   "metadata": {},
   "outputs": [],
   "source": [
    "def utezabrinjator(words):\n",
    "    return 'u' + words[2:] + 'za' + words[:2] + 'nje'\n",
    "\n",
    "utezabrinjator('luka')"
   ]
  },
  {
   "cell_type": "code",
   "execution_count": null,
   "metadata": {},
   "outputs": [],
   "source": [
    "task_text_7 = 'Remove every word from this sentence having less than five characters'\n",
    "\n",
    "' '.join([word for word in task_text_7.split() if len(word) >=5])\n",
    "\n",
    "    \n",
    "        "
   ]
  },
  {
   "cell_type": "markdown",
   "metadata": {},
   "source": [
    "This is a `list comprehension`, which filters the words based on a condition:\n",
    "\n",
    "word iterates over each element in the list returned by task_text_7.split().\n",
    "\n",
    "The condition if len(word) >= 5 checks if the word length is greater than or equal to 5. Only such words are included in the new list. \n",
    "\n",
    "The .join() method takes a list of strings and joins them into a single string, with each element separated by a space (' ').\n",
    "\n",
    "### I was wondering if I can complete this task while using just simple for loop and I managed it quite easy. However, list comprehension is very concise and much shorted way to complete the same task \n",
    "\n"
   ]
  },
  {
   "cell_type": "code",
   "execution_count": null,
   "metadata": {},
   "outputs": [],
   "source": [
    "for word in task_text_7.split():\n",
    "    if len(word) >= 5:\n",
    "        print(word)\n"
   ]
  },
  {
   "cell_type": "code",
   "execution_count": null,
   "metadata": {},
   "outputs": [],
   "source": [
    "task_text_8 = 'Remove every vowel from this sentence'\n",
    "\n",
    "for char in task_text_8:\n",
    "    if char == 'a' or char == 'e' or char =='i' or char =='o' or char =='u': \n",
    "        continue\n",
    "    else:\n",
    "        print (char)"
   ]
  },
  {
   "cell_type": "markdown",
   "metadata": {},
   "source": [
    "#### Please try now with list comprehension, I know it's harder but... `Simple is better than complex.`"
   ]
  },
  {
   "cell_type": "markdown",
   "metadata": {},
   "source": []
  },
  {
   "cell_type": "code",
   "execution_count": null,
   "metadata": {},
   "outputs": [],
   "source": [
    "task_text_8 = 'Remove every vowel from this sentence'\n",
    "\n",
    "[char for char in task_text_8 if char not in 'aeiou']"
   ]
  },
  {
   "cell_type": "markdown",
   "metadata": {},
   "source": [
    "Python provides a clear way to ask \"is this item part of this group?\" through the in and not in operators.\n",
    "\n",
    "   ` if char not in 'aeiou' `  Python interprets it as:\n",
    "\n",
    "- \"Is this character not one of the individual characters in the string 'aeiou'?\"\n",
    "\n",
    "- Here, 'aeiou' is treated as a collection of individual characters ('a', 'e', 'i', 'o', 'u'). Python tests membership: does the single character (char) belong to this collection? This is a more general-purpose solution, as it works with strings, lists, tuples, etc.\n",
    "\n",
    "> Instead of thinking \"is not a vowel,\" rephrase it as:\n",
    "\n",
    ">>> \"Does this character NOT belong to the set of vowels?\""
   ]
  },
  {
   "cell_type": "markdown",
   "metadata": {},
   "source": [
    "**09.** Using `enumerate()` and `f-strings` iterate through list `l_8` printing out the statement\n",
    "\n",
    "                          Item at index position k is: item.\n",
    "                          \n",
    "for every item in the list. Round all values to 3 decimals."
   ]
  },
  {
   "cell_type": "code",
   "execution_count": null,
   "metadata": {},
   "outputs": [],
   "source": [
    "l_8 = [1.35454, -4.154531, 12.15648054, -45.1522104]\n",
    "\n",
    "\n",
    "for i, numbers in enumerate(l_8):\n",
    "    print(f\"Item at index position {i} is: {numbers}\")"
   ]
  },
  {
   "cell_type": "markdown",
   "metadata": {},
   "source": [
    "### `enumerate()`\n",
    "\n",
    "The enumerate() function adds a counter (index) to an iterable and returns it as an enumerate object. You can then use it in a loop to get both the index and the corresponding element from the iterable.\n",
    "\n",
    "- enumerate(iterable, start=0) \n",
    "\n",
    "- https://www.geeksforgeeks.org/enumerate-in-python/ \n",
    "\n",
    "\n",
    "### Why Use enumerate()?\n",
    "\n",
    "1. Readable Code: It avoids manually managing an index variable (e.g., for i in range(len(string))).\n",
    "\n",
    "2. Simpler and Cleaner: It combines the index and element access in one step.\n",
    "\n",
    "3. Flexible Starting Point: You can control the starting index with the start parameter."
   ]
  },
  {
   "cell_type": "code",
   "execution_count": null,
   "metadata": {},
   "outputs": [],
   "source": [
    "# Example to enumerate over a tuple:\n",
    "\n",
    "data = ('Python', 'C++', 'Java')\n",
    "\n",
    "for i, language in enumerate(data,start = 1):\n",
    "    print(f\"For index {i}, the language is {language} \")\n"
   ]
  },
  {
   "cell_type": "markdown",
   "metadata": {},
   "source": [
    "**10.** Remember the bunny? "
   ]
  },
  {
   "cell_type": "code",
   "execution_count": null,
   "metadata": {},
   "outputs": [],
   "source": [
    "print(\"\"\" Λ__Λ\\n(•.• )\\n/ >\\U0001F490\"\"\")"
   ]
  },
  {
   "cell_type": "markdown",
   "metadata": {},
   "source": [
    "In the string above ears and eyers are easily recognizable. But where are the flowers? That's actually this part: `'\\U0001F490'` - it's a Unicode for the flowers emoji. Actually, the true unicode is `U+1F490` but you need to change `+` to `'000'` and add `'\\'` at the beginning for Python to be able to decode it properly. "
   ]
  },
  {
   "cell_type": "markdown",
   "metadata": {},
   "source": [
    "Now, write a function `lil_bunny` which takes some emoji unicode (in Python readable `'\\U0001Fxxx'` format) and outputs the bunny holding that emoji."
   ]
  },
  {
   "cell_type": "code",
   "execution_count": null,
   "metadata": {},
   "outputs": [],
   "source": [
    "def lil_bunny(emoji):\n",
    "    print(f\"\"\" ^_^\\n(•.• )\\n/ >\\{emoji}\"\"\")\n",
    "lil_bunny(emoji='\\U0001F199')"
   ]
  },
  {
   "cell_type": "markdown",
   "metadata": {},
   "source": [
    "**11.** Using Unicode, various string methods (and f-strings!) you can draw nice geometrical patterns in Python. Here's a simple example:"
   ]
  },
  {
   "cell_type": "code",
   "execution_count": null,
   "metadata": {},
   "outputs": [],
   "source": [
    "print('\\▾/x'.join('' for _ in range(15))[:-1])\n",
    "print('/▴\\\\x'.join('' for _ in range(15))[:-1])"
   ]
  },
  {
   "cell_type": "markdown",
   "metadata": {},
   "source": [
    "my pattern:"
   ]
  },
  {
   "cell_type": "code",
   "execution_count": null,
   "metadata": {},
   "outputs": [],
   "source": [
    "def pattern(x,y):\n",
    "    print('\\V/'.join(x for _ in range (15)))\n",
    "    print('/Λ\\\\'.join(y for _ in range (15)))\n",
    "\n",
    "pattern('+','-')"
   ]
  },
  {
   "cell_type": "markdown",
   "metadata": {},
   "source": [
    "### How could we put an emoji in the middle of the print lines? \n",
    "\n",
    "#### `.join()`"
   ]
  },
  {
   "cell_type": "code",
   "execution_count": 350,
   "metadata": {},
   "outputs": [
    {
     "name": "stdout",
     "output_type": "stream",
     "text": [
      "+\\V/+\\V/+\\V/+\\V/+\\V/+\\V/+\\V/🉐\\V/+\\V/+\\V/+\\V/+\\V/+\\V/+\\V/+\n",
      "-/Λ\\-/Λ\\-/Λ\\-/Λ\\-/Λ\\-/Λ\\-/Λ\\🉐/Λ\\-/Λ\\-/Λ\\-/Λ\\-/Λ\\-/Λ\\-/Λ\\-\n",
      "🉐\n"
     ]
    }
   ],
   "source": [
    "def pattern(x,y,emoji):\n",
    "    first_line = [x for _ in range(15)]\n",
    "    first_line[7] = emoji\n",
    "    print('\\V/'.join(first_line))\n",
    "    second_line = [y for _ in range(15)]\n",
    "    second_line[7] = emoji\n",
    "    print('/Λ\\\\'.join(second_line))\n",
    "\n",
    "pattern('+', '-', '\\U0001F250')  \n",
    "\n"
   ]
  }
 ],
 "metadata": {
  "kernelspec": {
   "display_name": "Python 3",
   "language": "python",
   "name": "python3"
  },
  "language_info": {
   "codemirror_mode": {
    "name": "ipython",
    "version": 3
   },
   "file_extension": ".py",
   "mimetype": "text/x-python",
   "name": "python",
   "nbconvert_exporter": "python",
   "pygments_lexer": "ipython3",
   "version": "3.11.4"
  }
 },
 "nbformat": 4,
 "nbformat_minor": 2
}
