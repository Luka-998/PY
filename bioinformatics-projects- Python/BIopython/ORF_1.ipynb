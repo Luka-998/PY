{
 "cells": [
  {
   "cell_type": "markdown",
   "id": "bb920f53",
   "metadata": {},
   "source": [
    "### Open Reading Frame; Biopython\n",
    "\n",
    "- Biopython does not have one-line `.find-orfs()` method \n",
    "- This notebook is dedicated to manually building ORF from scratch\n",
    "\n",
    "***\n",
    "\n",
    "\n",
    "\n",
    "> A continuous stretch of codons without stop codons, beginning with a start codon (usually ATG) and ending at a stop (TAA, TAG, or TGA).\n"
   ]
  },
  {
   "cell_type": "markdown",
   "id": "c76c7bc5",
   "metadata": {},
   "source": [
    "### 1. Get the `genomic sequence`"
   ]
  },
  {
   "cell_type": "markdown",
   "id": "09fde74b",
   "metadata": {},
   "source": [
    "**Escherichia coli strain PNUSAE211155, whole genome shotgun sequencing project**"
   ]
  },
  {
   "cell_type": "markdown",
   "id": "6d8a6257",
   "metadata": {},
   "source": [
    "Escherichia coli strain PNUSAE211155, whole genome shotgun sequencing project"
   ]
  },
  {
   "cell_type": "code",
   "execution_count": null,
   "id": "6d4e7779",
   "metadata": {},
   "outputs": [],
   "source": [
    "from Bio import Entrez,SeqIO,SeqUtils, SeqRecord\n",
    "from Bio.Seq import Seq\n",
    "import os\n"
   ]
  },
  {
   "cell_type": "code",
   "execution_count": null,
   "id": "b41f8e38",
   "metadata": {},
   "outputs": [],
   "source": [
    "Entrez.email = 'jasovicluka1@gmail.com'\n",
    "handle = Entrez.esearch(db='nucleotide',term='E. coli', retmax=10,idtype='acc')\n",
    "record = Entrez.read(handle,'gb')\n",
    "handle.close()\n",
    "\n",
    "id_list = record['IdList']\n",
    "id_list\n",
    "first_acc = id_list[5]\n",
    "first_acc\n"
   ]
  },
  {
   "cell_type": "code",
   "execution_count": null,
   "id": "8276dad8",
   "metadata": {},
   "outputs": [],
   "source": [
    "fetch = Entrez.efetch(db='nucleotide',id=first_acc,rettype='gb',retmode='text')\n",
    "read = SeqIO.read(fetch,'gb')\n",
    "handle.close()\n",
    "record_1 = read.seq\n",
    "print(len(record_1))\n",
    "\n",
    "\n",
    "#Save the complete file\n",
    "\n",
    "with open('ORF_1.txt', 'w') as file_01:\n",
    "    SeqIO.write(read,file_01,'fasta')\n"
   ]
  },
  {
   "cell_type": "markdown",
   "id": "a2730fa7",
   "metadata": {},
   "source": [
    "### 2. ORF "
   ]
  },
  {
   "cell_type": "markdown",
   "id": "25bc3ec3",
   "metadata": {},
   "source": [
    "In bacteria, the most common start codon is `AUG` which codes for N-formylmethionine (**fMet**)\n",
    "\n",
    "Apart from this start codon, there are some alternative start codons, and the most common ones are:\n",
    "\n",
    "- `GUG`\n",
    "\n",
    "- `UUG`\n",
    "\n",
    "These start codons are recognized by the initiator tRNA carrying fMet"
   ]
  },
  {
   "cell_type": "code",
   "execution_count": null,
   "id": "18eb6726",
   "metadata": {},
   "outputs": [],
   "source": [
    "# AUG - ATG \n",
    "# GUG - GTG\n",
    "# UUG - TTG "
   ]
  },
  {
   "cell_type": "code",
   "execution_count": null,
   "id": "a6664866",
   "metadata": {},
   "outputs": [],
   "source": [
    "# Full Sequence lenght: 4073392\n",
    "print(f'Full sequence lenght is {len(record_1)}')\n"
   ]
  },
  {
   "cell_type": "markdown",
   "id": "7a9ab66c",
   "metadata": {},
   "source": [
    "#### 2.1 Load the full sequence, fasta format:"
   ]
  },
  {
   "cell_type": "code",
   "execution_count": null,
   "id": "46e5717c",
   "metadata": {},
   "outputs": [],
   "source": [
    "with open('ORF_1.txt','r') as file:\n",
    "    record = SeqIO.read(file,\"fasta\")\n",
    "sequence = record.seq\n",
    "    "
   ]
  },
  {
   "cell_type": "code",
   "execution_count": null,
   "id": "655c7d98",
   "metadata": {},
   "outputs": [],
   "source": [
    "sequence"
   ]
  },
  {
   "cell_type": "markdown",
   "id": "0bc9757c",
   "metadata": {},
   "source": [
    "#### 2.2 Iterate over each of the 6 possible reading frames."
   ]
  },
  {
   "cell_type": "code",
   "execution_count": null,
   "id": "a243c8f2",
   "metadata": {},
   "outputs": [],
   "source": [
    "#START:ATG STOP:TAA, TGA TAG\n",
    "\n",
    "start_1 = sequence[0:3]\n",
    "start_2 = sequence[3:6]\n",
    "start_3 = sequence[6:9]\n",
    "\n",
    "reverse_complement = sequence.reverse_complement()\n",
    "reverse_complement"
   ]
  },
  {
   "cell_type": "code",
   "execution_count": null,
   "id": "befd9d27",
   "metadata": {},
   "outputs": [],
   "source": [
    "start_1rvs = reverse_complement[0:3]\n",
    "start_2rvs = reverse_complement[3:6]\n",
    "start_3rvs = reverse_complement[6:9]\n",
    "seq_str = str(sequence)"
   ]
  },
  {
   "cell_type": "code",
   "execution_count": null,
   "id": "4903a6bc",
   "metadata": {},
   "outputs": [],
   "source": [
    "print(len(sequence))"
   ]
  },
  {
   "cell_type": "markdown",
   "id": "ad3a21e2",
   "metadata": {},
   "source": [
    "Reading frame 0 → starts at position 0:\n",
    "ATG, CAA, TGA, ...\n",
    "\n",
    "Reading frame 1 → starts at position 1:\n",
    "TGC, AAT, GAT, ...\n",
    "\n",
    "Reading frame 2 → starts at position 2:\n",
    "GCA, ATG, ATA, ..."
   ]
  },
  {
   "cell_type": "code",
   "execution_count": null,
   "id": "09e3d035",
   "metadata": {},
   "outputs": [],
   "source": [
    "#loop through the complete sequence\n",
    "# start storing when hit the start codon\n",
    "# stop when hit the stop codon\n",
    "\n",
    "#ORF 0\n",
    "import re\n",
    "rf1 = []\n",
    "rf2 = []\n",
    "rf3 = []\n",
    "#Checkpoint #1 - Searching for start codon \"ATG\" and it's position in the full sequence\n",
    " \n",
    "for i in range(0,len(sequence)-2,3):\n",
    "    full_frame = seq_str[i:i+3]\n",
    "    #print(full_frame)\n",
    "    x = re.search(\"ATG\",full_frame)\n",
    "    print(x)"
   ]
  },
  {
   "cell_type": "code",
   "execution_count": null,
   "id": "fc023f6a",
   "metadata": {},
   "outputs": [],
   "source": [
    "#position 0-3 start codon\n",
    "# I try with 3 different open reading frames, position 0, 1 and 2 representing A-start , T-start, G-start\n",
    "for f in range(0,3):\n",
    "    for j in range(f,len(sequence)-2,3):\n",
    "    if f ==0:\n",
    "            start_frame1 = seq_str[j]\n",
    "            rf1.append(start_frame1)\n",
    "            print(rf1)\n",
    "        else:\n",
    "            break"
   ]
  },
  {
   "cell_type": "code",
   "execution_count": null,
   "id": "b1a52a90",
   "metadata": {},
   "outputs": [],
   "source": [
    "for i in range(0,len(sequence)-2,3):\n",
    "    full_frame = seq_str[i:i+3]\n",
    "    #print(full_frame)\n",
    "    print(full_frame)"
   ]
  }
 ],
 "metadata": {
  "kernelspec": {
   "display_name": "Python 3",
   "language": "python",
   "name": "python3"
  },
  "language_info": {
   "codemirror_mode": {
    "name": "ipython",
    "version": 3
   },
   "file_extension": ".py",
   "mimetype": "text/x-python",
   "name": "python",
   "nbconvert_exporter": "python",
   "pygments_lexer": "ipython3",
   "version": "3.11.4"
  }
 },
 "nbformat": 4,
 "nbformat_minor": 5
}
