{
 "cells": [
  {
   "cell_type": "code",
   "execution_count": 16,
   "id": "fbc7cfe3",
   "metadata": {},
   "outputs": [
    {
     "name": "stdout",
     "output_type": "stream",
     "text": [
      "0 A\n",
      "1 A\n",
      "2 T\n",
      "3 T\n",
      "4 G\n",
      "5 C\n"
     ]
    },
    {
     "data": {
      "text/plain": [
       "0.3333333333333333"
      ]
     },
     "execution_count": 16,
     "metadata": {},
     "output_type": "execute_result"
    }
   ],
   "source": [
    "import os\n",
    "import Bio\n",
    "import sklearn.datasets._samples_generator \n",
    "from Bio import SeqIO,SeqRecord\n",
    "from Bio.Seq import Seq\n",
    "from Bio.SeqUtils import gc_fraction\n",
    "my_seq = Seq('AATTGC')\n",
    "\n",
    "for index,letter in enumerate(my_seq):\n",
    "    print(\"%i %s\" % (index,letter))\n",
    "\n",
    "gc = gc_fraction(my_seq)\n",
    "gc\n",
    "\n",
    "gc_manual = (my_seq.count('C')+my_seq.count('G'))/len(my_seq)\n",
    "gc_manual"
   ]
  }
 ],
 "metadata": {
  "kernelspec": {
   "display_name": "Python 3",
   "language": "python",
   "name": "python3"
  },
  "language_info": {
   "codemirror_mode": {
    "name": "ipython",
    "version": 3
   },
   "file_extension": ".py",
   "mimetype": "text/x-python",
   "name": "python",
   "nbconvert_exporter": "python",
   "pygments_lexer": "ipython3",
   "version": "3.11.4"
  }
 },
 "nbformat": 4,
 "nbformat_minor": 5
}
