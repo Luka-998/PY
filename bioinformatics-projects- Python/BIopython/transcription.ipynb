{
 "cells": [
  {
   "cell_type": "code",
   "execution_count": 3,
   "id": "83101300",
   "metadata": {},
   "outputs": [],
   "source": [
    "from Bio import SeqIO,SeqRecord,SeqUtils\n",
    "from Bio.Seq import Seq"
   ]
  },
  {
   "cell_type": "code",
   "execution_count": 15,
   "id": "0083ddef",
   "metadata": {},
   "outputs": [
    {
     "data": {
      "text/plain": [
       "Seq('AUGGCCAUUGUAAUGGGCCGCUGAAAGGGUGCCCGAUAG')"
      ]
     },
     "execution_count": 15,
     "metadata": {},
     "output_type": "execute_result"
    }
   ],
   "source": [
    "dna_seq = Seq(\"ATGGCCATTGTAATGGGCCGCTGAAAGGGTGCCCGATAG\") #dna strand\n",
    "# Transcribed strand is same as the dna strand but with U instead of T \n",
    "# if DNA strand is given , i can just use transcribe to get mRNA\n",
    "mRNA = dna_seq.transcribe()\n",
    "mRNA\n",
    "\n",
    "# if template strand is given\n",
    "\n",
    "template_strand = dna_seq.reverse_complement()\n",
    "mRNA = template_strand.reverse_complement().transcribe()\n",
    "mRNA"
   ]
  },
  {
   "cell_type": "code",
   "execution_count": 18,
   "id": "91b190ac",
   "metadata": {},
   "outputs": [],
   "source": [
    "template = Seq(\"TACGTACG\")\n",
    "coding_strand = template.reverse_complement()\n",
    "mRNA = coding_strand.transcribe()"
   ]
  },
  {
   "cell_type": "code",
   "execution_count": 22,
   "id": "976087dc",
   "metadata": {},
   "outputs": [
    {
     "name": "stderr",
     "output_type": "stream",
     "text": [
      "c:\\Users\\Admin\\AppData\\Local\\Programs\\Python\\Python311\\Lib\\site-packages\\Bio\\Seq.py:2804: BiopythonWarning: Partial codon, len(sequence) not a multiple of three. Explicitly trim the sequence or add trailing N before translation. This may become an error in future.\n",
      "  warnings.warn(\n"
     ]
    }
   ],
   "source": [
    "# translation\n",
    "template = Seq(\"TACGTACG\")\n",
    "dna_strand = template.reverse_complement()\n",
    "mRNA = dna_strand.transcribe()\n",
    "protein = mRNA.translate()"
   ]
  },
  {
   "cell_type": "code",
   "execution_count": 26,
   "id": "0b255365",
   "metadata": {},
   "outputs": [
    {
     "name": "stdout",
     "output_type": "stream",
     "text": [
      "RT\n"
     ]
    }
   ],
   "source": [
    "trim_mRNA = mRNA[:len(mRNA) -   len(mRNA) % 3]\n",
    "protein = trim_mRNA.translate()\n",
    "print(protein)"
   ]
  }
 ],
 "metadata": {
  "kernelspec": {
   "display_name": "Python 3",
   "language": "python",
   "name": "python3"
  },
  "language_info": {
   "codemirror_mode": {
    "name": "ipython",
    "version": 3
   },
   "file_extension": ".py",
   "mimetype": "text/x-python",
   "name": "python",
   "nbconvert_exporter": "python",
   "pygments_lexer": "ipython3",
   "version": "3.11.4"
  }
 },
 "nbformat": 4,
 "nbformat_minor": 5
}
