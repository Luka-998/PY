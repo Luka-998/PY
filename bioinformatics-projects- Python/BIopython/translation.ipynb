{
 "cells": [
  {
   "cell_type": "code",
   "execution_count": 1,
   "id": "8a69fa67",
   "metadata": {},
   "outputs": [],
   "source": [
    "from Bio import SeqIO,SeqRecord,SeqUtils\n",
    "from Bio.Seq import Seq"
   ]
  },
  {
   "cell_type": "code",
   "execution_count": 2,
   "id": "d87d9c1f",
   "metadata": {},
   "outputs": [
    {
     "data": {
      "text/plain": [
       "Seq('MAIVMGR*KGAR*')"
      ]
     },
     "execution_count": 2,
     "metadata": {},
     "output_type": "execute_result"
    }
   ],
   "source": [
    "messenger_rna = Seq(\"AUGGCCAUUGUAAUGGGCCGCUGAAAGGGUGCCCGAUAG\")\n",
    "protein = messenger_rna.translate()\n",
    "protein"
   ]
  },
  {
   "cell_type": "markdown",
   "id": "252bda0d",
   "metadata": {},
   "source": [
    "## Translation can also be done directly from the coding strand of the DNA"
   ]
  },
  {
   "cell_type": "code",
   "execution_count": 3,
   "id": "b8a145cd",
   "metadata": {},
   "outputs": [
    {
     "data": {
      "text/plain": [
       "Seq('MAIVMGR*KGAR*')"
      ]
     },
     "execution_count": 3,
     "metadata": {},
     "output_type": "execute_result"
    }
   ],
   "source": [
    "coding_dna = Seq(\"ATGGCCATTGTAATGGGCCGCTGAAAGGGTGCCCGATAG\") \n",
    "protein = coding_dna.translate()\n",
    "protein"
   ]
  },
  {
   "cell_type": "markdown",
   "id": "6110c156",
   "metadata": {},
   "source": [
    "### Seq('MAIVMGR\\*KGAR\\*')"
   ]
  },
  {
   "cell_type": "markdown",
   "id": "f790937c",
   "metadata": {},
   "source": [
    "# * \n",
    "\n",
    "- Internal stop\n",
    "\n",
    "By default, translation will use the standard genetic code (NCBI table id 1). Suppose we are dealing with a mitochondrial sequence.\n",
    "\n",
    " We need to tell the translation function to use the relevant genetic code instead:"
   ]
  },
  {
   "cell_type": "code",
   "execution_count": 4,
   "id": "75e6651e",
   "metadata": {},
   "outputs": [
    {
     "data": {
      "text/plain": [
       "Seq('MAIVMGRWKGAR*')"
      ]
     },
     "execution_count": 4,
     "metadata": {},
     "output_type": "execute_result"
    }
   ],
   "source": [
    "protein_1 = coding_dna.translate(table='Vertebrate Mitochondrial')\n",
    "protein_1"
   ]
  },
  {
   "cell_type": "code",
   "execution_count": 5,
   "id": "98e7943d",
   "metadata": {},
   "outputs": [
    {
     "data": {
      "text/plain": [
       "Seq('MAIVMGRWKGAR*')"
      ]
     },
     "execution_count": 5,
     "metadata": {},
     "output_type": "execute_result"
    }
   ],
   "source": [
    "# or specify the table number such as: \n",
    "\n",
    "protein_1 = coding_dna.translate(table=2)\n",
    "protein_1"
   ]
  },
  {
   "cell_type": "markdown",
   "id": "342c22f3",
   "metadata": {},
   "source": [
    "### Translate the nucleotides up to the first in frame stop codon, and then stop "
   ]
  },
  {
   "cell_type": "code",
   "execution_count": 6,
   "id": "ea6b5568",
   "metadata": {},
   "outputs": [
    {
     "data": {
      "text/plain": [
       "Seq('MAIVMGR')"
      ]
     },
     "execution_count": 6,
     "metadata": {},
     "output_type": "execute_result"
    }
   ],
   "source": [
    "protein_1 = coding_dna.translate(to_stop=True)\n",
    "protein_1"
   ]
  },
  {
   "cell_type": "markdown",
   "id": "78593e56",
   "metadata": {},
   "source": [
    "### If your sequence uses a non-standard start codon? This happens a lot in bacteria – for example the gene yaaX in E. coli K12:"
   ]
  },
  {
   "cell_type": "code",
   "execution_count": 7,
   "id": "1e7033cb",
   "metadata": {},
   "outputs": [],
   "source": [
    "gene = Seq(\n",
    "\n",
    "    \"GTGAAAAAGATGCAATCTATCGTACTCGCACTTTCCCTGGTTCTGGTCGCTCCCATGGCA\"\n",
    "\n",
    "    \"GCACAGGCTGCGGAAATTACGTTAGTCCCGTCAGTAAAATTACAGATAGGCGATCGTGAT\"\n",
    "\n",
    "    \"AATCGTGGCTATTACTGGGATGGAGGTCACTGGCGCGACCACGGCTGGTGGAAACAACAT\"\n",
    "\n",
    "    \"TATGAATGGCGAGGCAATCGCTGGCACCTACACGGACCGCCGCCACCGCCGCGCCACCAT\"\n",
    "\n",
    "    \"AAGAAAGCTCCTCATGATCATCACGGCGGTCATGGTCCAGGCAAACATCACCGCTAA\"\n",
    "\n",
    ")\n",
    "gene_3 = gene[:len(gene) - len(gene)%3]"
   ]
  },
  {
   "cell_type": "code",
   "execution_count": 8,
   "id": "a6c01211",
   "metadata": {},
   "outputs": [
    {
     "data": {
      "text/plain": [
       "Seq('VKKMQSIVLALSLVLVAPMAAQAAEITLVPSVKLQIGDRDNRGYYWDGGHWRDH...HR*')"
      ]
     },
     "execution_count": 8,
     "metadata": {},
     "output_type": "execute_result"
    }
   ],
   "source": [
    "gene_3.translate(table='Bacterial')"
   ]
  },
  {
   "cell_type": "markdown",
   "id": "35ee17c3",
   "metadata": {},
   "source": [
    "### let’s just focus on two choices: the Standard translation table, and the translation table for Vertebrate Mitochondrial DNA."
   ]
  },
  {
   "cell_type": "code",
   "execution_count": 14,
   "id": "c37d6bca",
   "metadata": {},
   "outputs": [
    {
     "name": "stdout",
     "output_type": "stream",
     "text": [
      "Table 1 Standard, SGC0\n",
      "\n",
      "  |  T      |  C      |  A      |  G      |\n",
      "--+---------+---------+---------+---------+--\n",
      "T | TTT F   | TCT S   | TAT Y   | TGT C   | T\n",
      "T | TTC F   | TCC S   | TAC Y   | TGC C   | C\n",
      "T | TTA L   | TCA S   | TAA Stop| TGA Stop| A\n",
      "T | TTG L(s)| TCG S   | TAG Stop| TGG W   | G\n",
      "--+---------+---------+---------+---------+--\n",
      "C | CTT L   | CCT P   | CAT H   | CGT R   | T\n",
      "C | CTC L   | CCC P   | CAC H   | CGC R   | C\n",
      "C | CTA L   | CCA P   | CAA Q   | CGA R   | A\n",
      "C | CTG L(s)| CCG P   | CAG Q   | CGG R   | G\n",
      "--+---------+---------+---------+---------+--\n",
      "A | ATT I   | ACT T   | AAT N   | AGT S   | T\n",
      "A | ATC I   | ACC T   | AAC N   | AGC S   | C\n",
      "A | ATA I   | ACA T   | AAA K   | AGA R   | A\n",
      "A | ATG M(s)| ACG T   | AAG K   | AGG R   | G\n",
      "--+---------+---------+---------+---------+--\n",
      "G | GTT V   | GCT A   | GAT D   | GGT G   | T\n",
      "G | GTC V   | GCC A   | GAC D   | GGC G   | C\n",
      "G | GTA V   | GCA A   | GAA E   | GGA G   | A\n",
      "G | GTG V   | GCG A   | GAG E   | GGG G   | G\n",
      "--+---------+---------+---------+---------+--\n"
     ]
    }
   ],
   "source": [
    "from Bio.Data import CodonTable\n",
    "standard_table = CodonTable.unambiguous_dna_by_name['Standard']\n",
    "mito_table = CodonTable.unambiguous_dna_by_name['Vertebrate Mitochondrial']\n",
    "mito_table.id,standard_table.id\n",
    "\n",
    "#These tables are labeled with id[1] id[2] respectively.\n",
    "\n",
    "print(standard_table)"
   ]
  },
  {
   "cell_type": "markdown",
   "id": "3e70b3ec",
   "metadata": {},
   "source": [
    "## Comparing Seq objects\n"
   ]
  },
  {
   "cell_type": "markdown",
   "id": "50134ac5",
   "metadata": {},
   "source": [
    "Sequence comparison is actually a very complicated topic, and there is no easy way to decide if two sequences are equal."
   ]
  },
  {
   "cell_type": "markdown",
   "id": "b87435d8",
   "metadata": {},
   "source": [
    "The basic problem is the meaning of the letters in a sequence are context dependent - the letter “A” could be part of a DNA, RNA or protein sequence."
   ]
  },
  {
   "cell_type": "markdown",
   "id": "ff989bad",
   "metadata": {},
   "source": [
    "`Biopython` can track the molecule type, so comparing two `Seq objects` could mean considering this too."
   ]
  },
  {
   "cell_type": "markdown",
   "id": "aadf74c0",
   "metadata": {},
   "source": [
    "- For example, Should a DNA fragment “ACG” and an RNA fragment “ACG” be equal? What about the peptide “ACG”? Or the Python string “ACG”?"
   ]
  },
  {
   "cell_type": "code",
   "execution_count": 17,
   "id": "882de104",
   "metadata": {},
   "outputs": [
    {
     "data": {
      "text/plain": [
       "True"
      ]
     },
     "execution_count": 17,
     "metadata": {},
     "output_type": "execute_result"
    }
   ],
   "source": [
    "seq1 = Seq(\"ACGT\")\n",
    "\"ACGT\" == seq1"
   ]
  },
  {
   "cell_type": "markdown",
   "id": "6e60442a",
   "metadata": {},
   "source": [
    "- Sometimes, there could be existing sequence lenght but not the actual letter constructing it."
   ]
  },
  {
   "cell_type": "code",
   "execution_count": 19,
   "id": "4c722c04",
   "metadata": {},
   "outputs": [],
   "source": [
    "unknown_seq = Seq(None,10)"
   ]
  },
  {
   "cell_type": "markdown",
   "id": "d32caefc",
   "metadata": {},
   "source": [
    "The Seq object thus created has a well-defined length. Any attempt to access the sequence contents, however, will raise an `UndefinedSequenceError`:"
   ]
  },
  {
   "cell_type": "code",
   "execution_count": 23,
   "id": "fa48ff86",
   "metadata": {},
   "outputs": [
    {
     "ename": "UndefinedSequenceError",
     "evalue": "Sequence content is undefined",
     "output_type": "error",
     "traceback": [
      "\u001b[1;31m---------------------------------------------------------------------------\u001b[0m",
      "\u001b[1;31mUndefinedSequenceError\u001b[0m                    Traceback (most recent call last)",
      "Cell \u001b[1;32mIn[23], line 2\u001b[0m\n\u001b[0;32m      1\u001b[0m \u001b[38;5;28mlen\u001b[39m(unknown_seq)\n\u001b[1;32m----> 2\u001b[0m \u001b[38;5;28;43mprint\u001b[39;49m\u001b[43m(\u001b[49m\u001b[43munknown_seq\u001b[49m\u001b[43m)\u001b[49m\n",
      "File \u001b[1;32mc:\\Users\\Admin\\AppData\\Local\\Programs\\Python\\Python311\\Lib\\site-packages\\Bio\\Seq.py:382\u001b[0m, in \u001b[0;36m_SeqAbstractBaseClass.__str__\u001b[1;34m(self)\u001b[0m\n\u001b[0;32m    380\u001b[0m \u001b[38;5;28;01mdef\u001b[39;00m \u001b[38;5;21m__str__\u001b[39m(\u001b[38;5;28mself\u001b[39m):\n\u001b[0;32m    381\u001b[0m \u001b[38;5;250m    \u001b[39m\u001b[38;5;124;03m\"\"\"Return the full sequence as a python string.\"\"\"\u001b[39;00m\n\u001b[1;32m--> 382\u001b[0m     \u001b[38;5;28;01mreturn\u001b[39;00m \u001b[38;5;28;43mself\u001b[39;49m\u001b[38;5;241;43m.\u001b[39;49m\u001b[43m_data\u001b[49m\u001b[38;5;241;43m.\u001b[39;49m\u001b[43mdecode\u001b[49m\u001b[43m(\u001b[49m\u001b[38;5;124;43m\"\u001b[39;49m\u001b[38;5;124;43mASCII\u001b[39;49m\u001b[38;5;124;43m\"\u001b[39;49m\u001b[43m)\u001b[49m\n",
      "File \u001b[1;32mc:\\Users\\Admin\\AppData\\Local\\Programs\\Python\\Python311\\Lib\\site-packages\\Bio\\Seq.py:156\u001b[0m, in \u001b[0;36mSequenceDataAbstractBaseClass.decode\u001b[1;34m(self, encoding)\u001b[0m\n\u001b[0;32m    150\u001b[0m \u001b[38;5;28;01mdef\u001b[39;00m \u001b[38;5;21mdecode\u001b[39m(\u001b[38;5;28mself\u001b[39m, encoding\u001b[38;5;241m=\u001b[39m\u001b[38;5;124m\"\u001b[39m\u001b[38;5;124mutf-8\u001b[39m\u001b[38;5;124m\"\u001b[39m):\n\u001b[0;32m    151\u001b[0m \u001b[38;5;250m    \u001b[39m\u001b[38;5;124;03m\"\"\"Decode the data as bytes using the codec registered for encoding.\u001b[39;00m\n\u001b[0;32m    152\u001b[0m \n\u001b[0;32m    153\u001b[0m \u001b[38;5;124;03m    encoding\u001b[39;00m\n\u001b[0;32m    154\u001b[0m \u001b[38;5;124;03m      The encoding with which to decode the bytes.\u001b[39;00m\n\u001b[0;32m    155\u001b[0m \u001b[38;5;124;03m    \"\"\"\u001b[39;00m\n\u001b[1;32m--> 156\u001b[0m     \u001b[38;5;28;01mreturn\u001b[39;00m \u001b[38;5;28;43mbytes\u001b[39;49m\u001b[43m(\u001b[49m\u001b[38;5;28;43mself\u001b[39;49m\u001b[43m)\u001b[49m\u001b[38;5;241m.\u001b[39mdecode(encoding)\n",
      "File \u001b[1;32mc:\\Users\\Admin\\AppData\\Local\\Programs\\Python\\Python311\\Lib\\site-packages\\Bio\\Seq.py:2322\u001b[0m, in \u001b[0;36m_UndefinedSequenceData.__bytes__\u001b[1;34m(self)\u001b[0m\n\u001b[0;32m   2321\u001b[0m \u001b[38;5;28;01mdef\u001b[39;00m \u001b[38;5;21m__bytes__\u001b[39m(\u001b[38;5;28mself\u001b[39m):\n\u001b[1;32m-> 2322\u001b[0m     \u001b[38;5;28;01mraise\u001b[39;00m UndefinedSequenceError(\u001b[38;5;124m\"\u001b[39m\u001b[38;5;124mSequence content is undefined\u001b[39m\u001b[38;5;124m\"\u001b[39m)\n",
      "\u001b[1;31mUndefinedSequenceError\u001b[0m: Sequence content is undefined"
     ]
    }
   ],
   "source": [
    "len(unknown_seq)\n",
    "print(unknown_seq)"
   ]
  },
  {
   "cell_type": "markdown",
   "id": "3823afdd",
   "metadata": {},
   "source": [
    "## Sequences with partially defined sequence contents"
   ]
  },
  {
   "cell_type": "markdown",
   "id": "e0d70b43",
   "metadata": {},
   "source": [
    "Sometimes the sequence contents is defined for parts of the sequence only, and undefined elsewhere:\n",
    "\n",
    "- the following excerpt of a MAF (Multiple Alignment Format)\n",
    "\n",
    "- below is provided an alignment of human, chimp, macaque, mouse, rat, dog, and opossum genome sequences."
   ]
  },
  {
   "cell_type": "markdown",
   "id": "d817f5ec",
   "metadata": {},
   "source": [
    "s hg38.chr7     117512683 36 + 159345973 TTGAAAACCTGAATGTGAGAGTCAGTCAAGGATAGT\n",
    "\n",
    "s panTro4.chr7  119000876 36 + 161824586 TTGAAAACCTGAATGTGAGAGTCACTCAAGGATAGT\n",
    "\n",
    "s rheMac3.chr3  156330991 36 + 198365852 CTGAAATCCTGAATGTGAGAGTCAATCAAGGATGGT\n",
    "\n",
    "s mm10.chr6      18207101 36 + 149736546 CTGAAAACCTAAGTAGGAGAATCAACTAAGGATAAT\n",
    "\n",
    "s rn5.chr4       42326848 36 + 248343840 CTGAAAACCTAAGTAGGAGAGACAGTTAAAGATAAT\n",
    "\n",
    "s canFam3.chr14  56325207 36 +  60966679 TTGAAAAACTGATTATTAGAGTCAATTAAGGATAGT\n",
    "\n",
    "s monDom5.chr8  173163865 36 + 312544902 TTAAGAAACTGGAAATGAGGGTTGAATGACAAACTT"
   ]
  },
  {
   "cell_type": "markdown",
   "id": "dac4ec4e",
   "metadata": {},
   "source": [
    "In each row, the first number indicates the starting position (in zero-based coordinates) of the aligned sequence on the chromosome,\n",
    "\n",
    " followed by the size of the aligned sequence, the strand, the size of the full chromosome, and the aligned sequence."
   ]
  },
  {
   "cell_type": "markdown",
   "id": "8683636d",
   "metadata": {},
   "source": [
    "A Seq object representing such a `partially defined sequence` can be created using a dictionary for the data argument, where the `keys` are the starting coordinates of the known sequence segments, and the values are the corresponding sequence contents"
   ]
  },
  {
   "cell_type": "code",
   "execution_count": null,
   "id": "8c982f19",
   "metadata": {},
   "outputs": [
    {
     "data": {
      "text/plain": [
       "Seq({117512683: 'TTGAAAACCTGAATGTGAGAGTCAGTCAAGGATAGT'}, length=159345973)"
      ]
     },
     "execution_count": 26,
     "metadata": {},
     "output_type": "execute_result"
    }
   ],
   "source": [
    "partial_seq1 = Seq({117512683: \"TTGAAAACCTGAATGTGAGAGTCAGTCAAGGATAGT\"}, length=159345973)\n"
   ]
  },
  {
   "cell_type": "markdown",
   "id": "4f27b4e1",
   "metadata": {},
   "source": [
    "**Extracting a subsequence from a partially define sequence may return a fully defined sequence, an undefined sequence, or a partially defined sequence, depending on the coordinates:**"
   ]
  },
  {
   "cell_type": "code",
   "execution_count": 38,
   "id": "b9632573",
   "metadata": {},
   "outputs": [
    {
     "data": {
      "text/plain": [
       "Seq(None, length=100)"
      ]
     },
     "execution_count": 38,
     "metadata": {},
     "output_type": "execute_result"
    }
   ],
   "source": [
    "partial_seq1_slice = partial_seq1[100:200]\n",
    "partial_seq1_slice\n"
   ]
  }
 ],
 "metadata": {
  "kernelspec": {
   "display_name": "Python 3",
   "language": "python",
   "name": "python3"
  },
  "language_info": {
   "codemirror_mode": {
    "name": "ipython",
    "version": 3
   },
   "file_extension": ".py",
   "mimetype": "text/x-python",
   "name": "python",
   "nbconvert_exporter": "python",
   "pygments_lexer": "ipython3",
   "version": "3.11.4"
  }
 },
 "nbformat": 4,
 "nbformat_minor": 5
}
