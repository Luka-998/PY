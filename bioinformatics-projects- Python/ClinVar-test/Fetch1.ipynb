{
 "cells": [
  {
   "cell_type": "markdown",
   "id": "5a5a09ab",
   "metadata": {},
   "source": [
    "#### **ClinVar** "
   ]
  },
  {
   "cell_type": "markdown",
   "id": "193c2795",
   "metadata": {},
   "source": [
    "1. Fetch\n",
    "2. Get information\n",
    "3. filter by pathogenicity"
   ]
  },
  {
   "cell_type": "code",
   "execution_count": 104,
   "id": "bc3359c7",
   "metadata": {},
   "outputs": [
    {
     "data": {
      "text/plain": [
       "{'Count': '64849', 'RetMax': '100', 'RetStart': '0', 'IdList': ['3896363', '3896237', '3896107', '3895922', '3895907', '3895750', '3895506', '3894514', '3894494', '3894434', '3894417', '3894354', '3894344', '3894339', '3894334', '3894329', '3894319', '3894302', '3894301', '3894296', '3894295', '3894294', '3894248', '3894211', '3894190', '3894156', '3894130', '3894122', '3894082', '3894076', '3894048', '3894000', '3893999', '3893954', '3893951', '3893940', '3893939', '3893932', '3893921', '3893909', '3893890', '3893875', '3893816', '3893815', '3893795', '3893787', '3893786', '3893780', '3893764', '3893744', '3893732', '3893730', '3893678', '3893677', '3893675', '3893672', '3893340', '3893249', '3893035', '3893034', '3893017', '3893016', '3893015', '3893014', '3893013', '3893012', '3893011', '3893009', '3893008', '3893007', '3893006', '3893005', '3893004', '3892994', '3892993', '3892992', '3892991', '3892990', '3892955', '3892902', '3892167', '3891418', '3891414', '3891336', '3891335', '3891308', '3891307', '3825710', '3825709', '3825708', '3825707', '3825706', '3825704', '3825703', '3825702', '3825701', '3825700', '3825699', '3825698', '3825697'], 'TranslationSet': [], 'TranslationStack': [{'Term': 'BRCA1[All Fields]', 'Field': 'All Fields', 'Count': '64849', 'Explode': 'N'}, 'GROUP'], 'QueryTranslation': 'BRCA1[All Fields]'}"
      ]
     },
     "execution_count": 104,
     "metadata": {},
     "output_type": "execute_result"
    }
   ],
   "source": [
    "from Bio import Entrez\n",
    "import matplotlib.pyplot as plt\n",
    "import seaborn as sns\n",
    "from collections import Counter\n",
    "\n",
    "Entrez.email = \"jasovicluka1@gmail.com\"\n",
    "search_handle = Entrez.esearch(db=\"clinvar\", term=\"BRCA1\", retmax=100)\n",
    "search_results = Entrez.read(search_handle)\n",
    "search_handle.close()\n",
    "search_results"
   ]
  },
  {
   "cell_type": "code",
   "execution_count": 57,
   "id": "a9de2084",
   "metadata": {},
   "outputs": [
    {
     "name": "stdout",
     "output_type": "stream",
     "text": [
      "Found 5 ClinVar records for BRCA1\n",
      "Fetching details for IDs: ['3896363', '3896237', '3896107', '3895922', '3895907']\n"
     ]
    }
   ],
   "source": [
    "ids = search_results[\"IdList\"]\n",
    "print(f\"Found {len(ids)} ClinVar records for BRCA1\")\n",
    "print(f\"Fetching details for IDs: {ids}\")"
   ]
  },
  {
   "cell_type": "markdown",
   "id": "0135efdf",
   "metadata": {},
   "source": [
    "### Using esummary to get structured data since efetch is returning __HTML__ instead of  **XML** for these variations IDs."
   ]
  },
  {
   "cell_type": "code",
   "execution_count": 61,
   "id": "649e5d89",
   "metadata": {},
   "outputs": [],
   "source": [
    "summary_handle = Entrez.esummary(db=\"clinvar\", id=\",\".join(ids), retmode=\"xml\")\n",
    "summary_data = Entrez.read(summary_handle)\n",
    "summary_handle.close()"
   ]
  },
  {
   "cell_type": "markdown",
   "id": "424c76c5",
   "metadata": {},
   "source": [
    "### Fetching __BRCA1__ Variant details "
   ]
  },
  {
   "cell_type": "markdown",
   "id": "ce0ce062",
   "metadata": {},
   "source": [
    "- fetch first five only to avoid the overload\n",
    "\n",
    "- retmax set to 100 just in case if I need more later"
   ]
  },
  {
   "cell_type": "code",
   "execution_count": 64,
   "id": "eb4c62b4",
   "metadata": {},
   "outputs": [
    {
     "name": "stdout",
     "output_type": "stream",
     "text": [
      "ID: 3896363\n",
      "Title: NC_000013.10:g.(32899322_32900237)_(32900751_32903579)del\n",
      "Clinical Significance: N/A\n",
      "Conditions: N/A\n",
      "----------------------------------------\n",
      "ID: 3896237\n",
      "Title: NC_000013.10:g.(32929426_32930564)_(32930747_32931878)del\n",
      "Clinical Significance: N/A\n",
      "Conditions: N/A\n",
      "----------------------------------------\n",
      "ID: 3896107\n",
      "Title: NM_007294.4(BRCA1):c.2309_2311delinsGAC (p.Ser770_Leu771delinsTer)\n",
      "Clinical Significance: N/A\n",
      "Conditions: N/A\n",
      "----------------------------------------\n",
      "ID: 3895922\n",
      "Title: NM_000059.4(BRCA2):c.126dup (p.Asn43Ter)\n",
      "Clinical Significance: N/A\n",
      "Conditions: N/A\n",
      "----------------------------------------\n",
      "ID: 3895907\n",
      "Title: NM_007194.4(CHEK2):c.106del (p.Gln36fs)\n",
      "Clinical Significance: N/A\n",
      "Conditions: N/A\n",
      "----------------------------------------\n"
     ]
    }
   ],
   "source": [
    "for record in summary_data[\"DocumentSummarySet\"][\"DocumentSummary\"]:\n",
    "    variation_id = record.attributes[\"uid\"]\n",
    "    title = record.get(\"title\", \"N/A\")\n",
    "    clinical_significance = record.get(\"clinical_significance\", \"N/A\")\n",
    "    condition_list = record.get(\"condition_list\", \"N/A\")\n",
    "\n",
    "    print(f\"ID: {variation_id}\")\n",
    "    print(f\"Title: {title}\")\n",
    "    print(f\"Clinical Significance: {clinical_significance}\")\n",
    "    print(f\"Conditions: {condition_list}\")\n",
    "    print(\"-\" * 40)"
   ]
  },
  {
   "cell_type": "code",
   "execution_count": 96,
   "id": "eaa48b6a",
   "metadata": {},
   "outputs": [
    {
     "name": "stdout",
     "output_type": "stream",
     "text": [
      "ID: 3896363\n",
      "Title: NC_000013.10:g.(32899322_32900237)_(32900751_32903579)del\n",
      "Pathogenicity: Pathogenic\n",
      "Conditions: Hereditary breast ovarian cancer syndrome\n",
      "----------------------------------------\n",
      "ID: 3896237\n",
      "Title: NC_000013.10:g.(32929426_32930564)_(32930747_32931878)del\n",
      "Pathogenicity: Pathogenic\n",
      "Conditions: Hereditary breast ovarian cancer syndrome\n",
      "----------------------------------------\n",
      "ID: 3896107\n",
      "Title: NM_007294.4(BRCA1):c.2309_2311delinsGAC (p.Ser770_Leu771delinsTer)\n",
      "Pathogenicity: Pathogenic\n",
      "Conditions: Hereditary breast ovarian cancer syndrome\n",
      "----------------------------------------\n",
      "ID: 3895922\n",
      "Title: NM_000059.4(BRCA2):c.126dup (p.Asn43Ter)\n",
      "Pathogenicity: Pathogenic\n",
      "Conditions: Hereditary breast ovarian cancer syndrome\n",
      "----------------------------------------\n",
      "ID: 3895907\n",
      "Title: NM_007194.4(CHEK2):c.106del (p.Gln36fs)\n",
      "Pathogenicity: Pathogenic\n",
      "Conditions: Hereditary breast ovarian cancer syndrome\n",
      "----------------------------------------\n"
     ]
    }
   ],
   "source": [
    "for record in summary_data[\"DocumentSummarySet\"][\"DocumentSummary\"]:\n",
    "    variation_id = record.attributes[\"uid\"]\n",
    "    title = record.get(\"title\", \"N/A\")\n",
    "\n",
    "    # Get pathogenicity from germline_classification\n",
    "    classification = record.get(\"germline_classification\", {})\n",
    "    pathogenicity = classification.get(\"description\", \"\")\n",
    "\n",
    "    # Only print if classified as Pathogenic (or similar)\n",
    "    if \"pathogenic\" in pathogenicity.lower():\n",
    "        conditions = classification.get(\"trait_set\", [])\n",
    "        condition_names = [trait.get(\"trait_name\", \"N/A\") for trait in conditions]\n",
    "\n",
    "        print(f\"ID: {variation_id}\")\n",
    "        print(f\"Title: {title}\")\n",
    "        print(f\"Pathogenicity: {pathogenicity}\")\n",
    "        print(f\"Conditions: {', '.join(condition_names)}\")\n",
    "        print(\"-\" * 40)\n"
   ]
  },
  {
   "cell_type": "code",
   "execution_count": 100,
   "id": "2445af2c",
   "metadata": {},
   "outputs": [
    {
     "name": "stdout",
     "output_type": "stream",
     "text": [
      "[{'ID': '3896107', 'Gene': 'BRCA1', 'Pathogenicity': 'Pathogenic', 'Conditions': 'Hereditary breast ovarian cancer syndrome', 'LastEvaluated': '2025/03/19 00:00'}, {'ID': '3895750', 'Gene': 'BRCA1', 'Pathogenicity': 'Pathogenic', 'Conditions': 'Hereditary breast ovarian cancer syndrome', 'LastEvaluated': '2025/03/10 00:00'}, {'ID': '3894514', 'Gene': 'BRCA1', 'Pathogenicity': 'Uncertain significance', 'Conditions': 'Hereditary cancer-predisposing syndrome', 'LastEvaluated': '2024/07/29 00:00'}, {'ID': '3894329', 'Gene': 'BRCA1', 'Pathogenicity': 'Uncertain significance', 'Conditions': 'Hereditary cancer-predisposing syndrome', 'LastEvaluated': '2024/04/29 00:00'}, {'ID': '3894319', 'Gene': 'BRCA1', 'Pathogenicity': 'Uncertain significance', 'Conditions': 'Hereditary cancer-predisposing syndrome', 'LastEvaluated': '2024/04/03 00:00'}, {'ID': '3894302', 'Gene': 'BRCA1', 'Pathogenicity': 'Uncertain significance', 'Conditions': 'Hereditary cancer-predisposing syndrome', 'LastEvaluated': '2024/06/20 00:00'}, {'ID': '3894301', 'Gene': 'BRCA1', 'Pathogenicity': 'Uncertain significance', 'Conditions': 'Hereditary cancer-predisposing syndrome', 'LastEvaluated': '2024/12/17 00:00'}, {'ID': '3894211', 'Gene': 'BRCA1', 'Pathogenicity': 'Likely benign', 'Conditions': 'Hereditary cancer-predisposing syndrome', 'LastEvaluated': '2025/01/06 00:00'}, {'ID': '3894076', 'Gene': 'BRCA1', 'Pathogenicity': 'Uncertain significance', 'Conditions': 'Hereditary cancer-predisposing syndrome', 'LastEvaluated': '2024/08/27 00:00'}, {'ID': '3893932', 'Gene': 'BRCA1', 'Pathogenicity': 'Likely benign', 'Conditions': 'Hereditary cancer-predisposing syndrome', 'LastEvaluated': '2025/01/07 00:00'}, {'ID': '3893921', 'Gene': 'BRCA1', 'Pathogenicity': 'Likely benign', 'Conditions': 'Hereditary cancer-predisposing syndrome', 'LastEvaluated': '2024/12/16 00:00'}, {'ID': '3893909', 'Gene': 'BRCA1', 'Pathogenicity': 'Pathogenic', 'Conditions': 'Hereditary cancer-predisposing syndrome', 'LastEvaluated': '2024/12/10 00:00'}, {'ID': '3893787', 'Gene': 'BRCA1', 'Pathogenicity': 'Uncertain significance', 'Conditions': 'Hereditary cancer-predisposing syndrome', 'LastEvaluated': '2024/05/13 00:00'}, {'ID': '3893786', 'Gene': 'BRCA1', 'Pathogenicity': 'Likely benign', 'Conditions': 'Hereditary cancer-predisposing syndrome', 'LastEvaluated': '2024/05/22 00:00'}, {'ID': '3893764', 'Gene': 'BRCA1', 'Pathogenicity': 'Pathogenic', 'Conditions': 'Hereditary cancer-predisposing syndrome', 'LastEvaluated': '2024/04/29 00:00'}, {'ID': '3893732', 'Gene': 'BRCA1', 'Pathogenicity': 'Pathogenic', 'Conditions': 'Hereditary cancer-predisposing syndrome', 'LastEvaluated': '2024/04/29 00:00'}, {'ID': '3893678', 'Gene': 'BRCA1', 'Pathogenicity': 'Pathogenic', 'Conditions': 'Hereditary cancer-predisposing syndrome', 'LastEvaluated': '2025/02/12 00:00'}, {'ID': '3893677', 'Gene': 'BRCA1', 'Pathogenicity': 'Pathogenic', 'Conditions': 'Hereditary cancer-predisposing syndrome', 'LastEvaluated': '2025/03/24 00:00'}, {'ID': '3893340', 'Gene': 'BRCA1', 'Pathogenicity': 'Pathogenic', 'Conditions': 'not provided', 'LastEvaluated': '2024/10/22 00:00'}, {'ID': '3893012', 'Gene': 'BRCA1', 'Pathogenicity': 'Likely pathogenic', 'Conditions': 'Breast-ovarian cancer, familial, susceptibility to, 1, Fanconi anemia, complementation group S, Familial cancer of breast', 'LastEvaluated': '1/01/01 00:00'}, {'ID': '3893011', 'Gene': 'BRCA1', 'Pathogenicity': 'Likely pathogenic', 'Conditions': 'Breast-ovarian cancer, familial, susceptibility to, 1, Fanconi anemia, complementation group S, Familial cancer of breast', 'LastEvaluated': '1/01/01 00:00'}, {'ID': '3893009', 'Gene': 'BRCA1', 'Pathogenicity': 'Pathogenic', 'Conditions': 'Breast-ovarian cancer, familial, susceptibility to, 1, Fanconi anemia, complementation group S, Familial cancer of breast', 'LastEvaluated': '2019/03/07 00:00'}, {'ID': '3893008', 'Gene': 'BRCA1', 'Pathogenicity': 'Pathogenic', 'Conditions': 'Breast-ovarian cancer, familial, susceptibility to, 1, Fanconi anemia, complementation group S, Familial cancer of breast', 'LastEvaluated': '2019/11/25 00:00'}, {'ID': '3893007', 'Gene': 'BRCA1', 'Pathogenicity': 'Pathogenic', 'Conditions': 'Breast-ovarian cancer, familial, susceptibility to, 1, Fanconi anemia, complementation group S, Familial cancer of breast', 'LastEvaluated': '2019/06/26 00:00'}, {'ID': '3893006', 'Gene': 'BRCA1', 'Pathogenicity': 'Pathogenic', 'Conditions': 'Breast-ovarian cancer, familial, susceptibility to, 1, Fanconi anemia, complementation group S, Familial cancer of breast', 'LastEvaluated': '2014/06/02 00:00'}, {'ID': '3893005', 'Gene': 'BRCA1', 'Pathogenicity': 'Likely benign', 'Conditions': 'Breast-ovarian cancer, familial, susceptibility to, 1, Fanconi anemia, complementation group S, Familial cancer of breast', 'LastEvaluated': '2015/06/08 00:00'}, {'ID': '3893004', 'Gene': 'BRCA1', 'Pathogenicity': 'Pathogenic', 'Conditions': 'Breast-ovarian cancer, familial, susceptibility to, 1, Fanconi anemia, complementation group S, Familial cancer of breast', 'LastEvaluated': '2021/12/03 00:00'}, {'ID': '3825327', 'Gene': 'BRCA1', 'Pathogenicity': 'Pathogenic', 'Conditions': 'Hereditary cancer-predisposing syndrome', 'LastEvaluated': '2025/03/13 00:00'}, {'ID': '3825325', 'Gene': 'BRCA1', 'Pathogenicity': 'Likely benign', 'Conditions': 'Hereditary cancer-predisposing syndrome', 'LastEvaluated': '2025/03/07 00:00'}, {'ID': '3825323', 'Gene': 'BRCA1', 'Pathogenicity': 'Uncertain significance', 'Conditions': 'Hereditary cancer-predisposing syndrome', 'LastEvaluated': '2025/02/27 00:00'}, {'ID': '3825322', 'Gene': 'BRCA1', 'Pathogenicity': 'Uncertain significance', 'Conditions': 'Hereditary cancer-predisposing syndrome', 'LastEvaluated': '2025/03/13 00:00'}, {'ID': '3825321', 'Gene': 'BRCA1', 'Pathogenicity': 'Uncertain significance', 'Conditions': 'Hereditary cancer-predisposing syndrome', 'LastEvaluated': '2025/03/12 00:00'}, {'ID': '3825319', 'Gene': 'BRCA1', 'Pathogenicity': 'Uncertain significance', 'Conditions': 'Hereditary cancer-predisposing syndrome', 'LastEvaluated': '2025/02/18 00:00'}, {'ID': '3825318', 'Gene': 'BRCA1', 'Pathogenicity': 'Likely benign', 'Conditions': 'Hereditary cancer-predisposing syndrome', 'LastEvaluated': '2025/02/28 00:00'}, {'ID': '3825317', 'Gene': 'BRCA1', 'Pathogenicity': 'Likely benign', 'Conditions': 'Hereditary cancer-predisposing syndrome', 'LastEvaluated': '2025/02/15 00:00'}, {'ID': '3825315', 'Gene': 'BRCA1', 'Pathogenicity': 'Pathogenic', 'Conditions': 'Hereditary cancer-predisposing syndrome', 'LastEvaluated': '2025/02/10 00:00'}, {'ID': '3825314', 'Gene': 'BRCA1', 'Pathogenicity': 'Uncertain significance', 'Conditions': 'Hereditary cancer-predisposing syndrome', 'LastEvaluated': '2025/02/28 00:00'}, {'ID': '3825313', 'Gene': 'BRCA1', 'Pathogenicity': 'Uncertain significance', 'Conditions': 'Hereditary cancer-predisposing syndrome', 'LastEvaluated': '2025/02/28 00:00'}, {'ID': '3825311', 'Gene': 'BRCA1', 'Pathogenicity': 'Uncertain significance', 'Conditions': 'Hereditary cancer-predisposing syndrome', 'LastEvaluated': '2025/02/27 00:00'}, {'ID': '3825310', 'Gene': 'BRCA1', 'Pathogenicity': 'Uncertain significance', 'Conditions': 'Hereditary cancer-predisposing syndrome', 'LastEvaluated': '2025/01/29 00:00'}, {'ID': '3825308', 'Gene': 'BRCA1', 'Pathogenicity': 'Pathogenic', 'Conditions': 'Hereditary cancer-predisposing syndrome', 'LastEvaluated': '2025/01/23 00:00'}, {'ID': '3825307', 'Gene': 'BRCA1', 'Pathogenicity': 'Uncertain significance', 'Conditions': 'Hereditary cancer-predisposing syndrome', 'LastEvaluated': '2025/01/19 00:00'}, {'ID': '3825306', 'Gene': 'BRCA1', 'Pathogenicity': 'Uncertain significance', 'Conditions': 'Hereditary cancer-predisposing syndrome', 'LastEvaluated': '2025/01/23 00:00'}, {'ID': '3825305', 'Gene': 'BRCA1', 'Pathogenicity': 'Uncertain significance', 'Conditions': 'Hereditary cancer-predisposing syndrome', 'LastEvaluated': '2025/02/05 00:00'}, {'ID': '3825303', 'Gene': 'BRCA1', 'Pathogenicity': 'Pathogenic', 'Conditions': 'Hereditary cancer-predisposing syndrome', 'LastEvaluated': '2025/02/03 00:00'}, {'ID': '3825302', 'Gene': 'BRCA1', 'Pathogenicity': 'Uncertain significance', 'Conditions': 'Hereditary cancer-predisposing syndrome', 'LastEvaluated': '2025/02/04 00:00'}, {'ID': '3825301', 'Gene': 'BRCA1', 'Pathogenicity': 'Pathogenic', 'Conditions': 'Hereditary cancer-predisposing syndrome', 'LastEvaluated': '2025/01/31 00:00'}, {'ID': '3825300', 'Gene': 'BRCA1', 'Pathogenicity': 'Uncertain significance', 'Conditions': 'Hereditary cancer-predisposing syndrome', 'LastEvaluated': '2025/01/15 00:00'}, {'ID': '3825298', 'Gene': 'BRCA1', 'Pathogenicity': 'Uncertain significance', 'Conditions': 'Hereditary cancer-predisposing syndrome', 'LastEvaluated': '2025/01/20 00:00'}, {'ID': '3825297', 'Gene': 'BRCA1', 'Pathogenicity': 'Pathogenic', 'Conditions': 'Hereditary cancer-predisposing syndrome', 'LastEvaluated': '2025/01/23 00:00'}]\n"
     ]
    }
   ],
   "source": [
    "def fetch_variants(gene, filter_significance=None):\n",
    "    search_term = f\"{gene}[Gene]\"\n",
    "    handle = Entrez.esearch(db=\"clinvar\", term=search_term, retmax=50)\n",
    "    result = Entrez.read(handle)\n",
    "    handle.close()\n",
    "    ids = result[\"IdList\"]\n",
    "\n",
    "    if not ids:\n",
    "        print(f\"No ClinVar variants found for {gene}\")\n",
    "        return []\n",
    "\n",
    "    handle = Entrez.esummary(db=\"clinvar\", id=\",\".join(ids), retmode=\"xml\")\n",
    "    summary = Entrez.read(handle)\n",
    "    handle.close()\n",
    "\n",
    "    variant_data = []\n",
    "\n",
    "    for record in summary[\"DocumentSummarySet\"][\"DocumentSummary\"]:\n",
    "        uid = record.attributes[\"uid\"]\n",
    "        classification = record.get(\"germline_classification\", {})\n",
    "        significance = classification.get(\"description\", \"Unknown\")\n",
    "        traits = classification.get(\"trait_set\", [])\n",
    "        condition_names = [trait.get(\"trait_name\", \"N/A\") for trait in traits]\n",
    "        conditions = \", \".join(condition_names)\n",
    "        date = classification.get(\"last_evaluated\", \"N/A\")\n",
    "\n",
    "        if filter_significance and filter_significance.lower() not in significance.lower():\n",
    "            continue\n",
    "\n",
    "        variant_data.append({\n",
    "            \"ID\": uid,\n",
    "            \"Gene\": gene,\n",
    "            \"Pathogenicity\": significance,\n",
    "            \"Conditions\": conditions,\n",
    "            \"LastEvaluated\": date\n",
    "        })\n",
    "\n",
    "    return variant_data\n",
    "\n",
    "variants = fetch_variants(\"BRCA1\")\n",
    "print(variants)\n",
    "\n"
   ]
  },
  {
   "cell_type": "markdown",
   "id": "13836c5d",
   "metadata": {},
   "source": [
    "### Variance significance distribution simple barplot "
   ]
  },
  {
   "cell_type": "code",
   "execution_count": null,
   "id": "2f58ed45",
   "metadata": {},
   "outputs": [
    {
     "name": "stdout",
     "output_type": "stream",
     "text": [
      "Saved plot to MSTN_variant_significance.png\n"
     ]
    },
    {
     "data": {
      "image/png": "[encoded data removed]",
      "text/plain": [
       "<Figure size 800x600 with 1 Axes>"
      ]
     },
     "metadata": {},
     "output_type": "display_data"
    }
   ],
   "source": [
    "def plot_significance_distribution(variants, gene):\n",
    "    sigs = [v[\"Pathogenicity\"] for v in variants]\n",
    "    count = Counter(sigs)  # Use collections.Counter to count occurrences\n",
    "\n",
    "    plt.figure(figsize=(8, 6))\n",
    "    sns.barplot(x=list(count.keys()), y=list(count.values()))\n",
    "    plt.title(f\"Variant Significance Distribution for {gene}\")\n",
    "    plt.ylabel(\"Count\")\n",
    "    plt.xticks(rotation=30, ha='right') # Rotate x-axis labels for better readability\n",
    "    plt.tight_layout()\n",
    "    plt.savefig(f\"{gene}_variant_significance.png\")\n",
    "    print(f\"Saved plot to {gene}_variant_significance.png\")\n",
    "    plt.show()\n",
    "\n",
    "variants = fetch_variants(\"MSTN\")\n",
    "plot_significance_distribution(variants, \"MSTN\")"
   ]
  },
  {
   "cell_type": "markdown",
   "id": "76607a85",
   "metadata": {},
   "source": [
    "### Further analyiss will include allele frequencies, retrieval with GMAF."
   ]
  }
 ],
 "metadata": {
  "kernelspec": {
   "display_name": "Python 3",
   "language": "python",
   "name": "python3"
  },
  "language_info": {
   "codemirror_mode": {
    "name": "ipython",
    "version": 3
   },
   "file_extension": ".py",
   "mimetype": "text/x-python",
   "name": "python",
   "nbconvert_exporter": "python",
   "pygments_lexer": "ipython3",
   "version": "3.11.4"
  }
 },
 "nbformat": 4,
 "nbformat_minor": 5
}
